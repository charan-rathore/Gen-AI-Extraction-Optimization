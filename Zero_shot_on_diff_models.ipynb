{
  "cells": [
    {
      "cell_type": "markdown",
      "metadata": {
        "id": "J-Dj_w-S9KTY"
      },
      "source": [
        "#Sentence List"
      ]
    },
    {
      "cell_type": "code",
      "execution_count": null,
      "metadata": {
        "colab": {
          "base_uri": "https://localhost:8080/"
        },
        "id": "1OYqEFxyX1O0",
        "outputId": "d5fa9d60-2993-430c-de69-c194e13e0637"
      },
      "outputs": [
        {
          "name": "stdout",
          "output_type": "stream",
          "text": [
            "100\n"
          ]
        }
      ],
      "source": [
        "raw_sentences = [\n",
        "    \"The calcined samples (0.3 g) were dispersed in the ammonium nitrate solution (100 mL) and then stirred at 500 rpm and room temperature.\",\n",
        "    \"After stirring for 1 day, the solid samples were recovered, thoroughly washed with deionized water and dried at 80 °C, resulting in NH4-form products.\",\n",
        "    \"The samples was calcined at 400 °C for 2 h under a nitrogen flow to obtain proton-form CHA samples.\",\n",
        "    \"The solid samples (in a proton-form, 0.05 g) were dispersed in the potassium chloride solution (150 mL) and then stirred at 500 rpm and room temperature.\",\n",
        "    \"The solid samples (in a proton-form, 0.05 g) were dispersed in the nickel nitrate solution (500 mL) and then stirred at 500 rpm and room temperature.\",\n",
        "    \"In a typical synthesis, the silica source(fumed silica or precipitated silica;12 g) was placed in a mortar and Al(OH)3 (1.6 g) was added.\",\n",
        "    \"Such prepared gels underwent heating at 140 Â°C for crystallization in sealed stainless-steel autoclaves equipped with Teflon liners.\",\n",
        "    \"Then, 1.6 g of Al(OH)3 (SigmaAldrich, 65% Al2O3) was added.\",\n",
        "    \"1.6 g of NaOH (Sigma-Aldrich) was dissolved in 20 g (for fumed silica) or 8 g (for precipitated silica) of 25% TMAdOH aqueous solution (SACHEM) and added to the mortar.\",\n",
        "    \"Such obtained mixtures underwent heating at 140 °C for crystallization (times ranging 72–144 h) in sealed stainless-steel autoclaves equipped with modified Teflon liners.\",\n",
        "    \"25 g of sodium silicate (26.5% SiO2) was added to 60 g water and stirred for 15 min, then 1.5 g of zeolite Y (TOSOH HSZ-320NAA) was added and stirred for the next 30 minutes.\",\n",
        "    \"After this time 13.15 g of 25% TMAdOH (SACHEM Americas) was added and stirred 30 minutes more, then the mixture was placed in the Teflon lined steel autoclave for 6 days at 140 °C.\",\n",
        "    \"Na-samples were dried at RT to guarantee their full hydration.\",\n",
        "    \"The silicalite-1 with a size of approximately 150 nm was synthesized by a clear solution method and the obtained suspension was used as seed without further treatment.\",\n",
        "    \"Subsequently, the pre-prepared silicalite-1 seed was added to the above mixture and stirred for another 1 h, and the quantity of seed equals to 7.0 wt% of the total SiO2 in the starting gel.\",\n",
        "    \"Next, the pH of the system was adjusted to 10 by dropwise addition of NaOH solution (12 m), during which the co-gelation of aluminosilicate and magnesium species was induced by the varying the pH value.\",\n",
        "    \"After aging at room temperature under stirring for 6 h, the gel was transferred into a Teflon-lined autoclave and heated at 180 ºC for 48 h under static conditions.\",\n",
        "    \"After hydrothermal treatment, the solid products were separated by centrifuging, washed with deionized water, and calcined at 550 ºC for 6 h in air flow.\",\n",
        "    \"Aluminum sulfate was dissolved in distilled water followed by addition of sodium hydroxide and got a clear solution.\",\n",
        "    \"Then a mixture of silica sol and tetra-butylammonium bromide was added to the solution.\",\n",
        "    \"After a period of vigorous stirring, the resulting homogeneous gel with the chemical composition of 9.0 Na2O: 1.0 Al2O3: 65 SiO2: 0.53 (TBA)2O:1300 H2O was transferred to a stainless-steel autoclave and subjected to hydrothermal treatment first at 90 °C for 24 h and then at 170 °C for another 24 h.\",\n",
        "    \"After being vigorously stirred for some time, the obtained seeded Na-aluminosilicate gels were transferred to stainless-steel autoclaves and left to age at ambient temperature for 48 h.\",\n",
        "    \"After predetermined crystallization periods, the prepared well-crystallized solid was separated by filtration, washed several times with distilled water and dried at 100 °C.\",\n",
        "    \"After calcination at 550 °C for 2 h, the obtained HZSM-5 was used as an active component to be mixed intimately with silica sol and kaolin clay, which served as a binder and inert support for the zeolite, respectively.\",\n",
        "    \"For each test, 2 g catalyst with particle size of 0.250-0.425 mm was loaded between two layers of quartz wool in the reactor.\",\n",
        "    \"After temperature got stable at 450 °C, the feed of pure methanol solution was introduced by a HPLC infusion pump at a fixed rate of 0.164 mL/min, accompanied with N2 gas through a mass flow controller at a rate of 21 mL/min.\",\n",
        "    \"After further calcined at 773 K for 5 h, we got hydrogen form material Al-PLS-3 possessing 10 Ã— 8-R structure.\",#\n",
        "    \"Then, the product was calcined at 823 K for 6 h to generate IEZ-Al-PLS-3(1Si).\",\n",
        "    \"After filtration and calcined at 773 K for 6 h, we got IEZ-Al-PLS-3(S4R).\",\n",
        "    \"OSDA1 was synthesized by adding 29 mL (0.24 mol) 1,4-dibromobutane (99 wt. %, Sigma-Aldrich) to a solution made by mixing 145 mL (0.6 mol) of trimethylamine (4.2 mol/L ethanolic solution, Sigma Aldrich) and 150 mL methanol (99 wt. %, Sigma-Aldrich).\",\n",
        "    \"The chloroform portions were combined and 8 mL of methyl iodide (99 wt. %, Sigma-Aldrich) was added followed by mixing overnight.\",\n",
        "    \"Sodium hydroxide and sodium aluminate were first dissolved into distilled water, and then HMI and colloidal silica solution were slowly dropwise added under vigorous stirring at room temperature.\",\n",
        "    \"After this, the synthesis sol(50 mL) was charged into a Teflon-lined stainless-steel reactor (75mL).\",\n",
        "    \"The reactor was sealed and transferred into an oven, where it was heated at 150 °C for 96 h.\",\n",
        "    \"The filtrate was washed thoroughly with deionized water and dried at 110 °C overnight, followed by calcination at 550 °C for 5 h to remove the templating agent.\",\n",
        "    \"Sodium hydroxide was first dissolved in colloidal silica solution under vigorous stirring,and then, the obtained solution was slowly dropwise added into sodium aluminate aqueous solution under vigorous stirring.\",\n",
        "    \"To monitor the change in the crystal structure of MCM-22 zeolite and its role in the synthesis of sodalite zeolite membrane, the as-synthesized MCM-22 zeolite powder was subjected to the hydrothermal treatment in the strong alkali synthesis sol for the sodalite zeolite membrane.\",\n",
        "    \"Then, the reactor was sealed and heated at 140 °C for 1, 2, or 3 h.\",\n",
        "    \"In a representative example, 0.038 g of NaAlO2 was dissolved by 4.4 g of H2O.\",\n",
        "    \"Afterward, 10 g of DMPOH solution (0.23 M in water) and 0.55 g of NaOH were introduced.\",\n",
        "    \"After stirring for 15 min, 2.95 g of colloidal silica (40 wt % SiO2 in water) was added dropwise and a gel was obtained.\",\n",
        "    \"Subsequently, 0.02 g of SSZ-39 seeds was added into the mixture.\",\n",
        "    \"After stirring for another 10 min at around 25 °C, the final gel was moved into an autoclave oven and subsequently crystallized at 140 °C for 72 h under rotation condition(50 rpm).\",\n",
        "    \"The product could be obtained after filtration, washing, drying, and calcining at 550 °C in the air atmosphere for 4 h.\",\n",
        "    \"To prepare the hydrogen-form of the product (H-C-SSZ-39), C-SSZ-39 was stirred with 1 M NH4NO3 solution at 80 °C for 2 h twice and then calcined at 550 °C for 4 h.\",\n",
        "    \"The copper-exchanged product (Cu-C-SSZ-39) was obtained by mixing H-C-SSZ-39 sample with 0.1 M Cu(NO3)2solution, subsequent stirring for several hours, and calcining at 550 °C for 4 h.\",\n",
        "    \"After the GeO2 was completely dissolved, tetraethyl orthosilicate (Aldrich, 98%) was added followed by adding of boric acid.\",\n",
        "    \"2 hours later, the solid was removed by filtration andthe concentration of 1-butyl-3-methylimidazolium hydroxide was then determined by titration.\",\n",
        "    \"1,2-dibutyl-3-methylimidazolium Hydroxide: 13.14g (60.0 mmol) 1,2-dibutyl-3-methylimidazolium bromide was firstly dissolved in 150 ml acetonitrile.\",\n",
        "    \"Then 2.88g (72.0 mmol) sodium hydride (Aldrich, 60 % dispersion in mineral oil) was added under vigorous stirring.\",\n",
        "    \"To collect the production from solution, the solid of NaCl was firstly removed by filtration.\",\n",
        "    \"After washed by ethyl acetate to remove the remaining reagent, 14.5g (52.7 mmol) 1,2-dibutyl-3-methylimidazolium bromide was obtained.\",\n",
        "    \"After the GeO 2 was completely dissolved, tetraethyl orthosilicate (Aldrich, 98%) was added followed by adding of boric acid.\",\n",
        "    \"The mixture was stirred for overnight to ensure the complete hydrolysis of TEOS.\",\n",
        "    \"The concentrated gel was then loaded into Teflon-lined steel autoclave and heated to 180 °C for 6 days.\",\n",
        "    \"Finally the product was isolated by filtration and washed with water and ethanol.\",\n",
        "    \"Initially, aluminum isopropoxide was dissolved in a solution containing NaOH, TEAOH, and distilled water, and finally the silica source was added to the clear suspensions and stirred for 30 min.\",\n",
        "    \"The obtained precursor suspensions were hydrothermally treated in static conditions at 100 and 130 °C for >4 and 3 days, respectively.\",\n",
        "    \"The silica source (B syntheses,freeze-dried silica powder; and C syntheses, colloidal silica solution) was dissolved in a solution of NaOH, aluminumisopropoxide, and distilled water.\",\n",
        "    \"In a typical synthesis of ZSM-5-HTS, 3.12 g of TEOS, 0.21 g of HTS, and 0.07 g of ATTB were dissolved in 10.0 mL of ethanol under stirring.\",\n",
        "    \"The autoclave was placed in an oven set at 177 °C and kept for up to 5 days for a moisture-assisted hydrothermal crystallization.\",\n",
        "    \"The final solid, retaining the shape of the original dry gel, was filtrated and washed with water and then calcined at 550 °C for 20 h by a ramp of 3 °C / min in air. To prepare a conventional ZSM-5 with the same Si/Al ratio, 3.24 g of TEOS, 0.07g of ATTB, 2.0 g of TPAOH, and 7.7 mL of ammonium hydroxide were mixed in 30.0 g of DI-H2O and stirred for 4 h.\",\n",
        "    \"After holding for 10 min at 330 °C, acetone was pumped into the evaporator (180 °C).\",\n",
        "    \"Into this solution 3.53 g of TEOS was dropwisely added.\",\n",
        "    \"After being aged at 95 °C for 1 day, an appropriate amount of MCl was then dissolved.\",\n",
        "    \"After being stirred at room temperature for 1 day, the final synthesis mixture was charged into Teflon-lined 23-mL autoclaves and heated at 150 °C under rotation (60 rpm) for 14-28 days.\",\n",
        "    \"As-made nanocrystalline ferrierite zeolite was heated in flowing air (50 mL min -1) from room temperature to 550 °C at a ramping rate of 10 °C min -1 and kept at this temperature for 8 h in order to remove the organic structure-directing agents (SDAs) occluded.\",\n",
        "    \"A solution of sodium silicate (VWR Prolabo, 10 % NaOH and 27 % SiO2), distilled water, and seed suspension was stirred for 20 min.\",\n",
        "    \"A second solution of Al2(SO4)3 Â· 18H2O (Rectapur Prolabo) in water was added into the first one under vigorous stirring.\",\n",
        "    \"The hydrothermal treatment was performed at 100, 120, 150,and 170 °C.\",\n",
        "    \"Reduction of the diimide: 11.8 g (53.2 mmol) of diimide were added under N2 atmosphere over a suspension of 10.1 g (265.9 mmol) in LiAlH4 in 300 ml of anhydrous diethyl ether cooled at 0 ºC.\",\n",
        "    \"15.0 g (89 mmol) of N-cyclohexylpiperazine and 12.3 g (89 mmol) of K2CO3 were dissolved in 300 ml of acetone.\",\n",
        "    \"Then, 51.0 g (359 mmol) of methyl iodide were slowly added and the mixture was stirred at room temperature for 24 hours.\",\n",
        "    \"Then, 0.80 g of an aqueous solution of HF (50%) was added.\",\n",
        "    \"Finally, a suspension of 0.22 g of ITQ-32 zeolite (prepared as described above, but using SDA-2) in water was also added and the mixture was introduced in a Teflon-lined stainless steel autoclave and heated at 175 ºC under continuous tumbling for 2 days.\",\n",
        "    \"After the required time, the autoclaves were cooled down and the zeolites were recovered by filtration, washing with deionized water and acetone and drying at 100 ºC overnight.\",\n",
        "    \"Finally, the samples were calcined at 580 ºC in static air for 3 hours in order to remove the occluded organic molecules.\",\n",
        "    \"11.310 g of TEOS and a pre-calculated amount of cerium nitrate (or lanthanum nitrate) with the molar ratio of Si/Ln = 400, 100, 50, and 30, respectively, were added to 10.25 mL of aqueous solution of hydrochloric acid (0.30 M) at pH value of 2.\",\n",
        "    \"Then, solution B was added dropwise into solution A.\",\n",
        "    \"The resulting mixture (pH=11.6) was further stirred vigorously at room temperature for 20 h, giving the synthesis gel with the molar composition xLn:SiO2:0.25NaOH:0.033Al2O3:0.6HMI:20H2O (x=0.0025, 0.01, 0.02 and 0.033).\",\n",
        "    \"Finally, the slurry was transferred to a Teflon-lined stainless steel autoclave and left to crystallize statically at 158 °C.\",\n",
        "    \"Pure MCM-22 was synthesized using the similar synthesis procedure without adding the Ln sources.\",\n",
        "    \"Typically, 3.0 g of the MCM-22 solid sample was added into 50 mL of 0.1 mol/L aqueous solution of Ce(NO3)3 (or La(NO3)3), and the mixture was stirred at 90 °C for 2 h.\",\n",
        "    \"Finally, the solid was calcined at 550 °C for 5 h to give the final product that was referred to as Ln-Im-M22(n).\",\n",
        "    \"Bifunctional catalysts Pt/Ln-MCM-22(n) were prepared by the impregnation of the hydrogen form of Ln-MCM-22(n) with the aqueous solution of chlorophatinic acid (0.0058 molÂ·L-1), followed by drying at 100 °C for 12 h and calcining at 400 °C for 3 h.\",\n",
        "    \"The typical reaction conditions were as follows: reaction temperature 180-250 °C, weight hourly space velocity (WHSV) 1.4-4.1 h-1, and molar ratio of H2 to n-heptane 7.9:1.\",\n",
        "    \"Molar composition of reaction mixtures was 0.692–0.764SiO2:0.036–0.108H3BO3:0.4GeO2:0.6–0.7ROH/Br:30H2O. Typically, boric acid was dissolved in water with variable concentrations of SDA and hydroxide/bromide ratios.\",\n",
        "    \"Crystalline germanium oxide was added and the mixture was stirred at room temperature producing clear solution.\",\n",
        "    \"After this, silica (Aerosil 300) was added into obtained solution and the mixture was stirred at room temperature for 30 min.\",\n",
        "    \"The resulting fluid gel was charged into 25 ml Teflon-lined autoclaves and heated at 175 °C for 9 – 15 days with agitation (~ 25 rpm).\",\n",
        "    \"Usually, for appropriate mixing of the reaction mixture, a small Teflon cylinder was placed in an autoclave.\",\n",
        "    \"Solid products obtained after preset synthesis times were recovered by filtration, washed with distilled water and dried overnight at 95 °C.\",\n",
        "    \"Stabilization (IEZ synthesis) involved reacting 0.5 g of solid in 10 ml of 1 M HNO3 solution containing 0.1 g of Si(CH3)3(OCH2CH3)2 at 170 ºC for 16 h.\",\n",
        "    \"The product was isolated by centrifugation, washed and calcined.\",\n",
        "    \"The solid was isolated by centrifugation, washed with small amount of water and dried at 50 ºC till dry.\",\n",
        "    \"OSDA1, 1,1-dimethyl-4-(1-methylpirrolidine-1-yl)piperidinium, was prepared as follows: 10 g of pyrrolidine (Sigma-Aldrich, 99%) was dissolved in 100 mL of ethanol (Sigma-Aldrich, >99%).\",\n",
        "    \"Then, 10 g of 1-methyl-4-piperidone (Sigma-Aldrich, 99%) was added, followed by 3.5g of sodium cyanoborohydride (NaBH3CN, Fluka, >95%).\",\n",
        "    \"Next, HCl was added slowly until pH was close to 2, with the HCN removed by nitrogen flow.\",\n",
        "    \"After 7 days under stirring at room temperature, a white precipitate was achieved, which was filtered and washed with methanol and diethyl ether.\",\n",
        "    \"In a typical zeolite synthesis procedure,boric acid (99.5%, Aldrich) or alumina (74.6%, Condea) and germanium oxide (99%, Aldrich) were dissolved in the OSDA hydroxide solution.\"\n",
        "\n",
        "]\n",
        "\n",
        "print(len(raw_sentences))"
      ]
    },
    {
      "cell_type": "markdown",
      "metadata": {
        "id": "lDQtq7l19Sv0"
      },
      "source": [
        "#Expected Output list"
      ]
    },
    {
      "cell_type": "code",
      "execution_count": null,
      "metadata": {
        "colab": {
          "base_uri": "https://localhost:8080/"
        },
        "id": "8ct4cp2v9X0c",
        "outputId": "f7bd58b3-35bb-483d-aeff-3f30cb78ec65"
      },
      "outputs": [
        {
          "name": "stdout",
          "output_type": "stream",
          "text": [
            "100\n"
          ]
        }
      ],
      "source": [
        "expected_outputs=[\n",
        "  {\n",
        "    \"events\": [\n",
        "      {\n",
        "        \"event_type\": \"Add\",\n",
        "        \"trigger_text\": \"dispersed\",\n",
        "        \"arguments\": [\n",
        "          {\"role\": \"material\", \"text\": \"calcined samples ( 0.3 g )\"},\n",
        "          {\"role\": \"material\", \"text\": \"ammonium nitrate solution ( 100 mL )\"}\n",
        "        ]\n",
        "      },\n",
        "      {\n",
        "        \"event_type\": \"Stir\",\n",
        "        \"trigger_text\": \"stirred\",\n",
        "        \"arguments\": [\n",
        "          {\"role\": \"revolution\", \"text\": \"500 rpm\"},\n",
        "          {\"role\": \"temperature\", \"text\": \"room temperature\"}\n",
        "        ]\n",
        "      }\n",
        "    ]\n",
        "  },\n",
        "  {\n",
        "    \"events\": [\n",
        "      {\n",
        "        \"event_type\": \"Wash\",\n",
        "        \"trigger_text\": \"washed\",\n",
        "        \"arguments\": [\n",
        "          {\"role\": \"solvent\", \"text\": \"deionized water\"}\n",
        "        ]\n",
        "      },\n",
        "      {\n",
        "        \"event_type\": \"Dry\",\n",
        "        \"trigger_text\": \"dried\",\n",
        "        \"arguments\": [\n",
        "          {\"role\": \"temperature\", \"text\": \"80 °C\"}\n",
        "        ]\n",
        "      },\n",
        "      {\n",
        "        \"event_type\": \"Stir\",\n",
        "        \"trigger_text\": \"stirring\",\n",
        "        \"arguments\": [\n",
        "          {\"role\": \"duration\", \"text\": \"1 day\"}\n",
        "        ]\n",
        "      }\n",
        "    ]\n",
        "  },\n",
        "  {\n",
        "    \"events\": [\n",
        "      {\n",
        "        \"event_type\": \"Calcine\",\n",
        "        \"trigger_text\": \"calcined\",\n",
        "        \"arguments\": [\n",
        "          {\"role\": \"temperature\", \"text\": \"400 °C\"},\n",
        "          {\"role\": \"duration\", \"text\": \"2 h\"},\n",
        "          {\"role\": \"condition\", \"text\": \"nitrogen flow\"}\n",
        "        ]\n",
        "      }\n",
        "    ]\n",
        "  },\n",
        "  {\n",
        "    \"events\": [\n",
        "      {\n",
        "        \"event_type\": \"Add\",\n",
        "        \"trigger_text\": \"dispersed\",\n",
        "        \"arguments\": [\n",
        "          {\"role\": \"material\", \"text\": \"solid samples ( in a proton-form , 0.05 g )\"},\n",
        "          {\"role\": \"material\", \"text\": \"potassium chloride solution ( 150 mL )\"}\n",
        "        ]\n",
        "      },\n",
        "      {\n",
        "        \"event_type\": \"Stir\",\n",
        "        \"trigger_text\": \"stirred\",\n",
        "        \"arguments\": [\n",
        "          {\"role\": \"revolution\", \"text\": \"500 rpm\"},\n",
        "          {\"role\": \"temperature\", \"text\": \"room temperature\"}\n",
        "        ]\n",
        "      }\n",
        "    ]\n",
        "  },\n",
        "  {\n",
        "    \"events\": [\n",
        "      {\n",
        "        \"event_type\": \"Add\",\n",
        "        \"trigger_text\": \"dispersed\",\n",
        "        \"arguments\": [\n",
        "          {\"role\": \"material\", \"text\": \"solid samples ( in a proton-form , 0.05 g )\"},\n",
        "          {\"role\": \"material\", \"text\": \"nickel nitrate solution ( 500 mL )\"}\n",
        "        ]\n",
        "      },\n",
        "      {\n",
        "        \"event_type\": \"Stir\",\n",
        "        \"trigger_text\": \"stirred\",\n",
        "        \"arguments\": [\n",
        "          {\"role\": \"revolution\", \"text\": \"500 rpm\"},\n",
        "          {\"role\": \"temperature\", \"text\": \"room temperature\"}\n",
        "        ]\n",
        "      }\n",
        "    ]\n",
        "  },\n",
        "  {\n",
        "    \"events\": [\n",
        "      {\n",
        "        \"event_type\": \"Transfer\",\n",
        "        \"trigger_text\": \"placed\",\n",
        "        \"arguments\": [\n",
        "          {\"role\": \"sample\", \"text\": \"silica source ( fumed silica or precipitated silica;12 g )\"},\n",
        "          {\"role\": \"container\", \"text\": \"mortar\"}\n",
        "        ]\n",
        "      },\n",
        "      {\n",
        "        \"event_type\": \"Add\",\n",
        "        \"trigger_text\": \"added\",\n",
        "        \"arguments\": [\n",
        "          {\"role\": \"material\", \"text\": \"Al ( OH ) 3 ( 1.6 g )\"}\n",
        "        ]\n",
        "      }\n",
        "    ]\n",
        "  },\n",
        "  {\n",
        "    \"events\": [\n",
        "      {\n",
        "        \"event_type\": \"Crystallize\",\n",
        "        \"trigger_text\": \"crystallization\",\n",
        "        \"arguments\": [\n",
        "          {\"role\": \"temperature\", \"text\": \"140 °C\"},\n",
        "          {\"role\": \"container\", \"text\": \"stainless-steel autoclaves\"}\n",
        "        ]\n",
        "      }\n",
        "    ]\n",
        "  },\n",
        "  {\n",
        "    \"events\": [\n",
        "      {\n",
        "        \"event_type\": \"Add\",\n",
        "        \"trigger_text\": \"added\",\n",
        "        \"arguments\": [\n",
        "          {\"role\": \"material\", \"text\": \"1.6 g of Al ( OH ) 3 ( SigmaAldrich , 65% Al2O3 )\"}\n",
        "        ]\n",
        "      }\n",
        "    ]\n",
        "  },\n",
        "  {\n",
        "    \"events\": [\n",
        "      {\n",
        "        \"event_type\": \"Add\",\n",
        "        \"trigger_text\": \"dissolved\",\n",
        "        \"arguments\": [\n",
        "          {\"role\": \"material\", \"text\": \"1.6 g of NaOH ( Sigma-Aldrich )\"},\n",
        "          {\"role\": \"material\", \"text\": \"20 g ( for fumed silica ) or 8 g ( for precipitated silica ) of 25% TMAdOH aqueous solution ( SACHEM )\"}\n",
        "        ]\n",
        "      },\n",
        "      {\n",
        "        \"event_type\": \"Add\",\n",
        "        \"trigger_text\": \"added\",\n",
        "        \"arguments\": []\n",
        "      }\n",
        "    ]\n",
        "  },\n",
        "  {\n",
        "    \"events\": [\n",
        "      {\n",
        "        \"event_type\": \"Crystallize\",\n",
        "        \"trigger_text\": \"crystallization\",\n",
        "        \"arguments\": [\n",
        "          {\"role\": \"temperature\", \"text\": \"140 °C\"},\n",
        "          {\"role\": \"container\", \"text\": \"stainless-steel autoclaves\"},\n",
        "          {\"role\": \"duration\", \"text\": \"72-144 h\"}\n",
        "        ]\n",
        "      }\n",
        "    ]\n",
        "  },#10\n",
        "  {\n",
        "    \"events\": [\n",
        "      {\n",
        "        \"event_type\": \"Add\",\n",
        "        \"trigger_text\": \"added\",\n",
        "        \"arguments\": [\n",
        "          {\"role\": \"material\", \"text\": \"25 g of sodium silicate ( 26.5% SiO2 )\"}\n",
        "        ]\n",
        "      },\n",
        "      {\n",
        "        \"event_type\": \"Add\",\n",
        "        \"trigger_text\": \"added\",\n",
        "        \"arguments\": [\n",
        "          {\"role\": \"material\", \"text\": \"1.5 g of zeolite Y ( TOSOH HSZ-320NAA )\"}\n",
        "        ]\n",
        "      },\n",
        "      {\n",
        "        \"event_type\": \"Stir\",\n",
        "        \"trigger_text\": \"stirred\",\n",
        "        \"arguments\": [\n",
        "          {\"role\": \"duration\", \"text\": \"15 min\"}\n",
        "        ]\n",
        "      },\n",
        "      {\n",
        "        \"event_type\": \"Stir\",\n",
        "        \"trigger_text\": \"stirred\",\n",
        "        \"arguments\": [\n",
        "          {\"role\": \"duration\", \"text\": \"30 minutes\"}\n",
        "        ]\n",
        "      }\n",
        "    ]\n",
        "  },\n",
        "  {\n",
        "    \"events\": [\n",
        "      {\n",
        "        \"event_type\": \"Transfer\",\n",
        "        \"trigger_text\": \"placed\",\n",
        "        \"arguments\": [\n",
        "          {\"role\": \"sample\", \"text\": \"mixture\"},\n",
        "          {\"role\": \"container\", \"text\": \"Teflon lined steel autoclave\"}\n",
        "        ]\n",
        "      },\n",
        "      {\n",
        "        \"event_type\": \"Add\",\n",
        "        \"trigger_text\": \"added\",\n",
        "        \"arguments\": [\n",
        "          {\"role\": \"material\", \"text\": \"13.15 g of 25% TMAdOH ( SACHEM Americas )\"}\n",
        "        ]\n",
        "      },\n",
        "      {\n",
        "        \"event_type\": \"Stir\",\n",
        "        \"trigger_text\": \"stirred\",\n",
        "        \"arguments\": [\n",
        "          {\"role\": \"duration\", \"text\": \"30 minutes more\"}\n",
        "        ]\n",
        "      }\n",
        "    ]\n",
        "  },\n",
        "  {\n",
        "    \"events\": [\n",
        "      {\n",
        "        \"event_type\": \"Dry\",\n",
        "        \"trigger_text\": \"dried\",\n",
        "        \"arguments\": [\n",
        "          {\"role\": \"temperature\", \"text\": \"RT\"}\n",
        "        ]\n",
        "      }\n",
        "    ]\n",
        "  },\n",
        "  {\n",
        "    \"events\": [\n",
        "      {\n",
        "        \"event_type\": \"React\",\n",
        "        \"trigger_text\": \"synthesized\",\n",
        "        \"arguments\": [\n",
        "          {\"role\": \"material\", \"text\": \"silicalite-1\"}\n",
        "        ]\n",
        "      }\n",
        "    ]\n",
        "  },\n",
        "  {\n",
        "    \"events\": [\n",
        "      {\n",
        "        \"event_type\": \"Add\",\n",
        "        \"trigger_text\": \"added\",\n",
        "        \"arguments\": [\n",
        "          {\"role\": \"material\", \"text\": \"silicalite-1 seed\"}\n",
        "        ]\n",
        "      },\n",
        "      {\n",
        "        \"event_type\": \"Stir\",\n",
        "        \"trigger_text\": \"stirred\",\n",
        "        \"arguments\": [\n",
        "          {\"role\": \"duration\", \"text\": \"1 h\"}\n",
        "        ]\n",
        "      }\n",
        "    ]\n",
        "  },\n",
        "  {\n",
        "    \"events\": [\n",
        "      {\n",
        "        \"event_type\": \"Set PH\",\n",
        "        \"trigger_text\": \"adjusted\",\n",
        "        \"arguments\": [\n",
        "          {\"role\": \"PH\", \"text\": \"10\"}\n",
        "        ]\n",
        "      }\n",
        "    ]\n",
        "  },\n",
        "  {\n",
        "    \"events\": [\n",
        "      {\n",
        "        \"event_type\": \"Transfer\",\n",
        "        \"trigger_text\": \"transferred\",\n",
        "        \"arguments\": [\n",
        "          {\"role\": \"container\", \"text\": \"Teflon-lined autoclave\"},\n",
        "          {\"role\": \"sample\", \"text\": \"gel\"}\n",
        "        ]\n",
        "      },\n",
        "      {\n",
        "        \"event_type\": \"Heat\",\n",
        "        \"trigger_text\": \"heated\",\n",
        "        \"arguments\": [\n",
        "          {\"role\": \"temperature\", \"text\": \"180 ºC\"},\n",
        "          {\"role\": \"duration\", \"text\": \"48 h\"}\n",
        "        ]\n",
        "      },\n",
        "      {\n",
        "        \"event_type\": \"Stir\",\n",
        "        \"trigger_text\": \"stirring\",\n",
        "        \"arguments\": [\n",
        "          {\"role\": \"duration\", \"text\": \"6 h\"}\n",
        "        ]\n",
        "      },\n",
        "      {\n",
        "        \"event_type\": \"Age\",\n",
        "        \"trigger_text\": \"aging\",\n",
        "        \"arguments\": [\n",
        "          {\"role\": \"temperature\", \"text\": \"room temperature\"}\n",
        "        ]\n",
        "      }\n",
        "    ]\n",
        "  },\n",
        "  {\n",
        "    \"events\": [\n",
        "      {\n",
        "        \"event_type\": \"Wash\",\n",
        "        \"trigger_text\": \"washed\",\n",
        "        \"arguments\": [\n",
        "          {\"role\": \"solvent\", \"text\": \"deionized water\"}\n",
        "        ]\n",
        "      },\n",
        "      {\n",
        "        \"event_type\": \"Calcine\",\n",
        "        \"trigger_text\": \"calcined\",\n",
        "        \"arguments\": [\n",
        "          {\"role\": \"temperature\", \"text\": \"550 ºC\"},\n",
        "          {\"role\": \"duration\", \"text\": \"6 h\"},\n",
        "          {\"role\": \"condition\", \"text\": \"air flow\"}\n",
        "        ]\n",
        "      },\n",
        "      {\n",
        "        \"event_type\": \"Particle Recovery\",\n",
        "        \"trigger_text\": \"centrifuging\",\n",
        "        \"arguments\": []\n",
        "      },\n",
        "      {\n",
        "        \"event_type\": \"Crystallize\",\n",
        "        \"trigger_text\": \"treatment\",\n",
        "        \"arguments\": []\n",
        "      }\n",
        "    ]\n",
        "  },\n",
        "  {\n",
        "    \"events\": [\n",
        "      {\n",
        "        \"event_type\": \"Add\",\n",
        "        \"trigger_text\": \"dissolved\",\n",
        "        \"arguments\": [\n",
        "          {\"role\": \"material\", \"text\": \"Aluminum sulfate\"}\n",
        "        ]\n",
        "      },\n",
        "      {\n",
        "        \"event_type\": \"Add\",\n",
        "        \"trigger_text\": \"addition\",\n",
        "        \"arguments\": [\n",
        "          {\"role\": \"material\", \"text\": \"sodium hydroxide\"}\n",
        "        ]\n",
        "      }\n",
        "    ]\n",
        "  },\n",
        "  {\n",
        "    \"events\": [\n",
        "      {\n",
        "        \"event_type\": \"Add\",\n",
        "        \"trigger_text\": \"added\",\n",
        "        \"arguments\": [\n",
        "          {\"role\": \"material\", \"text\": \"mixture of silica sol and tetra-butylammonium bromide\"}\n",
        "        ]\n",
        "      }\n",
        "    ]\n",
        "  },#20\n",
        "  {\n",
        "    \"events\": [\n",
        "      {\n",
        "        \"event_type\": \"Transfer\",\n",
        "        \"trigger_text\": \"transferred\",\n",
        "        \"arguments\": [\n",
        "          {\"role\": \"container\", \"text\": \"stainless-steel autoclave\"},\n",
        "          {\"role\": \"sample\", \"text\": \"gel\"}\n",
        "        ]\n",
        "      },\n",
        "      {\n",
        "        \"event_type\": \"Stir\",\n",
        "        \"trigger_text\": \"stirring\",\n",
        "        \"arguments\": []\n",
        "      },\n",
        "      {\n",
        "        \"event_type\": \"Crystallize\",\n",
        "        \"trigger_text\": \"treatment\",\n",
        "        \"arguments\": [\n",
        "          {\"role\": \"temperature\", \"text\": \"90 °C\"},\n",
        "          {\"role\": \"duration\", \"text\": \"24 h\"},\n",
        "          {\"role\": \"temperature\", \"text\": \"170 °C\"},\n",
        "          {\"role\": \"duration\", \"text\": \"24 h\"}\n",
        "        ]\n",
        "      }\n",
        "    ]\n",
        "  },\n",
        "  {\n",
        "    \"events\": [\n",
        "      {\n",
        "        \"event_type\": \"Transfer\",\n",
        "        \"trigger_text\": \"transferred\",\n",
        "        \"arguments\": [\n",
        "          {\"role\": \"sample\", \"text\": \"Na-aluminosilicate gels\"},\n",
        "          {\"role\": \"container\", \"text\": \"autoclaves\"}\n",
        "        ]\n",
        "      },\n",
        "      {\n",
        "        \"event_type\": \"Stir\",\n",
        "        \"trigger_text\": \"stirred\",\n",
        "        \"arguments\": []\n",
        "      },\n",
        "      {\n",
        "        \"event_type\": \"Age\",\n",
        "        \"trigger_text\": \"age\",\n",
        "        \"arguments\": [\n",
        "          {\"role\": \"duration\", \"text\": \"48 h\"},\n",
        "          {\"role\": \"temperature\", \"text\": \"ambient temperature\"}\n",
        "        ]\n",
        "      }\n",
        "    ]\n",
        "  },\n",
        "  {\n",
        "    \"events\": [\n",
        "      {\n",
        "        \"event_type\": \"Wash\",\n",
        "        \"trigger_text\": \"washed\",\n",
        "        \"arguments\": [\n",
        "          {\"role\": \"solvent\", \"text\": \"distilled water\"}\n",
        "        ]\n",
        "      },\n",
        "      {\n",
        "        \"event_type\": \"Dry\",\n",
        "        \"trigger_text\": \"dried\",\n",
        "        \"arguments\": [\n",
        "          {\"role\": \"temperature\", \"text\": \"100 °C\"}\n",
        "        ]\n",
        "      },\n",
        "      {\n",
        "        \"event_type\": \"Particle Recovery\",\n",
        "        \"trigger_text\": \"filtration\",\n",
        "        \"arguments\": [\n",
        "          {\"role\": \"material\", \"text\": \"solid\"}\n",
        "        ]\n",
        "      }\n",
        "    ]\n",
        "  },\n",
        "  {\n",
        "    \"events\": [\n",
        "      {\n",
        "        \"event_type\": \"Calcine\",\n",
        "        \"trigger_text\": \"calcination\",\n",
        "        \"arguments\": [\n",
        "          {\"role\": \"temperature\", \"text\": \"550 °C\"},\n",
        "          {\"role\": \"duration\", \"text\": \"2 h\"}\n",
        "        ]\n",
        "      },\n",
        "      {\n",
        "        \"event_type\": \"Add\",\n",
        "        \"trigger_text\": \"mixed\",\n",
        "        \"arguments\": []\n",
        "      }\n",
        "    ]\n",
        "  },\n",
        "  {\n",
        "    \"events\": [\n",
        "      {\n",
        "        \"event_type\": \"Add\",\n",
        "        \"trigger_text\": \"loaded\",\n",
        "        \"arguments\": [\n",
        "          {\"role\": \"material\", \"text\": \"2 g catalyst\"}\n",
        "        ]\n",
        "      }\n",
        "    ]\n",
        "  },\n",
        "  {\n",
        "    \"events\": [\n",
        "      {\n",
        "        \"event_type\": \"Add\",\n",
        "        \"trigger_text\": \"introduced\",\n",
        "        \"arguments\": [\n",
        "          {\"role\": \"material\", \"text\": \"pure methanol solution\"}\n",
        "        ]\n",
        "      }\n",
        "    ]\n",
        "  },\n",
        "  {\n",
        "    \"events\": [\n",
        "      {\n",
        "        \"event_type\": \"Calcine\",\n",
        "        \"trigger_text\": \"calcined\",\n",
        "        \"arguments\": [\n",
        "          {\"role\": \"temperature\", \"text\": \"773 K\"},\n",
        "          {\"role\": \"duration\", \"text\": \"5 h\"}\n",
        "        ]\n",
        "      }\n",
        "    ]\n",
        "  },\n",
        "  {\n",
        "    \"events\": [\n",
        "      {\n",
        "        \"event_type\": \"Calcine\",\n",
        "        \"trigger_text\": \"calcined\",\n",
        "        \"arguments\": [\n",
        "          {\"role\": \"temperature\", \"text\": \"823 K\"},\n",
        "          {\"role\": \"duration\", \"text\": \"6 h\"}\n",
        "        ]\n",
        "      }\n",
        "    ]\n",
        "  },\n",
        "  {\n",
        "    \"events\": [\n",
        "      {\n",
        "        \"event_type\": \"Calcine\",\n",
        "        \"trigger_text\": \"calcined\",\n",
        "        \"arguments\": [\n",
        "          {\"role\": \"temperature\", \"text\": \"773 K\"},\n",
        "          {\"role\": \"duration\", \"text\": \"6 h\"}\n",
        "        ]\n",
        "      },\n",
        "      {\n",
        "        \"event_type\": \"Particle Recovery\",\n",
        "        \"trigger_text\": \"filtration\",\n",
        "        \"arguments\": []\n",
        "      }\n",
        "    ]\n",
        "  },\n",
        "  {\n",
        "    \"events\": [\n",
        "      {\n",
        "        \"event_type\": \"Add\",\n",
        "        \"trigger_text\": \"adding\",\n",
        "        \"arguments\": [\n",
        "          {\"role\": \"material\", \"text\": \"29 mL ( 0.24 mol ) 1,4-dibromobutane ( 99 wt. % , Sigma-Aldrich )\"}\n",
        "        ]\n",
        "      },\n",
        "      {\n",
        "        \"event_type\": \"Add\",\n",
        "        \"trigger_text\": \"mixing\",\n",
        "        \"arguments\": [\n",
        "          {\"role\": \"material\", \"text\": \"145 mL ( 0.6 mol ) of trimethylamine ( 4.2 mol/L ethanolic solution , Sigma Aldrich )\"},\n",
        "          {\"role\": \"material\", \"text\": \"150 mL methanol ( 99 wt. % , Sigma-Aldrich )\"}\n",
        "        ]\n",
        "      }\n",
        "    ]\n",
        "  },#30\n",
        "  {\n",
        "    \"events\": [\n",
        "      {\n",
        "        \"event_type\": \"Add\",\n",
        "        \"trigger_text\": \"combined\",\n",
        "        \"arguments\": [\n",
        "          {\"role\": \"material\", \"text\": \"chloroform portions\"}\n",
        "        ]\n",
        "      },\n",
        "      {\n",
        "        \"event_type\": \"Add\",\n",
        "        \"trigger_text\": \"added\",\n",
        "        \"arguments\": [\n",
        "          {\"role\": \"material\", \"text\": \"8 mL of methyl iodide ( 99 wt. % , Sigma-Aldrich )\"}\n",
        "        ]\n",
        "      },\n",
        "      {\n",
        "        \"event_type\": \"Add\",\n",
        "        \"trigger_text\": \"mixing\",\n",
        "        \"arguments\": []\n",
        "      }\n",
        "    ]\n",
        "  },\n",
        "  {\n",
        "    \"events\": [\n",
        "      {\n",
        "        \"event_type\": \"Add\",\n",
        "        \"trigger_text\": \"dissolved\",\n",
        "        \"arguments\": [\n",
        "          {\"role\": \"material\", \"text\": \"Sodium hydroxide\"},\n",
        "          {\"role\": \"material\", \"text\": \"sodium aluminate\"}\n",
        "        ]\n",
        "      },\n",
        "      {\n",
        "        \"event_type\": \"Add\",\n",
        "        \"trigger_text\": \"added\",\n",
        "        \"arguments\": [\n",
        "          {\"role\": \"material\", \"text\": \"colloidal silica solution\"}\n",
        "        ]\n",
        "      },\n",
        "      {\n",
        "        \"event_type\": \"Stir\",\n",
        "        \"trigger_text\": \"stirring\",\n",
        "        \"arguments\": [\n",
        "          {\"role\": \"temperature\", \"text\": \"room temperature\"}\n",
        "        ]\n",
        "      }\n",
        "    ]\n",
        "  },\n",
        "  {\n",
        "    \"events\": [\n",
        "      {\n",
        "        \"event_type\": \"Add\",\n",
        "        \"trigger_text\": \"charged\",\n",
        "        \"arguments\": [\n",
        "          {\"role\": \"container\", \"text\": \"Teflon-lined stainless-steel reactor ( 75mL )\"},\n",
        "          {\"role\": \"material\", \"text\": \"synthesis sol ( 50 mL )\"}\n",
        "        ]\n",
        "      }\n",
        "    ]\n",
        "  },\n",
        "  {\n",
        "    \"events\": [\n",
        "      {\n",
        "        \"event_type\": \"Transfer\",\n",
        "        \"trigger_text\": \"transferred\",\n",
        "        \"arguments\": []\n",
        "      },\n",
        "      {\n",
        "        \"event_type\": \"Seal\",\n",
        "        \"trigger_text\": \"sealed\",\n",
        "        \"arguments\": []\n",
        "      },\n",
        "      {\n",
        "        \"event_type\": \"Heat\",\n",
        "        \"trigger_text\": \"heated\",\n",
        "        \"arguments\": [\n",
        "          {\"role\": \"temperature\", \"text\": \"150 °C\"},\n",
        "          {\"role\": \"duration\", \"text\": \"96 h\"}\n",
        "        ]\n",
        "      }\n",
        "    ]\n",
        "  },\n",
        "  {\n",
        "    \"events\": [\n",
        "      {\n",
        "        \"event_type\": \"Wash\",\n",
        "        \"trigger_text\": \"washed\",\n",
        "        \"arguments\": [\n",
        "          {\"role\": \"solvent\", \"text\": \"deionized water\"}\n",
        "        ]\n",
        "      },\n",
        "      {\n",
        "        \"event_type\": \"Dry\",\n",
        "        \"trigger_text\": \"dried\",\n",
        "        \"arguments\": [\n",
        "          {\"role\": \"temperature\", \"text\": \"110 °C\"},\n",
        "          {\"role\": \"duration\", \"text\": \"overnight\"}\n",
        "        ]\n",
        "      },\n",
        "      {\n",
        "        \"event_type\": \"Calcine\",\n",
        "        \"trigger_text\": \"calcination\",\n",
        "        \"arguments\": [\n",
        "          {\"role\": \"temperature\", \"text\": \"550 °C\"},\n",
        "          {\"role\": \"duration\", \"text\": \"5 h\"}\n",
        "        ]\n",
        "      }\n",
        "    ]\n",
        "  },\n",
        "  {\n",
        "    \"events\": [\n",
        "      {\n",
        "        \"event_type\": \"Add\",\n",
        "        \"trigger_text\": \"dissolved\",\n",
        "        \"arguments\": [\n",
        "          {\"role\": \"material\", \"text\": \"Sodium hydroxide\"}\n",
        "        ]\n",
        "      },\n",
        "      {\n",
        "        \"event_type\": \"Add\",\n",
        "        \"trigger_text\": \"added\",\n",
        "        \"arguments\": []\n",
        "      },\n",
        "      {\n",
        "        \"event_type\": \"Stir\",\n",
        "        \"trigger_text\": \"stirring,and\",\n",
        "        \"arguments\": []\n",
        "      },\n",
        "      {\n",
        "        \"event_type\": \"Stir\",\n",
        "        \"trigger_text\": \"stirring\",\n",
        "        \"arguments\": []\n",
        "      }\n",
        "    ]\n",
        "  },\n",
        "  {\n",
        "    \"events\": [\n",
        "      {\n",
        "        \"event_type\": \"Crystallize\",\n",
        "        \"trigger_text\": \"treatment\",\n",
        "        \"arguments\": []\n",
        "      }\n",
        "    ]\n",
        "  },\n",
        "  {\n",
        "    \"events\": [\n",
        "      {\n",
        "        \"event_type\": \"Seal\",\n",
        "        \"trigger_text\": \"sealed\",\n",
        "        \"arguments\": []\n",
        "      },\n",
        "      {\n",
        "        \"event_type\": \"Heat\",\n",
        "        \"trigger_text\": \"heated\",\n",
        "        \"arguments\": [\n",
        "          {\"role\": \"temperature\", \"text\": \"140 °C\"},\n",
        "          {\"role\": \"duration\", \"text\": \"1 , 2 , or 3 h\"}\n",
        "        ]\n",
        "      }\n",
        "    ]\n",
        "  },\n",
        "  {\n",
        "    \"events\": [\n",
        "      {\n",
        "        \"event_type\": \"Add\",\n",
        "        \"trigger_text\": \"dissolved\",\n",
        "        \"arguments\": [\n",
        "          {\"role\": \"material\", \"text\": \"0.038 g of NaAlO2\"}\n",
        "        ]\n",
        "      }\n",
        "    ]\n",
        "  },\n",
        "  {\n",
        "    \"events\": [\n",
        "      {\n",
        "        \"event_type\": \"Add\",\n",
        "        \"trigger_text\": \"introduced\",\n",
        "        \"arguments\": [\n",
        "          {\"role\": \"material\", \"text\": \"10 g of DMPOH solution ( 0.23 M in water )\"},\n",
        "          {\"role\": \"material\", \"text\": \"0.55 g of NaOH\"}\n",
        "        ]\n",
        "      }\n",
        "    ]\n",
        "  },#40\n",
        "  {\n",
        "    \"events\": [\n",
        "      {\n",
        "        \"event_type\": \"Add\",\n",
        "        \"trigger_text\": \"added\",\n",
        "        \"arguments\": [\n",
        "          {\"role\": \"material\", \"text\": \"2.95 g of colloidal silica ( 40 wt % SiO2 in water )\"}\n",
        "        ]\n",
        "      },\n",
        "      {\n",
        "        \"event_type\": \"Stir\",\n",
        "        \"trigger_text\": \"stirring\",\n",
        "        \"arguments\": [\n",
        "          {\"role\": \"duration\", \"text\": \"15 min\"}\n",
        "        ]\n",
        "      }\n",
        "    ]\n",
        "  },\n",
        "  {\n",
        "    \"events\": [\n",
        "      {\n",
        "        \"event_type\": \"Add\",\n",
        "        \"trigger_text\": \"added\",\n",
        "        \"arguments\": [\n",
        "          {\"role\": \"material\", \"text\": \"0.02 g of SSZ-39 seeds\"}\n",
        "        ]\n",
        "      }\n",
        "    ]\n",
        "  },\n",
        "  {\n",
        "    \"events\": [\n",
        "      {\n",
        "        \"event_type\": \"Transfer\",\n",
        "        \"trigger_text\": \"moved\",\n",
        "        \"arguments\": [\n",
        "          {\"role\": \"container\", \"text\": \"autoclave oven\"}\n",
        "        ]\n",
        "      },\n",
        "      {\n",
        "        \"event_type\": \"Stir\",\n",
        "        \"trigger_text\": \"stirring\",\n",
        "        \"arguments\": [\n",
        "          {\"role\": \"temperature\", \"text\": \"25 °C\"},\n",
        "          {\"role\": \"duration\", \"text\": \"10 min\"}\n",
        "        ]\n",
        "      },\n",
        "      {\n",
        "        \"event_type\": \"Crystallize\",\n",
        "        \"trigger_text\": \"crystallized\",\n",
        "        \"arguments\": [\n",
        "          {\"role\": \"temperature\", \"text\": \"140 °C\"},\n",
        "          {\"role\": \"duration\", \"text\": \"72 h\"},\n",
        "          {\"role\": \"revolution\", \"text\": \"50 rpm\"}\n",
        "        ]\n",
        "      }\n",
        "    ]\n",
        "  },\n",
        "  {\n",
        "    \"events\": [\n",
        "      {\n",
        "        \"event_type\": \"Wash\",\n",
        "        \"trigger_text\": \"washing\",\n",
        "        \"arguments\": []\n",
        "      },\n",
        "      {\n",
        "        \"event_type\": \"Dry\",\n",
        "        \"trigger_text\": \"drying\",\n",
        "        \"arguments\": []\n",
        "      },\n",
        "      {\n",
        "        \"event_type\": \"Calcine\",\n",
        "        \"trigger_text\": \"calcining\",\n",
        "        \"arguments\": [\n",
        "          {\"role\": \"temperature\", \"text\": \"550 °C\"},\n",
        "          {\"role\": \"condition\", \"text\": \"air atmosphere\"},\n",
        "          {\"role\": \"duration\", \"text\": \"4 h\"}\n",
        "        ]\n",
        "      },\n",
        "      {\n",
        "        \"event_type\": \"Particle Recovery\",\n",
        "        \"trigger_text\": \"filtration\",\n",
        "        \"arguments\": []\n",
        "      }\n",
        "    ]\n",
        "  },\n",
        "  {\n",
        "    \"events\": [\n",
        "      {\n",
        "        \"event_type\": \"Calcine\",\n",
        "        \"trigger_text\": \"calcined\",\n",
        "        \"arguments\": [\n",
        "          {\"role\": \"temperature\", \"text\": \"550 °C\"},\n",
        "          {\"role\": \"duration\", \"text\": \"4 h\"}\n",
        "        ]\n",
        "      },\n",
        "      {\n",
        "        \"event_type\": \"Stir\",\n",
        "        \"trigger_text\": \"stirred\",\n",
        "        \"arguments\": [\n",
        "          {\"role\": \"temperature\", \"text\": \"80 °C\"},\n",
        "          {\"role\": \"duration\", \"text\": \"2 h\"}\n",
        "        ]\n",
        "      }\n",
        "    ]\n",
        "  },\n",
        "  {\n",
        "    \"events\": [\n",
        "      {\n",
        "        \"event_type\": \"Calcine\",\n",
        "        \"trigger_text\": \"calcining\",\n",
        "        \"arguments\": [\n",
        "          {\"role\": \"temperature\", \"text\": \"550 °C\"},\n",
        "          {\"role\": \"duration\", \"text\": \"4 h\"}\n",
        "        ]\n",
        "      },\n",
        "      {\n",
        "        \"event_type\": \"Add\",\n",
        "        \"trigger_text\": \"mixing\",\n",
        "        \"arguments\": [\n",
        "          {\"role\": \"material\", \"text\": \"H-C-SSZ-39 sample\"},\n",
        "          {\"role\": \"material\", \"text\": \"0.1 M Cu ( NO3 ) 2solution\"}\n",
        "        ]\n",
        "      },\n",
        "      {\n",
        "        \"event_type\": \"Stir\",\n",
        "        \"trigger_text\": \"stirring\",\n",
        "        \"arguments\": [\n",
        "          {\"role\": \"duration\", \"text\": \"several hours\"}\n",
        "        ]\n",
        "      }\n",
        "    ]\n",
        "  },\n",
        "  {\n",
        "    \"events\": [\n",
        "      {\n",
        "        \"event_type\": \"Add\",\n",
        "        \"trigger_text\": \"dissolved\",\n",
        "        \"arguments\": [\n",
        "          {\"role\": \"material\", \"text\": \"GeO2\"}\n",
        "        ]\n",
        "      },\n",
        "      {\n",
        "        \"event_type\": \"Add\",\n",
        "        \"trigger_text\": \"added\",\n",
        "        \"arguments\": [\n",
        "          {\"role\": \"material\", \"text\": \"tetraethyl orthosilicate ( Aldrich , 98% )\"}\n",
        "        ]\n",
        "      },\n",
        "      {\n",
        "        \"event_type\": \"Add\",\n",
        "        \"trigger_text\": \"adding\",\n",
        "        \"arguments\": [\n",
        "          {\"role\": \"material\", \"text\": \"boric acid\"}\n",
        "        ]\n",
        "      }\n",
        "    ]\n",
        "  },\n",
        "  {\n",
        "    \"events\": [\n",
        "      {\n",
        "        \"event_type\": \"Particle Recovery\",\n",
        "        \"trigger_text\": \"filtration\",\n",
        "        \"arguments\": []\n",
        "      }\n",
        "    ]\n",
        "  },\n",
        "  {\n",
        "    \"events\": [\n",
        "      {\n",
        "        \"event_type\": \"Add\",\n",
        "        \"trigger_text\": \"dissolved\",\n",
        "        \"arguments\": [\n",
        "          {\"role\": \"material\", \"text\": \"13.14g ( 60.0 mmol ) 1,2-dibutyl-3-methylimidazolium bromide\"}\n",
        "        ]\n",
        "      }\n",
        "    ]\n",
        "  },\n",
        "  {\n",
        "    \"events\": [\n",
        "      {\n",
        "        \"event_type\": \"Add\",\n",
        "        \"trigger_text\": \"added\",\n",
        "        \"arguments\": [\n",
        "          {\"role\": \"material\", \"text\": \"2.88g ( 72.0 mmol ) sodium hydride ( Aldrich , 60 % dispersion in mineral oil )\"}\n",
        "        ]\n",
        "      },\n",
        "      {\n",
        "        \"event_type\": \"Stir\",\n",
        "        \"trigger_text\": \"stirring\",\n",
        "        \"arguments\": []\n",
        "      }\n",
        "    ]\n",
        "  },#50\n",
        "  {\n",
        "    \"events\": [\n",
        "      {\n",
        "        \"event_type\": \"Particle Recovery\",\n",
        "        \"trigger_text\": \"filtration\",\n",
        "        \"arguments\": [\n",
        "          {\"role\": \"material\", \"text\": \"solid of NaCl\"}\n",
        "        ]\n",
        "      }\n",
        "    ]\n",
        "  },\n",
        "  {\n",
        "    \"events\": [\n",
        "      {\n",
        "        \"event_type\": \"Wash\",\n",
        "        \"trigger_text\": \"washed\",\n",
        "        \"arguments\": [\n",
        "          {\"role\": \"solvent\", \"text\": \"ethyl acetate\"}\n",
        "        ]\n",
        "      }\n",
        "    ]\n",
        "  },\n",
        "  {\n",
        "    \"events\": [\n",
        "      {\n",
        "        \"event_type\": \"Add\",\n",
        "        \"trigger_text\": \"adding\",\n",
        "        \"arguments\": [\n",
        "          {\"role\": \"material\", \"text\": \"boric acid\"}\n",
        "        ]\n",
        "      },\n",
        "      {\n",
        "        \"event_type\": \"Add\",\n",
        "        \"trigger_text\": \"dissolved\",\n",
        "        \"arguments\": [\n",
        "          {\"role\": \"material\", \"text\": \"GeO 2\"}\n",
        "        ]\n",
        "      },\n",
        "      {\n",
        "        \"event_type\": \"Add\",\n",
        "        \"trigger_text\": \"added\",\n",
        "        \"arguments\": [\n",
        "          {\"role\": \"material\", \"text\": \"tetraethyl orthosilicate ( Aldrich , 98% )\"}\n",
        "        ]\n",
        "      }\n",
        "    ]\n",
        "  },\n",
        "  {\n",
        "    \"events\": [\n",
        "      {\n",
        "        \"event_type\": \"Stir\",\n",
        "        \"trigger_text\": \"stirred\",\n",
        "        \"arguments\": [\n",
        "          {\"role\": \"duration\", \"text\": \"overnight\"},\n",
        "          {\"role\": \"sample\", \"text\": \"mixture\"}\n",
        "        ]\n",
        "      }\n",
        "    ]\n",
        "  },\n",
        "  {\n",
        "    \"events\": [\n",
        "      {\n",
        "        \"event_type\": \"Transfer\",\n",
        "        \"trigger_text\": \"loaded\",\n",
        "        \"arguments\": [\n",
        "          {\"role\": \"sample\", \"text\": \"gel\"},\n",
        "          {\"role\": \"container\", \"text\": \"Teflon-lined steel autoclave\"}\n",
        "        ]\n",
        "      },\n",
        "      {\n",
        "        \"event_type\": \"Heat\",\n",
        "        \"trigger_text\": \"heated\",\n",
        "        \"arguments\": [\n",
        "          {\"role\": \"temperature\", \"text\": \"180 °C\"},\n",
        "          {\"role\": \"duration\", \"text\": \"6 days\"}\n",
        "        ]\n",
        "      }\n",
        "    ]\n",
        "  },\n",
        "  {\n",
        "    \"events\": [\n",
        "      {\n",
        "        \"event_type\": \"Wash\",\n",
        "        \"trigger_text\": \"washed\",\n",
        "        \"arguments\": [\n",
        "          {\"role\": \"solvent\", \"text\": \"water and ethanol\"}\n",
        "        ]\n",
        "      },\n",
        "      {\n",
        "        \"event_type\": \"Particle Recovery\",\n",
        "        \"trigger_text\": \"filtration\",\n",
        "        \"arguments\": []\n",
        "      }\n",
        "    ]\n",
        "  },\n",
        "  {\n",
        "    \"events\": [\n",
        "      {\n",
        "        \"event_type\": \"Add\",\n",
        "        \"trigger_text\": \"dissolved\",\n",
        "        \"arguments\": [\n",
        "          {\"role\": \"material\", \"text\": \"aluminum isopropoxide\"}\n",
        "        ]\n",
        "      },\n",
        "      {\n",
        "        \"event_type\": \"Add\",\n",
        "        \"trigger_text\": \"added\",\n",
        "        \"arguments\": [\n",
        "          {\"role\": \"material\", \"text\": \"silica source\"}\n",
        "        ]\n",
        "      },\n",
        "      {\n",
        "        \"event_type\": \"Stir\",\n",
        "        \"trigger_text\": \"stirred\",\n",
        "        \"arguments\": [\n",
        "          {\"role\": \"duration\", \"text\": \"30 min\"}\n",
        "        ]\n",
        "      }\n",
        "    ]\n",
        "  },\n",
        "  {\n",
        "    \"events\": [\n",
        "      {\n",
        "        \"event_type\": \"Crystallize\",\n",
        "        \"trigger_text\": \"treated\",\n",
        "        \"arguments\": [\n",
        "          {\"role\": \"temperature\", \"text\": \"100 and 130 °C\"},\n",
        "          {\"role\": \"duration\", \"text\": \"3 days\"}\n",
        "        ]\n",
        "      }\n",
        "    ]\n",
        "  },\n",
        "  {\n",
        "    \"events\": [\n",
        "      {\n",
        "        \"event_type\": \"Add\",\n",
        "        \"trigger_text\": \"dissolved\",\n",
        "        \"arguments\": []\n",
        "      }\n",
        "    ]\n",
        "  },\n",
        "  {\n",
        "    \"events\": [\n",
        "      {\n",
        "        \"event_type\": \"Add\",\n",
        "        \"trigger_text\": \"dissolved\",\n",
        "        \"arguments\": [\n",
        "          {\"role\": \"material\", \"text\": \"3.12 g of TEOS\"},\n",
        "          {\"role\": \"material\", \"text\": \"0.21 g of HTS\"},\n",
        "          {\"role\": \"material\", \"text\": \"0.07 g of ATTB\"}\n",
        "        ]\n",
        "      },\n",
        "      {\n",
        "        \"event_type\": \"Stir\",\n",
        "        \"trigger_text\": \"stirring\",\n",
        "        \"arguments\": []\n",
        "      }\n",
        "    ]\n",
        "  },#60\n",
        "  {\n",
        "    \"events\": [\n",
        "      {\n",
        "        \"event_type\": \"Transfer\",\n",
        "        \"trigger_text\": \"placed\",\n",
        "        \"arguments\": [\n",
        "          {\"role\": \"container\", \"text\": \"oven\"}\n",
        "        ]\n",
        "      },\n",
        "      {\n",
        "        \"event_type\": \"Age\",\n",
        "        \"trigger_text\": \"kept\",\n",
        "        \"arguments\": [\n",
        "          {\"role\": \"duration\", \"text\": \"5 days\"},\n",
        "          {\"role\": \"temperature\", \"text\": \"177 °C\"}\n",
        "        ]\n",
        "      }\n",
        "    ]\n",
        "  },\n",
        "  {\n",
        "    \"events\": [\n",
        "      {\n",
        "        \"event_type\": \"Wash\",\n",
        "        \"trigger_text\": \"washed\",\n",
        "        \"arguments\": [\n",
        "          {\"role\": \"solvent\", \"text\": \"water\"}\n",
        "        ]\n",
        "      },\n",
        "      {\n",
        "        \"event_type\": \"Calcine\",\n",
        "        \"trigger_text\": \"calcined\",\n",
        "        \"arguments\": [\n",
        "          {\"role\": \"temperature\", \"text\": \"550 °C\"},\n",
        "          {\"role\": \"duration\", \"text\": \"20 h\"},\n",
        "          {\"role\": \"condition\", \"text\": \"air\"}\n",
        "        ]\n",
        "      },\n",
        "      {\n",
        "        \"event_type\": \"Particle Recovery\",\n",
        "        \"trigger_text\": \"filtrated\",\n",
        "        \"arguments\": []\n",
        "      },\n",
        "      {\n",
        "        \"event_type\": \"Add\",\n",
        "        \"trigger_text\": \"mixed\",\n",
        "        \"arguments\": [\n",
        "          {\"role\": \"material\", \"text\": \"3.24 g of TEOS\"},\n",
        "          {\"role\": \"material\", \"text\": \"0.07g of ATTB\"},\n",
        "          {\"role\": \"material\", \"text\": \"2.0 g of TPAOH\"},\n",
        "          {\"role\": \"material\", \"text\": \"7.7 mL of ammonium hydroxide\"},\n",
        "          {\"role\": \"material\", \"text\": \"30.0 g of DI-H2O\"}\n",
        "        ]\n",
        "      },\n",
        "      {\n",
        "        \"event_type\": \"Stir\",\n",
        "        \"trigger_text\": \"stirred\",\n",
        "        \"arguments\": [\n",
        "          {\"role\": \"duration\", \"text\": \"4 h\"}\n",
        "        ]\n",
        "      }\n",
        "    ]\n",
        "  },\n",
        "  {\n",
        "    \"events\": [\n",
        "      {\n",
        "        \"event_type\": \"Add\",\n",
        "        \"trigger_text\": \"pumped\",\n",
        "        \"arguments\": [\n",
        "          {\"role\": \"temperature\", \"text\": \"180 °C\"}\n",
        "        ]\n",
        "      },\n",
        "      {\n",
        "        \"event_type\": \"Age\",\n",
        "        \"trigger_text\": \"holding\",\n",
        "        \"arguments\": [\n",
        "          {\"role\": \"duration\", \"text\": \"10 min\"},\n",
        "          {\"role\": \"temperature\", \"text\": \"330 °C\"}\n",
        "        ]\n",
        "      }\n",
        "    ]\n",
        "  },\n",
        "  {\n",
        "    \"events\": [\n",
        "      {\n",
        "        \"event_type\": \"Add\",\n",
        "        \"trigger_text\": \"added\",\n",
        "        \"arguments\": [\n",
        "          {\"role\": \"material\", \"text\": \"3.53 g of TEOS\"}\n",
        "        ]\n",
        "      }\n",
        "    ]\n",
        "  },\n",
        "  {\n",
        "    \"events\": [\n",
        "      {\n",
        "        \"event_type\": \"Add\",\n",
        "        \"trigger_text\": \"dissolved\",\n",
        "        \"arguments\": [\n",
        "          {\"role\": \"material\", \"text\": \"MCl\"}\n",
        "        ]\n",
        "      },\n",
        "      {\n",
        "        \"event_type\": \"Age\",\n",
        "        \"trigger_text\": \"aged\",\n",
        "        \"arguments\": [\n",
        "          {\"role\": \"temperature\", \"text\": \"95 °C\"},\n",
        "          {\"role\": \"duration\", \"text\": \"1 day\"}\n",
        "        ]\n",
        "      }\n",
        "    ]\n",
        "  },\n",
        "  {\n",
        "    \"events\": [\n",
        "      {\n",
        "        \"event_type\": \"Add\",\n",
        "        \"trigger_text\": \"charged\",\n",
        "        \"arguments\": [\n",
        "          {\"role\": \"container\", \"text\": \"Teflon-lined 23-mL autoclaves\"}\n",
        "        ]\n",
        "      },\n",
        "      {\n",
        "        \"event_type\": \"Stir\",\n",
        "        \"trigger_text\": \"stirred\",\n",
        "        \"arguments\": [\n",
        "          {\"role\": \"temperature\", \"text\": \"room temperature\"},\n",
        "          {\"role\": \"duration\", \"text\": \"1 day\"}\n",
        "        ]\n",
        "      },\n",
        "      {\n",
        "        \"event_type\": \"Heat\",\n",
        "        \"trigger_text\": \"heated\",\n",
        "        \"arguments\": [\n",
        "          {\"role\": \"temperature\", \"text\": \"150 °C\"},\n",
        "          {\"role\": \"revolution\", \"text\": \"60 rpm\"},\n",
        "          {\"role\": \"duration\", \"text\": \"14-28 days\"}\n",
        "        ]\n",
        "      }\n",
        "    ]\n",
        "  },\n",
        "  {\n",
        "    \"events\": [\n",
        "      {\n",
        "        \"event_type\": \"Heat\",\n",
        "        \"trigger_text\": \"heated\",\n",
        "        \"arguments\": [\n",
        "          {\"role\": \"temperature\", \"text\": \"550 °C\"},\n",
        "          {\"role\": \"rate\", \"text\": \"10 °C min -1\"}\n",
        "        ]\n",
        "      },\n",
        "      {\n",
        "        \"event_type\": \"Age\",\n",
        "        \"trigger_text\": \"kept\",\n",
        "        \"arguments\": [\n",
        "          {\"role\": \"duration\", \"text\": \"8 h\"}\n",
        "        ]\n",
        "      }\n",
        "    ]\n",
        "  },\n",
        "  {\n",
        "    \"events\": [\n",
        "      {\n",
        "        \"event_type\": \"Stir\",\n",
        "        \"trigger_text\": \"stirred\",\n",
        "        \"arguments\": [\n",
        "          {\"role\": \"revolution\", \"text\": \"20 min\"},\n",
        "          {\"role\": \"sample\", \"text\": \"distilled water\"},\n",
        "          {\"role\": \"sample\", \"text\": \"seed suspension\"},\n",
        "          {\"role\": \"sample\", \"text\": \"sodium silicate ( VWR Prolabo , 10 % NaOH and 27 % SiO2 )\"}\n",
        "        ]\n",
        "      }\n",
        "    ]\n",
        "  },\n",
        "  {\n",
        "    \"events\": [\n",
        "      {\n",
        "        \"event_type\": \"Add\",\n",
        "        \"trigger_text\": \"added\",\n",
        "        \"arguments\": [\n",
        "          {\"role\": \"material\", \"text\": \"Al2 ( SO4 ) 3 Â· 18H2O ( Rectapur Prolabo )\"}\n",
        "        ]\n",
        "      },\n",
        "      {\n",
        "        \"event_type\": \"Stir\",\n",
        "        \"trigger_text\": \"stirring\",\n",
        "        \"arguments\": []\n",
        "      }\n",
        "    ]\n",
        "  },\n",
        "  {\n",
        "    \"events\": [\n",
        "      {\n",
        "        \"event_type\": \"Crystallize\",\n",
        "        \"trigger_text\": \"performed\",\n",
        "        \"arguments\": [\n",
        "          {\"role\": \"temperature\", \"text\": \"100 , 120 , 150,and 170 °C\"}\n",
        "        ]\n",
        "      }\n",
        "    ]\n",
        "  },#70\n",
        "  {\n",
        "    \"events\": [\n",
        "      {\n",
        "        \"event_type\": \"Cool\",\n",
        "        \"trigger_text\": \"cooled\",\n",
        "        \"arguments\": [\n",
        "          {\"role\": \"temperature\", \"text\": \"0 ºC\"}\n",
        "        ]\n",
        "      },\n",
        "      {\n",
        "        \"event_type\": \"Add\",\n",
        "        \"trigger_text\": \"added\",\n",
        "        \"arguments\": [\n",
        "          {\"role\": \"material\", \"text\": \"11.8 g ( 53.2 mmol ) of diimide\"}\n",
        "        ]\n",
        "      }\n",
        "    ]\n",
        "  },\n",
        "  {\n",
        "    \"events\": [\n",
        "      {\n",
        "        \"event_type\": \"Add\",\n",
        "        \"trigger_text\": \"dissolved\",\n",
        "        \"arguments\": [\n",
        "          {\"role\": \"material\", \"text\": \"15.0 g ( 89 mmol ) of N-cyclohexylpiperazine and 12.3 g ( 89 mmol ) of K2CO3\"},\n",
        "          {\"role\": \"material\", \"text\": \"300 ml of acetone\"}\n",
        "        ]\n",
        "      }\n",
        "    ]\n",
        "  },\n",
        "  {\n",
        "    \"events\": [\n",
        "      {\n",
        "        \"event_type\": \"Add\",\n",
        "        \"trigger_text\": \"added\",\n",
        "        \"arguments\": [\n",
        "          {\"role\": \"material\", \"text\": \"51.0 g ( 359 mmol ) of methyl iodide\"}\n",
        "        ]\n",
        "      },\n",
        "      {\n",
        "        \"event_type\": \"Stir\",\n",
        "        \"trigger_text\": \"stirred\",\n",
        "        \"arguments\": [\n",
        "          {\"role\": \"temperature\", \"text\": \"room temperature\"},\n",
        "          {\"role\": \"duration\", \"text\": \"24 hours\"}\n",
        "        ]\n",
        "      }\n",
        "    ]\n",
        "  },\n",
        "  {\n",
        "    \"events\": [\n",
        "      {\n",
        "        \"event_type\": \"Add\",\n",
        "        \"trigger_text\": \"added\",\n",
        "        \"arguments\": [\n",
        "          {\"role\": \"material\", \"text\": \"0.80 g of an aqueous solution of HF ( 50% )\"}\n",
        "        ]\n",
        "      }\n",
        "    ]\n",
        "  },\n",
        "  {\n",
        "    \"events\": [\n",
        "      {\n",
        "        \"event_type\": \"Rotate\",\n",
        "        \"trigger_text\": \"tumbling\",\n",
        "        \"arguments\": [\n",
        "          {\"role\": \"duration\", \"text\": \"2 days\"}\n",
        "        ]\n",
        "      },\n",
        "      {\n",
        "        \"event_type\": \"Add\",\n",
        "        \"trigger_text\": \"added\",\n",
        "        \"arguments\": [\n",
        "          {\"role\": \"material\", \"text\": \"0.22 g of ITQ-32 zeolite\"}\n",
        "        ]\n",
        "      },\n",
        "      {\n",
        "        \"event_type\": \"Add\",\n",
        "        \"trigger_text\": \"introduced\",\n",
        "        \"arguments\": [\n",
        "          {\"role\": \"container\", \"text\": \"Teflon-lined stainless steel autoclave\"},\n",
        "          {\"role\": \"material\", \"text\": \"mixture\"}\n",
        "        ]\n",
        "      },\n",
        "      {\n",
        "        \"event_type\": \"Heat\",\n",
        "        \"trigger_text\": \"heated\",\n",
        "        \"arguments\": [\n",
        "          {\"role\": \"temperature\", \"text\": \"175 ºC\"}\n",
        "        ]\n",
        "      }\n",
        "    ]\n",
        "  },\n",
        "  {\n",
        "    \"events\": [\n",
        "      {\n",
        "        \"event_type\": \"Wash\",\n",
        "        \"trigger_text\": \"washing\",\n",
        "        \"arguments\": [\n",
        "          {\"role\": \"solvent\", \"text\": \"deionized water\"}\n",
        "        ]\n",
        "      },\n",
        "      {\n",
        "        \"event_type\": \"Dry\",\n",
        "        \"trigger_text\": \"drying\",\n",
        "        \"arguments\": [\n",
        "          {\"role\": \"temperature\", \"text\": \"100 ºC\"},\n",
        "          {\"role\": \"duration\", \"text\": \"overnight\"}\n",
        "        ]\n",
        "      },\n",
        "      {\n",
        "        \"event_type\": \"Particle Recovery\",\n",
        "        \"trigger_text\": \"filtration\",\n",
        "        \"arguments\": [\n",
        "          {\"role\": \"material\", \"text\": \"zeolites\"}\n",
        "        ]\n",
        "      },\n",
        "      {\n",
        "        \"event_type\": \"Cool\",\n",
        "        \"trigger_text\": \"cooled\",\n",
        "        \"arguments\": []\n",
        "      }\n",
        "    ]\n",
        "  },\n",
        "  {\n",
        "    \"events\": [\n",
        "      {\n",
        "        \"event_type\": \"Calcine\",\n",
        "        \"trigger_text\": \"calcined\",\n",
        "        \"arguments\": [\n",
        "          {\"role\": \"temperature\", \"text\": \"580 ºC\"},\n",
        "          {\"role\": \"condition\", \"text\": \"static air\"},\n",
        "          {\"role\": \"duration\", \"text\": \"3 hours\"}\n",
        "        ]\n",
        "      }\n",
        "    ]\n",
        "  },\n",
        "  {\n",
        "    \"events\": [\n",
        "      {\n",
        "        \"event_type\": \"Add\",\n",
        "        \"trigger_text\": \"added\",\n",
        "        \"arguments\": [\n",
        "          {\"role\": \"material\", \"text\": \"cerium nitrate ( or lanthanum nitrate )\"},\n",
        "          {\"role\": \"material\", \"text\": \"11.310 g of TEOS\"}\n",
        "        ]\n",
        "      }\n",
        "    ]\n",
        "  },\n",
        "  {\n",
        "    \"events\": [\n",
        "      {\n",
        "        \"event_type\": \"Add\",\n",
        "        \"trigger_text\": \"added\",\n",
        "        \"arguments\": []\n",
        "      }\n",
        "    ]\n",
        "  },\n",
        "  {\n",
        "    \"events\": [\n",
        "      {\n",
        "        \"event_type\": \"Stir\",\n",
        "        \"trigger_text\": \"stirred\",\n",
        "        \"arguments\": [\n",
        "          {\"role\": \"temperature\", \"text\": \"room temperature\"},\n",
        "          {\"role\": \"duration\", \"text\": \"20 h\"}\n",
        "        ]\n",
        "      }\n",
        "    ]\n",
        "  },#80\n",
        "  {\n",
        "    \"events\": [\n",
        "      {\n",
        "        \"event_type\": \"Transfer\",\n",
        "        \"trigger_text\": \"transferred\",\n",
        "        \"arguments\": [\n",
        "          {\"role\": \"sample\", \"text\": \"slurry\"},\n",
        "          {\"role\": \"container\", \"text\": \"Teflon-lined stainless steel autoclave\"}\n",
        "        ]\n",
        "      },\n",
        "      {\n",
        "        \"event_type\": \"Crystallize\",\n",
        "        \"trigger_text\": \"crystallize\",\n",
        "        \"arguments\": [\n",
        "          {\"role\": \"temperature\", \"text\": \"158 °C\"}\n",
        "        ]\n",
        "      }\n",
        "    ]\n",
        "  },\n",
        "  {\n",
        "    \"events\": [\n",
        "      {\n",
        "        \"event_type\": \"Add\",\n",
        "        \"trigger_text\": \"adding\",\n",
        "        \"arguments\": []\n",
        "      }\n",
        "    ]\n",
        "  },\n",
        "  {\n",
        "    \"events\": [\n",
        "      {\n",
        "        \"event_type\": \"Add\",\n",
        "        \"trigger_text\": \"added\",\n",
        "        \"arguments\": [\n",
        "          {\"role\": \"material\", \"text\": \"3.0 g of the MCM-22 solid sample\"}\n",
        "        ]\n",
        "      },\n",
        "      {\n",
        "        \"event_type\": \"Stir\",\n",
        "        \"trigger_text\": \"stirred\",\n",
        "        \"arguments\": [\n",
        "          {\"role\": \"temperature\", \"text\": \"90 °C\"},\n",
        "          {\"role\": \"duration\", \"text\": \"2 h\"},\n",
        "          {\"role\": \"sample\", \"text\": \"mixture\"}\n",
        "        ]\n",
        "      }\n",
        "    ]\n",
        "  },\n",
        "  {\n",
        "    \"events\": [\n",
        "      {\n",
        "        \"event_type\": \"Calcine\",\n",
        "        \"trigger_text\": \"calcined\",\n",
        "        \"arguments\": [\n",
        "          {\"role\": \"temperature\", \"text\": \"550 °C\"},\n",
        "          {\"role\": \"duration\", \"text\": \"5 h\"}\n",
        "        ]\n",
        "      }\n",
        "    ]\n",
        "  },\n",
        "  {\n",
        "    \"events\": [\n",
        "      {\n",
        "        \"event_type\": \"Dry\",\n",
        "        \"trigger_text\": \"drying\",\n",
        "        \"arguments\": [\n",
        "          {\"role\": \"temperature\", \"text\": \"100 °C\"},\n",
        "          {\"role\": \"duration\", \"text\": \"12 h\"}\n",
        "        ]\n",
        "      },\n",
        "      {\n",
        "        \"event_type\": \"Calcine\",\n",
        "        \"trigger_text\": \"calcining\",\n",
        "        \"arguments\": [\n",
        "          {\"role\": \"temperature\", \"text\": \"400 °C\"},\n",
        "          {\"role\": \"duration\", \"text\": \"3 h\"}\n",
        "        ]\n",
        "      }\n",
        "    ]\n",
        "  },\n",
        "  {\n",
        "    \"events\": [\n",
        "      {\n",
        "        \"event_type\": \"React\",\n",
        "        \"trigger_text\": \"reaction\",\n",
        "        \"arguments\": [\n",
        "          {\"role\": \"temperature\", \"text\": \"180-250 °C\"}\n",
        "        ]\n",
        "      }\n",
        "    ]\n",
        "  },\n",
        "  {\n",
        "    \"events\": [\n",
        "      {\n",
        "        \"event_type\": \"Add\",\n",
        "        \"trigger_text\": \"dissolved\",\n",
        "        \"arguments\": [\n",
        "          {\"role\": \"material\", \"text\": \"boric acid\"}\n",
        "        ]\n",
        "      }\n",
        "    ]\n",
        "  },\n",
        "  {\n",
        "    \"events\": [\n",
        "      {\n",
        "        \"event_type\": \"Add\",\n",
        "        \"trigger_text\": \"added\",\n",
        "        \"arguments\": [\n",
        "          {\"role\": \"material\", \"text\": \"Crystalline germanium oxide\"}\n",
        "        ]\n",
        "      },\n",
        "      {\n",
        "        \"event_type\": \"Stir\",\n",
        "        \"trigger_text\": \"stirred\",\n",
        "        \"arguments\": [\n",
        "          {\"role\": \"sample\", \"text\": \"mixture\"},\n",
        "          {\"role\": \"temperature\", \"text\": \"room temperature\"}\n",
        "        ]\n",
        "      }\n",
        "    ]\n",
        "  },\n",
        "  {\n",
        "    \"events\": [\n",
        "      {\n",
        "        \"event_type\": \"Add\",\n",
        "        \"trigger_text\": \"added\",\n",
        "        \"arguments\": [\n",
        "          {\"role\": \"material\", \"text\": \"silica ( Aerosil 300 )\"}\n",
        "        ]\n",
        "      },\n",
        "      {\n",
        "        \"event_type\": \"Stir\",\n",
        "        \"trigger_text\": \"stirred\",\n",
        "        \"arguments\": [\n",
        "          {\"role\": \"sample\", \"text\": \"mixture\"},\n",
        "          {\"role\": \"temperature\", \"text\": \"room temperature\"},\n",
        "          {\"role\": \"duration\", \"text\": \"30 min\"}\n",
        "        ]\n",
        "      }\n",
        "    ]\n",
        "  },\n",
        "  {\n",
        "    \"events\": [\n",
        "      {\n",
        "        \"event_type\": \"Add\",\n",
        "        \"trigger_text\": \"charged\",\n",
        "        \"arguments\": [\n",
        "          {\"role\": \"material\", \"text\": \"fluid gel\"},\n",
        "          {\"role\": \"container\", \"text\": \"Teflon-lined autoclaves\"}\n",
        "        ]\n",
        "      },\n",
        "      {\n",
        "        \"event_type\": \"Heat\",\n",
        "        \"trigger_text\": \"heated\",\n",
        "        \"arguments\": [\n",
        "          {\"role\": \"temperature\", \"text\": \"175 °C\"},\n",
        "          {\"role\": \"duration\", \"text\": \"9 - 15 days\"}\n",
        "        ]\n",
        "      },\n",
        "      {\n",
        "        \"event_type\": \"Stir\",\n",
        "        \"trigger_text\": \"agitation\",\n",
        "        \"arguments\": [\n",
        "          {\"role\": \"revolution\", \"text\": \"~ 25 rpm\"}\n",
        "        ]\n",
        "      }\n",
        "    ]\n",
        "  },#90\n",
        "  {\n",
        "    \"events\": [\n",
        "      {\n",
        "        \"event_type\": \"Transfer\",\n",
        "        \"trigger_text\": \"placed\",\n",
        "        \"arguments\": [\n",
        "          {\"role\": \"container\", \"text\": \"autoclave\"}\n",
        "        ]\n",
        "      },\n",
        "      {\n",
        "        \"event_type\": \"Add\",\n",
        "        \"trigger_text\": \"mixing\",\n",
        "        \"arguments\": []\n",
        "      }\n",
        "    ]\n",
        "  },\n",
        "  {\n",
        "    \"events\": [\n",
        "      {\n",
        "        \"event_type\": \"Wash\",\n",
        "        \"trigger_text\": \"washed\",\n",
        "        \"arguments\": [\n",
        "          {\"role\": \"solvent\", \"text\": \"distilled water\"}\n",
        "        ]\n",
        "      },\n",
        "      {\n",
        "        \"event_type\": \"Dry\",\n",
        "        \"trigger_text\": \"dried\",\n",
        "        \"arguments\": [\n",
        "          {\"role\": \"duration\", \"text\": \"overnight\"},\n",
        "          {\"role\": \"temperature\", \"text\": \"95 °C\"}\n",
        "        ]\n",
        "      },\n",
        "      {\n",
        "        \"event_type\": \"Particle Recovery\",\n",
        "        \"trigger_text\": \"filtration\",\n",
        "        \"arguments\": []\n",
        "      }\n",
        "    ]\n",
        "  },\n",
        "  {\n",
        "    \"events\": [\n",
        "      {\n",
        "        \"event_type\": \"React\",\n",
        "        \"trigger_text\": \"reacting\",\n",
        "        \"arguments\": [\n",
        "          {\"role\": \"temperature\", \"text\": \"170 ºC\"},\n",
        "          {\"role\": \"duration\", \"text\": \"16 h\"}\n",
        "        ]\n",
        "      }\n",
        "    ]\n",
        "  },\n",
        "  {\n",
        "    \"events\": [\n",
        "      {\n",
        "        \"event_type\": \"Wash\",\n",
        "        \"trigger_text\": \"washed\",\n",
        "        \"arguments\": []\n",
        "      },\n",
        "      {\n",
        "        \"event_type\": \"Calcine\",\n",
        "        \"trigger_text\": \"calcined\",\n",
        "        \"arguments\": []\n",
        "      },\n",
        "      {\n",
        "        \"event_type\": \"Particle Recovery\",\n",
        "        \"trigger_text\": \"centrifugation\",\n",
        "        \"arguments\": []\n",
        "      }\n",
        "    ]\n",
        "  },\n",
        "  {\n",
        "    \"events\": [\n",
        "      {\n",
        "        \"event_type\": \"Wash\",\n",
        "        \"trigger_text\": \"washed\",\n",
        "        \"arguments\": [\n",
        "          {\"role\": \"solvent\", \"text\": \"small amount of water\"}\n",
        "        ]\n",
        "      },\n",
        "      {\n",
        "        \"event_type\": \"Dry\",\n",
        "        \"trigger_text\": \"dried\",\n",
        "        \"arguments\": [\n",
        "          {\"role\": \"temperature\", \"text\": \"50 ºC\"}\n",
        "        ]\n",
        "      },\n",
        "      {\n",
        "        \"event_type\": \"Particle Recovery\",\n",
        "        \"trigger_text\": \"centrifugation\",\n",
        "        \"arguments\": []\n",
        "      }\n",
        "    ]\n",
        "  },\n",
        "  {\n",
        "    \"events\": [\n",
        "      {\n",
        "        \"event_type\": \"Add\",\n",
        "        \"trigger_text\": \"dissolved\",\n",
        "        \"arguments\": [\n",
        "          {\"role\": \"material\", \"text\": \"10 g of pyrrolidine ( Sigma-Aldrich , 99% )\"},\n",
        "          {\"role\": \"material\", \"text\": \"100 mL of ethanol ( Sigma-Aldrich , >99% )\"}\n",
        "        ]\n",
        "      }\n",
        "    ]\n",
        "  },\n",
        "  {\n",
        "    \"events\": [\n",
        "      {\n",
        "        \"event_type\": \"Add\",\n",
        "        \"trigger_text\": \"added\",\n",
        "        \"arguments\": [\n",
        "          {\"role\": \"material\", \"text\": \"10 g of 1-methyl-4-piperidone (Sigma-Aldrich, 99%)\"},\n",
        "          {\"role\": \"material\", \"text\": \"3.5g of sodium cyanoborohydride (NaBH3CN, Fluka, >95%)\"}\n",
        "        ]\n",
        "     }\n",
        "   ]\n",
        " },\n",
        " {\n",
        "    \"events\": [\n",
        "      {\n",
        "        \"event_type\": \"Set PH\",\n",
        "        \"trigger_text\": \"pH was close to 2\",\n",
        "        \"arguments\": [\n",
        "          {\"role\": \"PH\", \"text\": \"2\"}\n",
        "        ]\n",
        "      },\n",
        "      {\n",
        "        \"event_type\": \"Add\",\n",
        "        \"trigger_text\": \"added\",\n",
        "        \"arguments\": [\n",
        "          {\"role\": \"material\", \"text\": \"HCl\"}\n",
        "        ]\n",
        "      }\n",
        "    ]\n",
        " },\n",
        " {\n",
        "    \"events\": [\n",
        "      {\n",
        "        \"event_type\": \"Wash\",\n",
        "        \"trigger_text\": \"washed\",\n",
        "        \"arguments\": [\n",
        "          {\"role\": \"solvent\", \"text\": \"methanol\"},\n",
        "          {\"role\": \"solvent\", \"text\": \"diethyl ether\"}\n",
        "        ]\n",
        "      },\n",
        "      {\n",
        "        \"event_type\": \"Particle Recovery\",\n",
        "        \"trigger_text\": \"filtered\",\n",
        "        \"arguments\": []\n",
        "      },\n",
        "      {\n",
        "        \"event_type\": \"Stir\",\n",
        "        \"trigger_text\": \"stirring\",\n",
        "        \"arguments\": [\n",
        "          {\"role\": \"duration\", \"text\": \"7 days\"},\n",
        "          {\"role\": \"temperature\", \"text\": \"room temperature\"}\n",
        "        ]\n",
        "      }\n",
        "    ]\n",
        " },\n",
        " {\n",
        "    \"events\": [\n",
        "      {\n",
        "        \"event_type\": \"Add\",\n",
        "        \"trigger_text\": \"dissolved\",\n",
        "        \"arguments\": [\n",
        "          {\"role\": \"material\", \"text\": \"boric acid (99.5%, Aldrich)\"},\n",
        "          {\"role\": \"material\", \"text\": \"alumina (74.6%, Condea)\"},\n",
        "          {\"role\": \"material\", \"text\": \"germanium oxide (99%, Aldrich)\"}\n",
        "        ]\n",
        "      }\n",
        "    ]\n",
        " }#100\n",
        "]\n",
        "\n",
        "print(len(expected_outputs))"
      ]
    },
    {
      "cell_type": "markdown",
      "metadata": {
        "id": "KnnjKCIvUQuI"
      },
      "source": [
        "## Script for Zero Shot"
      ]
    },
    {
      "cell_type": "code",
      "execution_count": null,
      "metadata": {
        "id": "8xWzZTISUQb5"
      },
      "outputs": [],
      "source": [
        "import google.generativeai as genai\n",
        "import pandas as pd\n",
        "import json\n",
        "import re\n",
        "import time\n",
        "import random\n",
        "from tqdm import tqdm\n",
        "from google.colab import files\n",
        "import os\n",
        "\n",
        "# Configure your API key\n",
        "genai.configure(api_key=\"enter-your-api-key-here\")\n",
        "\n",
        "# Choose the model\n",
        "model = genai.GenerativeModel(\"gemma-3-12b-it\") # replace by gemini-2.5-flash-lite and gemini-2.5-flash\n",
        "\n",
        "def clean_and_parse_json(model_output):\n",
        "    \"\"\"Clean markdown formatting and parse JSON\"\"\"\n",
        "    try:\n",
        "        # Remove markdown formatting\n",
        "        cleaned_output = re.sub(r'^```json\\s*', '', model_output.strip())\n",
        "        cleaned_output = re.sub(r'\\s*```$', '', cleaned_output)\n",
        "\n",
        "        # Parse JSON\n",
        "        parsed_output = json.loads(cleaned_output)\n",
        "        return parsed_output, True\n",
        "    except json.JSONDecodeError as e:\n",
        "        print(f\"Error parsing JSON: {e}\")\n",
        "        return None, False\n",
        "\n",
        "def extract_statistics(events):"
      ]
    },
    {
      "cell_type": "markdown",
      "metadata": {
        "id": "_hvlfiei9lqh"
      },
      "source": [
        "##Script for Few Shot"
      ]
    },
    {
      "cell_type": "code",
      "execution_count": null,
      "metadata": {
        "colab": {
          "base_uri": "https://localhost:8080/",
          "height": 1000
        },
        "id": "dJUXKJkA8rhP",
        "outputId": "09ecd270-d866-4bc8-fad0-eb3238527a9c"
      },
      "outputs": [
        {
          "name": "stdout",
          "output_type": "stream",
          "text": [
            "Starting automated extraction process...\n",
            "This will process 100 sentences with 10-15 second delays between API calls.\n",
            "Estimated total time: 17-25 minutes\n"
          ]
        },
        {
          "name": "stderr",
          "output_type": "stream",
          "text": [
            "\rProcessing sentences:   0%|          | 0/100 [00:00<?, ?it/s]"
          ]
        },
        {
          "name": "stdout",
          "output_type": "stream",
          "text": [
            "\n",
            "Processing sentence 1/100...\n",
            "✓ Success - Expected events: 2, Model events: 2\n",
            "Sleeping for 13.7 seconds...\n"
          ]
        },
        {
          "name": "stderr",
          "output_type": "stream",
          "text": [
            "\rProcessing sentences:   1%|          | 1/100 [00:28<47:36, 28.85s/it]"
          ]
        },
        {
          "name": "stdout",
          "output_type": "stream",
          "text": [
            "\n",
            "Processing sentence 2/100...\n",
            "✓ Success - Expected events: 3, Model events: 4\n",
            "Sleeping for 13.9 seconds...\n"
          ]
        },
        {
          "name": "stderr",
          "output_type": "stream",
          "text": [
            "\rProcessing sentences:   2%|▏         | 2/100 [01:00<49:22, 30.23s/it]"
          ]
        },
        {
          "name": "stdout",
          "output_type": "stream",
          "text": [
            "\n",
            "Processing sentence 3/100...\n",
            "✓ Success - Expected events: 1, Model events: 1\n",
            "Sleeping for 12.4 seconds...\n"
          ]
        },
        {
          "name": "stderr",
          "output_type": "stream",
          "text": [
            "\rProcessing sentences:   3%|▎         | 3/100 [01:15<38:07, 23.58s/it]"
          ]
        },
        {
          "name": "stdout",
          "output_type": "stream",
          "text": [
            "\n",
            "Processing sentence 4/100...\n",
            "✓ Success - Expected events: 2, Model events: 2\n",
            "Sleeping for 13.8 seconds...\n"
          ]
        },
        {
          "name": "stderr",
          "output_type": "stream",
          "text": [
            "\rProcessing sentences:   4%|▍         | 4/100 [01:42<39:39, 24.79s/it]"
          ]
        },
        {
          "name": "stdout",
          "output_type": "stream",
          "text": [
            "\n",
            "Processing sentence 5/100...\n",
            "✓ Success - Expected events: 2, Model events: 2\n",
            "Sleeping for 12.2 seconds...\n"
          ]
        },
        {
          "name": "stderr",
          "output_type": "stream",
          "text": [
            "\rProcessing sentences:   5%|▌         | 5/100 [02:07<39:37, 25.03s/it]"
          ]
        },
        {
          "name": "stdout",
          "output_type": "stream",
          "text": [
            "\n",
            "Processing sentence 6/100...\n",
            "✓ Success - Expected events: 2, Model events: 2\n",
            "Sleeping for 13.7 seconds...\n"
          ]
        },
        {
          "name": "stderr",
          "output_type": "stream",
          "text": [
            "\rProcessing sentences:   6%|▌         | 6/100 [02:26<36:02, 23.01s/it]"
          ]
        },
        {
          "name": "stdout",
          "output_type": "stream",
          "text": [
            "\n",
            "Processing sentence 7/100...\n",
            "✓ Success - Expected events: 1, Model events: 3\n",
            "Sleeping for 12.1 seconds...\n"
          ]
        },
        {
          "name": "stderr",
          "output_type": "stream",
          "text": [
            "\rProcessing sentences:   7%|▋         | 7/100 [03:00<41:05, 26.51s/it]"
          ]
        },
        {
          "name": "stdout",
          "output_type": "stream",
          "text": [
            "\n",
            "Processing sentence 8/100...\n",
            "✓ Success - Expected events: 1, Model events: 1\n",
            "Sleeping for 13.9 seconds...\n"
          ]
        },
        {
          "name": "stderr",
          "output_type": "stream",
          "text": [
            "\rProcessing sentences:   8%|▊         | 8/100 [03:16<35:37, 23.23s/it]"
          ]
        },
        {
          "name": "stdout",
          "output_type": "stream",
          "text": [
            "\n",
            "Processing sentence 9/100...\n",
            "✓ Success - Expected events: 2, Model events: 2\n",
            "Sleeping for 12.7 seconds...\n"
          ]
        },
        {
          "name": "stderr",
          "output_type": "stream",
          "text": [
            "\rProcessing sentences:   9%|▉         | 9/100 [03:48<39:17, 25.91s/it]"
          ]
        },
        {
          "name": "stdout",
          "output_type": "stream",
          "text": [
            "\n",
            "Processing sentence 10/100...\n",
            "✓ Success - Expected events: 1, Model events: 3\n",
            "Sleeping for 14.0 seconds...\n"
          ]
        },
        {
          "name": "stderr",
          "output_type": "stream",
          "text": [
            "\rProcessing sentences:  10%|█         | 10/100 [04:15<39:24, 26.28s/it]"
          ]
        },
        {
          "name": "stdout",
          "output_type": "stream",
          "text": [
            "\n",
            "Processing sentence 11/100...\n",
            "✓ Success - Expected events: 4, Model events: 4\n",
            "Sleeping for 12.5 seconds...\n"
          ]
        },
        {
          "name": "stderr",
          "output_type": "stream",
          "text": [
            "\rProcessing sentences:  11%|█         | 11/100 [04:42<39:15, 26.46s/it]"
          ]
        },
        {
          "name": "stdout",
          "output_type": "stream",
          "text": [
            "\n",
            "Processing sentence 12/100...\n",
            "✓ Success - Expected events: 3, Model events: 3\n",
            "Sleeping for 12.3 seconds...\n"
          ]
        },
        {
          "name": "stderr",
          "output_type": "stream",
          "text": [
            "\rProcessing sentences:  12%|█▏        | 12/100 [05:15<41:29, 28.29s/it]"
          ]
        },
        {
          "name": "stdout",
          "output_type": "stream",
          "text": [
            "\n",
            "Processing sentence 13/100...\n",
            "✓ Success - Expected events: 1, Model events: 1\n",
            "Sleeping for 13.4 seconds...\n"
          ]
        },
        {
          "name": "stderr",
          "output_type": "stream",
          "text": [
            "\rProcessing sentences:  13%|█▎        | 13/100 [05:40<39:58, 27.57s/it]"
          ]
        },
        {
          "name": "stdout",
          "output_type": "stream",
          "text": [
            "\n",
            "Processing sentence 14/100...\n",
            "✓ Success - Expected events: 1, Model events: 1\n",
            "Sleeping for 12.6 seconds...\n"
          ]
        },
        {
          "name": "stderr",
          "output_type": "stream",
          "text": [
            "\rProcessing sentences:  14%|█▍        | 14/100 [06:15<42:26, 29.61s/it]"
          ]
        },
        {
          "name": "stdout",
          "output_type": "stream",
          "text": [
            "\n",
            "Processing sentence 15/100...\n",
            "✓ Success - Expected events: 2, Model events: 2\n",
            "Sleeping for 13.9 seconds...\n"
          ]
        },
        {
          "name": "stderr",
          "output_type": "stream",
          "text": [
            "\rProcessing sentences:  15%|█▌        | 15/100 [06:35<37:56, 26.79s/it]"
          ]
        },
        {
          "name": "stdout",
          "output_type": "stream",
          "text": [
            "\n",
            "Processing sentence 16/100...\n",
            "✓ Success - Expected events: 1, Model events: 2\n",
            "Sleeping for 13.5 seconds...\n"
          ]
        },
        {
          "name": "stderr",
          "output_type": "stream",
          "text": [
            "\rProcessing sentences:  16%|█▌        | 16/100 [06:55<34:39, 24.75s/it]"
          ]
        },
        {
          "name": "stdout",
          "output_type": "stream",
          "text": [
            "\n",
            "Processing sentence 17/100...\n",
            "✓ Success - Expected events: 4, Model events: 3\n",
            "Sleeping for 13.3 seconds...\n"
          ]
        },
        {
          "name": "stderr",
          "output_type": "stream",
          "text": [
            "\rProcessing sentences:  17%|█▋        | 17/100 [07:13<31:29, 22.76s/it]"
          ]
        },
        {
          "name": "stdout",
          "output_type": "stream",
          "text": [
            "\n",
            "Processing sentence 18/100...\n",
            "✓ Success - Expected events: 4, Model events: 3\n",
            "Sleeping for 12.2 seconds...\n"
          ]
        },
        {
          "name": "stderr",
          "output_type": "stream",
          "text": [
            "\rProcessing sentences:  18%|█▊        | 18/100 [07:38<32:01, 23.43s/it]"
          ]
        },
        {
          "name": "stdout",
          "output_type": "stream",
          "text": [
            "\n",
            "Processing sentence 19/100...\n",
            "✓ Success - Expected events: 2, Model events: 2\n",
            "Sleeping for 13.5 seconds...\n"
          ]
        },
        {
          "name": "stderr",
          "output_type": "stream",
          "text": [
            "\rProcessing sentences:  19%|█▉        | 19/100 [08:00<31:06, 23.04s/it]"
          ]
        },
        {
          "name": "stdout",
          "output_type": "stream",
          "text": [
            "\n",
            "Processing sentence 20/100...\n",
            "✓ Success - Expected events: 1, Model events: 1\n",
            "Sleeping for 13.4 seconds...\n"
          ]
        },
        {
          "name": "stderr",
          "output_type": "stream",
          "text": [
            "\rProcessing sentences:  20%|██        | 20/100 [08:16<27:57, 20.97s/it]"
          ]
        },
        {
          "name": "stdout",
          "output_type": "stream",
          "text": [
            "\n",
            "Processing sentence 21/100...\n",
            "✓ Success - Expected events: 3, Model events: 4\n",
            "Sleeping for 13.2 seconds...\n"
          ]
        },
        {
          "name": "stderr",
          "output_type": "stream",
          "text": [
            "\rProcessing sentences:  21%|██        | 21/100 [08:53<33:47, 25.66s/it]"
          ]
        },
        {
          "name": "stdout",
          "output_type": "stream",
          "text": [
            "\n",
            "Processing sentence 22/100...\n",
            "✓ Success - Expected events: 3, Model events: 3\n",
            "Sleeping for 12.8 seconds...\n"
          ]
        },
        {
          "name": "stderr",
          "output_type": "stream",
          "text": [
            "\rProcessing sentences:  22%|██▏       | 22/100 [09:18<33:05, 25.45s/it]"
          ]
        },
        {
          "name": "stdout",
          "output_type": "stream",
          "text": [
            "\n",
            "Processing sentence 23/100...\n",
            "✓ Success - Expected events: 3, Model events: 3\n",
            "Sleeping for 13.3 seconds...\n"
          ]
        },
        {
          "name": "stderr",
          "output_type": "stream",
          "text": [
            "\rProcessing sentences:  23%|██▎       | 23/100 [09:44<32:41, 25.48s/it]"
          ]
        },
        {
          "name": "stdout",
          "output_type": "stream",
          "text": [
            "\n",
            "Processing sentence 24/100...\n",
            "✓ Success - Expected events: 2, Model events: 2\n",
            "Sleeping for 13.7 seconds...\n"
          ]
        },
        {
          "name": "stderr",
          "output_type": "stream",
          "text": [
            "\rProcessing sentences:  24%|██▍       | 24/100 [10:02<29:46, 23.51s/it]"
          ]
        },
        {
          "name": "stdout",
          "output_type": "stream",
          "text": [
            "\n",
            "Processing sentence 25/100...\n",
            "✓ Success - Expected events: 1, Model events: 1\n",
            "Sleeping for 13.0 seconds...\n"
          ]
        },
        {
          "name": "stderr",
          "output_type": "stream",
          "text": [
            "\rProcessing sentences:  25%|██▌       | 25/100 [10:24<28:48, 23.05s/it]"
          ]
        },
        {
          "name": "stdout",
          "output_type": "stream",
          "text": [
            "\n",
            "Processing sentence 26/100...\n",
            "✓ Success - Expected events: 1, Model events: 2\n",
            "Sleeping for 13.8 seconds...\n"
          ]
        },
        {
          "name": "stderr",
          "output_type": "stream",
          "text": [
            "\rProcessing sentences:  26%|██▌       | 26/100 [10:49<28:48, 23.36s/it]"
          ]
        },
        {
          "name": "stdout",
          "output_type": "stream",
          "text": [
            "\n",
            "Processing sentence 27/100...\n",
            "✓ Success - Expected events: 1, Model events: 1\n",
            "Sleeping for 12.1 seconds...\n"
          ]
        },
        {
          "name": "stderr",
          "output_type": "stream",
          "text": [
            "\rProcessing sentences:  27%|██▋       | 27/100 [11:09<27:29, 22.60s/it]"
          ]
        },
        {
          "name": "stdout",
          "output_type": "stream",
          "text": [
            "\n",
            "Processing sentence 28/100...\n",
            "✓ Success - Expected events: 1, Model events: 1\n",
            "Sleeping for 12.7 seconds...\n"
          ]
        },
        {
          "name": "stderr",
          "output_type": "stream",
          "text": [
            "\rProcessing sentences:  28%|██▊       | 28/100 [11:25<24:43, 20.60s/it]"
          ]
        },
        {
          "name": "stdout",
          "output_type": "stream",
          "text": [
            "\n",
            "Processing sentence 29/100...\n",
            "✓ Success - Expected events: 2, Model events: 2\n",
            "Sleeping for 13.3 seconds...\n"
          ]
        },
        {
          "name": "stderr",
          "output_type": "stream",
          "text": [
            "\rProcessing sentences:  29%|██▉       | 29/100 [11:49<25:32, 21.59s/it]"
          ]
        },
        {
          "name": "stdout",
          "output_type": "stream",
          "text": [
            "\n",
            "Processing sentence 30/100...\n",
            "✓ Success - Expected events: 2, Model events: 2\n",
            "Sleeping for 12.2 seconds...\n"
          ]
        },
        {
          "name": "stderr",
          "output_type": "stream",
          "text": [
            "\rProcessing sentences:  30%|███       | 30/100 [12:29<31:24, 26.93s/it]"
          ]
        },
        {
          "name": "stdout",
          "output_type": "stream",
          "text": [
            "\n",
            "Processing sentence 31/100...\n"
          ]
        },
        {
          "name": "stderr",
          "output_type": "stream",
          "text": [
            "ERROR:tornado.access:503 POST /v1beta/models/gemini-2.5-flash:generateContent?%24alt=json%3Benum-encoding%3Dint (127.0.0.1) 1543.06ms\n"
          ]
        },
        {
          "name": "stdout",
          "output_type": "stream",
          "text": [
            "✓ Success - Expected events: 3, Model events: 2\n",
            "Sleeping for 12.2 seconds...\n"
          ]
        },
        {
          "name": "stderr",
          "output_type": "stream",
          "text": [
            "\rProcessing sentences:  31%|███       | 31/100 [12:48<28:23, 24.69s/it]"
          ]
        },
        {
          "name": "stdout",
          "output_type": "stream",
          "text": [
            "\n",
            "Processing sentence 32/100...\n",
            "✓ Success - Expected events: 3, Model events: 3\n",
            "Sleeping for 13.1 seconds...\n"
          ]
        },
        {
          "name": "stderr",
          "output_type": "stream",
          "text": [
            "\rProcessing sentences:  32%|███▏      | 32/100 [13:15<28:45, 25.37s/it]"
          ]
        },
        {
          "name": "stdout",
          "output_type": "stream",
          "text": [
            "\n",
            "Processing sentence 33/100...\n",
            "✓ Success - Expected events: 1, Model events: 1\n",
            "Sleeping for 13.3 seconds...\n"
          ]
        },
        {
          "name": "stderr",
          "output_type": "stream",
          "text": [
            "\rProcessing sentences:  33%|███▎      | 33/100 [13:49<31:05, 27.84s/it]"
          ]
        },
        {
          "name": "stdout",
          "output_type": "stream",
          "text": [
            "\n",
            "Processing sentence 34/100...\n",
            "✓ Success - Expected events: 3, Model events: 3\n",
            "Sleeping for 13.7 seconds...\n"
          ]
        },
        {
          "name": "stderr",
          "output_type": "stream",
          "text": [
            "\rProcessing sentences:  34%|███▍      | 34/100 [14:15<30:09, 27.42s/it]"
          ]
        },
        {
          "name": "stdout",
          "output_type": "stream",
          "text": [
            "\n",
            "Processing sentence 35/100...\n",
            "✓ Success - Expected events: 3, Model events: 3\n",
            "Sleeping for 13.7 seconds...\n"
          ]
        },
        {
          "name": "stderr",
          "output_type": "stream",
          "text": [
            "\rProcessing sentences:  35%|███▌      | 35/100 [14:34<26:51, 24.79s/it]"
          ]
        },
        {
          "name": "stdout",
          "output_type": "stream",
          "text": [
            "\n",
            "Processing sentence 36/100...\n",
            "✓ Success - Expected events: 4, Model events: 4\n",
            "Sleeping for 13.4 seconds...\n"
          ]
        },
        {
          "name": "stderr",
          "output_type": "stream",
          "text": [
            "\rProcessing sentences:  36%|███▌      | 36/100 [15:07<29:14, 27.41s/it]"
          ]
        },
        {
          "name": "stdout",
          "output_type": "stream",
          "text": [
            "\n",
            "Processing sentence 37/100...\n",
            "✓ Success - Expected events: 1, Model events: 1\n",
            "Sleeping for 12.2 seconds...\n"
          ]
        },
        {
          "name": "stderr",
          "output_type": "stream",
          "text": [
            "\rProcessing sentences:  37%|███▋      | 37/100 [15:26<25:59, 24.75s/it]"
          ]
        },
        {
          "name": "stdout",
          "output_type": "stream",
          "text": [
            "\n",
            "Processing sentence 38/100...\n",
            "✓ Success - Expected events: 2, Model events: 2\n",
            "Sleeping for 12.7 seconds...\n"
          ]
        },
        {
          "name": "stderr",
          "output_type": "stream",
          "text": [
            "\rProcessing sentences:  38%|███▊      | 38/100 [15:43<23:18, 22.56s/it]"
          ]
        },
        {
          "name": "stdout",
          "output_type": "stream",
          "text": [
            "\n",
            "Processing sentence 39/100...\n",
            "✓ Success - Expected events: 1, Model events: 1\n",
            "Sleeping for 12.6 seconds...\n"
          ]
        },
        {
          "name": "stderr",
          "output_type": "stream",
          "text": [
            "\rProcessing sentences:  39%|███▉      | 39/100 [16:03<22:08, 21.78s/it]"
          ]
        },
        {
          "name": "stdout",
          "output_type": "stream",
          "text": [
            "\n",
            "Processing sentence 40/100...\n",
            "✓ Success - Expected events: 1, Model events: 1\n",
            "Sleeping for 12.4 seconds...\n"
          ]
        },
        {
          "name": "stderr",
          "output_type": "stream",
          "text": [
            "\rProcessing sentences:  40%|████      | 40/100 [16:19<20:05, 20.10s/it]"
          ]
        },
        {
          "name": "stdout",
          "output_type": "stream",
          "text": [
            "\n",
            "Processing sentence 41/100...\n",
            "✓ Success - Expected events: 2, Model events: 2\n",
            "Sleeping for 12.3 seconds...\n"
          ]
        },
        {
          "name": "stderr",
          "output_type": "stream",
          "text": [
            "\rProcessing sentences:  41%|████      | 41/100 [16:42<20:27, 20.80s/it]"
          ]
        },
        {
          "name": "stdout",
          "output_type": "stream",
          "text": [
            "\n",
            "Processing sentence 42/100...\n",
            "✓ Success - Expected events: 1, Model events: 1\n",
            "Sleeping for 12.4 seconds...\n"
          ]
        },
        {
          "name": "stderr",
          "output_type": "stream",
          "text": [
            "\rProcessing sentences:  42%|████▏     | 42/100 [16:58<18:44, 19.38s/it]"
          ]
        },
        {
          "name": "stdout",
          "output_type": "stream",
          "text": [
            "\n",
            "Processing sentence 43/100...\n",
            "✓ Success - Expected events: 3, Model events: 3\n",
            "Sleeping for 12.9 seconds...\n"
          ]
        },
        {
          "name": "stderr",
          "output_type": "stream",
          "text": [
            "\rProcessing sentences:  43%|████▎     | 43/100 [17:21<19:21, 20.37s/it]"
          ]
        },
        {
          "name": "stdout",
          "output_type": "stream",
          "text": [
            "\n",
            "Processing sentence 44/100...\n",
            "✓ Success - Expected events: 4, Model events: 4\n",
            "Sleeping for 12.3 seconds...\n"
          ]
        },
        {
          "name": "stderr",
          "output_type": "stream",
          "text": [
            "\rProcessing sentences:  44%|████▍     | 44/100 [17:52<22:10, 23.76s/it]"
          ]
        },
        {
          "name": "stdout",
          "output_type": "stream",
          "text": [
            "\n",
            "Processing sentence 45/100...\n",
            "✓ Success - Expected events: 2, Model events: 3\n",
            "Sleeping for 12.9 seconds...\n"
          ]
        },
        {
          "name": "stderr",
          "output_type": "stream",
          "text": [
            "\rProcessing sentences:  45%|████▌     | 45/100 [18:25<24:22, 26.60s/it]"
          ]
        },
        {
          "name": "stdout",
          "output_type": "stream",
          "text": [
            "\n",
            "Processing sentence 46/100...\n",
            "✓ Success - Expected events: 3, Model events: 3\n",
            "Sleeping for 13.1 seconds...\n"
          ]
        },
        {
          "name": "stderr",
          "output_type": "stream",
          "text": [
            "\rProcessing sentences:  46%|████▌     | 46/100 [18:56<24:57, 27.73s/it]"
          ]
        },
        {
          "name": "stdout",
          "output_type": "stream",
          "text": [
            "\n",
            "Processing sentence 47/100...\n",
            "✓ Success - Expected events: 3, Model events: 2\n",
            "Sleeping for 12.3 seconds...\n"
          ]
        },
        {
          "name": "stderr",
          "output_type": "stream",
          "text": [
            "\rProcessing sentences:  47%|████▋     | 47/100 [19:14<21:52, 24.77s/it]"
          ]
        },
        {
          "name": "stdout",
          "output_type": "stream",
          "text": [
            "\n",
            "Processing sentence 48/100...\n",
            "✓ Success - Expected events: 1, Model events: 1\n",
            "Sleeping for 12.9 seconds...\n"
          ]
        },
        {
          "name": "stderr",
          "output_type": "stream",
          "text": [
            "\rProcessing sentences:  48%|████▊     | 48/100 [19:30<19:16, 22.24s/it]"
          ]
        },
        {
          "name": "stdout",
          "output_type": "stream",
          "text": [
            "\n",
            "Processing sentence 49/100...\n",
            "✓ Success - Expected events: 1, Model events: 1\n",
            "Sleeping for 13.8 seconds...\n"
          ]
        },
        {
          "name": "stderr",
          "output_type": "stream",
          "text": [
            "\rProcessing sentences:  49%|████▉     | 49/100 [19:53<19:13, 22.61s/it]"
          ]
        },
        {
          "name": "stdout",
          "output_type": "stream",
          "text": [
            "\n",
            "Processing sentence 50/100...\n",
            "✓ Success - Expected events: 2, Model events: 2\n",
            "Sleeping for 13.5 seconds...\n"
          ]
        },
        {
          "name": "stderr",
          "output_type": "stream",
          "text": [
            "\rProcessing sentences:  50%|█████     | 50/100 [20:18<19:15, 23.12s/it]"
          ]
        },
        {
          "name": "stdout",
          "output_type": "stream",
          "text": [
            "\n",
            "Processing sentence 51/100...\n",
            "✓ Success - Expected events: 1, Model events: 1\n",
            "Sleeping for 12.3 seconds...\n"
          ]
        },
        {
          "name": "stderr",
          "output_type": "stream",
          "text": [
            "\rProcessing sentences:  51%|█████     | 51/100 [20:38<18:05, 22.16s/it]"
          ]
        },
        {
          "name": "stdout",
          "output_type": "stream",
          "text": [
            "\n",
            "Processing sentence 52/100...\n",
            "✓ Success - Expected events: 1, Model events: 1\n",
            "Sleeping for 13.8 seconds...\n"
          ]
        },
        {
          "name": "stderr",
          "output_type": "stream",
          "text": [
            "\rProcessing sentences:  52%|█████▏    | 52/100 [20:58<17:17, 21.62s/it]"
          ]
        },
        {
          "name": "stdout",
          "output_type": "stream",
          "text": [
            "\n",
            "Processing sentence 53/100...\n",
            "✓ Success - Expected events: 3, Model events: 2\n",
            "Sleeping for 12.8 seconds...\n"
          ]
        },
        {
          "name": "stderr",
          "output_type": "stream",
          "text": [
            "\rProcessing sentences:  53%|█████▎    | 53/100 [21:15<15:43, 20.08s/it]"
          ]
        },
        {
          "name": "stdout",
          "output_type": "stream",
          "text": [
            "\n",
            "Processing sentence 54/100...\n",
            "✓ Success - Expected events: 1, Model events: 1\n",
            "Sleeping for 12.1 seconds...\n"
          ]
        },
        {
          "name": "stderr",
          "output_type": "stream",
          "text": [
            "\rProcessing sentences:  54%|█████▍    | 54/100 [21:29<14:06, 18.40s/it]"
          ]
        },
        {
          "name": "stdout",
          "output_type": "stream",
          "text": [
            "\n",
            "Processing sentence 55/100...\n",
            "✓ Success - Expected events: 2, Model events: 2\n",
            "Sleeping for 12.5 seconds...\n"
          ]
        },
        {
          "name": "stderr",
          "output_type": "stream",
          "text": [
            "\rProcessing sentences:  55%|█████▌    | 55/100 [21:55<15:24, 20.56s/it]"
          ]
        },
        {
          "name": "stdout",
          "output_type": "stream",
          "text": [
            "\n",
            "Processing sentence 56/100...\n",
            "✓ Success - Expected events: 2, Model events: 2\n",
            "Sleeping for 13.3 seconds...\n"
          ]
        },
        {
          "name": "stderr",
          "output_type": "stream",
          "text": [
            "\rProcessing sentences:  56%|█████▌    | 56/100 [22:23<16:43, 22.82s/it]"
          ]
        },
        {
          "name": "stdout",
          "output_type": "stream",
          "text": [
            "\n",
            "Processing sentence 57/100...\n",
            "✓ Success - Expected events: 3, Model events: 3\n",
            "Sleeping for 12.1 seconds...\n"
          ]
        },
        {
          "name": "stderr",
          "output_type": "stream",
          "text": [
            "\rProcessing sentences:  57%|█████▋    | 57/100 [22:47<16:38, 23.21s/it]"
          ]
        },
        {
          "name": "stdout",
          "output_type": "stream",
          "text": [
            "\n",
            "Processing sentence 58/100...\n",
            "✓ Success - Expected events: 1, Model events: 2\n",
            "Sleeping for 12.9 seconds...\n"
          ]
        },
        {
          "name": "stderr",
          "output_type": "stream",
          "text": [
            "\rProcessing sentences:  58%|█████▊    | 58/100 [23:14<17:07, 24.47s/it]"
          ]
        },
        {
          "name": "stdout",
          "output_type": "stream",
          "text": [
            "\n",
            "Processing sentence 59/100...\n",
            "✓ Success - Expected events: 1, Model events: 1\n",
            "Sleeping for 13.1 seconds...\n"
          ]
        },
        {
          "name": "stderr",
          "output_type": "stream",
          "text": [
            "\rProcessing sentences:  59%|█████▉    | 59/100 [23:37<16:17, 23.84s/it]"
          ]
        },
        {
          "name": "stdout",
          "output_type": "stream",
          "text": [
            "\n",
            "Processing sentence 60/100...\n",
            "✓ Success - Expected events: 2, Model events: 2\n",
            "Sleeping for 13.4 seconds...\n"
          ]
        },
        {
          "name": "stderr",
          "output_type": "stream",
          "text": [
            "\rProcessing sentences:  60%|██████    | 60/100 [24:08<17:22, 26.07s/it]"
          ]
        },
        {
          "name": "stdout",
          "output_type": "stream",
          "text": [
            "\n",
            "Processing sentence 61/100...\n",
            "✓ Success - Expected events: 2, Model events: 1\n",
            "Sleeping for 12.9 seconds...\n"
          ]
        },
        {
          "name": "stderr",
          "output_type": "stream",
          "text": [
            "\rProcessing sentences:  61%|██████    | 61/100 [24:25<15:15, 23.48s/it]"
          ]
        },
        {
          "name": "stdout",
          "output_type": "stream",
          "text": [
            "\n",
            "Processing sentence 62/100...\n",
            "✓ Success - Expected events: 5, Model events: 5\n",
            "Sleeping for 12.0 seconds...\n"
          ]
        },
        {
          "name": "stderr",
          "output_type": "stream",
          "text": [
            "\rProcessing sentences:  62%|██████▏   | 62/100 [24:55<16:06, 25.44s/it]"
          ]
        },
        {
          "name": "stdout",
          "output_type": "stream",
          "text": [
            "\n",
            "Processing sentence 63/100...\n",
            "✓ Success - Expected events: 2, Model events: 2\n",
            "Sleeping for 12.3 seconds...\n"
          ]
        },
        {
          "name": "stderr",
          "output_type": "stream",
          "text": [
            "\rProcessing sentences:  63%|██████▎   | 63/100 [25:20<15:38, 25.36s/it]"
          ]
        },
        {
          "name": "stdout",
          "output_type": "stream",
          "text": [
            "\n",
            "Processing sentence 64/100...\n",
            "✓ Success - Expected events: 1, Model events: 1\n",
            "Sleeping for 13.8 seconds...\n"
          ]
        },
        {
          "name": "stderr",
          "output_type": "stream",
          "text": [
            "\rProcessing sentences:  64%|██████▍   | 64/100 [25:39<14:00, 23.36s/it]"
          ]
        },
        {
          "name": "stdout",
          "output_type": "stream",
          "text": [
            "\n",
            "Processing sentence 65/100...\n",
            "✓ Success - Expected events: 2, Model events: 2\n",
            "Sleeping for 12.6 seconds...\n"
          ]
        },
        {
          "name": "stderr",
          "output_type": "stream",
          "text": [
            "\rProcessing sentences:  65%|██████▌   | 65/100 [25:56<12:30, 21.45s/it]"
          ]
        },
        {
          "name": "stdout",
          "output_type": "stream",
          "text": [
            "\n",
            "Processing sentence 66/100...\n",
            "✓ Success - Expected events: 3, Model events: 3\n",
            "Sleeping for 12.3 seconds...\n"
          ]
        },
        {
          "name": "stderr",
          "output_type": "stream",
          "text": [
            "\rProcessing sentences:  66%|██████▌   | 66/100 [26:17<12:06, 21.37s/it]"
          ]
        },
        {
          "name": "stdout",
          "output_type": "stream",
          "text": [
            "\n",
            "Processing sentence 67/100...\n",
            "✓ Success - Expected events: 2, Model events: 1\n",
            "Sleeping for 12.6 seconds...\n"
          ]
        },
        {
          "name": "stderr",
          "output_type": "stream",
          "text": [
            "\rProcessing sentences:  67%|██████▋   | 67/100 [26:38<11:36, 21.11s/it]"
          ]
        },
        {
          "name": "stdout",
          "output_type": "stream",
          "text": [
            "\n",
            "Processing sentence 68/100...\n",
            "✓ Success - Expected events: 1, Model events: 1\n",
            "Sleeping for 13.3 seconds...\n"
          ]
        },
        {
          "name": "stderr",
          "output_type": "stream",
          "text": [
            "\rProcessing sentences:  68%|██████▊   | 68/100 [26:55<10:32, 19.78s/it]"
          ]
        },
        {
          "name": "stdout",
          "output_type": "stream",
          "text": [
            "\n",
            "Processing sentence 69/100...\n",
            "✓ Success - Expected events: 2, Model events: 2\n",
            "Sleeping for 13.8 seconds...\n"
          ]
        },
        {
          "name": "stderr",
          "output_type": "stream",
          "text": [
            "\rProcessing sentences:  69%|██████▉   | 69/100 [27:17<10:39, 20.64s/it]"
          ]
        },
        {
          "name": "stdout",
          "output_type": "stream",
          "text": [
            "\n",
            "Processing sentence 70/100...\n",
            "✓ Success - Expected events: 1, Model events: 4\n",
            "Sleeping for 13.0 seconds...\n"
          ]
        },
        {
          "name": "stderr",
          "output_type": "stream",
          "text": [
            "\rProcessing sentences:  70%|███████   | 70/100 [27:39<10:29, 20.99s/it]"
          ]
        },
        {
          "name": "stdout",
          "output_type": "stream",
          "text": [
            "\n",
            "Processing sentence 71/100...\n",
            "✓ Success - Expected events: 2, Model events: 1\n",
            "Sleeping for 12.3 seconds...\n"
          ]
        },
        {
          "name": "stderr",
          "output_type": "stream",
          "text": [
            "\rProcessing sentences:  71%|███████   | 71/100 [27:59<09:57, 20.60s/it]"
          ]
        },
        {
          "name": "stdout",
          "output_type": "stream",
          "text": [
            "\n",
            "Processing sentence 72/100...\n",
            "✓ Success - Expected events: 1, Model events: 1\n",
            "Sleeping for 12.8 seconds...\n"
          ]
        },
        {
          "name": "stderr",
          "output_type": "stream",
          "text": [
            "\rProcessing sentences:  72%|███████▏  | 72/100 [28:27<10:37, 22.77s/it]"
          ]
        },
        {
          "name": "stdout",
          "output_type": "stream",
          "text": [
            "\n",
            "Processing sentence 73/100...\n",
            "✓ Success - Expected events: 2, Model events: 2\n",
            "Sleeping for 12.2 seconds...\n"
          ]
        },
        {
          "name": "stderr",
          "output_type": "stream",
          "text": [
            "\rProcessing sentences:  73%|███████▎  | 73/100 [28:43<09:27, 21.01s/it]"
          ]
        },
        {
          "name": "stdout",
          "output_type": "stream",
          "text": [
            "\n",
            "Processing sentence 74/100...\n",
            "✓ Success - Expected events: 1, Model events: 1\n",
            "Sleeping for 12.0 seconds...\n"
          ]
        },
        {
          "name": "stderr",
          "output_type": "stream",
          "text": [
            "\rProcessing sentences:  74%|███████▍  | 74/100 [29:03<08:57, 20.68s/it]"
          ]
        },
        {
          "name": "stdout",
          "output_type": "stream",
          "text": [
            "\n",
            "Processing sentence 75/100...\n",
            "✓ Success - Expected events: 4, Model events: 3\n",
            "Sleeping for 13.5 seconds...\n"
          ]
        },
        {
          "name": "stderr",
          "output_type": "stream",
          "text": [
            "\rProcessing sentences:  75%|███████▌  | 75/100 [29:24<08:38, 20.76s/it]"
          ]
        },
        {
          "name": "stdout",
          "output_type": "stream",
          "text": [
            "\n",
            "Processing sentence 76/100...\n",
            "✓ Success - Expected events: 4, Model events: 4\n",
            "Sleeping for 12.3 seconds...\n"
          ]
        },
        {
          "name": "stderr",
          "output_type": "stream",
          "text": [
            "\rProcessing sentences:  76%|███████▌  | 76/100 [29:51<09:01, 22.58s/it]"
          ]
        },
        {
          "name": "stdout",
          "output_type": "stream",
          "text": [
            "\n",
            "Processing sentence 77/100...\n",
            "✓ Success - Expected events: 1, Model events: 1\n",
            "Sleeping for 13.7 seconds...\n"
          ]
        },
        {
          "name": "stderr",
          "output_type": "stream",
          "text": [
            "\rProcessing sentences:  77%|███████▋  | 77/100 [30:08<08:01, 20.91s/it]"
          ]
        },
        {
          "name": "stdout",
          "output_type": "stream",
          "text": [
            "\n",
            "Processing sentence 78/100...\n",
            "✓ Success - Expected events: 1, Model events: 1\n",
            "Sleeping for 13.0 seconds...\n"
          ]
        },
        {
          "name": "stderr",
          "output_type": "stream",
          "text": [
            "\rProcessing sentences:  78%|███████▊  | 78/100 [30:27<07:26, 20.29s/it]"
          ]
        },
        {
          "name": "stdout",
          "output_type": "stream",
          "text": [
            "\n",
            "Processing sentence 79/100...\n",
            "✓ Success - Expected events: 1, Model events: 1\n",
            "Sleeping for 12.7 seconds...\n"
          ]
        },
        {
          "name": "stderr",
          "output_type": "stream",
          "text": [
            "\rProcessing sentences:  79%|███████▉  | 79/100 [30:43<06:37, 18.95s/it]"
          ]
        },
        {
          "name": "stdout",
          "output_type": "stream",
          "text": [
            "\n",
            "Processing sentence 80/100...\n",
            "✓ Success - Expected events: 1, Model events: 1\n",
            "Sleeping for 12.5 seconds...\n"
          ]
        },
        {
          "name": "stderr",
          "output_type": "stream",
          "text": [
            "\rProcessing sentences:  80%|████████  | 80/100 [30:59<06:02, 18.10s/it]"
          ]
        },
        {
          "name": "stdout",
          "output_type": "stream",
          "text": [
            "\n",
            "Processing sentence 81/100...\n",
            "✓ Success - Expected events: 2, Model events: 2\n",
            "Sleeping for 12.1 seconds...\n"
          ]
        },
        {
          "name": "stderr",
          "output_type": "stream",
          "text": [
            "\rProcessing sentences:  81%|████████  | 81/100 [31:15<05:29, 17.36s/it]"
          ]
        },
        {
          "name": "stdout",
          "output_type": "stream",
          "text": [
            "\n",
            "Processing sentence 82/100...\n",
            "✓ Success - Expected events: 1, Model events: 1\n",
            "Sleeping for 12.1 seconds...\n"
          ]
        },
        {
          "name": "stderr",
          "output_type": "stream",
          "text": [
            "\rProcessing sentences:  82%|████████▏ | 82/100 [31:43<06:09, 20.55s/it]"
          ]
        },
        {
          "name": "stdout",
          "output_type": "stream",
          "text": [
            "\n",
            "Processing sentence 83/100...\n",
            "✓ Success - Expected events: 2, Model events: 2\n",
            "Sleeping for 12.4 seconds...\n"
          ]
        },
        {
          "name": "stderr",
          "output_type": "stream",
          "text": [
            "\rProcessing sentences:  83%|████████▎ | 83/100 [32:07<06:08, 21.70s/it]"
          ]
        },
        {
          "name": "stdout",
          "output_type": "stream",
          "text": [
            "\n",
            "Processing sentence 84/100...\n",
            "✓ Success - Expected events: 1, Model events: 1\n",
            "Sleeping for 12.7 seconds...\n"
          ]
        },
        {
          "name": "stderr",
          "output_type": "stream",
          "text": [
            "\rProcessing sentences:  84%|████████▍ | 84/100 [32:23<05:22, 20.15s/it]"
          ]
        },
        {
          "name": "stdout",
          "output_type": "stream",
          "text": [
            "\n",
            "Processing sentence 85/100...\n",
            "✓ Success - Expected events: 2, Model events: 3\n",
            "Sleeping for 13.9 seconds...\n"
          ]
        },
        {
          "name": "stderr",
          "output_type": "stream",
          "text": [
            "\rProcessing sentences:  85%|████████▌ | 85/100 [32:50<05:32, 22.16s/it]"
          ]
        },
        {
          "name": "stdout",
          "output_type": "stream",
          "text": [
            "\n",
            "Processing sentence 86/100...\n",
            "✓ Success - Expected events: 1, Model events: 0\n",
            "Sleeping for 13.9 seconds...\n"
          ]
        },
        {
          "name": "stderr",
          "output_type": "stream",
          "text": [
            "\rProcessing sentences:  86%|████████▌ | 86/100 [33:24<05:57, 25.56s/it]"
          ]
        },
        {
          "name": "stdout",
          "output_type": "stream",
          "text": [
            "\n",
            "Processing sentence 87/100...\n",
            "✓ Success - Expected events: 1, Model events: 1\n",
            "Sleeping for 13.7 seconds...\n"
          ]
        },
        {
          "name": "stderr",
          "output_type": "stream",
          "text": [
            "\rProcessing sentences:  87%|████████▋ | 87/100 [33:54<05:52, 27.09s/it]"
          ]
        },
        {
          "name": "stdout",
          "output_type": "stream",
          "text": [
            "\n",
            "Processing sentence 88/100...\n",
            "✓ Success - Expected events: 2, Model events: 2\n",
            "Sleeping for 12.9 seconds...\n"
          ]
        },
        {
          "name": "stderr",
          "output_type": "stream",
          "text": [
            "\rProcessing sentences:  88%|████████▊ | 88/100 [34:10<04:44, 23.73s/it]"
          ]
        },
        {
          "name": "stdout",
          "output_type": "stream",
          "text": [
            "\n",
            "Processing sentence 89/100...\n",
            "✓ Success - Expected events: 2, Model events: 2\n",
            "Sleeping for 12.4 seconds...\n"
          ]
        },
        {
          "name": "stderr",
          "output_type": "stream",
          "text": [
            "\rProcessing sentences:  89%|████████▉ | 89/100 [34:31<04:11, 22.90s/it]"
          ]
        },
        {
          "name": "stdout",
          "output_type": "stream",
          "text": [
            "\n",
            "Processing sentence 90/100...\n"
          ]
        },
        {
          "name": "stderr",
          "output_type": "stream",
          "text": [
            "ERROR:tornado.access:503 POST /v1beta/models/gemini-2.5-flash:generateContent?%24alt=json%3Benum-encoding%3Dint (127.0.0.1) 5710.52ms\n"
          ]
        },
        {
          "name": "stdout",
          "output_type": "stream",
          "text": [
            "✓ Success - Expected events: 3, Model events: 2\n",
            "Sleeping for 13.5 seconds...\n"
          ]
        },
        {
          "name": "stderr",
          "output_type": "stream",
          "text": [
            "\rProcessing sentences:  90%|█████████ | 90/100 [35:00<04:07, 24.72s/it]"
          ]
        },
        {
          "name": "stdout",
          "output_type": "stream",
          "text": [
            "\n",
            "Processing sentence 91/100...\n",
            "✓ Success - Expected events: 2, Model events: 1\n",
            "Sleeping for 12.1 seconds...\n"
          ]
        },
        {
          "name": "stderr",
          "output_type": "stream",
          "text": [
            "\rProcessing sentences:  91%|█████████ | 91/100 [35:17<03:20, 22.32s/it]"
          ]
        },
        {
          "name": "stdout",
          "output_type": "stream",
          "text": [
            "\n",
            "Processing sentence 92/100...\n",
            "✓ Success - Expected events: 3, Model events: 3\n",
            "Sleeping for 13.2 seconds...\n"
          ]
        },
        {
          "name": "stderr",
          "output_type": "stream",
          "text": [
            "\rProcessing sentences:  92%|█████████▏| 92/100 [35:43<03:06, 23.34s/it]"
          ]
        },
        {
          "name": "stdout",
          "output_type": "stream",
          "text": [
            "\n",
            "Processing sentence 93/100...\n",
            "✓ Success - Expected events: 1, Model events: 1\n",
            "Sleeping for 12.2 seconds...\n"
          ]
        },
        {
          "name": "stderr",
          "output_type": "stream",
          "text": [
            "\rProcessing sentences:  93%|█████████▎| 93/100 [36:02<02:34, 22.12s/it]"
          ]
        },
        {
          "name": "stdout",
          "output_type": "stream",
          "text": [
            "\n",
            "Processing sentence 94/100...\n",
            "✓ Success - Expected events: 3, Model events: 3\n",
            "Sleeping for 12.4 seconds...\n"
          ]
        },
        {
          "name": "stderr",
          "output_type": "stream",
          "text": [
            "\rProcessing sentences:  94%|█████████▍| 94/100 [36:29<02:21, 23.51s/it]"
          ]
        },
        {
          "name": "stdout",
          "output_type": "stream",
          "text": [
            "\n",
            "Processing sentence 95/100...\n",
            "✓ Success - Expected events: 3, Model events: 3\n",
            "Sleeping for 13.0 seconds...\n"
          ]
        },
        {
          "name": "stderr",
          "output_type": "stream",
          "text": [
            "\rProcessing sentences:  95%|█████████▌| 95/100 [36:59<02:08, 25.62s/it]"
          ]
        },
        {
          "name": "stdout",
          "output_type": "stream",
          "text": [
            "\n",
            "Processing sentence 96/100...\n",
            "✓ Success - Expected events: 1, Model events: 1\n",
            "Sleeping for 13.4 seconds...\n"
          ]
        },
        {
          "name": "stderr",
          "output_type": "stream",
          "text": [
            "\rProcessing sentences:  96%|█████████▌| 96/100 [37:21<01:37, 24.48s/it]"
          ]
        },
        {
          "name": "stdout",
          "output_type": "stream",
          "text": [
            "\n",
            "Processing sentence 97/100...\n",
            "✓ Success - Expected events: 1, Model events: 2\n",
            "Sleeping for 12.3 seconds...\n"
          ]
        },
        {
          "name": "stderr",
          "output_type": "stream",
          "text": [
            "\rProcessing sentences:  97%|█████████▋| 97/100 [37:39<01:07, 22.53s/it]"
          ]
        },
        {
          "name": "stdout",
          "output_type": "stream",
          "text": [
            "\n",
            "Processing sentence 98/100...\n",
            "✓ Success - Expected events: 2, Model events: 2\n",
            "Sleeping for 13.7 seconds...\n"
          ]
        },
        {
          "name": "stderr",
          "output_type": "stream",
          "text": [
            "\rProcessing sentences:  98%|█████████▊| 98/100 [38:04<00:46, 23.37s/it]"
          ]
        },
        {
          "name": "stdout",
          "output_type": "stream",
          "text": [
            "\n",
            "Processing sentence 99/100...\n",
            "✓ Success - Expected events: 3, Model events: 3\n",
            "Sleeping for 13.3 seconds...\n"
          ]
        },
        {
          "name": "stderr",
          "output_type": "stream",
          "text": [
            "\rProcessing sentences:  99%|█████████▉| 99/100 [38:34<00:25, 25.20s/it]"
          ]
        },
        {
          "name": "stdout",
          "output_type": "stream",
          "text": [
            "\n",
            "Processing sentence 100/100...\n"
          ]
        },
        {
          "name": "stderr",
          "output_type": "stream",
          "text": [
            "Processing sentences: 100%|██████████| 100/100 [38:41<00:00, 23.22s/it]"
          ]
        },
        {
          "name": "stdout",
          "output_type": "stream",
          "text": [
            "✓ Success - Expected events: 1, Model events: 1\n",
            "\n",
            "Creating Excel file...\n",
            "\n",
            "✓ Excel file 'gemini_extraction_results.xlsx' created successfully!\n",
            "Total sentences processed: 100\n",
            "Successful extractions: 100\n",
            "Failed extractions: 0\n",
            "\n",
            "Sample of results (first 3 rows):\n",
            "   Expected_Number_of_Events  Model_Number_of_Events  Success\n",
            "0                          2                       2     True\n",
            "1                          3                       4     True\n",
            "2                          1                       1     True\n",
            "\n",
            "Downloading gemini_extraction_results.xlsx...\n"
          ]
        },
        {
          "name": "stderr",
          "output_type": "stream",
          "text": [
            "\n"
          ]
        },
        {
          "data": {
            "application/javascript": "\n    async function download(id, filename, size) {\n      if (!google.colab.kernel.accessAllowed) {\n        return;\n      }\n      const div = document.createElement('div');\n      const label = document.createElement('label');\n      label.textContent = `Downloading \"${filename}\": `;\n      div.appendChild(label);\n      const progress = document.createElement('progress');\n      progress.max = size;\n      div.appendChild(progress);\n      document.body.appendChild(div);\n\n      const buffers = [];\n      let downloaded = 0;\n\n      const channel = await google.colab.kernel.comms.open(id);\n      // Send a message to notify the kernel that we're ready.\n      channel.send({})\n\n      for await (const message of channel.messages) {\n        // Send a message to notify the kernel that we're ready.\n        channel.send({})\n        if (message.buffers) {\n          for (const buffer of message.buffers) {\n            buffers.push(buffer);\n            downloaded += buffer.byteLength;\n            progress.value = downloaded;\n          }\n        }\n      }\n      const blob = new Blob(buffers, {type: 'application/binary'});\n      const a = document.createElement('a');\n      a.href = window.URL.createObjectURL(blob);\n      a.download = filename;\n      div.appendChild(a);\n      a.click();\n      div.remove();\n    }\n  ",
            "text/plain": [
              "<IPython.core.display.Javascript object>"
            ]
          },
          "metadata": {},
          "output_type": "display_data"
        },
        {
          "data": {
            "application/javascript": "download(\"download_be20f282-e622-4906-a85e-d64eb6f1d428\", \"gemini_extraction_results.xlsx\", 24114)",
            "text/plain": [
              "<IPython.core.display.Javascript object>"
            ]
          },
          "metadata": {},
          "output_type": "display_data"
        }
      ],
      "source": [
        "import google.generativeai as genai\n",
        "import pandas as pd\n",
        "import json\n",
        "import re\n",
        "import time\n",
        "import random\n",
        "from tqdm import tqdm\n",
        "from google.colab import files\n",
        "import os\n",
        "\n",
        "# Configure your API key\n",
        "genai.configure(api_key=\"enter-your-api-key-here\")\n",
        "\n",
        "# Choose the model\n",
        "model = genai.GenerativeModel(\"gemma-3-12b-it\") # replace by gemini-2.5-flash-lite and gemini-2.5-flash\n",
        "\n",
        "def clean_and_parse_json(model_output):\n",
        "    \"\"\"Clean markdown formatting and parse JSON\"\"\"\n",
        "    try:\n",
        "        # Remove markdown formatting\n",
        "        cleaned_output = re.sub(r'^```json\\s*', '', model_output.strip())\n",
        "        cleaned_output = re.sub(r'\\s*```$', '', cleaned_output)\n",
        "\n",
        "        # Parse JSON\n",
        "        parsed_output = json.loads(cleaned_output)\n",
        "        return parsed_output, True\n",
        "    except json.JSONDecodeError as e:\n",
        "        print(f\"Error parsing JSON: {e}\")\n",
        "        return None, False\n",
        "\n",
        "def extract_statistics(events):\n",
        "    \"\"\"Extract statistics from events list\"\"\"\n",
        "    number_of_events = len(events)\n",
        "    event_types = []\n",
        "    trigger_texts = []\n",
        "    argument_roles = []\n",
        "    argument_texts = []\n",
        "\n",
        "    for event in events:\n",
        "        event_types.append(event.get('event_type'))\n",
        "        trigger_texts.append(event.get('trigger_text'))\n",
        "\n",
        "        for arg in event.get('arguments', []):\n",
        "            argument_roles.append(arg.get('role'))\n",
        "            argument_texts.append(arg.get('text'))\n",
        "\n",
        "    return {\n",
        "        'number_of_events': number_of_events,\n",
        "        'event_types': event_types,\n",
        "        'trigger_texts': trigger_texts,\n",
        "        'argument_roles': argument_roles,\n",
        "        'argument_texts': argument_texts\n",
        "    }\n",
        "\n",
        "def process_sentence(sentence_idx):\n",
        "    \"\"\"Process a single sentence and return results\"\"\"\n",
        "    sentence = raw_sentences[sentence_idx]\n",
        "    expected_output = expected_outputs[sentence_idx]\n",
        "\n",
        "    # Create the prompt\n",
        "    prompt = f\"\"\"You are an expert assistant that converts scientific procedure sentences into structured JSON.\n",
        "Follow this schema exactly:\n",
        "{{\n",
        "  \"events\": [\n",
        "    {{\n",
        "      \"event_type\": \"...\",\n",
        "      \"trigger_text\": \"...\",\n",
        "      \"arguments\": [\n",
        "        {{\"role\": \"...\", \"text\": \"...\"}},\n",
        "        {{\"role\": \"...\", \"text\": \"...\"}}\n",
        "      ]\n",
        "    }}\n",
        "  ]\n",
        "}}\n",
        "\n",
        "Event types: Add, Stir, Wash, Dry, Calcine, Crystallize, Particle Recovery, Heat, Set pH, Rotate, Sonicate, Seal, Transfer, Age, Cool, React.\n",
        "Roles: material, temperature, duration, container, sample, solvent, condition, revolution, times, PH, rate, pressure, revolution_text.\n",
        "\n",
        "The definitions of all 16 action events are as follows.\n",
        "\n",
        "Add indicates that some materials are added to the container at a specific temperature, with arguments specifying material, temperature and container.\n",
        "\n",
        "Stir means that the mixture is stirred with full contact for a while, whose arguments includes duration, temperature, revolution and the sample.\n",
        "\n",
        "Age means waiting a period of time for the reaction, with arguments specifying duration, temperature, revolution and the pressure.\n",
        "\n",
        "Wash describes that the product is washed several times with some solvent, with arguments specifying solvent, times, and the sample.\n",
        "\n",
        "Dry indicates that the product is dried in the container for a while at a specific temperature. The corresponding arguments contain duration, temperature, container and the specific condition.\n",
        "\n",
        "Calcine indicates that the product is calcined at high temperature. The corresponding arguments contain duration, temperature, container, sample and the specific condition.\n",
        "\n",
        "Particle Recovery indicates that experimental operations such as filtration are carried out to recover the clean product. The corresponding arguments contain material, duration and revolution.\n",
        "\n",
        "Set PH means that the product is brought to a specific pH value by adding material, with arguments specifying material and PH.\n",
        "\n",
        "Cool means that the temperature of the product is reduced to a specific value, with arguments specifying duration, temperature, container, sample and the specific condition.\n",
        "\n",
        "Heat means that the temperature of the product is increased to a specific value, with arguments specifying duration, temperature, container, sample, pressure, revolution and heating rate.\n",
        "\n",
        "Crystallize is the key experimental step in zeolite synthesis, where the amorphous compound is converted to a crystalline state, with arguments specifying duration, temperature, container, pressure and revolution rate (or revolution text).\n",
        "\n",
        "Transfer means that the product is transferred from one container to another, with arguments specifying sample and container.\n",
        "\n",
        "Seal indicates that the product is kept in a sealed container, with arguments specifying sample and container.\n",
        "\n",
        "Sonicate means that the product is washed by ultrasound, with arguments specifying sample and solvent.\n",
        "\n",
        "React refers to ordinary reactions not specifically described in zeolite synthesis corpus, such as the reaction of materials at a specific temperature. The corresponding arguments contain duration, temperature, material and the specific condition.\n",
        "\n",
        "Rotate refers to the direct rotation of a container, with arguments specifying duration, temperature, container, and revolution.\n",
        "\n",
        "We list the definitions of all 13 event arguments to clarify the important role they play in the synthesis steps.\n",
        "\n",
        "duration, temperature and pressure indicate the duration, temperature and pressure of the experiment respectively.\n",
        "\n",
        "materials are compounds, both liquid and solid, which are added during experimental operations.\n",
        "container indicates the container where the synthesis action is carried out.\n",
        "\n",
        "sample is the subject of the reaction, which is different from the material.\n",
        "\n",
        "solvent indicates the solvent to which the washing product is added.\n",
        "\n",
        "times refers to the number of washings.\n",
        "\n",
        "condition indicates the specific conditions under which the reaction is operated, e.g., performing the synthesis step in air.\n",
        "\n",
        "revolution indicates the reaction is carried out at a specific revolution per minute, which is a common property of zeolite synthesis action.\n",
        "\n",
        "revolution text indicates an abstract textual representation of the rotation, which indicates the presence or absence of the attribute rotation, while revolution refers to a specific value.\n",
        "\n",
        "rate indicates that the temperature increases at a certain rate to a specific value.\n",
        "\n",
        "PH indicates the specific pH value of the product.\n",
        "\n",
        "Here are two examples of the required extraction:\n",
        "\n",
        "Sentence-1:A solution of 24.5 g (0.173 mol) of methyl iodide was added and the reaction mixture was stirred at room temperature for three days, then new excess of methyl iodide (0.173 mol) was added and stirred at room temperature for 3 days.\n",
        "\n",
        "Output-1:\n",
        "{{\n",
        "  \"events\": [\n",
        "    {{\n",
        "      \"event_type\": \"Add\",\n",
        "      \"trigger_text\": \"added\",\n",
        "      \"arguments\": [\n",
        "        {{\"role\": \"material\", \"text\": \"solution of 24.5 g ( 0.173 mol ) of methyl iodide\"}}\n",
        "      ]\n",
        "    }},\n",
        "    {{\n",
        "      \"event_type\": \"Add\",\n",
        "      \"trigger_text\": \"added\",\n",
        "      \"arguments\": [\n",
        "        {{\"role\": \"material\", \"text\": \"methyl iodide ( 0.173 mol )\"}}\n",
        "      ]\n",
        "    }},\n",
        "    {{\n",
        "      \"event_type\": \"Stir\",\n",
        "      \"trigger_text\": \"stirred\",\n",
        "      \"arguments\": [\n",
        "        {{\"role\": \"sample\", \"text\": \"mixture\"}},\n",
        "        {{\"role\": \"duration\", \"text\": \"three days\"}},\n",
        "        {{\"role\": \"temperature\", \"text\": \"room temperature\"}}\n",
        "      ]\n",
        "    }},\n",
        "    {{\n",
        "      \"event_type\": \"Stir\",\n",
        "      \"trigger_text\": \"stirred\",\n",
        "      \"arguments\": [\n",
        "        {{\"role\": \"duration\", \"text\": \"3 days\"}},\n",
        "        {{\"role\": \"temperature\", \"text\": \"room temperature\"}}\n",
        "      ]\n",
        "    }}\n",
        "  ]\n",
        "}}\n",
        "\n",
        "Sentence-2:After this time, the autoclave was cooled down, and the mixture was filtered, washed with water and dried at 100ºC.\n",
        "\n",
        "Output-2:\n",
        "{{\n",
        "  \"events\": [\n",
        "    {{\n",
        "      \"event_type\": \"Wash\",\n",
        "      \"trigger_text\": \"washed\",\n",
        "      \"arguments\": [\n",
        "        {{\"role\": \"solvent\", \"text\": \"water\"}}\n",
        "      ]\n",
        "    }},\n",
        "    {{\n",
        "      \"event_type\": \"Dry\",\n",
        "      \"trigger_text\": \"dried\",\n",
        "      \"arguments\": [\n",
        "        {{\"role\": \"temperature\", \"text\": \"100ºC\"}}\n",
        "      ]\n",
        "    }},\n",
        "    {{\n",
        "      \"event_type\": \"Particle Recovery\",\n",
        "      \"trigger_text\": \"filtered\",\n",
        "      \"arguments\": [\n",
        "        {{\"role\": \"material\", \"text\": \"mixture\"}}\n",
        "      ]\n",
        "    }},\n",
        "    {{\n",
        "      \"event_type\": \"Cool\",\n",
        "      \"trigger_text\": \"cooled\",\n",
        "      \"arguments\": []\n",
        "    }}\n",
        "  ]\n",
        "}}\n",
        "\n",
        "Input sentence: {sentence}\n",
        "Output only the JSON but in dictionary format. Do not add explanations.\"\"\"\n",
        "\n",
        "    try:\n",
        "        # Call the API\n",
        "        response = model.generate_content(prompt)\n",
        "        model_output = response.text\n",
        "\n",
        "        # Parse the model output\n",
        "        parsed_output, success = clean_and_parse_json(model_output)\n",
        "\n",
        "        if not success:\n",
        "            # Return empty results if parsing failed\n",
        "            return {\n",
        "                'sentence': sentence,\n",
        "                'expected_stats': extract_statistics(expected_output.get('events', [])),\n",
        "                'model_stats': {\n",
        "                    'number_of_events': 0,\n",
        "                    'event_types': [],\n",
        "                    'trigger_texts': [],\n",
        "                    'argument_roles': [],\n",
        "                    'argument_texts': []\n",
        "                },\n",
        "                'success': False,\n",
        "                'raw_output': model_output\n",
        "            }\n",
        "\n",
        "        # Extract statistics from both expected and model outputs\n",
        "        expected_stats = extract_statistics(expected_output.get('events', []))\n",
        "        model_stats = extract_statistics(parsed_output.get('events', []))\n",
        "\n",
        "        return {\n",
        "            'sentence': sentence,\n",
        "            'expected_stats': expected_stats,\n",
        "            'model_stats': model_stats,\n",
        "            'success': True,\n",
        "            'raw_output': model_output\n",
        "        }\n",
        "\n",
        "    except Exception as e:\n",
        "        print(f\"Error processing sentence {sentence_idx}: {e}\")\n",
        "        return {\n",
        "            'sentence': sentence,\n",
        "            'expected_stats': extract_statistics(expected_output.get('events', [])),\n",
        "            'model_stats': {\n",
        "                'number_of_events': 0,\n",
        "                'event_types': [],\n",
        "                'trigger_texts': [],\n",
        "                'argument_roles': [],\n",
        "                'argument_texts': []\n",
        "            },\n",
        "            'success': False,\n",
        "            'raw_output': str(e)\n",
        "        }\n",
        "\n",
        "def main():\n",
        "    \"\"\"Main function to process all sentences and create Excel file\"\"\"\n",
        "    print(\"Starting automated extraction process...\")\n",
        "    print(\"This will process 100 sentences with 10-15 second delays between API calls.\")\n",
        "    print(\"Estimated total time: 17-25 minutes\")\n",
        "\n",
        "    # Initialize results list\n",
        "    results = []\n",
        "\n",
        "    # Process each sentence with progress bar\n",
        "    for i in tqdm(range(100), desc=\"Processing sentences\"):\n",
        "        print(f\"\\nProcessing sentence {i+1}/100...\")\n",
        "\n",
        "        # Process the sentence\n",
        "        result = process_sentence(i)\n",
        "        results.append(result)\n",
        "\n",
        "        # Print current result summary\n",
        "        if result['success']:\n",
        "            print(f\"✓ Success - Expected events: {result['expected_stats']['number_of_events']}, \"\n",
        "                  f\"Model events: {result['model_stats']['number_of_events']}\")\n",
        "        else:\n",
        "            print(f\"✗ Failed to parse JSON for sentence {i}\")\n",
        "\n",
        "        # Sleep between API calls (except for the last iteration)\n",
        "        if i < 99:\n",
        "            sleep_time = random.uniform(12, 14)\n",
        "            print(f\"Sleeping for {sleep_time:.1f} seconds...\")\n",
        "            time.sleep(sleep_time)\n",
        "\n",
        "    # Create DataFrame for Excel export\n",
        "    print(\"\\nCreating Excel file...\")\n",
        "\n",
        "    excel_data = []\n",
        "    for i, result in enumerate(results):\n",
        "        row = {\n",
        "            'Sentence': result['sentence'],\n",
        "            'Expected_Number_of_Events': result['expected_stats']['number_of_events'],\n",
        "            'Expected_Event_Types': str(result['expected_stats']['event_types']),\n",
        "            'Expected_Trigger_Texts': str(result['expected_stats']['trigger_texts']),\n",
        "            'Expected_Argument_Roles': str(result['expected_stats']['argument_roles']),\n",
        "            'Expected_Argument_Texts': str(result['expected_stats']['argument_texts']),\n",
        "            'Model_Number_of_Events': result['model_stats']['number_of_events'],\n",
        "            'Model_Event_Types': str(result['model_stats']['event_types']),\n",
        "            'Model_Trigger_Texts': str(result['model_stats']['trigger_texts']),\n",
        "            'Model_Argument_Roles': str(result['model_stats']['argument_roles']),\n",
        "            'Model_Argument_Texts': str(result['model_stats']['argument_texts']),\n",
        "            'Success': result['success'],\n",
        "            'Raw_Model_Output': result['raw_output']\n",
        "        }\n",
        "        excel_data.append(row)\n",
        "\n",
        "    # Create DataFrame and save to Excel\n",
        "    df = pd.DataFrame(excel_data)\n",
        "\n",
        "    # Save to Excel file\n",
        "    filename = 'gemini_extraction_results.xlsx'\n",
        "    df.to_excel(filename, index=False)\n",
        "\n",
        "    print(f\"\\n✓ Excel file '{filename}' created successfully!\")\n",
        "    print(f\"Total sentences processed: {len(results)}\")\n",
        "    print(f\"Successful extractions: {sum(1 for r in results if r['success'])}\")\n",
        "    print(f\"Failed extractions: {sum(1 for r in results if not r['success'])}\")\n",
        "\n",
        "    # Display sample of results\n",
        "    print(\"\\nSample of results (first 3 rows):\")\n",
        "    print(df[['Expected_Number_of_Events', 'Model_Number_of_Events', 'Success']].head(3))\n",
        "\n",
        "    # Download the file\n",
        "    print(f\"\\nDownloading {filename}...\")\n",
        "    files.download(filename)\n",
        "\n",
        "    return df\n",
        "\n",
        "# Run the main function\n",
        "if __name__ == \"__main__\":\n",
        "    results_df = main()"
      ]
    },
    {
      "cell_type": "markdown",
      "metadata": {
        "id": "ZG_lOU2_Evcm"
      },
      "source": [
        "#Two Stage Extraction Testing\n"
      ]
    },
    {
      "cell_type": "code",
      "execution_count": null,
      "metadata": {
        "colab": {
          "base_uri": "https://localhost:8080/",
          "height": 1000
        },
        "id": "CRszMQLLEugN",
        "outputId": "fde784b6-2d3b-485d-9b98-8bcea4f0ed83"
      },
      "outputs": [
        {
          "name": "stdout",
          "output_type": "stream",
          "text": [
            "Starting automated two-stage extraction process...\n",
            "Stage 1: Event extraction\n",
            "Stage 2: Argument extraction for each event\n",
            "This will process 100 sentences with delays between API calls.\n",
            "Note: Total API calls will vary based on number of events per sentence.\n"
          ]
        },
        {
          "name": "stderr",
          "output_type": "stream",
          "text": [
            "\rProcessing sentences:   0%|          | 0/100 [00:00<?, ?it/s]"
          ]
        },
        {
          "name": "stdout",
          "output_type": "stream",
          "text": [
            "\n",
            "Processing sentence 1/100...\n",
            "  Stage 1: Extracting events...\n",
            "  ✓ Found 3 events\n",
            "  Stage 2: Extracting arguments for each event...\n",
            "    Processing event 1/3: Calcine\n",
            "    Processing event 2/3: Add\n",
            "    Processing event 3/3: Stir\n",
            "  ✓ Completed - Events: 3, Total arguments: 6\n",
            "  ✓ Success - API calls for this sentence: 4\n",
            "  Sleeping for 11.7 seconds before next sentence...\n"
          ]
        },
        {
          "name": "stderr",
          "output_type": "stream",
          "text": [
            "\rProcessing sentences:   1%|          | 1/100 [00:29<49:29, 30.00s/it]"
          ]
        },
        {
          "name": "stdout",
          "output_type": "stream",
          "text": [
            "\n",
            "Processing sentence 2/100...\n",
            "  Stage 1: Extracting events...\n",
            "  ✓ Found 4 events\n",
            "  Stage 2: Extracting arguments for each event...\n",
            "    Processing event 1/4: Stir\n",
            "    Processing event 2/4: Particle Recovery\n",
            "    Processing event 3/4: Wash\n",
            "    Processing event 4/4: Dry\n",
            "  ✓ Completed - Events: 4, Total arguments: 8\n",
            "  ✓ Success - API calls for this sentence: 5\n",
            "  Sleeping for 9.9 seconds before next sentence...\n"
          ]
        },
        {
          "name": "stderr",
          "output_type": "stream",
          "text": [
            "\rProcessing sentences:   2%|▏         | 2/100 [01:06<54:57, 33.65s/it]"
          ]
        },
        {
          "name": "stdout",
          "output_type": "stream",
          "text": [
            "\n",
            "Processing sentence 3/100...\n",
            "  Stage 1: Extracting events...\n",
            "  ✓ Found 1 events\n",
            "  Stage 2: Extracting arguments for each event...\n",
            "    Processing event 1/1: Calcine\n",
            "  ✓ Completed - Events: 1, Total arguments: 4\n",
            "  ✓ Success - API calls for this sentence: 2\n",
            "  Sleeping for 11.9 seconds before next sentence...\n"
          ]
        },
        {
          "name": "stderr",
          "output_type": "stream",
          "text": [
            "\rProcessing sentences:   3%|▎         | 3/100 [01:23<42:27, 26.26s/it]"
          ]
        },
        {
          "name": "stdout",
          "output_type": "stream",
          "text": [
            "\n",
            "Processing sentence 4/100...\n",
            "  Stage 1: Extracting events...\n",
            "  ✓ Found 2 events\n",
            "  Stage 2: Extracting arguments for each event...\n",
            "    Processing event 1/2: Add\n",
            "    Processing event 2/2: Stir\n",
            "  ✓ Completed - Events: 2, Total arguments: 6\n",
            "  ✓ Success - API calls for this sentence: 3\n",
            "  Sleeping for 9.4 seconds before next sentence...\n"
          ]
        },
        {
          "name": "stderr",
          "output_type": "stream",
          "text": [
            "\rProcessing sentences:   4%|▍         | 4/100 [01:43<37:56, 23.71s/it]"
          ]
        },
        {
          "name": "stdout",
          "output_type": "stream",
          "text": [
            "\n",
            "Processing sentence 5/100...\n",
            "  Stage 1: Extracting events...\n",
            "  ✓ Found 2 events\n",
            "  Stage 2: Extracting arguments for each event...\n",
            "    Processing event 1/2: Add\n",
            "    Processing event 2/2: Stir\n",
            "  ✓ Completed - Events: 2, Total arguments: 5\n",
            "  ✓ Success - API calls for this sentence: 3\n",
            "  Sleeping for 9.5 seconds before next sentence...\n"
          ]
        },
        {
          "name": "stderr",
          "output_type": "stream",
          "text": [
            "\rProcessing sentences:   5%|▌         | 5/100 [02:07<37:48, 23.88s/it]"
          ]
        },
        {
          "name": "stdout",
          "output_type": "stream",
          "text": [
            "\n",
            "Processing sentence 6/100...\n",
            "  Stage 1: Extracting events...\n",
            "  ✓ Found 1 events\n",
            "  Stage 2: Extracting arguments for each event...\n",
            "    Processing event 1/1: Add\n",
            "  ✓ Completed - Events: 1, Total arguments: 1\n",
            "  ✓ Success - API calls for this sentence: 2\n",
            "  Sleeping for 8.2 seconds before next sentence...\n"
          ]
        },
        {
          "name": "stderr",
          "output_type": "stream",
          "text": [
            "\rProcessing sentences:   6%|▌         | 6/100 [02:21<31:52, 20.35s/it]"
          ]
        },
        {
          "name": "stdout",
          "output_type": "stream",
          "text": [
            "\n",
            "Processing sentence 7/100...\n",
            "  Stage 1: Extracting events...\n",
            "  ✓ Found 3 events\n",
            "  Stage 2: Extracting arguments for each event...\n",
            "    Processing event 1/3: Heat\n",
            "    Processing event 2/3: Crystallize\n",
            "    Processing event 3/3: Seal\n",
            "  ✓ Completed - Events: 3, Total arguments: 7\n",
            "  ✓ Success - API calls for this sentence: 4\n",
            "  Sleeping for 11.7 seconds before next sentence...\n"
          ]
        },
        {
          "name": "stderr",
          "output_type": "stream",
          "text": [
            "\rProcessing sentences:   7%|▋         | 7/100 [02:49<35:37, 22.98s/it]"
          ]
        },
        {
          "name": "stdout",
          "output_type": "stream",
          "text": [
            "\n",
            "Processing sentence 8/100...\n",
            "  Stage 1: Extracting events...\n",
            "  ✓ Found 1 events\n",
            "  Stage 2: Extracting arguments for each event...\n",
            "    Processing event 1/1: Add\n",
            "  ✓ Completed - Events: 1, Total arguments: 1\n",
            "  ✓ Success - API calls for this sentence: 2\n",
            "  Sleeping for 10.3 seconds before next sentence...\n"
          ]
        },
        {
          "name": "stderr",
          "output_type": "stream",
          "text": [
            "\rProcessing sentences:   8%|▊         | 8/100 [03:03<30:59, 20.21s/it]"
          ]
        },
        {
          "name": "stdout",
          "output_type": "stream",
          "text": [
            "\n",
            "Processing sentence 9/100...\n",
            "  Stage 1: Extracting events...\n",
            "  ✓ Found 1 events\n",
            "  Stage 2: Extracting arguments for each event...\n",
            "    Processing event 1/1: Add\n",
            "  ✓ Completed - Events: 1, Total arguments: 2\n",
            "  ✓ Success - API calls for this sentence: 2\n",
            "  Sleeping for 9.1 seconds before next sentence...\n"
          ]
        },
        {
          "name": "stderr",
          "output_type": "stream",
          "text": [
            "\rProcessing sentences:   9%|▉         | 9/100 [03:17<27:44, 18.29s/it]"
          ]
        },
        {
          "name": "stdout",
          "output_type": "stream",
          "text": [
            "\n",
            "Processing sentence 10/100...\n",
            "  Stage 1: Extracting events...\n",
            "  ✓ Found 3 events\n",
            "  Stage 2: Extracting arguments for each event...\n",
            "    Processing event 1/3: Heat\n",
            "    Processing event 2/3: Crystallize\n",
            "    Processing event 3/3: Seal\n",
            "  ✓ Completed - Events: 3, Total arguments: 8\n",
            "  ✓ Success - API calls for this sentence: 4\n",
            "  Sleeping for 11.9 seconds before next sentence...\n"
          ]
        },
        {
          "name": "stderr",
          "output_type": "stream",
          "text": [
            "\rProcessing sentences:  10%|█         | 10/100 [03:42<30:34, 20.38s/it]"
          ]
        },
        {
          "name": "stdout",
          "output_type": "stream",
          "text": [
            "\n",
            "Processing sentence 11/100...\n",
            "  Stage 1: Extracting events...\n",
            "  ✓ Found 4 events\n",
            "  Stage 2: Extracting arguments for each event...\n",
            "    Processing event 1/4: Add\n",
            "    Processing event 2/4: Stir\n",
            "    Processing event 3/4: Add\n",
            "    Processing event 4/4: Stir\n",
            "  ✓ Completed - Events: 4, Total arguments: 13\n",
            "  ✓ Success - API calls for this sentence: 5\n",
            "  Sleeping for 11.8 seconds before next sentence...\n"
          ]
        },
        {
          "name": "stderr",
          "output_type": "stream",
          "text": [
            "\rProcessing sentences:  11%|█         | 11/100 [04:16<36:19, 24.49s/it]"
          ]
        },
        {
          "name": "stdout",
          "output_type": "stream",
          "text": [
            "\n",
            "Processing sentence 12/100...\n",
            "  Stage 1: Extracting events...\n",
            "  ✓ Found 3 events\n",
            "  Stage 2: Extracting arguments for each event...\n",
            "    Processing event 1/3: Add\n",
            "    Processing event 2/3: Stir\n",
            "    Processing event 3/3: Age\n",
            "  ✓ Completed - Events: 3, Total arguments: 5\n",
            "  ✓ Success - API calls for this sentence: 4\n",
            "  Sleeping for 10.4 seconds before next sentence...\n"
          ]
        },
        {
          "name": "stderr",
          "output_type": "stream",
          "text": [
            "\rProcessing sentences:  12%|█▏        | 12/100 [04:50<40:12, 27.42s/it]"
          ]
        },
        {
          "name": "stdout",
          "output_type": "stream",
          "text": [
            "\n",
            "Processing sentence 13/100...\n",
            "  Stage 1: Extracting events...\n",
            "  ✓ Found 1 events\n",
            "  Stage 2: Extracting arguments for each event...\n",
            "    Processing event 1/1: Dry\n",
            "  ✓ Completed - Events: 1, Total arguments: 2\n",
            "  ✓ Success - API calls for this sentence: 2\n",
            "  Sleeping for 9.1 seconds before next sentence...\n"
          ]
        },
        {
          "name": "stderr",
          "output_type": "stream",
          "text": [
            "\rProcessing sentences:  13%|█▎        | 13/100 [05:04<33:39, 23.21s/it]"
          ]
        },
        {
          "name": "stdout",
          "output_type": "stream",
          "text": [
            "\n",
            "Processing sentence 14/100...\n",
            "  Stage 1: Extracting events...\n",
            "  ✓ Found 1 events\n",
            "  Stage 2: Extracting arguments for each event...\n",
            "    Processing event 1/1: Synthesize\n",
            "  ✓ Completed - Events: 1, Total arguments: 2\n",
            "  ✓ Success - API calls for this sentence: 2\n",
            "  Sleeping for 8.0 seconds before next sentence...\n"
          ]
        },
        {
          "name": "stderr",
          "output_type": "stream",
          "text": [
            "\rProcessing sentences:  14%|█▍        | 14/100 [05:16<28:30, 19.89s/it]"
          ]
        },
        {
          "name": "stdout",
          "output_type": "stream",
          "text": [
            "\n",
            "Processing sentence 15/100...\n",
            "  Stage 1: Extracting events...\n",
            "  ✓ Found 2 events\n",
            "  Stage 2: Extracting arguments for each event...\n",
            "    Processing event 1/2: Add\n",
            "    Processing event 2/2: Stir\n",
            "  ✓ Completed - Events: 2, Total arguments: 4\n",
            "  ✓ Success - API calls for this sentence: 3\n",
            "  Sleeping for 10.7 seconds before next sentence...\n"
          ]
        },
        {
          "name": "stderr",
          "output_type": "stream",
          "text": [
            "\rProcessing sentences:  15%|█▌        | 15/100 [05:36<28:17, 19.98s/it]"
          ]
        },
        {
          "name": "stdout",
          "output_type": "stream",
          "text": [
            "\n",
            "Processing sentence 16/100...\n",
            "  Stage 1: Extracting events...\n",
            "  ✓ Found 3 events\n",
            "  Stage 2: Extracting arguments for each event...\n",
            "    Processing event 1/3: Set pH\n",
            "    Processing event 2/3: Add\n",
            "    Processing event 3/3: React\n",
            "  ✓ Completed - Events: 3, Total arguments: 6\n",
            "  ✓ Success - API calls for this sentence: 4\n",
            "  Sleeping for 9.0 seconds before next sentence...\n"
          ]
        },
        {
          "name": "stderr",
          "output_type": "stream",
          "text": [
            "\rProcessing sentences:  16%|█▌        | 16/100 [06:05<31:31, 22.52s/it]"
          ]
        },
        {
          "name": "stdout",
          "output_type": "stream",
          "text": [
            "\n",
            "Processing sentence 17/100...\n",
            "  Stage 1: Extracting events...\n",
            "  ✓ Found 4 events\n",
            "  Stage 2: Extracting arguments for each event...\n",
            "    Processing event 1/4: Age\n",
            "    Processing event 2/4: Stir\n",
            "    Processing event 3/4: Transfer\n",
            "    Processing event 4/4: Heat\n",
            "  ✓ Completed - Events: 4, Total arguments: 11\n",
            "  ✓ Success - API calls for this sentence: 5\n",
            "  Sleeping for 11.3 seconds before next sentence...\n"
          ]
        },
        {
          "name": "stderr",
          "output_type": "stream",
          "text": [
            "\rProcessing sentences:  17%|█▋        | 17/100 [06:36<34:37, 25.03s/it]"
          ]
        },
        {
          "name": "stdout",
          "output_type": "stream",
          "text": [
            "\n",
            "Processing sentence 18/100...\n",
            "  Stage 1: Extracting events...\n",
            "  ✓ Found 2 events\n",
            "  Stage 2: Extracting arguments for each event...\n",
            "    Processing event 1/2: Wash\n",
            "    Processing event 2/2: Calcine\n",
            "  ✓ Completed - Events: 2, Total arguments: 5\n",
            "  ✓ Success - API calls for this sentence: 3\n",
            "  Sleeping for 10.6 seconds before next sentence...\n"
          ]
        },
        {
          "name": "stderr",
          "output_type": "stream",
          "text": [
            "\rProcessing sentences:  18%|█▊        | 18/100 [06:58<33:12, 24.30s/it]"
          ]
        },
        {
          "name": "stdout",
          "output_type": "stream",
          "text": [
            "\n",
            "Processing sentence 19/100...\n",
            "  Stage 1: Extracting events...\n",
            "  ✓ Found 2 events\n",
            "  Stage 2: Extracting arguments for each event...\n",
            "    Processing event 1/2: Dissolve\n",
            "    Processing event 2/2: Add\n",
            "  ✓ Completed - Events: 2, Total arguments: 4\n",
            "  ✓ Success - API calls for this sentence: 3\n",
            "  Sleeping for 8.6 seconds before next sentence...\n"
          ]
        },
        {
          "name": "stderr",
          "output_type": "stream",
          "text": [
            "\rProcessing sentences:  19%|█▉        | 19/100 [07:17<30:30, 22.60s/it]"
          ]
        },
        {
          "name": "stdout",
          "output_type": "stream",
          "text": [
            "\n",
            "Processing sentence 20/100...\n",
            "  Stage 1: Extracting events...\n",
            "  ✓ Found 1 events\n",
            "  Stage 2: Extracting arguments for each event...\n",
            "    Processing event 1/1: Add\n",
            "  ✓ Completed - Events: 1, Total arguments: 2\n",
            "  ✓ Success - API calls for this sentence: 2\n",
            "  Sleeping for 9.6 seconds before next sentence...\n"
          ]
        },
        {
          "name": "stderr",
          "output_type": "stream",
          "text": [
            "\rProcessing sentences:  20%|██        | 20/100 [07:33<27:31, 20.64s/it]"
          ]
        },
        {
          "name": "stdout",
          "output_type": "stream",
          "text": [
            "\n",
            "Processing sentence 21/100...\n",
            "  Stage 1: Extracting events...\n",
            "  ✓ Found 4 events\n",
            "  Stage 2: Extracting arguments for each event...\n",
            "    Processing event 1/4: Stir\n",
            "    Processing event 2/4: Transfer\n",
            "    Processing event 3/4: Heat\n",
            "    Processing event 4/4: Heat\n",
            "  ✓ Completed - Events: 4, Total arguments: 9\n",
            "  ✓ Success - API calls for this sentence: 5\n",
            "  Sleeping for 9.5 seconds before next sentence...\n"
          ]
        },
        {
          "name": "stderr",
          "output_type": "stream",
          "text": [
            "\rProcessing sentences:  21%|██        | 21/100 [08:04<31:24, 23.86s/it]"
          ]
        },
        {
          "name": "stdout",
          "output_type": "stream",
          "text": [
            "\n",
            "Processing sentence 22/100...\n",
            "  Stage 1: Extracting events...\n",
            "  ✓ Found 3 events\n",
            "  Stage 2: Extracting arguments for each event...\n",
            "    Processing event 1/3: Stir\n",
            "    Processing event 2/3: Transfer\n",
            "    Processing event 3/3: Age\n",
            "  ✓ Completed - Events: 3, Total arguments: 6\n",
            "  ✓ Success - API calls for this sentence: 4\n",
            "  Sleeping for 9.6 seconds before next sentence...\n"
          ]
        },
        {
          "name": "stderr",
          "output_type": "stream",
          "text": [
            "\rProcessing sentences:  22%|██▏       | 22/100 [08:29<31:32, 24.26s/it]"
          ]
        },
        {
          "name": "stdout",
          "output_type": "stream",
          "text": [
            "\n",
            "Processing sentence 23/100...\n",
            "  Stage 1: Extracting events...\n",
            "  ✓ Found 4 events\n",
            "  Stage 2: Extracting arguments for each event...\n",
            "    Processing event 1/4: Crystallize\n",
            "    Processing event 2/4: Particle Recovery\n",
            "    Processing event 3/4: Wash\n",
            "    Processing event 4/4: Dry\n",
            "  ✓ Completed - Events: 4, Total arguments: 8\n",
            "  ✓ Success - API calls for this sentence: 5\n",
            "  Sleeping for 9.2 seconds before next sentence...\n"
          ]
        },
        {
          "name": "stderr",
          "output_type": "stream",
          "text": [
            "\rProcessing sentences:  23%|██▎       | 23/100 [09:03<34:42, 27.05s/it]"
          ]
        },
        {
          "name": "stdout",
          "output_type": "stream",
          "text": [
            "\n",
            "Processing sentence 24/100...\n",
            "  Stage 1: Extracting events...\n",
            "  ✓ Found 2 events\n",
            "  Stage 2: Extracting arguments for each event...\n",
            "    Processing event 1/2: Calcine\n",
            "    Processing event 2/2: Add\n",
            "  ✓ Completed - Events: 2, Total arguments: 6\n",
            "  ✓ Success - API calls for this sentence: 3\n",
            "  Sleeping for 8.4 seconds before next sentence...\n"
          ]
        },
        {
          "name": "stderr",
          "output_type": "stream",
          "text": [
            "\rProcessing sentences:  24%|██▍       | 24/100 [09:22<31:02, 24.51s/it]"
          ]
        },
        {
          "name": "stdout",
          "output_type": "stream",
          "text": [
            "\n",
            "Processing sentence 25/100...\n",
            "  Stage 1: Extracting events...\n",
            "  ✓ Found 1 events\n",
            "  Stage 2: Extracting arguments for each event...\n",
            "    Processing event 1/1: Add\n",
            "  ✓ Completed - Events: 1, Total arguments: 2\n",
            "  ✓ Success - API calls for this sentence: 2\n",
            "  Sleeping for 8.6 seconds before next sentence...\n"
          ]
        },
        {
          "name": "stderr",
          "output_type": "stream",
          "text": [
            "\rProcessing sentences:  25%|██▌       | 25/100 [09:34<26:08, 20.92s/it]"
          ]
        },
        {
          "name": "stdout",
          "output_type": "stream",
          "text": [
            "\n",
            "Processing sentence 26/100...\n",
            "  Stage 1: Extracting events...\n",
            "  ✓ Found 1 events\n",
            "  Stage 2: Extracting arguments for each event...\n",
            "    Processing event 1/1: Add\n",
            "  ✓ Completed - Events: 1, Total arguments: 2\n",
            "  ✓ Success - API calls for this sentence: 2\n",
            "  Sleeping for 9.8 seconds before next sentence...\n"
          ]
        },
        {
          "name": "stderr",
          "output_type": "stream",
          "text": [
            "\rProcessing sentences:  26%|██▌       | 26/100 [09:49<23:27, 19.02s/it]"
          ]
        },
        {
          "name": "stdout",
          "output_type": "stream",
          "text": [
            "\n",
            "Processing sentence 27/100...\n",
            "  Stage 1: Extracting events...\n",
            "  ✓ Found 1 events\n",
            "  Stage 2: Extracting arguments for each event...\n",
            "    Processing event 1/1: Calcine\n",
            "  ✓ Completed - Events: 1, Total arguments: 3\n",
            "  ✓ Success - API calls for this sentence: 2\n",
            "  Sleeping for 10.0 seconds before next sentence...\n"
          ]
        },
        {
          "name": "stderr",
          "output_type": "stream",
          "text": [
            "\rProcessing sentences:  27%|██▋       | 27/100 [10:04<21:36, 17.76s/it]"
          ]
        },
        {
          "name": "stdout",
          "output_type": "stream",
          "text": [
            "\n",
            "Processing sentence 28/100...\n",
            "  Stage 1: Extracting events...\n",
            "  ✓ Found 1 events\n",
            "  Stage 2: Extracting arguments for each event...\n",
            "    Processing event 1/1: Calcine\n",
            "  ✓ Completed - Events: 1, Total arguments: 4\n",
            "  ✓ Success - API calls for this sentence: 2\n",
            "  Sleeping for 11.9 seconds before next sentence...\n"
          ]
        },
        {
          "name": "stderr",
          "output_type": "stream",
          "text": [
            "\rProcessing sentences:  28%|██▊       | 28/100 [10:20<20:46, 17.32s/it]"
          ]
        },
        {
          "name": "stdout",
          "output_type": "stream",
          "text": [
            "\n",
            "Processing sentence 29/100...\n",
            "  Stage 1: Extracting events...\n",
            "  ✓ Found 2 events\n",
            "  Stage 2: Extracting arguments for each event...\n",
            "    Processing event 1/2: Calcine\n",
            "    Processing event 2/2: Particle Recovery\n",
            "  ✓ Completed - Events: 2, Total arguments: 3\n",
            "  ✓ Success - API calls for this sentence: 3\n",
            "  Sleeping for 8.5 seconds before next sentence...\n"
          ]
        },
        {
          "name": "stderr",
          "output_type": "stream",
          "text": [
            "\rProcessing sentences:  29%|██▉       | 29/100 [10:38<20:40, 17.47s/it]"
          ]
        },
        {
          "name": "stdout",
          "output_type": "stream",
          "text": [
            "\n",
            "Processing sentence 30/100...\n",
            "  Stage 1: Extracting events...\n",
            "  ✓ Found 2 events\n",
            "  Stage 2: Extracting arguments for each event...\n",
            "    Processing event 1/2: Add\n",
            "    Processing event 2/2: Mix\n",
            "  ✓ Completed - Events: 2, Total arguments: 5\n",
            "  ✓ Success - API calls for this sentence: 3\n",
            "  Sleeping for 9.7 seconds before next sentence...\n"
          ]
        },
        {
          "name": "stderr",
          "output_type": "stream",
          "text": [
            "\rProcessing sentences:  30%|███       | 30/100 [10:59<21:41, 18.59s/it]"
          ]
        },
        {
          "name": "stdout",
          "output_type": "stream",
          "text": [
            "\n",
            "Processing sentence 31/100...\n",
            "  Stage 1: Extracting events...\n",
            "  ✓ Found 2 events\n",
            "  Stage 2: Extracting arguments for each event...\n",
            "    Processing event 1/2: Add\n",
            "    Processing event 2/2: Stir\n",
            "  ✓ Completed - Events: 2, Total arguments: 3\n",
            "  ✓ Success - API calls for this sentence: 3\n",
            "  Sleeping for 8.9 seconds before next sentence...\n"
          ]
        },
        {
          "name": "stderr",
          "output_type": "stream",
          "text": [
            "\rProcessing sentences:  31%|███       | 31/100 [11:20<22:24, 19.48s/it]"
          ]
        },
        {
          "name": "stdout",
          "output_type": "stream",
          "text": [
            "\n",
            "Processing sentence 32/100...\n",
            "  Stage 1: Extracting events...\n",
            "  ✓ Found 3 events\n",
            "  Stage 2: Extracting arguments for each event...\n",
            "    Processing event 1/3: Add\n",
            "    Processing event 2/3: Add\n",
            "    Processing event 3/3: Stir\n",
            "  ✓ Completed - Events: 3, Total arguments: 6\n",
            "  ✓ Success - API calls for this sentence: 4\n",
            "  Sleeping for 9.3 seconds before next sentence...\n"
          ]
        },
        {
          "name": "stderr",
          "output_type": "stream",
          "text": [
            "\rProcessing sentences:  32%|███▏      | 32/100 [11:46<24:10, 21.33s/it]"
          ]
        },
        {
          "name": "stdout",
          "output_type": "stream",
          "text": [
            "\n",
            "Processing sentence 33/100...\n",
            "  Stage 1: Extracting events...\n",
            "  ✓ Found 1 events\n",
            "  Stage 2: Extracting arguments for each event...\n",
            "    Processing event 1/1: Add\n",
            "  ✓ Completed - Events: 1, Total arguments: 2\n",
            "  ✓ Success - API calls for this sentence: 2\n",
            "  Sleeping for 11.6 seconds before next sentence...\n"
          ]
        },
        {
          "name": "stderr",
          "output_type": "stream",
          "text": [
            "\rProcessing sentences:  33%|███▎      | 33/100 [12:02<21:50, 19.56s/it]"
          ]
        },
        {
          "name": "stdout",
          "output_type": "stream",
          "text": [
            "\n",
            "Processing sentence 34/100...\n",
            "  Stage 1: Extracting events...\n",
            "  ✓ Found 3 events\n",
            "  Stage 2: Extracting arguments for each event...\n",
            "    Processing event 1/3: Seal\n",
            "    Processing event 2/3: Transfer\n",
            "    Processing event 3/3: Heat\n",
            "  ✓ Completed - Events: 3, Total arguments: 7\n",
            "  ✓ Success - API calls for this sentence: 4\n",
            "  Sleeping for 8.6 seconds before next sentence...\n"
          ]
        },
        {
          "name": "stderr",
          "output_type": "stream",
          "text": [
            "\rProcessing sentences:  34%|███▍      | 34/100 [12:27<23:31, 21.39s/it]"
          ]
        },
        {
          "name": "stdout",
          "output_type": "stream",
          "text": [
            "\n",
            "Processing sentence 35/100...\n",
            "  Stage 1: Extracting events...\n",
            "  ✓ Found 3 events\n",
            "  Stage 2: Extracting arguments for each event...\n",
            "    Processing event 1/3: Wash\n",
            "    Processing event 2/3: Dry\n",
            "    Processing event 3/3: Calcine\n",
            "  ✓ Completed - Events: 3, Total arguments: 8\n",
            "  ✓ Success - API calls for this sentence: 4\n",
            "  Sleeping for 10.6 seconds before next sentence...\n"
          ]
        },
        {
          "name": "stderr",
          "output_type": "stream",
          "text": [
            "\rProcessing sentences:  35%|███▌      | 35/100 [12:55<25:14, 23.30s/it]"
          ]
        },
        {
          "name": "stdout",
          "output_type": "stream",
          "text": [
            "\n",
            "Processing sentence 36/100...\n",
            "  Stage 1: Extracting events...\n",
            "  ✓ Found 3 events\n",
            "  Stage 2: Extracting arguments for each event...\n",
            "    Processing event 1/3: Stir\n",
            "    Processing event 2/3: Add\n",
            "    Processing event 3/3: Stir\n",
            "  ✓ Completed - Events: 3, Total arguments: 6\n",
            "  ✓ Success - API calls for this sentence: 4\n",
            "  Sleeping for 11.1 seconds before next sentence...\n"
          ]
        },
        {
          "name": "stderr",
          "output_type": "stream",
          "text": [
            "\rProcessing sentences:  36%|███▌      | 36/100 [13:25<27:03, 25.36s/it]"
          ]
        },
        {
          "name": "stdout",
          "output_type": "stream",
          "text": [
            "\n",
            "Processing sentence 37/100...\n",
            "  Stage 1: Extracting events...\n",
            "  ✓ Found 1 events\n",
            "  Stage 2: Extracting arguments for each event...\n",
            "    Processing event 1/1: React\n",
            "  ✓ Completed - Events: 1, Total arguments: 2\n",
            "  ✓ Success - API calls for this sentence: 2\n",
            "  Sleeping for 8.2 seconds before next sentence...\n"
          ]
        },
        {
          "name": "stderr",
          "output_type": "stream",
          "text": [
            "\rProcessing sentences:  37%|███▋      | 37/100 [13:40<23:11, 22.08s/it]"
          ]
        },
        {
          "name": "stdout",
          "output_type": "stream",
          "text": [
            "\n",
            "Processing sentence 38/100...\n",
            "  Stage 1: Extracting events...\n",
            "  ✓ Found 2 events\n",
            "  Stage 2: Extracting arguments for each event...\n",
            "    Processing event 1/2: Seal\n",
            "    Processing event 2/2: Heat\n",
            "  ✓ Completed - Events: 2, Total arguments: 5\n",
            "  ✓ Success - API calls for this sentence: 3\n",
            "  Sleeping for 8.8 seconds before next sentence...\n"
          ]
        },
        {
          "name": "stderr",
          "output_type": "stream",
          "text": [
            "\rProcessing sentences:  38%|███▊      | 38/100 [14:00<22:17, 21.56s/it]"
          ]
        },
        {
          "name": "stdout",
          "output_type": "stream",
          "text": [
            "\n",
            "Processing sentence 39/100...\n",
            "  Stage 1: Extracting events...\n",
            "  ✓ Found 1 events\n",
            "  Stage 2: Extracting arguments for each event...\n",
            "    Processing event 1/1: Add\n",
            "  ✓ Completed - Events: 1, Total arguments: 3\n",
            "  ✓ Success - API calls for this sentence: 2\n",
            "  Sleeping for 8.4 seconds before next sentence...\n"
          ]
        },
        {
          "name": "stderr",
          "output_type": "stream",
          "text": [
            "\rProcessing sentences:  39%|███▉      | 39/100 [14:12<19:07, 18.82s/it]"
          ]
        },
        {
          "name": "stdout",
          "output_type": "stream",
          "text": [
            "\n",
            "Processing sentence 40/100...\n",
            "  Stage 1: Extracting events...\n",
            "  ✓ Found 1 events\n",
            "  Stage 2: Extracting arguments for each event...\n",
            "    Processing event 1/1: Add\n",
            "  ✓ Completed - Events: 1, Total arguments: 2\n",
            "  ✓ Success - API calls for this sentence: 2\n",
            "  Sleeping for 11.6 seconds before next sentence...\n"
          ]
        },
        {
          "name": "stderr",
          "output_type": "stream",
          "text": [
            "\rProcessing sentences:  40%|████      | 40/100 [14:28<17:59, 18.00s/it]"
          ]
        },
        {
          "name": "stdout",
          "output_type": "stream",
          "text": [
            "\n",
            "Processing sentence 41/100...\n",
            "  Stage 1: Extracting events...\n",
            "  ✓ Found 2 events\n",
            "  Stage 2: Extracting arguments for each event...\n",
            "    Processing event 1/2: Stir\n",
            "    Processing event 2/2: Add\n",
            "  ✓ Completed - Events: 2, Total arguments: 2\n",
            "  ✓ Success - API calls for this sentence: 3\n",
            "  Sleeping for 8.4 seconds before next sentence...\n"
          ]
        },
        {
          "name": "stderr",
          "output_type": "stream",
          "text": [
            "\rProcessing sentences:  41%|████      | 41/100 [14:47<17:48, 18.12s/it]"
          ]
        },
        {
          "name": "stdout",
          "output_type": "stream",
          "text": [
            "\n",
            "Processing sentence 42/100...\n",
            "  Stage 1: Extracting events...\n",
            "  ✓ Found 1 events\n",
            "  Stage 2: Extracting arguments for each event...\n",
            "    Processing event 1/1: Add\n",
            "  ✓ Completed - Events: 1, Total arguments: 2\n",
            "  ✓ Success - API calls for this sentence: 2\n",
            "  Sleeping for 9.1 seconds before next sentence...\n"
          ]
        },
        {
          "name": "stderr",
          "output_type": "stream",
          "text": [
            "\rProcessing sentences:  42%|████▏     | 42/100 [15:01<16:15, 16.82s/it]"
          ]
        },
        {
          "name": "stdout",
          "output_type": "stream",
          "text": [
            "\n",
            "Processing sentence 43/100...\n",
            "  Stage 1: Extracting events...\n",
            "  ✓ Found 4 events\n",
            "  Stage 2: Extracting arguments for each event...\n",
            "    Processing event 1/4: Stir\n",
            "    Processing event 2/4: Transfer\n",
            "    Processing event 3/4: Crystallize\n",
            "    Processing event 4/4: Rotate\n",
            "  ✓ Completed - Events: 4, Total arguments: 8\n",
            "  ✓ Success - API calls for this sentence: 5\n",
            "  Sleeping for 11.7 seconds before next sentence...\n"
          ]
        },
        {
          "name": "stderr",
          "output_type": "stream",
          "text": [
            "\rProcessing sentences:  43%|████▎     | 43/100 [15:34<20:37, 21.72s/it]"
          ]
        },
        {
          "name": "stdout",
          "output_type": "stream",
          "text": [
            "\n",
            "Processing sentence 44/100...\n",
            "  Stage 1: Extracting events...\n",
            "  ✓ Found 4 events\n",
            "  Stage 2: Extracting arguments for each event...\n",
            "    Processing event 1/4: Particle Recovery\n",
            "    Processing event 2/4: Wash\n",
            "    Processing event 3/4: Dry\n",
            "    Processing event 4/4: Calcine\n",
            "  ✓ Completed - Events: 4, Total arguments: 6\n",
            "  ✓ Success - API calls for this sentence: 5\n",
            "  Sleeping for 11.8 seconds before next sentence...\n"
          ]
        },
        {
          "name": "stderr",
          "output_type": "stream",
          "text": [
            "\rProcessing sentences:  44%|████▍     | 44/100 [16:07<23:27, 25.13s/it]"
          ]
        },
        {
          "name": "stdout",
          "output_type": "stream",
          "text": [
            "\n",
            "Processing sentence 45/100...\n",
            "  Stage 1: Extracting events...\n",
            "  ✓ Found 2 events\n",
            "  Stage 2: Extracting arguments for each event...\n",
            "    Processing event 1/2: Stir\n",
            "    Processing event 2/2: Calcine\n",
            "  ✓ Completed - Events: 2, Total arguments: 7\n",
            "  ✓ Success - API calls for this sentence: 3\n",
            "  Sleeping for 8.7 seconds before next sentence...\n"
          ]
        },
        {
          "name": "stderr",
          "output_type": "stream",
          "text": [
            "\rProcessing sentences:  45%|████▌     | 45/100 [16:25<21:09, 23.08s/it]"
          ]
        },
        {
          "name": "stdout",
          "output_type": "stream",
          "text": [
            "\n",
            "Processing sentence 46/100...\n",
            "  Stage 1: Extracting events...\n",
            "  ✓ Found 3 events\n",
            "  Stage 2: Extracting arguments for each event...\n",
            "    Processing event 1/3: Add\n",
            "    Processing event 2/3: Stir\n",
            "    Processing event 3/3: Calcine\n",
            "  ✓ Completed - Events: 3, Total arguments: 8\n",
            "  ✓ Success - API calls for this sentence: 4\n",
            "  Sleeping for 10.4 seconds before next sentence...\n"
          ]
        },
        {
          "name": "stderr",
          "output_type": "stream",
          "text": [
            "\rProcessing sentences:  46%|████▌     | 46/100 [16:52<21:46, 24.20s/it]"
          ]
        },
        {
          "name": "stdout",
          "output_type": "stream",
          "text": [
            "\n",
            "Processing sentence 47/100...\n",
            "  Stage 1: Extracting events...\n",
            "  ✓ Found 2 events\n",
            "  Stage 2: Extracting arguments for each event...\n",
            "    Processing event 1/2: Add\n",
            "    Processing event 2/2: Add\n",
            "  ✓ Completed - Events: 2, Total arguments: 4\n",
            "  ✓ Success - API calls for this sentence: 3\n",
            "  Sleeping for 10.3 seconds before next sentence...\n"
          ]
        },
        {
          "name": "stderr",
          "output_type": "stream",
          "text": [
            "\rProcessing sentences:  47%|████▋     | 47/100 [17:12<20:15, 22.93s/it]"
          ]
        },
        {
          "name": "stdout",
          "output_type": "stream",
          "text": [
            "\n",
            "Processing sentence 48/100...\n",
            "  Stage 1: Extracting events...\n",
            "  ✓ Found 1 events\n",
            "  Stage 2: Extracting arguments for each event...\n",
            "    Processing event 1/1: Particle Recovery\n",
            "  ✓ Completed - Events: 1, Total arguments: 1\n",
            "  ✓ Success - API calls for this sentence: 2\n",
            "  Sleeping for 10.5 seconds before next sentence...\n"
          ]
        },
        {
          "name": "stderr",
          "output_type": "stream",
          "text": [
            "\rProcessing sentences:  48%|████▊     | 48/100 [17:27<17:44, 20.47s/it]"
          ]
        },
        {
          "name": "stdout",
          "output_type": "stream",
          "text": [
            "\n",
            "Processing sentence 49/100...\n",
            "  Stage 1: Extracting events...\n",
            "  ✓ Found 1 events\n",
            "  Stage 2: Extracting arguments for each event...\n",
            "    Processing event 1/1: Add\n",
            "  ✓ Completed - Events: 1, Total arguments: 3\n",
            "  ✓ Success - API calls for this sentence: 2\n",
            "  Sleeping for 10.9 seconds before next sentence...\n"
          ]
        },
        {
          "name": "stderr",
          "output_type": "stream",
          "text": [
            "\rProcessing sentences:  49%|████▉     | 49/100 [17:42<16:02, 18.86s/it]"
          ]
        },
        {
          "name": "stdout",
          "output_type": "stream",
          "text": [
            "\n",
            "Processing sentence 50/100...\n",
            "  Stage 1: Extracting events...\n",
            "  ✓ Found 2 events\n",
            "  Stage 2: Extracting arguments for each event...\n",
            "    Processing event 1/2: Add\n",
            "    Processing event 2/2: Stir\n",
            "  ✓ Completed - Events: 2, Total arguments: 2\n",
            "  ✓ Success - API calls for this sentence: 3\n",
            "  Sleeping for 11.6 seconds before next sentence...\n"
          ]
        },
        {
          "name": "stderr",
          "output_type": "stream",
          "text": [
            "\rProcessing sentences:  50%|█████     | 50/100 [18:03<16:20, 19.60s/it]"
          ]
        },
        {
          "name": "stdout",
          "output_type": "stream",
          "text": [
            "\n",
            "Processing sentence 51/100...\n",
            "  Stage 1: Extracting events...\n",
            "  ✓ Found 1 events\n",
            "  Stage 2: Extracting arguments for each event...\n",
            "    Processing event 1/1: Particle Recovery\n",
            "  ✓ Completed - Events: 1, Total arguments: 2\n",
            "  ✓ Success - API calls for this sentence: 2\n",
            "  Sleeping for 11.2 seconds before next sentence...\n"
          ]
        },
        {
          "name": "stderr",
          "output_type": "stream",
          "text": [
            "\rProcessing sentences:  51%|█████     | 51/100 [18:18<14:54, 18.26s/it]"
          ]
        },
        {
          "name": "stdout",
          "output_type": "stream",
          "text": [
            "\n",
            "Processing sentence 52/100...\n",
            "  Stage 1: Extracting events...\n",
            "  ✓ Found 2 events\n",
            "  Stage 2: Extracting arguments for each event...\n",
            "    Processing event 1/2: Wash\n",
            "    Processing event 2/2: Add\n",
            "  ✓ Completed - Events: 2, Total arguments: 4\n",
            "  ✓ Success - API calls for this sentence: 3\n",
            "  Sleeping for 11.1 seconds before next sentence...\n"
          ]
        },
        {
          "name": "stderr",
          "output_type": "stream",
          "text": [
            "\rProcessing sentences:  52%|█████▏    | 52/100 [18:39<15:12, 19.01s/it]"
          ]
        },
        {
          "name": "stdout",
          "output_type": "stream",
          "text": [
            "\n",
            "Processing sentence 53/100...\n",
            "  Stage 1: Extracting events...\n",
            "  ✓ Found 2 events\n",
            "  Stage 2: Extracting arguments for each event...\n",
            "    Processing event 1/2: Add\n",
            "    Processing event 2/2: Add\n",
            "  ✓ Completed - Events: 2, Total arguments: 4\n",
            "  ✓ Success - API calls for this sentence: 3\n",
            "  Sleeping for 8.5 seconds before next sentence...\n"
          ]
        },
        {
          "name": "stderr",
          "output_type": "stream",
          "text": [
            "\rProcessing sentences:  53%|█████▎    | 53/100 [18:58<14:47, 18.88s/it]"
          ]
        },
        {
          "name": "stdout",
          "output_type": "stream",
          "text": [
            "\n",
            "Processing sentence 54/100...\n",
            "  Stage 1: Extracting events...\n",
            "  ✓ Found 1 events\n",
            "  Stage 2: Extracting arguments for each event...\n",
            "    Processing event 1/1: Stir\n",
            "  ✓ Completed - Events: 1, Total arguments: 2\n",
            "  ✓ Success - API calls for this sentence: 2\n",
            "  Sleeping for 9.7 seconds before next sentence...\n"
          ]
        },
        {
          "name": "stderr",
          "output_type": "stream",
          "text": [
            "\rProcessing sentences:  54%|█████▍    | 54/100 [19:13<13:38, 17.79s/it]"
          ]
        },
        {
          "name": "stdout",
          "output_type": "stream",
          "text": [
            "\n",
            "Processing sentence 55/100...\n",
            "  Stage 1: Extracting events...\n",
            "  ✓ Found 1 events\n",
            "  Stage 2: Extracting arguments for each event...\n",
            "    Processing event 1/1: Heat\n",
            "  ✓ Completed - Events: 1, Total arguments: 3\n",
            "  ✓ Success - API calls for this sentence: 2\n",
            "  Sleeping for 11.1 seconds before next sentence...\n"
          ]
        },
        {
          "name": "stderr",
          "output_type": "stream",
          "text": [
            "\rProcessing sentences:  55%|█████▌    | 55/100 [19:28<12:41, 16.93s/it]"
          ]
        },
        {
          "name": "stdout",
          "output_type": "stream",
          "text": [
            "\n",
            "Processing sentence 56/100...\n",
            "  Stage 1: Extracting events...\n",
            "  ✓ Found 2 events\n",
            "  Stage 2: Extracting arguments for each event...\n",
            "    Processing event 1/2: Particle Recovery\n",
            "    Processing event 2/2: Wash\n",
            "  ✓ Completed - Events: 2, Total arguments: 3\n",
            "  ✓ Success - API calls for this sentence: 3\n",
            "  Sleeping for 11.6 seconds before next sentence...\n"
          ]
        },
        {
          "name": "stderr",
          "output_type": "stream",
          "text": [
            "\rProcessing sentences:  56%|█████▌    | 56/100 [19:51<13:44, 18.75s/it]"
          ]
        },
        {
          "name": "stdout",
          "output_type": "stream",
          "text": [
            "\n",
            "Processing sentence 57/100...\n",
            "  Stage 1: Extracting events...\n",
            "  ✓ Found 2 events\n",
            "  Stage 2: Extracting arguments for each event...\n",
            "    Processing event 1/2: Add\n",
            "    Processing event 2/2: Stir\n",
            "  ✓ Completed - Events: 2, Total arguments: 4\n",
            "  ✓ Success - API calls for this sentence: 3\n",
            "  Sleeping for 11.5 seconds before next sentence...\n"
          ]
        },
        {
          "name": "stderr",
          "output_type": "stream",
          "text": [
            "\rProcessing sentences:  57%|█████▋    | 57/100 [20:13<14:13, 19.84s/it]"
          ]
        },
        {
          "name": "stdout",
          "output_type": "stream",
          "text": [
            "\n",
            "Processing sentence 58/100...\n",
            "  Stage 1: Extracting events...\n",
            "  ✓ Found 2 events\n",
            "  Stage 2: Extracting arguments for each event...\n",
            "    Processing event 1/2: Heat\n",
            "    Processing event 2/2: Age\n",
            "  ✓ Completed - Events: 2, Total arguments: 3\n",
            "  ✓ Success - API calls for this sentence: 3\n",
            "  Sleeping for 8.9 seconds before next sentence...\n"
          ]
        },
        {
          "name": "stderr",
          "output_type": "stream",
          "text": [
            "\rProcessing sentences:  58%|█████▊    | 58/100 [20:32<13:40, 19.55s/it]"
          ]
        },
        {
          "name": "stdout",
          "output_type": "stream",
          "text": [
            "\n",
            "Processing sentence 59/100...\n",
            "  Stage 1: Extracting events...\n",
            "  ✓ Found 1 events\n",
            "  Stage 2: Extracting arguments for each event...\n",
            "    Processing event 1/1: Add\n",
            "  ✓ Completed - Events: 1, Total arguments: 2\n",
            "  ✓ Success - API calls for this sentence: 2\n",
            "  Sleeping for 11.1 seconds before next sentence...\n"
          ]
        },
        {
          "name": "stderr",
          "output_type": "stream",
          "text": [
            "\rProcessing sentences:  59%|█████▉    | 59/100 [20:50<13:00, 19.04s/it]"
          ]
        },
        {
          "name": "stdout",
          "output_type": "stream",
          "text": [
            "\n",
            "Processing sentence 60/100...\n",
            "  Stage 1: Extracting events...\n",
            "  ✓ Found 2 events\n",
            "  Stage 2: Extracting arguments for each event...\n",
            "    Processing event 1/2: Add\n",
            "    Processing event 2/2: Stir\n",
            "  ✓ Completed - Events: 2, Total arguments: 5\n",
            "  ✓ Success - API calls for this sentence: 3\n",
            "  Sleeping for 9.9 seconds before next sentence...\n"
          ]
        },
        {
          "name": "stderr",
          "output_type": "stream",
          "text": [
            "\rProcessing sentences:  60%|██████    | 60/100 [21:10<13:01, 19.54s/it]"
          ]
        },
        {
          "name": "stdout",
          "output_type": "stream",
          "text": [
            "\n",
            "Processing sentence 61/100...\n",
            "  Stage 1: Extracting events...\n",
            "  ✓ Found 3 events\n",
            "  Stage 2: Extracting arguments for each event...\n",
            "    Processing event 1/3: Heat\n",
            "    Processing event 2/3: Age\n",
            "    Processing event 3/3: Crystallize\n",
            "  ✓ Completed - Events: 3, Total arguments: 5\n",
            "  ✓ Success - API calls for this sentence: 4\n",
            "  Sleeping for 9.2 seconds before next sentence...\n"
          ]
        },
        {
          "name": "stderr",
          "output_type": "stream",
          "text": [
            "\rProcessing sentences:  61%|██████    | 61/100 [21:37<14:08, 21.77s/it]"
          ]
        },
        {
          "name": "stdout",
          "output_type": "stream",
          "text": [
            "\n",
            "Processing sentence 62/100...\n",
            "  Stage 1: Extracting events...\n",
            "  ✓ Found 5 events\n",
            "  Stage 2: Extracting arguments for each event...\n",
            "    Processing event 1/5: Particle Recovery\n",
            "    Processing event 2/5: Wash\n",
            "    Processing event 3/5: Calcine\n",
            "    Processing event 4/5: Add\n",
            "    Processing event 5/5: Stir\n",
            "  ✓ Completed - Events: 5, Total arguments: 13\n",
            "  ✓ Success - API calls for this sentence: 6\n",
            "  Sleeping for 8.5 seconds before next sentence...\n"
          ]
        },
        {
          "name": "stderr",
          "output_type": "stream",
          "text": [
            "\rProcessing sentences:  62%|██████▏   | 62/100 [22:12<16:14, 25.66s/it]"
          ]
        },
        {
          "name": "stdout",
          "output_type": "stream",
          "text": [
            "\n",
            "Processing sentence 63/100...\n",
            "  Stage 1: Extracting events...\n",
            "  ✓ Found 3 events\n",
            "  Stage 2: Extracting arguments for each event...\n",
            "    Processing event 1/3: Heat\n",
            "    Processing event 2/3: Add\n",
            "    Processing event 3/3: Heat\n",
            "  ✓ Completed - Events: 3, Total arguments: 5\n",
            "  ✓ Success - API calls for this sentence: 4\n",
            "  Sleeping for 10.0 seconds before next sentence...\n"
          ]
        },
        {
          "name": "stderr",
          "output_type": "stream",
          "text": [
            "\rProcessing sentences:  63%|██████▎   | 63/100 [22:38<15:54, 25.79s/it]"
          ]
        },
        {
          "name": "stdout",
          "output_type": "stream",
          "text": [
            "\n",
            "Processing sentence 64/100...\n",
            "  Stage 1: Extracting events...\n",
            "  ✓ Found 1 events\n",
            "  Stage 2: Extracting arguments for each event...\n",
            "    Processing event 1/1: Add\n",
            "  ✓ Completed - Events: 1, Total arguments: 2\n",
            "  ✓ Success - API calls for this sentence: 2\n",
            "  Sleeping for 9.6 seconds before next sentence...\n"
          ]
        },
        {
          "name": "stderr",
          "output_type": "stream",
          "text": [
            "\rProcessing sentences:  64%|██████▍   | 64/100 [22:52<13:18, 22.19s/it]"
          ]
        },
        {
          "name": "stdout",
          "output_type": "stream",
          "text": [
            "\n",
            "Processing sentence 65/100...\n",
            "  Stage 1: Extracting events...\n",
            "  ✓ Found 2 events\n",
            "  Stage 2: Extracting arguments for each event...\n",
            "    Processing event 1/2: Age\n",
            "    Processing event 2/2: Add\n",
            "  ✓ Completed - Events: 2, Total arguments: 4\n",
            "  ✓ Success - API calls for this sentence: 3\n",
            "  Sleeping for 10.7 seconds before next sentence...\n"
          ]
        },
        {
          "name": "stderr",
          "output_type": "stream",
          "text": [
            "\rProcessing sentences:  65%|██████▌   | 65/100 [23:13<12:41, 21.75s/it]"
          ]
        },
        {
          "name": "stdout",
          "output_type": "stream",
          "text": [
            "\n",
            "Processing sentence 66/100...\n",
            "  Stage 1: Extracting events...\n",
            "  ✓ Found 4 events\n",
            "  Stage 2: Extracting arguments for each event...\n",
            "    Processing event 1/4: Stir\n",
            "    Processing event 2/4: Heat\n",
            "    Processing event 3/4: Rotate\n",
            "    Processing event 4/4: Age\n",
            "  ✓ Completed - Events: 4, Total arguments: 12\n",
            "  ✓ Success - API calls for this sentence: 5\n",
            "  Sleeping for 10.5 seconds before next sentence...\n"
          ]
        },
        {
          "name": "stderr",
          "output_type": "stream",
          "text": [
            "\rProcessing sentences:  66%|██████▌   | 66/100 [23:49<14:51, 26.21s/it]"
          ]
        },
        {
          "name": "stdout",
          "output_type": "stream",
          "text": [
            "\n",
            "Processing sentence 67/100...\n",
            "  Stage 1: Extracting events...\n",
            "  ✓ Found 2 events\n",
            "  Stage 2: Extracting arguments for each event...\n",
            "    Processing event 1/2: Heat\n",
            "    Processing event 2/2: Calcine\n",
            "  ✓ Completed - Events: 2, Total arguments: 7\n",
            "  ✓ Success - API calls for this sentence: 3\n",
            "  Sleeping for 10.1 seconds before next sentence...\n"
          ]
        },
        {
          "name": "stderr",
          "output_type": "stream",
          "text": [
            "\rProcessing sentences:  67%|██████▋   | 67/100 [24:12<13:47, 25.08s/it]"
          ]
        },
        {
          "name": "stdout",
          "output_type": "stream",
          "text": [
            "\n",
            "Processing sentence 68/100...\n",
            "  Stage 1: Extracting events...\n",
            "  ✓ Found 1 events\n",
            "  Stage 2: Extracting arguments for each event...\n",
            "    Processing event 1/1: Stir\n",
            "  ✓ Completed - Events: 1, Total arguments: 2\n",
            "  ✓ Success - API calls for this sentence: 2\n",
            "  Sleeping for 11.6 seconds before next sentence...\n"
          ]
        },
        {
          "name": "stderr",
          "output_type": "stream",
          "text": [
            "\rProcessing sentences:  68%|██████▊   | 68/100 [24:28<11:54, 22.34s/it]"
          ]
        },
        {
          "name": "stdout",
          "output_type": "stream",
          "text": [
            "\n",
            "Processing sentence 69/100...\n",
            "  Stage 1: Extracting events...\n",
            "  ✓ Found 2 events\n",
            "  Stage 2: Extracting arguments for each event...\n",
            "    Processing event 1/2: Add\n",
            "    Processing event 2/2: Stir\n",
            "  ✓ Completed - Events: 2, Total arguments: 4\n",
            "  ✓ Success - API calls for this sentence: 3\n",
            "  Sleeping for 10.9 seconds before next sentence...\n"
          ]
        },
        {
          "name": "stderr",
          "output_type": "stream",
          "text": [
            "\rProcessing sentences:  69%|██████▉   | 69/100 [24:48<11:14, 21.76s/it]"
          ]
        },
        {
          "name": "stdout",
          "output_type": "stream",
          "text": [
            "\n",
            "Processing sentence 70/100...\n",
            "  Stage 1: Extracting events...\n",
            "  ✓ Found 4 events\n",
            "  Stage 2: Extracting arguments for each event...\n",
            "    Processing event 1/4: Heat\n",
            "    Processing event 2/4: Heat\n",
            "    Processing event 3/4: Heat\n",
            "    Processing event 4/4: Heat\n",
            "  ✓ Completed - Events: 4, Total arguments: 10\n",
            "  ✓ Success - API calls for this sentence: 5\n",
            "  Sleeping for 8.4 seconds before next sentence...\n"
          ]
        },
        {
          "name": "stderr",
          "output_type": "stream",
          "text": [
            "\rProcessing sentences:  70%|███████   | 70/100 [25:19<12:12, 24.42s/it]"
          ]
        },
        {
          "name": "stdout",
          "output_type": "stream",
          "text": [
            "\n",
            "Processing sentence 71/100...\n",
            "  Stage 1: Extracting events...\n",
            "  ✓ Found 2 events\n",
            "  Stage 2: Extracting arguments for each event...\n",
            "    Processing event 1/2: Add\n",
            "    Processing event 2/2: Cool\n",
            "  ✓ Completed - Events: 2, Total arguments: 4\n",
            "  ✓ Success - API calls for this sentence: 3\n",
            "  Sleeping for 8.0 seconds before next sentence...\n"
          ]
        },
        {
          "name": "stderr",
          "output_type": "stream",
          "text": [
            "\rProcessing sentences:  71%|███████   | 71/100 [25:35<10:39, 22.05s/it]"
          ]
        },
        {
          "name": "stdout",
          "output_type": "stream",
          "text": [
            "\n",
            "Processing sentence 72/100...\n",
            "  Stage 1: Extracting events...\n",
            "  ✓ Found 1 events\n",
            "  Stage 2: Extracting arguments for each event...\n",
            "    Processing event 1/1: Add\n",
            "  ✓ Completed - Events: 1, Total arguments: 4\n",
            "  ✓ Success - API calls for this sentence: 2\n",
            "  Sleeping for 9.7 seconds before next sentence...\n"
          ]
        },
        {
          "name": "stderr",
          "output_type": "stream",
          "text": [
            "\rProcessing sentences:  72%|███████▏  | 72/100 [25:49<09:10, 19.68s/it]"
          ]
        },
        {
          "name": "stdout",
          "output_type": "stream",
          "text": [
            "\n",
            "Processing sentence 73/100...\n",
            "  Stage 1: Extracting events...\n",
            "  ✓ Found 2 events\n",
            "  Stage 2: Extracting arguments for each event...\n",
            "    Processing event 1/2: Add\n",
            "    Processing event 2/2: Stir\n",
            "  ✓ Completed - Events: 2, Total arguments: 5\n",
            "  ✓ Success - API calls for this sentence: 3\n",
            "  Sleeping for 10.4 seconds before next sentence...\n"
          ]
        },
        {
          "name": "stderr",
          "output_type": "stream",
          "text": [
            "\rProcessing sentences:  73%|███████▎  | 73/100 [26:12<09:15, 20.57s/it]"
          ]
        },
        {
          "name": "stdout",
          "output_type": "stream",
          "text": [
            "\n",
            "Processing sentence 74/100...\n",
            "  Stage 1: Extracting events...\n",
            "  ✓ Found 1 events\n",
            "  Stage 2: Extracting arguments for each event...\n",
            "    Processing event 1/1: Add\n",
            "  ✓ Completed - Events: 1, Total arguments: 1\n",
            "  ✓ Success - API calls for this sentence: 2\n",
            "  Sleeping for 8.2 seconds before next sentence...\n"
          ]
        },
        {
          "name": "stderr",
          "output_type": "stream",
          "text": [
            "\rProcessing sentences:  74%|███████▍  | 74/100 [26:25<07:52, 18.18s/it]"
          ]
        },
        {
          "name": "stdout",
          "output_type": "stream",
          "text": [
            "\n",
            "Processing sentence 75/100...\n",
            "  Stage 1: Extracting events...\n",
            "  ✓ Found 3 events\n",
            "  Stage 2: Extracting arguments for each event...\n",
            "    Processing event 1/3: Add\n",
            "    Processing event 2/3: Heat\n",
            "    Processing event 3/3: Rotate\n",
            "  ✓ Completed - Events: 3, Total arguments: 10\n",
            "  ✓ Success - API calls for this sentence: 4\n",
            "  Sleeping for 10.8 seconds before next sentence...\n"
          ]
        },
        {
          "name": "stderr",
          "output_type": "stream",
          "text": [
            "\rProcessing sentences:  75%|███████▌  | 75/100 [26:51<08:36, 20.65s/it]"
          ]
        },
        {
          "name": "stdout",
          "output_type": "stream",
          "text": [
            "\n",
            "Processing sentence 76/100...\n",
            "  Stage 1: Extracting events...\n",
            "  ✓ Found 4 events\n",
            "  Stage 2: Extracting arguments for each event...\n",
            "    Processing event 1/4: Cool\n",
            "    Processing event 2/4: Particle Recovery\n",
            "    Processing event 3/4: Wash\n",
            "    Processing event 4/4: Dry\n",
            "  ✓ Completed - Events: 4, Total arguments: 9\n",
            "  ✓ Success - API calls for this sentence: 5\n",
            "  Sleeping for 10.2 seconds before next sentence...\n"
          ]
        },
        {
          "name": "stderr",
          "output_type": "stream",
          "text": [
            "\rProcessing sentences:  76%|███████▌  | 76/100 [27:20<09:18, 23.26s/it]"
          ]
        },
        {
          "name": "stdout",
          "output_type": "stream",
          "text": [
            "\n",
            "Processing sentence 77/100...\n",
            "  Stage 1: Extracting events...\n",
            "  ✓ Found 1 events\n",
            "  Stage 2: Extracting arguments for each event...\n",
            "    Processing event 1/1: Calcine\n",
            "  ✓ Completed - Events: 1, Total arguments: 4\n",
            "  ✓ Success - API calls for this sentence: 2\n",
            "  Sleeping for 10.0 seconds before next sentence...\n"
          ]
        },
        {
          "name": "stderr",
          "output_type": "stream",
          "text": [
            "\rProcessing sentences:  77%|███████▋  | 77/100 [27:35<07:57, 20.74s/it]"
          ]
        },
        {
          "name": "stdout",
          "output_type": "stream",
          "text": [
            "\n",
            "Processing sentence 78/100...\n",
            "  Stage 1: Extracting events...\n",
            "  ✓ Found 2 events\n",
            "  Stage 2: Extracting arguments for each event...\n",
            "    Processing event 1/2: Add\n",
            "    Processing event 2/2: Set pH\n",
            "  ✓ Completed - Events: 2, Total arguments: 3\n",
            "  ✓ Success - API calls for this sentence: 3\n",
            "  Sleeping for 9.3 seconds before next sentence...\n"
          ]
        },
        {
          "name": "stderr",
          "output_type": "stream",
          "text": [
            "\rProcessing sentences:  78%|███████▊  | 78/100 [27:56<07:35, 20.72s/it]"
          ]
        },
        {
          "name": "stdout",
          "output_type": "stream",
          "text": [
            "\n",
            "Processing sentence 79/100...\n",
            "  Stage 1: Extracting events...\n",
            "  ✓ Found 1 events\n",
            "  Stage 2: Extracting arguments for each event...\n",
            "    Processing event 1/1: Add\n",
            "  ✓ Completed - Events: 1, Total arguments: 0\n",
            "  ✓ Success - API calls for this sentence: 2\n",
            "  Sleeping for 9.0 seconds before next sentence...\n"
          ]
        },
        {
          "name": "stderr",
          "output_type": "stream",
          "text": [
            "\rProcessing sentences:  79%|███████▉  | 79/100 [28:09<06:27, 18.46s/it]"
          ]
        },
        {
          "name": "stdout",
          "output_type": "stream",
          "text": [
            "\n",
            "Processing sentence 80/100...\n",
            "  Stage 1: Extracting events...\n",
            "  ✓ Found 1 events\n",
            "  Stage 2: Extracting arguments for each event...\n",
            "    Processing event 1/1: Stir\n",
            "  ✓ Completed - Events: 1, Total arguments: 3\n",
            "  ✓ Success - API calls for this sentence: 2\n",
            "  Sleeping for 8.7 seconds before next sentence...\n"
          ]
        },
        {
          "name": "stderr",
          "output_type": "stream",
          "text": [
            "\rProcessing sentences:  80%|████████  | 80/100 [28:23<05:44, 17.20s/it]"
          ]
        },
        {
          "name": "stdout",
          "output_type": "stream",
          "text": [
            "\n",
            "Processing sentence 81/100...\n",
            "  Stage 1: Extracting events...\n",
            "  ✓ Found 2 events\n",
            "  Stage 2: Extracting arguments for each event...\n",
            "    Processing event 1/2: Transfer\n",
            "    Processing event 2/2: Crystallize\n",
            "  ✓ Completed - Events: 2, Total arguments: 4\n",
            "  ✓ Success - API calls for this sentence: 3\n",
            "  Sleeping for 9.6 seconds before next sentence...\n"
          ]
        },
        {
          "name": "stderr",
          "output_type": "stream",
          "text": [
            "\rProcessing sentences:  81%|████████  | 81/100 [28:44<05:45, 18.16s/it]"
          ]
        },
        {
          "name": "stdout",
          "output_type": "stream",
          "text": [
            "\n",
            "Processing sentence 82/100...\n",
            "  Stage 1: Extracting events...\n",
            "  ✓ Found 1 events\n",
            "  Stage 2: Extracting arguments for each event...\n",
            "    Processing event 1/1: Add\n",
            "  ✓ Completed - Events: 1, Total arguments: 1\n",
            "  ✓ Success - API calls for this sentence: 2\n",
            "  Sleeping for 10.2 seconds before next sentence...\n"
          ]
        },
        {
          "name": "stderr",
          "output_type": "stream",
          "text": [
            "\rProcessing sentences:  82%|████████▏ | 82/100 [29:00<05:17, 17.65s/it]"
          ]
        },
        {
          "name": "stdout",
          "output_type": "stream",
          "text": [
            "\n",
            "Processing sentence 83/100...\n",
            "  Stage 1: Extracting events...\n",
            "  ✓ Found 2 events\n",
            "  Stage 2: Extracting arguments for each event...\n",
            "    Processing event 1/2: Add\n",
            "    Processing event 2/2: Stir\n",
            "  ✓ Completed - Events: 2, Total arguments: 6\n",
            "  ✓ Success - API calls for this sentence: 3\n",
            "  Sleeping for 11.4 seconds before next sentence...\n"
          ]
        },
        {
          "name": "stderr",
          "output_type": "stream",
          "text": [
            "\rProcessing sentences:  83%|████████▎ | 83/100 [29:22<05:20, 18.84s/it]"
          ]
        },
        {
          "name": "stdout",
          "output_type": "stream",
          "text": [
            "\n",
            "Processing sentence 84/100...\n",
            "  Stage 1: Extracting events...\n",
            "  ✓ Found 1 events\n",
            "  Stage 2: Extracting arguments for each event...\n",
            "    Processing event 1/1: Calcine\n",
            "  ✓ Completed - Events: 1, Total arguments: 3\n",
            "  ✓ Success - API calls for this sentence: 2\n",
            "  Sleeping for 8.7 seconds before next sentence...\n"
          ]
        },
        {
          "name": "stderr",
          "output_type": "stream",
          "text": [
            "\rProcessing sentences:  84%|████████▍ | 84/100 [29:36<04:37, 17.34s/it]"
          ]
        },
        {
          "name": "stdout",
          "output_type": "stream",
          "text": [
            "\n",
            "Processing sentence 85/100...\n",
            "  Stage 1: Extracting events...\n",
            "  ✓ Found 3 events\n",
            "  Stage 2: Extracting arguments for each event...\n",
            "    Processing event 1/3: Add\n",
            "    Processing event 2/3: Dry\n",
            "    Processing event 3/3: Calcine\n",
            "  ✓ Completed - Events: 3, Total arguments: 9\n",
            "  ✓ Success - API calls for this sentence: 4\n",
            "  Sleeping for 10.5 seconds before next sentence...\n"
          ]
        },
        {
          "name": "stderr",
          "output_type": "stream",
          "text": [
            "\rProcessing sentences:  85%|████████▌ | 85/100 [30:02<05:01, 20.12s/it]"
          ]
        },
        {
          "name": "stdout",
          "output_type": "stream",
          "text": [
            "\n",
            "Processing sentence 86/100...\n",
            "  Stage 1: Extracting events...\n",
            "  ✓ Found 1 events\n",
            "  Stage 2: Extracting arguments for each event...\n",
            "    Processing event 1/1: React\n",
            "  ✓ Completed - Events: 1, Total arguments: 1\n",
            "  ✓ Success - API calls for this sentence: 2\n",
            "  Sleeping for 10.0 seconds before next sentence...\n"
          ]
        },
        {
          "name": "stderr",
          "output_type": "stream",
          "text": [
            "\rProcessing sentences:  86%|████████▌ | 86/100 [30:17<04:17, 18.37s/it]"
          ]
        },
        {
          "name": "stdout",
          "output_type": "stream",
          "text": [
            "\n",
            "Processing sentence 87/100...\n",
            "  Stage 1: Extracting events...\n",
            "  ✓ Found 1 events\n",
            "  Stage 2: Extracting arguments for each event...\n",
            "    Processing event 1/1: Add\n",
            "  ✓ Completed - Events: 1, Total arguments: 3\n",
            "  ✓ Success - API calls for this sentence: 2\n",
            "  Sleeping for 11.9 seconds before next sentence...\n"
          ]
        },
        {
          "name": "stderr",
          "output_type": "stream",
          "text": [
            "\rProcessing sentences:  87%|████████▋ | 87/100 [30:33<03:49, 17.69s/it]"
          ]
        },
        {
          "name": "stdout",
          "output_type": "stream",
          "text": [
            "\n",
            "Processing sentence 88/100...\n",
            "  Stage 1: Extracting events...\n",
            "  ✓ Found 2 events\n",
            "  Stage 2: Extracting arguments for each event...\n",
            "    Processing event 1/2: Add\n",
            "    Processing event 2/2: Stir\n",
            "  ✓ Completed - Events: 2, Total arguments: 3\n",
            "  ✓ Success - API calls for this sentence: 3\n",
            "  Sleeping for 10.6 seconds before next sentence...\n"
          ]
        },
        {
          "name": "stderr",
          "output_type": "stream",
          "text": [
            "\rProcessing sentences:  88%|████████▊ | 88/100 [30:52<03:37, 18.09s/it]"
          ]
        },
        {
          "name": "stdout",
          "output_type": "stream",
          "text": [
            "\n",
            "Processing sentence 89/100...\n",
            "  Stage 1: Extracting events...\n",
            "  ✓ Found 2 events\n",
            "  Stage 2: Extracting arguments for each event...\n",
            "    Processing event 1/2: Add\n",
            "    Processing event 2/2: Stir\n",
            "  ✓ Completed - Events: 2, Total arguments: 5\n",
            "  ✓ Success - API calls for this sentence: 3\n",
            "  Sleeping for 8.8 seconds before next sentence...\n"
          ]
        },
        {
          "name": "stderr",
          "output_type": "stream",
          "text": [
            "\rProcessing sentences:  89%|████████▉ | 89/100 [31:09<03:16, 17.91s/it]"
          ]
        },
        {
          "name": "stdout",
          "output_type": "stream",
          "text": [
            "\n",
            "Processing sentence 90/100...\n",
            "  Stage 1: Extracting events...\n",
            "  ✓ Found 2 events\n",
            "  Stage 2: Extracting arguments for each event...\n",
            "    Processing event 1/2: Heat\n",
            "    Processing event 2/2: Rotate\n",
            "  ✓ Completed - Events: 2, Total arguments: 6\n",
            "  ✓ Success - API calls for this sentence: 3\n",
            "  Sleeping for 9.2 seconds before next sentence...\n"
          ]
        },
        {
          "name": "stderr",
          "output_type": "stream",
          "text": [
            "\rProcessing sentences:  90%|█████████ | 90/100 [31:29<03:04, 18.45s/it]"
          ]
        },
        {
          "name": "stdout",
          "output_type": "stream",
          "text": [
            "\n",
            "Processing sentence 91/100...\n",
            "  Stage 1: Extracting events...\n",
            "  ✓ Found 1 events\n",
            "  Stage 2: Extracting arguments for each event...\n",
            "    Processing event 1/1: Stir\n",
            "  ✓ Completed - Events: 1, Total arguments: 2\n",
            "  ✓ Success - API calls for this sentence: 2\n",
            "  Sleeping for 10.8 seconds before next sentence...\n"
          ]
        },
        {
          "name": "stderr",
          "output_type": "stream",
          "text": [
            "\rProcessing sentences:  91%|█████████ | 91/100 [31:45<02:39, 17.68s/it]"
          ]
        },
        {
          "name": "stdout",
          "output_type": "stream",
          "text": [
            "\n",
            "Processing sentence 92/100...\n",
            "  Stage 1: Extracting events...\n",
            "  ✓ Found 3 events\n",
            "  Stage 2: Extracting arguments for each event...\n",
            "    Processing event 1/3: Particle Recovery\n",
            "    Processing event 2/3: Wash\n",
            "    Processing event 3/3: Dry\n",
            "  ✓ Completed - Events: 3, Total arguments: 6\n",
            "  ✓ Success - API calls for this sentence: 4\n",
            "  Sleeping for 10.1 seconds before next sentence...\n"
          ]
        },
        {
          "name": "stderr",
          "output_type": "stream",
          "text": [
            "\rProcessing sentences:  92%|█████████▏| 92/100 [32:13<02:45, 20.75s/it]"
          ]
        },
        {
          "name": "stdout",
          "output_type": "stream",
          "text": [
            "\n",
            "Processing sentence 93/100...\n",
            "  Stage 1: Extracting events...\n",
            "  ✓ Found 1 events\n",
            "  Stage 2: Extracting arguments for each event...\n",
            "    Processing event 1/1: React\n",
            "  ✓ Completed - Events: 1, Total arguments: 6\n",
            "  ✓ Success - API calls for this sentence: 2\n",
            "  Sleeping for 11.2 seconds before next sentence...\n"
          ]
        },
        {
          "name": "stderr",
          "output_type": "stream",
          "text": [
            "\rProcessing sentences:  93%|█████████▎| 93/100 [32:30<02:16, 19.54s/it]"
          ]
        },
        {
          "name": "stdout",
          "output_type": "stream",
          "text": [
            "\n",
            "Processing sentence 94/100...\n",
            "  Stage 1: Extracting events...\n",
            "  ✓ Found 3 events\n",
            "  Stage 2: Extracting arguments for each event...\n",
            "    Processing event 1/3: Particle Recovery\n",
            "    Processing event 2/3: Wash\n",
            "    Processing event 3/3: Calcine\n",
            "  ✓ Completed - Events: 3, Total arguments: 1\n",
            "  ✓ Success - API calls for this sentence: 4\n",
            "  Sleeping for 11.2 seconds before next sentence...\n"
          ]
        },
        {
          "name": "stderr",
          "output_type": "stream",
          "text": [
            "\rProcessing sentences:  94%|█████████▍| 94/100 [32:56<02:09, 21.61s/it]"
          ]
        },
        {
          "name": "stdout",
          "output_type": "stream",
          "text": [
            "\n",
            "Processing sentence 95/100...\n",
            "  Stage 1: Extracting events...\n",
            "  ✓ Found 3 events\n",
            "  Stage 2: Extracting arguments for each event...\n",
            "    Processing event 1/3: Particle Recovery\n",
            "    Processing event 2/3: Wash\n",
            "    Processing event 3/3: Dry\n",
            "  ✓ Completed - Events: 3, Total arguments: 6\n",
            "  ✓ Success - API calls for this sentence: 4\n",
            "  Sleeping for 9.3 seconds before next sentence...\n"
          ]
        },
        {
          "name": "stderr",
          "output_type": "stream",
          "text": [
            "\rProcessing sentences:  95%|█████████▌| 95/100 [33:19<01:50, 22.14s/it]"
          ]
        },
        {
          "name": "stdout",
          "output_type": "stream",
          "text": [
            "\n",
            "Processing sentence 96/100...\n",
            "  Stage 1: Extracting events...\n",
            "  ✓ Found 1 events\n",
            "  Stage 2: Extracting arguments for each event...\n",
            "    Processing event 1/1: Add\n",
            "  ✓ Completed - Events: 1, Total arguments: 3\n",
            "  ✓ Success - API calls for this sentence: 2\n",
            "  Sleeping for 10.5 seconds before next sentence...\n"
          ]
        },
        {
          "name": "stderr",
          "output_type": "stream",
          "text": [
            "\rProcessing sentences:  96%|█████████▌| 96/100 [33:35<01:20, 20.19s/it]"
          ]
        },
        {
          "name": "stdout",
          "output_type": "stream",
          "text": [
            "\n",
            "Processing sentence 97/100...\n",
            "  Stage 1: Extracting events...\n",
            "  ✓ Found 1 events\n",
            "  Stage 2: Extracting arguments for each event...\n",
            "    Processing event 1/1: Add\n",
            "  ✓ Completed - Events: 1, Total arguments: 2\n",
            "  ✓ Success - API calls for this sentence: 2\n",
            "  Sleeping for 9.1 seconds before next sentence...\n"
          ]
        },
        {
          "name": "stderr",
          "output_type": "stream",
          "text": [
            "\rProcessing sentences:  97%|█████████▋| 97/100 [33:48<00:54, 18.13s/it]"
          ]
        },
        {
          "name": "stdout",
          "output_type": "stream",
          "text": [
            "\n",
            "Processing sentence 98/100...\n",
            "  Stage 1: Extracting events...\n",
            "  ✓ Found 2 events\n",
            "  Stage 2: Extracting arguments for each event...\n",
            "    Processing event 1/2: Add\n",
            "    Processing event 2/2: Set pH\n",
            "  ✓ Completed - Events: 2, Total arguments: 3\n",
            "  ✓ Success - API calls for this sentence: 3\n",
            "  Sleeping for 10.4 seconds before next sentence...\n"
          ]
        },
        {
          "name": "stderr",
          "output_type": "stream",
          "text": [
            "\rProcessing sentences:  98%|█████████▊| 98/100 [34:07<00:36, 18.33s/it]"
          ]
        },
        {
          "name": "stdout",
          "output_type": "stream",
          "text": [
            "\n",
            "Processing sentence 99/100...\n",
            "  Stage 1: Extracting events...\n",
            "  ✓ Found 3 events\n",
            "  Stage 2: Extracting arguments for each event...\n",
            "    Processing event 1/3: Stir\n",
            "    Processing event 2/3: Particle Recovery\n",
            "    Processing event 3/3: Wash\n",
            "  ✓ Completed - Events: 3, Total arguments: 7\n",
            "  ✓ Success - API calls for this sentence: 4\n",
            "  Sleeping for 11.8 seconds before next sentence...\n"
          ]
        },
        {
          "name": "stderr",
          "output_type": "stream",
          "text": [
            "\rProcessing sentences:  99%|█████████▉| 99/100 [34:34<00:20, 20.81s/it]"
          ]
        },
        {
          "name": "stdout",
          "output_type": "stream",
          "text": [
            "\n",
            "Processing sentence 100/100...\n",
            "  Stage 1: Extracting events...\n",
            "  ✓ Found 1 events\n",
            "  Stage 2: Extracting arguments for each event...\n",
            "    Processing event 1/1: Add\n"
          ]
        },
        {
          "name": "stderr",
          "output_type": "stream",
          "text": [
            "Processing sentences: 100%|██████████| 100/100 [34:39<00:00, 20.79s/it]"
          ]
        },
        {
          "name": "stdout",
          "output_type": "stream",
          "text": [
            "  ✓ Completed - Events: 1, Total arguments: 4\n",
            "  ✓ Success - API calls for this sentence: 2\n",
            "\n",
            "Creating Excel file...\n",
            "Total API calls made: 304\n",
            "\n",
            "✓ Excel file 'two_stage_extraction_results.xlsx' created successfully!\n",
            "Total sentences processed: 100\n",
            "Successful extractions: 100\n",
            "Failed extractions: 0\n",
            "Total API calls made: 304\n",
            "\n",
            "Sample of results (first 3 rows):\n",
            "   Expected_Number_of_Events  Model_Number_of_Events  Success\n",
            "0                          2                       3     True\n",
            "1                          3                       4     True\n",
            "2                          1                       1     True\n",
            "\n",
            "Downloading two_stage_extraction_results.xlsx...\n"
          ]
        },
        {
          "name": "stderr",
          "output_type": "stream",
          "text": [
            "\n"
          ]
        },
        {
          "data": {
            "application/javascript": "\n    async function download(id, filename, size) {\n      if (!google.colab.kernel.accessAllowed) {\n        return;\n      }\n      const div = document.createElement('div');\n      const label = document.createElement('label');\n      label.textContent = `Downloading \"${filename}\": `;\n      div.appendChild(label);\n      const progress = document.createElement('progress');\n      progress.max = size;\n      div.appendChild(progress);\n      document.body.appendChild(div);\n\n      const buffers = [];\n      let downloaded = 0;\n\n      const channel = await google.colab.kernel.comms.open(id);\n      // Send a message to notify the kernel that we're ready.\n      channel.send({})\n\n      for await (const message of channel.messages) {\n        // Send a message to notify the kernel that we're ready.\n        channel.send({})\n        if (message.buffers) {\n          for (const buffer of message.buffers) {\n            buffers.push(buffer);\n            downloaded += buffer.byteLength;\n            progress.value = downloaded;\n          }\n        }\n      }\n      const blob = new Blob(buffers, {type: 'application/binary'});\n      const a = document.createElement('a');\n      a.href = window.URL.createObjectURL(blob);\n      a.download = filename;\n      div.appendChild(a);\n      a.click();\n      div.remove();\n    }\n  ",
            "text/plain": [
              "<IPython.core.display.Javascript object>"
            ]
          },
          "metadata": {},
          "output_type": "display_data"
        },
        {
          "data": {
            "application/javascript": "download(\"download_336ae284-8773-44c0-b079-e4fe465ba9f1\", \"two_stage_extraction_results.xlsx\", 24705)",
            "text/plain": [
              "<IPython.core.display.Javascript object>"
            ]
          },
          "metadata": {},
          "output_type": "display_data"
        }
      ],
      "source": [
        "import google.generativeai as genai\n",
        "import pandas as pd\n",
        "import json\n",
        "import re\n",
        "import time\n",
        "import random\n",
        "from tqdm import tqdm\n",
        "from google.colab import files\n",
        "import os\n",
        "\n",
        "# Configure your API key\n",
        "genai.configure(api_key=\"enter-your-api-key-here\")\n",
        "\n",
        "# Choose the model\n",
        "model = genai.GenerativeModel(\"gemma-3-12b-it\")\n",
        "\n",
        "def clean_and_parse_json(model_output):\n",
        "    \"\"\"Clean markdown formatting and parse JSON\"\"\"\n",
        "    try:\n",
        "        # Remove markdown formatting\n",
        "        cleaned_output = re.sub(r'^```json\\s*', '', model_output.strip())\n",
        "        cleaned_output = re.sub(r'\\s*```$', '', cleaned_output)\n",
        "\n",
        "        # Parse JSON\n",
        "        parsed_output = json.loads(cleaned_output)\n",
        "        return parsed_output, True\n",
        "    except json.JSONDecodeError as e:\n",
        "        print(f\"Error parsing JSON: {e}\")\n",
        "        return None, False\n",
        "\n",
        "def extract_statistics(events):\n",
        "    \"\"\"Extract statistics from events list\"\"\"\n",
        "    number_of_events = len(events)\n",
        "    event_types = []\n",
        "    trigger_texts = []\n",
        "    argument_roles = []\n",
        "    argument_texts = []\n",
        "\n",
        "    for event in events:\n",
        "        event_types.append(event.get('event_type'))\n",
        "        trigger_texts.append(event.get('trigger_text'))\n",
        "\n",
        "        for arg in event.get('arguments', []):\n",
        "            argument_roles.append(arg.get('role'))\n",
        "            argument_texts.append(arg.get('text'))\n",
        "\n",
        "    return {\n",
        "        'number_of_events': number_of_events,\n",
        "        'event_types': event_types,\n",
        "        'trigger_texts': trigger_texts,\n",
        "        'argument_roles': argument_roles,\n",
        "        'argument_texts': argument_texts\n",
        "    }\n",
        "\n",
        "def extract_events_only(sentence):\n",
        "    \"\"\"First API call: Extract only event types and trigger texts\"\"\"\n",
        "    prompt = f\"\"\"You are an expert assistant that identifies events in scientific procedure sentences.\n",
        "Extract only the event types and trigger texts from the sentence.\n",
        "\n",
        "Follow this schema exactly:\n",
        "{{\n",
        "  \"events\": [\n",
        "    {{\n",
        "      \"event_type\": \"...\",\n",
        "      \"trigger_text\": \"...\"\n",
        "    }}\n",
        "  ]\n",
        "}}\n",
        "\n",
        "Event types: Add, Stir, Wash, Dry, Calcine, Crystallize, Particle Recovery, Heat, Set pH, Rotate, Sonicate, Seal, Transfer, Age, Cool, React.\n",
        "\n",
        "The definitions of all 16 action events are as follows:\n",
        "\n",
        "Add indicates that some materials are added to the container at a specific temperature.\n",
        "Stir means that the mixture is stirred with full contact for a while.\n",
        "Age means waiting a period of time for the reaction.\n",
        "Wash describes that the product is washed several times with some solvent.\n",
        "Dry indicates that the product is dried in the container for a while at a specific temperature.\n",
        "Calcine indicates that the product is calcined at high temperature.\n",
        "Particle Recovery indicates that experimental operations such as filtration are carried out to recover the clean product.\n",
        "Set PH means that the product is brought to a specific pH value by adding material.\n",
        "Cool means that the temperature of the product is reduced to a specific value.\n",
        "Heat means that the temperature of the product is increased to a specific value.\n",
        "Crystallize is the key experimental step in zeolite synthesis, where the amorphous compound is converted to a crystalline state.\n",
        "Transfer means that the product is transferred from one container to another.\n",
        "Seal indicates that the product is kept in a sealed container.\n",
        "Sonicate means that the product is washed by ultrasound.\n",
        "React refers to ordinary reactions not specifically described in zeolite synthesis corpus.\n",
        "Rotate refers to the direct rotation of a container.\n",
        "\n",
        "Input sentence: {sentence}\n",
        "Output only the JSON format with event_type and trigger_text. Do not add explanations.\"\"\"\n",
        "\n",
        "    try:\n",
        "        response = model.generate_content(prompt)\n",
        "        model_output = response.text\n",
        "        parsed_output, success = clean_and_parse_json(model_output)\n",
        "\n",
        "        if success and 'events' in parsed_output:\n",
        "            return parsed_output['events'], True\n",
        "        else:\n",
        "            return [], False\n",
        "\n",
        "    except Exception as e:\n",
        "        print(f\"Error in event extraction: {e}\")\n",
        "        return [], False\n",
        "\n",
        "def extract_arguments_for_event(sentence, event_type, trigger_text):\n",
        "    \"\"\"Second API call: Extract arguments for a specific event\"\"\"\n",
        "    prompt = f\"\"\"You are an expert assistant that extracts argument roles and texts for a specific event in scientific procedure sentences.\n",
        "\n",
        "For the event type \"{event_type}\" with trigger text \"{trigger_text}\" in the sentence, extract all relevant arguments.\n",
        "\n",
        "Follow this schema exactly:\n",
        "{{\n",
        "  \"arguments\": [\n",
        "    {{\"role\": \"...\", \"text\": \"...\"}},\n",
        "    {{\"role\": \"...\", \"text\": \"...\"}}\n",
        "  ]\n",
        "}}\n",
        "\n",
        "Argument roles: material, temperature, duration, container, sample, solvent, condition, revolution, times, PH, rate, pressure, revolution_text.\n",
        "\n",
        "For each event, strictly extract only either of these arguments that are associated with a particular event as shown below:\n",
        "Add - material, temperature ,container\n",
        "Stir - duration, temperature, revolution, sample\n",
        "Age - duration, temperature, revolution, pressure\n",
        "Wash - solvent, times, sample\n",
        "Dry - duration, temperature, container, specific condition\n",
        "Calcine - duration, temperature, container, sample, specific condition\n",
        "Particle Recovery - material, duration, revolution\n",
        "Set PH - material, PH\n",
        "Cool - duration, temperature, container, sample, specific condition\n",
        "Heat - duration, temperature, container, sample, pressure, revolution, heating rate\n",
        "Crystallize - duration, temperature, container, pressure, revolution rate.\n",
        "Transfer - sample, container\n",
        "Seal - sample, container\n",
        "Sonicate - sample, solvent\n",
        "React - duration, temperature, material, specific condition\n",
        "Rotate - duration, temperature, container, revolution\n",
        "\n",
        "Note: you need to extract only those arguments that are mentioned along the event and are present in the current input sentence. Do not extract extra arguments.\n",
        "\n",
        "The definitions of all 13 event arguments:\n",
        "\n",
        "duration, temperature and pressure indicate the duration, temperature and pressure of the experiment respectively.\n",
        "materials are compounds, both liquid and solid, which are added during experimental operations.\n",
        "container indicates the container where the synthesis action is carried out.\n",
        "sample is the subject of the reaction, which is different from the material.\n",
        "solvent indicates the solvent to which the washing product is added.\n",
        "times refers to the number of washings.\n",
        "condition indicates the specific conditions under which the reaction is operated.\n",
        "revolution indicates the reaction is carried out at a specific revolution per minute.\n",
        "revolution text indicates an abstract textual representation of the rotation.\n",
        "rate indicates that the temperature increases at a certain rate to a specific value.\n",
        "PH indicates the specific pH value of the product.\n",
        "\n",
        "Sentence: {sentence}\n",
        "Event Type: {event_type}\n",
        "Trigger Text: {trigger_text}\n",
        "\n",
        "Extract only the arguments that are relevant to this specific event. Output only the JSON format. Do not add explanations.\"\"\"\n",
        "\n",
        "    try:\n",
        "        response = model.generate_content(prompt)\n",
        "        model_output = response.text\n",
        "        parsed_output, success = clean_and_parse_json(model_output)\n",
        "\n",
        "        if success and 'arguments' in parsed_output:\n",
        "            return parsed_output['arguments'], True\n",
        "        else:\n",
        "            return [], False\n",
        "\n",
        "    except Exception as e:\n",
        "        print(f\"Error in argument extraction: {e}\")\n",
        "        return [], False\n",
        "\n",
        "def process_sentence(sentence_idx):\n",
        "    \"\"\"Process a single sentence with two-stage extraction\"\"\"\n",
        "    sentence = raw_sentences[sentence_idx]\n",
        "    expected_output = expected_outputs[sentence_idx]\n",
        "\n",
        "    print(f\"  Stage 1: Extracting events...\")\n",
        "\n",
        "    # Stage 1: Extract events only\n",
        "    events_only, events_success = extract_events_only(sentence)\n",
        "\n",
        "    if not events_success or not events_only:\n",
        "        print(f\"  ✗ Failed to extract events\")\n",
        "        # Return empty results if event extraction failed\n",
        "        return {\n",
        "            'sentence': sentence,\n",
        "            'expected_stats': extract_statistics(expected_output.get('events', [])),\n",
        "            'model_stats': {\n",
        "                'number_of_events': 0,\n",
        "                'event_types': [],\n",
        "                'trigger_texts': [],\n",
        "                'argument_roles': [],\n",
        "                'argument_texts': []\n",
        "            },\n",
        "            'success': False,\n",
        "            'raw_output': \"Failed to extract events\"\n",
        "        }\n",
        "\n",
        "    print(f\"  ✓ Found {len(events_only)} events\")\n",
        "    print(f\"  Stage 2: Extracting arguments for each event...\")\n",
        "\n",
        "    # Stage 2: Extract arguments for each event\n",
        "    final_events = []\n",
        "\n",
        "    for i, event in enumerate(events_only):\n",
        "        print(f\"    Processing event {i+1}/{len(events_only)}: {event.get('event_type', 'Unknown')}\")\n",
        "\n",
        "        # Small delay between argument extraction calls\n",
        "        if i > 0:\n",
        "            time.sleep(random.uniform(2, 4))\n",
        "\n",
        "        arguments, args_success = extract_arguments_for_event(\n",
        "            sentence,\n",
        "            event.get('event_type', ''),\n",
        "            event.get('trigger_text', '')\n",
        "        )\n",
        "\n",
        "        # Combine event with its arguments\n",
        "        complete_event = {\n",
        "            'event_type': event.get('event_type', ''),\n",
        "            'trigger_text': event.get('trigger_text', ''),\n",
        "            'arguments': arguments if args_success else []\n",
        "        }\n",
        "\n",
        "        final_events.append(complete_event)\n",
        "\n",
        "    # Create final output in the expected format\n",
        "    final_output = {'events': final_events}\n",
        "\n",
        "    # Extract statistics from both expected and model outputs\n",
        "    expected_stats = extract_statistics(expected_output.get('events', []))\n",
        "    model_stats = extract_statistics(final_output.get('events', []))\n",
        "\n",
        "    print(f\"  ✓ Completed - Events: {len(final_events)}, Total arguments: {len(model_stats['argument_roles'])}\")\n",
        "\n",
        "    return {\n",
        "        'sentence': sentence,\n",
        "        'expected_stats': expected_stats,\n",
        "        'model_stats': model_stats,\n",
        "        'success': True,\n",
        "        'raw_output': json.dumps(final_output, indent=2)\n",
        "    }\n",
        "\n",
        "def main():\n",
        "    \"\"\"Main function to process all sentences and create Excel file\"\"\"\n",
        "    print(\"Starting automated two-stage extraction process...\")\n",
        "    print(\"Stage 1: Event extraction\")\n",
        "    print(\"Stage 2: Argument extraction for each event\")\n",
        "    print(\"This will process 100 sentences with delays between API calls.\")\n",
        "    print(\"Note: Total API calls will vary based on number of events per sentence.\")\n",
        "\n",
        "    # Initialize results list\n",
        "    results = []\n",
        "    total_api_calls = 0\n",
        "\n",
        "    # Process each sentence with progress bar\n",
        "    for i in tqdm(range(100), desc=\"Processing sentences\"):\n",
        "        print(f\"\\nProcessing sentence {i+1}/100...\")\n",
        "\n",
        "        # Process the sentence\n",
        "        result = process_sentence(i)\n",
        "        results.append(result)\n",
        "\n",
        "        # Count API calls (1 for events + number of events for arguments)\n",
        "        if result['success']:\n",
        "            sentence_api_calls = 1 + result['model_stats']['number_of_events']\n",
        "            total_api_calls += sentence_api_calls\n",
        "            print(f\"  ✓ Success - API calls for this sentence: {sentence_api_calls}\")\n",
        "        else:\n",
        "            total_api_calls += 1  # Only the failed event extraction call\n",
        "            print(f\"  ✗ Failed\")\n",
        "\n",
        "        # Sleep between sentences (except for the last iteration)\n",
        "        if i < 99:\n",
        "            sleep_time = random.uniform(8, 12)\n",
        "            print(f\"  Sleeping for {sleep_time:.1f} seconds before next sentence...\")\n",
        "            time.sleep(sleep_time)\n",
        "\n",
        "    # Create DataFrame for Excel export\n",
        "    print(f\"\\nCreating Excel file...\")\n",
        "    print(f\"Total API calls made: {total_api_calls}\")\n",
        "\n",
        "    excel_data = []\n",
        "    for i, result in enumerate(results):\n",
        "        row = {\n",
        "            'Sentence': result['sentence'],\n",
        "            'Expected_Number_of_Events': result['expected_stats']['number_of_events'],\n",
        "            'Expected_Event_Types': str(result['expected_stats']['event_types']),\n",
        "            'Expected_Trigger_Texts': str(result['expected_stats']['trigger_texts']),\n",
        "            'Expected_Argument_Roles': str(result['expected_stats']['argument_roles']),\n",
        "            'Expected_Argument_Texts': str(result['expected_stats']['argument_texts']),\n",
        "            'Model_Number_of_Events': result['model_stats']['number_of_events'],\n",
        "            'Model_Event_Types': str(result['model_stats']['event_types']),\n",
        "            'Model_Trigger_Texts': str(result['model_stats']['trigger_texts']),\n",
        "            'Model_Argument_Roles': str(result['model_stats']['argument_roles']),\n",
        "            'Model_Argument_Texts': str(result['model_stats']['argument_texts']),\n",
        "            'Success': result['success'],\n",
        "            'Raw_Model_Output': result['raw_output']\n",
        "        }\n",
        "        excel_data.append(row)\n",
        "\n",
        "    # Create DataFrame and save to Excel\n",
        "    df = pd.DataFrame(excel_data)\n",
        "\n",
        "    # Save to Excel file\n",
        "    filename = 'two_stage_extraction_results.xlsx'\n",
        "    df.to_excel(filename, index=False)\n",
        "\n",
        "    print(f\"\\n✓ Excel file '{filename}' created successfully!\")\n",
        "    print(f\"Total sentences processed: {len(results)}\")\n",
        "    print(f\"Successful extractions: {sum(1 for r in results if r['success'])}\")\n",
        "    print(f\"Failed extractions: {sum(1 for r in results if not r['success'])}\")\n",
        "    print(f\"Total API calls made: {total_api_calls}\")\n",
        "\n",
        "    # Display sample of results\n",
        "    print(\"\\nSample of results (first 3 rows):\")\n",
        "    print(df[['Expected_Number_of_Events', 'Model_Number_of_Events', 'Success']].head(3))\n",
        "\n",
        "    # Download the file\n",
        "    print(f\"\\nDownloading {filename}...\")\n",
        "    files.download(filename)\n",
        "\n",
        "    return df\n",
        "\n",
        "# Run the main function\n",
        "if __name__ == \"__main__\":\n",
        "    results_df = main()"
      ]
    },
    {
      "cell_type": "markdown",
      "metadata": {
        "id": "7RtFU4TeOJbs"
      },
      "source": []
    },
    {
      "cell_type": "markdown",
      "metadata": {
        "id": "2AsnfdPrN3Nt"
      },
      "source": [
        "# Event-Specific-Extraction\n"
      ]
    },
    {
      "cell_type": "code",
      "execution_count": null,
      "metadata": {
        "id": "OLfhpdKbSj3N"
      },
      "outputs": [],
      "source": [
        "import google.generativeai as genai\n",
        "import pandas as pd\n",
        "import json\n",
        "import re\n",
        "import time\n",
        "import random\n",
        "from tqdm import tqdm\n",
        "from google.colab import files\n",
        "import os\n",
        "\n",
        "# Configure your API key\n",
        "genai.configure(api_key=\"enter-your-api-key-here\")\n",
        "\n",
        "# Choose the model\n",
        "model = genai.GenerativeModel(\"gemma-3-12b-it\")\n",
        "\n",
        "def clean_and_parse_json(model_output):\n",
        "    \"\"\"Clean markdown formatting and parse JSON\"\"\"\n",
        "    try:\n",
        "        # Remove markdown formatting\n",
        "        cleaned_output = re.sub(r'^```json\\s*', '', model_output.strip())\n",
        "        cleaned_output = re.sub(r'\\s*```$', '', cleaned_output)\n",
        "\n",
        "        # Parse JSON\n",
        "        parsed_output = json.loads(cleaned_output)\n",
        "        return parsed_output, True\n",
        "    except json.JSONDecodeError as e:\n",
        "        print(f\"Error parsing JSON: {e}\")\n",
        "        return None, False\n",
        "\n",
        "def extract_statistics(events):\n",
        "    \"\"\"Extract statistics from events list\"\"\"\n",
        "    number_of_events = len(events)\n",
        "    event_types = []\n",
        "    trigger_texts = []\n",
        "    argument_roles = []\n",
        "    argument_texts = []\n",
        "\n",
        "    for event in events:\n",
        "        event_types.append(event.get('event_type'))\n",
        "        trigger_texts.append(event.get('trigger_text'))\n",
        "\n",
        "        for arg in event.get('arguments', []):\n",
        "            argument_roles.append(arg.get('role'))\n",
        "            argument_texts.append(arg.get('text'))\n",
        "\n",
        "    return {\n",
        "        'number_of_events': number_of_events,\n",
        "        'event_types': event_types,\n",
        "        'trigger_texts': trigger_texts,\n",
        "        'argument_roles': argument_roles,\n",
        "        'argument_texts': argument_texts\n",
        "    }\n",
        "\n",
        "def extract_events_only(sentence):\n",
        "    \"\"\"First API call: Extract only event types and trigger texts\"\"\"\n",
        "    prompt = f\"\"\"You are an expert assistant that identifies events in scientific procedure sentences.\n",
        "Extract only the event types and trigger texts from the sentence that are happening in that very same sentence.\n",
        "\n",
        "Follow this schema exactly:\n",
        "{{\n",
        "  \"events\": [\n",
        "    {{\n",
        "      \"event_type\": \"...\",\n",
        "      \"trigger_text\": \"...\"\n",
        "    }}\n",
        "  ]\n",
        "}}\n",
        "\n",
        "Event types: Add, Stir, Wash, Dry, Calcine, Crystallize, Particle Recovery, Heat, Set pH, Rotate, Sonicate, Seal, Transfer, Age, Cool, React.\n",
        "\n",
        "The definitions of all 16 action events are as follows:\n",
        "\n",
        "Add indicates that some materials are added to the container at a specific temperature.\n",
        "Stir means that the mixture is stirred with full contact for a while.\n",
        "Age means waiting a period of time for the reaction.\n",
        "Wash describes that the product is washed several times with some solvent.\n",
        "Dry indicates that the product is dried in the container for a while at a specific temperature.\n",
        "Calcine indicates that the product is calcined at high temperature.\n",
        "Particle Recovery indicates that experimental operations such as filtration are carried out to recover the clean product.\n",
        "Set PH means that the product is brought to a specific pH value by adding material.\n",
        "Cool means that the temperature of the product is reduced to a specific value.\n",
        "Heat means that the temperature of the product is increased to a specific value.\n",
        "Crystallize is the key experimental step in zeolite synthesis, where the amorphous compound is converted to a crystalline state.\n",
        "Transfer means that the product is transferred from one container to another.\n",
        "Seal indicates that the product is kept in a sealed container.\n",
        "Sonicate means that the product is washed by ultrasound.\n",
        "React refers to ordinary reactions not specifically described in zeolite synthesis corpus.\n",
        "Rotate refers to the direct rotation of a container.\n",
        "\n",
        "Input sentence: {sentence}\n",
        "Output only the JSON format with event_type and trigger_text. Do not add explanations.\"\"\"\n",
        "\n",
        "    try:\n",
        "        response = model.generate_content(prompt)\n",
        "        model_output = response.text\n",
        "        parsed_output, success = clean_and_parse_json(model_output)\n",
        "\n",
        "        if success and 'events' in parsed_output:\n",
        "            return parsed_output['events'], True\n",
        "        else:\n",
        "            return [], False\n",
        "\n",
        "    except Exception as e:\n",
        "        print(f\"Error in event extraction: {e}\")\n",
        "        return [], False\n",
        "\n",
        "# Event-specific argument extraction functions\n",
        "\n",
        "def extract_add_arguments(sentence, trigger_text):\n",
        "    \"\"\"Extract arguments for Add event: material, temperature, container\"\"\"\n",
        "    prompt = f\"\"\"You are an expert assistant that extracts argument roles and texts for the \"Add\" event in scientific procedure sentences.\n",
        "\n",
        "For the Add event with trigger text \"{trigger_text}\" in the sentence, extract ONLY the following arguments if they are present:\n",
        "- material: compounds, both liquid and solid, which are added\n",
        "- temperature: temperature at which materials are added\n",
        "- container: container where materials are added to\n",
        "\n",
        "Follow this schema exactly:\n",
        "{{\n",
        "  \"arguments\": [\n",
        "    {{\"role\": \"material\", \"text\": \"...\"}},\n",
        "    {{\"role\": \"temperature\", \"text\": \"...\"}},\n",
        "    {{\"role\": \"container\", \"text\": \"...\"}}\n",
        "  ]\n",
        "}}\n",
        "\n",
        "IMPORTANT: Extract ONLY the arguments that are actually mentioned in the sentence. Do not extract arguments that are not present. Only use the roles: material, temperature, container.\n",
        "\n",
        "Sentence: {sentence}\n",
        "Trigger Text: {trigger_text}\n",
        "\n",
        "Output only the JSON format. Do not add explanations.\"\"\"\n",
        "\n",
        "    try:\n",
        "        response = model.generate_content(prompt)\n",
        "        model_output = response.text\n",
        "        parsed_output, success = clean_and_parse_json(model_output)\n",
        "\n",
        "        if success and 'arguments' in parsed_output:\n",
        "            return parsed_output['arguments'], True\n",
        "        else:\n",
        "            return [], False\n",
        "    except Exception as e:\n",
        "        return [], False\n",
        "\n",
        "def extract_stir_arguments(sentence, trigger_text):\n",
        "    \"\"\"Extract arguments for Stir event: duration, temperature, revolution, sample\"\"\"\n",
        "    prompt = f\"\"\"You are an expert assistant that extracts argument roles and texts for the \"Stir\" event in scientific procedure sentences.\n",
        "\n",
        "For the Stir event with trigger text \"{trigger_text}\" in the sentence, extract ONLY the following arguments if they are present:\n",
        "- duration: how long the stirring lasts\n",
        "- temperature: temperature during stirring\n",
        "- revolution: revolution per minute during stirring\n",
        "- sample: what is being stirred (mixture, solution, etc.)\n",
        "\n",
        "Follow this schema exactly:\n",
        "{{\n",
        "  \"arguments\": [\n",
        "    {{\"role\": \"duration\", \"text\": \"...\"}},\n",
        "    {{\"role\": \"temperature\", \"text\": \"...\"}},\n",
        "    {{\"role\": \"revolution\", \"text\": \"...\"}},\n",
        "    {{\"role\": \"sample\", \"text\": \"...\"}}\n",
        "  ]\n",
        "}}\n",
        "\n",
        "IMPORTANT: Extract ONLY the arguments that are actually mentioned in the sentence. Do not extract arguments that are not present. Only use the roles: duration, temperature, revolution, sample.\n",
        "\n",
        "Sentence: {sentence}\n",
        "Trigger Text: {trigger_text}\n",
        "\n",
        "Output only the JSON format. Do not add explanations.\"\"\"\n",
        "\n",
        "    try:\n",
        "        response = model.generate_content(prompt)\n",
        "        model_output = response.text\n",
        "        parsed_output, success = clean_and_parse_json(model_output)\n",
        "\n",
        "        if success and 'arguments' in parsed_output:\n",
        "            return parsed_output['arguments'], True\n",
        "        else:\n",
        "            return [], False\n",
        "    except Exception as e:\n",
        "        return [], False\n",
        "\n",
        "def extract_wash_arguments(sentence, trigger_text):\n",
        "    \"\"\"Extract arguments for Wash event: solvent, times, sample\"\"\"\n",
        "    prompt = f\"\"\"You are an expert assistant that extracts argument roles and texts for the \"Wash\" event in scientific procedure sentences.\n",
        "\n",
        "For the Wash event with trigger text \"{trigger_text}\" in the sentence, extract ONLY the following arguments if they are present:\n",
        "- solvent: the solvent used for washing\n",
        "- times: number of times the washing is performed\n",
        "- sample: what is being washed\n",
        "\n",
        "Follow this schema exactly:\n",
        "{{\n",
        "  \"arguments\": [\n",
        "    {{\"role\": \"solvent\", \"text\": \"...\"}},\n",
        "    {{\"role\": \"times\", \"text\": \"...\"}},\n",
        "    {{\"role\": \"sample\", \"text\": \"...\"}}\n",
        "  ]\n",
        "}}\n",
        "\n",
        "IMPORTANT: Extract ONLY the arguments that are actually mentioned in the sentence. Do not extract arguments that are not present. Only use the roles: solvent, times, sample.\n",
        "\n",
        "Sentence: {sentence}\n",
        "Trigger Text: {trigger_text}\n",
        "\n",
        "Output only the JSON format. Do not add explanations.\"\"\"\n",
        "\n",
        "    try:\n",
        "        response = model.generate_content(prompt)\n",
        "        model_output = response.text\n",
        "        parsed_output, success = clean_and_parse_json(model_output)\n",
        "\n",
        "        if success and 'arguments' in parsed_output:\n",
        "            return parsed_output['arguments'], True\n",
        "        else:\n",
        "            return [], False\n",
        "    except Exception as e:\n",
        "        return [], False\n",
        "\n",
        "def extract_dry_arguments(sentence, trigger_text):\n",
        "    \"\"\"Extract arguments for Dry event: duration, temperature, container, condition\"\"\"\n",
        "    prompt = f\"\"\"You are an expert assistant that extracts argument roles and texts for the \"Dry\" event in scientific procedure sentences.\n",
        "\n",
        "For the Dry event with trigger text \"{trigger_text}\" in the sentence, extract ONLY the following arguments if they are present:\n",
        "- duration: how long the drying lasts\n",
        "- temperature: temperature during drying\n",
        "- container: container where drying occurs\n",
        "- condition: specific conditions for drying (e.g., in air, under vacuum)\n",
        "\n",
        "Follow this schema exactly:\n",
        "{{\n",
        "  \"arguments\": [\n",
        "    {{\"role\": \"duration\", \"text\": \"...\"}},\n",
        "    {{\"role\": \"temperature\", \"text\": \"...\"}},\n",
        "    {{\"role\": \"container\", \"text\": \"...\"}},\n",
        "    {{\"role\": \"condition\", \"text\": \"...\"}}\n",
        "  ]\n",
        "}}\n",
        "\n",
        "IMPORTANT: Extract ONLY the arguments that are actually mentioned in the sentence. Do not extract arguments that are not present. Only use the roles: duration, temperature, container, condition.\n",
        "\n",
        "Sentence: {sentence}\n",
        "Trigger Text: {trigger_text}\n",
        "\n",
        "Output only the JSON format. Do not add explanations.\"\"\"\n",
        "\n",
        "    try:\n",
        "        response = model.generate_content(prompt)\n",
        "        model_output = response.text\n",
        "        parsed_output, success = clean_and_parse_json(model_output)\n",
        "\n",
        "        if success and 'arguments' in parsed_output:\n",
        "            return parsed_output['arguments'], True\n",
        "        else:\n",
        "            return [], False\n",
        "    except Exception as e:\n",
        "        return [], False\n",
        "\n",
        "def extract_calcine_arguments(sentence, trigger_text):\n",
        "    \"\"\"Extract arguments for Calcine event: duration, temperature, container, sample, condition\"\"\"\n",
        "    prompt = f\"\"\"You are an expert assistant that extracts argument roles and texts for the \"Calcine\" event in scientific procedure sentences.\n",
        "\n",
        "For the Calcine event with trigger text \"{trigger_text}\" in the sentence, extract ONLY the following arguments if they are present:\n",
        "- duration: how long the calcination lasts\n",
        "- temperature: high temperature for calcination\n",
        "- container: container where calcination occurs\n",
        "- sample: what is being calcined\n",
        "- condition: specific conditions for calcination\n",
        "\n",
        "Follow this schema exactly:\n",
        "{{\n",
        "  \"arguments\": [\n",
        "    {{\"role\": \"duration\", \"text\": \"...\"}},\n",
        "    {{\"role\": \"temperature\", \"text\": \"...\"}},\n",
        "    {{\"role\": \"container\", \"text\": \"...\"}},\n",
        "    {{\"role\": \"sample\", \"text\": \"...\"}},\n",
        "    {{\"role\": \"condition\", \"text\": \"...\"}}\n",
        "  ]\n",
        "}}\n",
        "\n",
        "IMPORTANT: Extract ONLY the arguments that are actually mentioned in the sentence. Do not extract arguments that are not present. Only use the roles: duration, temperature, container, sample, condition.\n",
        "\n",
        "Sentence: {sentence}\n",
        "Trigger Text: {trigger_text}\n",
        "\n",
        "Output only the JSON format. Do not add explanations.\"\"\"\n",
        "\n",
        "    try:\n",
        "        response = model.generate_content(prompt)\n",
        "        model_output = response.text\n",
        "        parsed_output, success = clean_and_parse_json(model_output)\n",
        "\n",
        "        if success and 'arguments' in parsed_output:\n",
        "            return parsed_output['arguments'], True\n",
        "        else:\n",
        "            return [], False\n",
        "    except Exception as e:\n",
        "        return [], False\n",
        "\n",
        "def extract_crystallize_arguments(sentence, trigger_text):\n",
        "    \"\"\"Extract arguments for Crystallize event: duration, temperature, container, pressure, revolution\"\"\"\n",
        "    prompt = f\"\"\"You are an expert assistant that extracts argument roles and texts for the \"Crystallize\" event in scientific procedure sentences.\n",
        "\n",
        "For the Crystallize event with trigger text \"{trigger_text}\" in the sentence, extract ONLY the following arguments if they are present:\n",
        "- duration: how long the crystallization lasts\n",
        "- temperature: temperature during crystallization\n",
        "- container: container where crystallization occurs\n",
        "- pressure: pressure during crystallization\n",
        "- revolution: revolution rate during crystallization\n",
        "\n",
        "Follow this schema exactly:\n",
        "{{\n",
        "  \"arguments\": [\n",
        "    {{\"role\": \"duration\", \"text\": \"...\"}},\n",
        "    {{\"role\": \"temperature\", \"text\": \"...\"}},\n",
        "    {{\"role\": \"container\", \"text\": \"...\"}},\n",
        "    {{\"role\": \"pressure\", \"text\": \"...\"}},\n",
        "    {{\"role\": \"revolution\", \"text\": \"...\"}}\n",
        "  ]\n",
        "}}\n",
        "\n",
        "IMPORTANT: Extract ONLY the arguments that are actually mentioned in the sentence. Do not extract arguments that are not present. Only use the roles: duration, temperature, container, pressure, revolution.\n",
        "\n",
        "Sentence: {sentence}\n",
        "Trigger Text: {trigger_text}\n",
        "\n",
        "Output only the JSON format. Do not add explanations.\"\"\"\n",
        "\n",
        "    try:\n",
        "        response = model.generate_content(prompt)\n",
        "        model_output = response.text\n",
        "        parsed_output, success = clean_and_parse_json(model_output)\n",
        "\n",
        "        if success and 'arguments' in parsed_output:\n",
        "            return parsed_output['arguments'], True\n",
        "        else:\n",
        "            return [], False\n",
        "    except Exception as e:\n",
        "        return [], False\n",
        "\n",
        "def extract_particle_recovery_arguments(sentence, trigger_text):\n",
        "    \"\"\"Extract arguments for Particle Recovery event: material, duration, revolution\"\"\"\n",
        "    prompt = f\"\"\"You are an expert assistant that extracts argument roles and texts for the \"Particle Recovery\" event in scientific procedure sentences.\n",
        "\n",
        "For the Particle Recovery event with trigger text \"{trigger_text}\" in the sentence, extract ONLY the following arguments if they are present:\n",
        "- material: what is being recovered (filtered, separated)\n",
        "- duration: how long the recovery process takes\n",
        "- revolution: revolution during recovery process\n",
        "\n",
        "Follow this schema exactly:\n",
        "{{\n",
        "  \"arguments\": [\n",
        "    {{\"role\": \"material\", \"text\": \"...\"}},\n",
        "    {{\"role\": \"duration\", \"text\": \"...\"}},\n",
        "    {{\"role\": \"revolution\", \"text\": \"...\"}}\n",
        "  ]\n",
        "}}\n",
        "\n",
        "IMPORTANT: Extract ONLY the arguments that are actually mentioned in the sentence. Do not extract arguments that are not present. Only use the roles: material, duration, revolution.\n",
        "\n",
        "Sentence: {sentence}\n",
        "Trigger Text: {trigger_text}\n",
        "\n",
        "Output only the JSON format. Do not add explanations.\"\"\"\n",
        "\n",
        "    try:\n",
        "        response = model.generate_content(prompt)\n",
        "        model_output = response.text\n",
        "        parsed_output, success = clean_and_parse_json(model_output)\n",
        "\n",
        "        if success and 'arguments' in parsed_output:\n",
        "            return parsed_output['arguments'], True\n",
        "        else:\n",
        "            return [], False\n",
        "    except Exception as e:\n",
        "        return [], False\n",
        "\n",
        "def extract_heat_arguments(sentence, trigger_text):\n",
        "    \"\"\"Extract arguments for Heat event: duration, temperature, container, sample, pressure, revolution, rate\"\"\"\n",
        "    prompt = f\"\"\"You are an expert assistant that extracts argument roles and texts for the \"Heat\" event in scientific procedure sentences.\n",
        "\n",
        "For the Heat event with trigger text \"{trigger_text}\" in the sentence, extract ONLY the following arguments if they are present:\n",
        "- duration: how long the heating lasts\n",
        "- temperature: target temperature for heating\n",
        "- container: container where heating occurs\n",
        "- sample: what is being heated\n",
        "- pressure: pressure during heating\n",
        "- revolution: revolution during heating\n",
        "- rate: heating rate (temperature increase rate)\n",
        "\n",
        "Follow this schema exactly:\n",
        "{{\n",
        "  \"arguments\": [\n",
        "    {{\"role\": \"duration\", \"text\": \"...\"}},\n",
        "    {{\"role\": \"temperature\", \"text\": \"...\"}},\n",
        "    {{\"role\": \"container\", \"text\": \"...\"}},\n",
        "    {{\"role\": \"sample\", \"text\": \"...\"}},\n",
        "    {{\"role\": \"pressure\", \"text\": \"...\"}},\n",
        "    {{\"role\": \"revolution\", \"text\": \"...\"}},\n",
        "    {{\"role\": \"rate\", \"text\": \"...\"}}\n",
        "  ]\n",
        "}}\n",
        "\n",
        "IMPORTANT: Extract ONLY the arguments that are actually mentioned in the sentence. Do not extract arguments that are not present. Only use the roles: duration, temperature, container, sample, pressure, revolution, rate.\n",
        "\n",
        "Sentence: {sentence}\n",
        "Trigger Text: {trigger_text}\n",
        "\n",
        "Output only the JSON format. Do not add explanations.\"\"\"\n",
        "\n",
        "    try:\n",
        "        response = model.generate_content(prompt)\n",
        "        model_output = response.text\n",
        "        parsed_output, success = clean_and_parse_json(model_output)\n",
        "\n",
        "        if success and 'arguments' in parsed_output:\n",
        "            return parsed_output['arguments'], True\n",
        "        else:\n",
        "            return [], False\n",
        "    except Exception as e:\n",
        "        return [], False\n",
        "\n",
        "def extract_set_ph_arguments(sentence, trigger_text):\n",
        "    \"\"\"Extract arguments for Set pH event: material, PH\"\"\"\n",
        "    prompt = f\"\"\"You are an expert assistant that extracts argument roles and texts for the \"Set pH\" event in scientific procedure sentences.\n",
        "\n",
        "For the Set pH event with trigger text \"{trigger_text}\" in the sentence, extract ONLY the following arguments if they are present:\n",
        "- material: material added to adjust pH\n",
        "- PH: specific pH value to be achieved\n",
        "\n",
        "Follow this schema exactly:\n",
        "{{\n",
        "  \"arguments\": [\n",
        "    {{\"role\": \"material\", \"text\": \"...\"}},\n",
        "    {{\"role\": \"PH\", \"text\": \"...\"}}\n",
        "  ]\n",
        "}}\n",
        "\n",
        "IMPORTANT: Extract ONLY the arguments that are actually mentioned in the sentence. Do not extract arguments that are not present. Only use the roles: material, PH.\n",
        "\n",
        "Sentence: {sentence}\n",
        "Trigger Text: {trigger_text}\n",
        "\n",
        "Output only the JSON format. Do not add explanations.\"\"\"\n",
        "\n",
        "    try:\n",
        "        response = model.generate_content(prompt)\n",
        "        model_output = response.text\n",
        "        parsed_output, success = clean_and_parse_json(model_output)\n",
        "\n",
        "        if success and 'arguments' in parsed_output:\n",
        "            return parsed_output['arguments'], True\n",
        "        else:\n",
        "            return [], False\n",
        "    except Exception as e:\n",
        "        return [], False\n",
        "\n",
        "def extract_rotate_arguments(sentence, trigger_text):\n",
        "    \"\"\"Extract arguments for Rotate event: duration, temperature, container, revolution\"\"\"\n",
        "    prompt = f\"\"\"You are an expert assistant that extracts argument roles and texts for the \"Rotate\" event in scientific procedure sentences.\n",
        "\n",
        "For the Rotate event with trigger text \"{trigger_text}\" in the sentence, extract ONLY the following arguments if they are present:\n",
        "- duration: how long the rotation lasts\n",
        "- temperature: temperature during rotation\n",
        "- container: container being rotated\n",
        "- revolution: revolution rate during rotation\n",
        "\n",
        "Follow this schema exactly:\n",
        "{{\n",
        "  \"arguments\": [\n",
        "    {{\"role\": \"duration\", \"text\": \"...\"}},\n",
        "    {{\"role\": \"temperature\", \"text\": \"...\"}},\n",
        "    {{\"role\": \"container\", \"text\": \"...\"}},\n",
        "    {{\"role\": \"revolution\", \"text\": \"...\"}}\n",
        "  ]\n",
        "}}\n",
        "\n",
        "IMPORTANT: Extract ONLY the arguments that are actually mentioned in the sentence. Do not extract arguments that are not present. Only use the roles: duration, temperature, container, revolution.\n",
        "\n",
        "Sentence: {sentence}\n",
        "Trigger Text: {trigger_text}\n",
        "\n",
        "Output only the JSON format. Do not add explanations.\"\"\"\n",
        "\n",
        "    try:\n",
        "        response = model.generate_content(prompt)\n",
        "        model_output = response.text\n",
        "        parsed_output, success = clean_and_parse_json(model_output)\n",
        "\n",
        "        if success and 'arguments' in parsed_output:\n",
        "            return parsed_output['arguments'], True\n",
        "        else:\n",
        "            return [], False\n",
        "    except Exception as e:\n",
        "        return [], False\n",
        "\n",
        "def extract_sonicate_arguments(sentence, trigger_text):\n",
        "    \"\"\"Extract arguments for Sonicate event: sample, solvent\"\"\"\n",
        "    prompt = f\"\"\"You are an expert assistant that extracts argument roles and texts for the \"Sonicate\" event in scientific procedure sentences.\n",
        "\n",
        "For the Sonicate event with trigger text \"{trigger_text}\" in the sentence, extract ONLY the following arguments if they are present:\n",
        "- sample: what is being sonicated\n",
        "- solvent: solvent used during sonication\n",
        "\n",
        "Follow this schema exactly:\n",
        "{{\n",
        "  \"arguments\": [\n",
        "    {{\"role\": \"sample\", \"text\": \"...\"}},\n",
        "    {{\"role\": \"solvent\", \"text\": \"...\"}}\n",
        "  ]\n",
        "}}\n",
        "\n",
        "IMPORTANT: Extract ONLY the arguments that are actually mentioned in the sentence. Do not extract arguments that are not present. Only use the roles: sample, solvent.\n",
        "\n",
        "Sentence: {sentence}\n",
        "Trigger Text: {trigger_text}\n",
        "\n",
        "Output only the JSON format. Do not add explanations.\"\"\"\n",
        "\n",
        "    try:\n",
        "        response = model.generate_content(prompt)\n",
        "        model_output = response.text\n",
        "        parsed_output, success = clean_and_parse_json(model_output)\n",
        "\n",
        "        if success and 'arguments' in parsed_output:\n",
        "            return parsed_output['arguments'], True\n",
        "        else:\n",
        "            return [], False\n",
        "    except Exception as e:\n",
        "        return [], False\n",
        "\n",
        "def extract_seal_arguments(sentence, trigger_text):\n",
        "    \"\"\"Extract arguments for Seal event: sample, container\"\"\"\n",
        "    prompt = f\"\"\"You are an expert assistant that extracts argument roles and texts for the \"Seal\" event in scientific procedure sentences.\n",
        "\n",
        "For the Seal event with trigger text \"{trigger_text}\" in the sentence, extract ONLY the following arguments if they are present:\n",
        "- sample: what is being sealed\n",
        "- container: container where sealing occurs\n",
        "\n",
        "Follow this schema exactly:\n",
        "{{\n",
        "  \"arguments\": [\n",
        "    {{\"role\": \"sample\", \"text\": \"...\"}},\n",
        "    {{\"role\": \"container\", \"text\": \"...\"}}\n",
        "  ]\n",
        "}}\n",
        "\n",
        "IMPORTANT: Extract ONLY the arguments that are actually mentioned in the sentence. Do not extract arguments that are not present. Only use the roles: sample, container.\n",
        "\n",
        "Sentence: {sentence}\n",
        "Trigger Text: {trigger_text}\n",
        "\n",
        "Output only the JSON format. Do not add explanations.\"\"\"\n",
        "\n",
        "    try:\n",
        "        response = model.generate_content(prompt)\n",
        "        model_output = response.text\n",
        "        parsed_output, success = clean_and_parse_json(model_output)\n",
        "\n",
        "        if success and 'arguments' in parsed_output:\n",
        "            return parsed_output['arguments'], True\n",
        "        else:\n",
        "            return [], False\n",
        "    except Exception as e:\n",
        "        return [], False\n",
        "\n",
        "def extract_transfer_arguments(sentence, trigger_text):\n",
        "    \"\"\"Extract arguments for Transfer event: sample, container\"\"\"\n",
        "    prompt = f\"\"\"You are an expert assistant that extracts argument roles and texts for the \"Transfer\" event in scientific procedure sentences.\n",
        "\n",
        "For the Transfer event with trigger text \"{trigger_text}\" in the sentence, extract ONLY the following arguments if they are present:\n",
        "- sample: what is being transferred\n",
        "- container: container where transfer occurs (destination)\n",
        "\n",
        "Follow this schema exactly:\n",
        "{{\n",
        "  \"arguments\": [\n",
        "    {{\"role\": \"sample\", \"text\": \"...\"}},\n",
        "    {{\"role\": \"container\", \"text\": \"...\"}}\n",
        "  ]\n",
        "}}\n",
        "\n",
        "IMPORTANT: Extract ONLY the arguments that are actually mentioned in the sentence. Do not extract arguments that are not present. Only use the roles: sample, container.\n",
        "\n",
        "Sentence: {sentence}\n",
        "Trigger Text: {trigger_text}\n",
        "\n",
        "Output only the JSON format. Do not add explanations.\"\"\"\n",
        "\n",
        "    try:\n",
        "        response = model.generate_content(prompt)\n",
        "        model_output = response.text\n",
        "        parsed_output, success = clean_and_parse_json(model_output)\n",
        "\n",
        "        if success and 'arguments' in parsed_output:\n",
        "            return parsed_output['arguments'], True\n",
        "        else:\n",
        "            return [], False\n",
        "    except Exception as e:\n",
        "        return [], False\n",
        "\n",
        "def extract_age_arguments(sentence, trigger_text):\n",
        "    \"\"\"Extract arguments for Age event: duration, temperature, revolution, pressure\"\"\"\n",
        "    prompt = f\"\"\"You are an expert assistant that extracts argument roles and texts for the \"Age\" event in scientific procedure sentences.\n",
        "\n",
        "For the Age event with trigger text \"{trigger_text}\" in the sentence, extract ONLY the following arguments if they are present:\n",
        "- duration: how long the aging lasts\n",
        "- temperature: temperature during aging\n",
        "- revolution: revolution during aging\n",
        "- pressure: pressure during aging\n",
        "\n",
        "Follow this schema exactly:\n",
        "{{\n",
        "  \"arguments\": [\n",
        "    {{\"role\": \"duration\", \"text\": \"...\"}},\n",
        "    {{\"role\": \"temperature\", \"text\": \"...\"}},\n",
        "    {{\"role\": \"revolution\", \"text\": \"...\"}},\n",
        "    {{\"role\": \"pressure\", \"text\": \"...\"}}\n",
        "  ]\n",
        "}}\n",
        "\n",
        "IMPORTANT: Extract ONLY the arguments that are actually mentioned in the sentence. Do not extract arguments that are not present. Only use the roles: duration, temperature, revolution, pressure.\n",
        "\n",
        "Sentence: {sentence}\n",
        "Trigger Text: {trigger_text}\n",
        "\n",
        "Output only the JSON format. Do not add explanations.\"\"\"\n",
        "\n",
        "    try:\n",
        "        response = model.generate_content(prompt)\n",
        "        model_output = response.text\n",
        "        parsed_output, success = clean_and_parse_json(model_output)\n",
        "\n",
        "        if success and 'arguments' in parsed_output:\n",
        "            return parsed_output['arguments'], True\n",
        "        else:\n",
        "            return [], False\n",
        "    except Exception as e:\n",
        "        return [], False\n",
        "\n",
        "def extract_cool_arguments(sentence, trigger_text):\n",
        "    \"\"\"Extract arguments for Cool event: duration, temperature, container, sample, condition\"\"\"\n",
        "    prompt = f\"\"\"You are an expert assistant that extracts argument roles and texts for the \"Cool\" event in scientific procedure sentences.\n",
        "\n",
        "For the Cool event with trigger text \"{trigger_text}\" in the sentence, extract ONLY the following arguments if they are present:\n",
        "- duration: how long the cooling lasts\n",
        "- temperature: target temperature for cooling\n",
        "- container: container where cooling occurs\n",
        "- sample: what is being cooled\n",
        "- condition: specific conditions for cooling\n",
        "\n",
        "Follow this schema exactly:\n",
        "{{\n",
        "  \"arguments\": [\n",
        "    {{\"role\": \"duration\", \"text\": \"...\"}},\n",
        "    {{\"role\": \"temperature\", \"text\": \"...\"}},\n",
        "    {{\"role\": \"container\", \"text\": \"...\"}},\n",
        "    {{\"role\": \"sample\", \"text\": \"...\"}},\n",
        "    {{\"role\": \"condition\", \"text\": \"...\"}}\n",
        "  ]\n",
        "}}\n",
        "\n",
        "IMPORTANT: Extract ONLY the arguments that are actually mentioned in the sentence. Do not extract arguments that are not present. Only use the roles: duration, temperature, container, sample, condition.\n",
        "\n",
        "Sentence: {sentence}\n",
        "Trigger Text: {trigger_text}\n",
        "\n",
        "Output only the JSON format. Do not add explanations.\"\"\"\n",
        "\n",
        "    try:\n",
        "        response = model.generate_content(prompt)\n",
        "        model_output = response.text\n",
        "        parsed_output, success = clean_and_parse_json(model_output)\n",
        "\n",
        "        if success and 'arguments' in parsed_output:\n",
        "            return parsed_output['arguments'], True\n",
        "        else:\n",
        "            return [], False\n",
        "    except Exception as e:\n",
        "        return [], False\n",
        "\n",
        "def extract_react_arguments(sentence, trigger_text):\n",
        "    \"\"\"Extract arguments for React event: duration, temperature, material, condition\"\"\"\n",
        "    prompt = f\"\"\"You are an expert assistant that extracts argument roles and texts for the \"React\" event in scientific procedure sentences.\n",
        "\n",
        "For the React event with trigger text \"{trigger_text}\" in the sentence, extract ONLY the following arguments if they are present:\n",
        "- duration: how long the reaction lasts\n",
        "- temperature: temperature during reaction\n",
        "- material: materials involved in reaction\n",
        "- condition: specific conditions for reaction\n",
        "\n",
        "Follow this schema exactly:\n",
        "{{\n",
        "  \"arguments\": [\n",
        "    {{\"role\": \"duration\", \"text\": \"...\"}},\n",
        "    {{\"role\": \"temperature\", \"text\": \"...\"}},\n",
        "    {{\"role\": \"material\", \"text\": \"...\"}},\n",
        "    {{\"role\": \"condition\", \"text\": \"...\"}}\n",
        "  ]\n",
        "}}\n",
        "\n",
        "IMPORTANT: Extract ONLY the arguments that are actually mentioned in the sentence. Do not extract arguments that are not present. Only use the roles: duration, temperature, material, condition.\n",
        "\n",
        "Sentence: {sentence}\n",
        "Trigger Text: {trigger_text}\n",
        "\n",
        "Output only the JSON format. Do not add explanations.\"\"\"\n",
        "\n",
        "    try:\n",
        "        response = model.generate_content(prompt)\n",
        "        model_output = response.text\n",
        "        parsed_output, success = clean_and_parse_json(model_output)\n",
        "\n",
        "        if success and 'arguments' in parsed_output:\n",
        "            return parsed_output['arguments'], True\n",
        "        else:\n",
        "            return [], False\n",
        "    except Exception as e:\n",
        "        return [], False\n",
        "\n",
        "def extract_event_arguments(sentence, event_type, trigger_text):\n",
        "    \"\"\"Route to appropriate argument extraction function based on event type\"\"\"\n",
        "    event_type = event_type.strip()\n",
        "\n",
        "    if event_type == \"Add\":\n",
        "        return extract_add_arguments(sentence, trigger_text)\n",
        "    elif event_type == \"Stir\":\n",
        "        return extract_stir_arguments(sentence, trigger_text)\n",
        "    elif event_type == \"Wash\":\n",
        "        return extract_wash_arguments(sentence, trigger_text)\n",
        "    elif event_type == \"Dry\":\n",
        "        return extract_dry_arguments(sentence, trigger_text)\n",
        "    elif event_type == \"Calcine\":\n",
        "        return extract_calcine_arguments(sentence, trigger_text)\n",
        "    elif event_type == \"Crystallize\":\n",
        "        return extract_crystallize_arguments(sentence, trigger_text)\n",
        "    elif event_type == \"Particle Recovery\":\n",
        "        return extract_particle_recovery_arguments(sentence, trigger_text)\n",
        "    elif event_type == \"Heat\":\n",
        "        return extract_heat_arguments(sentence, trigger_text)\n",
        "    elif event_type == \"Set pH\":\n",
        "        return extract_set_ph_arguments(sentence, trigger_text)\n",
        "    elif event_type == \"Rotate\":\n",
        "        return extract_rotate_arguments(sentence, trigger_text)\n",
        "    elif event_type == \"Sonicate\":\n",
        "        return extract_sonicate_arguments(sentence, trigger_text)\n",
        "    elif event_type == \"Seal\":\n",
        "        return extract_seal_arguments(sentence, trigger_text)\n",
        "    elif event_type == \"Transfer\":\n",
        "        return extract_transfer_arguments(sentence, trigger_text)\n",
        "    elif event_type == \"Age\":\n",
        "        return extract_age_arguments(sentence, trigger_text)\n",
        "    elif event_type == \"Cool\":\n",
        "        return extract_cool_arguments(sentence, trigger_text)\n",
        "    elif event_type == \"React\":\n",
        "        return extract_react_arguments(sentence, trigger_text)\n",
        "    else:\n",
        "        print(f\"Unknown event type: {event_type}\")\n",
        "        return [], False\n",
        "\n",
        "def process_sentence(sentence_idx):\n",
        "    \"\"\"Process a single sentence with two-stage extraction\"\"\"\n",
        "    sentence = raw_sentences[sentence_idx]\n",
        "    expected_output = expected_outputs[sentence_idx]\n",
        "\n",
        "    print(f\"  Stage 1: Extracting events...\")\n",
        "\n",
        "    # Stage 1: Extract events only\n",
        "    events_only, events_success = extract_events_only(sentence)\n",
        "\n",
        "    if not events_success or not events_only:\n",
        "        print(f\"  ✗ Failed to extract events\")\n",
        "        # Return empty results if event extraction failed\n",
        "        return {\n",
        "            'sentence': sentence,\n",
        "            'expected_stats': extract_statistics(expected_output.get('events', [])),\n",
        "            'model_stats': {\n",
        "                'number_of_events': 0,\n",
        "                'event_types': [],\n",
        "                'trigger_texts': [],\n",
        "                'argument_roles': [],\n",
        "                'argument_texts': []\n",
        "            },\n",
        "            'success': False,\n",
        "            'raw_output': \"Failed to extract events\"\n",
        "        }\n",
        "\n",
        "    print(f\"  ✓ Found {len(events_only)} events\")\n",
        "    print(f\"  Stage 2: Extracting arguments for each event...\")\n",
        "\n",
        "    # Stage 2: Extract arguments for each event using specific functions\n",
        "    final_events = []\n",
        "\n",
        "    for i, event in enumerate(events_only):\n",
        "        event_type = event.get('event_type', 'Unknown')\n",
        "        print(f\"    Processing event {i+1}/{len(events_only)}: {event_type}\")\n",
        "\n",
        "        # Small delay between argument extraction calls\n",
        "        if i > 0:\n",
        "            time.sleep(random.uniform(2, 4))\n",
        "\n",
        "        # Use event-specific argument extraction function\n",
        "        arguments, args_success = extract_event_arguments(\n",
        "            sentence,\n",
        "            event_type,\n",
        "            event.get('trigger_text', '')\n",
        "        )\n",
        "\n",
        "        # Combine event with its arguments\n",
        "        complete_event = {\n",
        "            'event_type': event_type,\n",
        "            'trigger_text': event.get('trigger_text', ''),\n",
        "            'arguments': arguments if args_success else []\n",
        "        }\n",
        "\n",
        "        final_events.append(complete_event)\n",
        "\n",
        "    # Create final output in the expected format\n",
        "    final_output = {'events': final_events}\n",
        "\n",
        "    # Extract statistics from both expected and model outputs\n",
        "    expected_stats = extract_statistics(expected_output.get('events', []))\n",
        "    model_stats = extract_statistics(final_output.get('events', []))\n",
        "\n",
        "    print(f\"  ✓ Completed - Events: {len(final_events)}, Total arguments: {len(model_stats['argument_roles'])}\")\n",
        "\n",
        "    return {\n",
        "        'sentence': sentence,\n",
        "        'expected_stats': expected_stats,\n",
        "        'model_stats': model_stats,\n",
        "        'success': True,\n",
        "        'raw_output': json.dumps(final_output, indent=2)\n",
        "    }\n",
        "\n",
        "def main():\n",
        "    \"\"\"Main function to process all sentences and create Excel file\"\"\"\n",
        "    print(\"Starting automated event-specific extraction process...\")\n",
        "    print(\"Stage 1: Event extraction\")\n",
        "    print(\"Stage 2: Event-specific argument extraction\")\n",
        "    print(\"This will process 100 sentences with delays between API calls.\")\n",
        "    print(\"Note: Each event type uses its own specialized prompt.\")\n",
        "\n",
        "    # Initialize results list\n",
        "    results = []\n",
        "    total_api_calls = 0\n",
        "\n",
        "    # Process each sentence with progress bar\n",
        "    for i in tqdm(range(100), desc=\"Processing sentences\"):\n",
        "        print(f\"\\nProcessing sentence {i+1}/100...\")\n",
        "\n",
        "        # Process the sentence\n",
        "        result = process_sentence(i)\n",
        "        results.append(result)\n",
        "\n",
        "        # Count API calls (1 for events + number of events for arguments)\n",
        "        if result['success']:\n",
        "            sentence_api_calls = 1 + result['model_stats']['number_of_events']\n",
        "            total_api_calls += sentence_api_calls\n",
        "            print(f\"  ✓ Success - API calls for this sentence: {sentence_api_calls}\")\n",
        "        else:\n",
        "            total_api_calls += 1  # Only the failed event extraction call\n",
        "            print(f\"  ✗ Failed\")\n",
        "\n",
        "        # Sleep between sentences (except for the last iteration)\n",
        "        if i < 99:\n",
        "            sleep_time = random.uniform(8, 12)\n",
        "            print(f\"  Sleeping for {sleep_time:.1f} seconds before next sentence...\")\n",
        "            time.sleep(sleep_time)\n",
        "\n",
        "    # Create DataFrame for Excel export\n",
        "    print(f\"\\nCreating Excel file...\")\n",
        "    print(f\"Total API calls made: {total_api_calls}\")\n",
        "\n",
        "    excel_data = []\n",
        "    for i, result in enumerate(results):\n",
        "        row = {\n",
        "            'Sentence': result['sentence'],\n",
        "            'Expected_Number_of_Events': result['expected_stats']['number_of_events'],\n",
        "            'Expected_Event_Types': str(result['expected_stats']['event_types']),\n",
        "            'Expected_Trigger_Texts': str(result['expected_stats']['trigger_texts']),\n",
        "            'Expected_Argument_Roles': str(result['expected_stats']['argument_roles']),\n",
        "            'Expected_Argument_Texts': str(result['expected_stats']['argument_texts']),\n",
        "            'Model_Number_of_Events': result['model_stats']['number_of_events'],\n",
        "            'Model_Event_Types': str(result['model_stats']['event_types']),\n",
        "            'Model_Trigger_Texts': str(result['model_stats']['trigger_texts']),\n",
        "            'Model_Argument_Roles': str(result['model_stats']['argument_roles']),\n",
        "            'Model_Argument_Texts': str(result['model_stats']['argument_texts']),\n",
        "            'Success': result['success'],\n",
        "            'Raw_Model_Output': result['raw_output']\n",
        "        }\n",
        "        excel_data.append(row)\n",
        "\n",
        "    # Create DataFrame and save to Excel\n",
        "    df = pd.DataFrame(excel_data)\n",
        "\n",
        "    # Save to Excel file\n",
        "    filename = 'event_specific_extraction_results.xlsx'\n",
        "    df.to_excel(filename, index=False)\n",
        "\n",
        "    print(f\"\\n✓ Excel file '{filename}' created successfully!\")\n",
        "    print(f\"Total sentences processed: {len(results)}\")\n",
        "    print(f\"Successful extractions: {sum(1 for r in results if r['success'])}\")\n",
        "    print(f\"Failed extractions: {sum(1 for r in results if not r['success'])}\")\n",
        "    print(f\"Total API calls made: {total_api_calls}\")\n",
        "\n",
        "    # Display sample of results\n",
        "    print(\"\\nSample of results (first 3 rows):\")\n",
        "    print(df[['Expected_Number_of_Events', 'Model_Number_of_Events', 'Success']].head(3))\n",
        "\n",
        "    # Download the file\n",
        "    print(f\"\\nDownloading {filename}...\")\n",
        "    files.download(filename)\n",
        "\n",
        "    return df\n",
        "\n",
        "# Run the main function\n",
        "if __name__ == \"__main__\":\n",
        "    results_df = main()"
      ]
    },
    {
      "cell_type": "markdown",
      "metadata": {
        "id": "jD-UBHMUE1uD"
      },
      "source": [
        "#Quantitative Analysis"
      ]
    },
    {
      "cell_type": "markdown",
      "metadata": {
        "id": "EwT_KQupPQJq"
      },
      "source": [
        "### Event type comparison\n"
      ]
    },
    {
      "cell_type": "code",
      "execution_count": null,
      "metadata": {
        "colab": {
          "base_uri": "https://localhost:8080/"
        },
        "id": "uQw9kZCA7Rr1",
        "outputId": "b6cfe84e-b05c-4b0e-e71d-72afb64eedbb"
      },
      "outputs": [
        {
          "name": "stdout",
          "output_type": "stream",
          "text": [
            "Missing Elements: [{'index': 5, 'missing': {'transfer': 1}}, {'index': 8, 'missing': {'add': 1}}, {'index': 11, 'missing': {'transfer': 1}}, {'index': 13, 'missing': {'react': 1}}, {'index': 17, 'missing': {'particle recovery': 1, 'crystallize': 1}}, {'index': 18, 'missing': {'add': 1}}, {'index': 20, 'missing': {'crystallize': 1}}, {'index': 29, 'missing': {'add': 1}}, {'index': 30, 'missing': {'add': 2}}, {'index': 35, 'missing': {'add': 1}}, {'index': 36, 'missing': {'crystallize': 1}}, {'index': 46, 'missing': {'add': 1}}, {'index': 52, 'missing': {'add': 1}}, {'index': 54, 'missing': {'transfer': 1}}, {'index': 56, 'missing': {'add': 1}}, {'index': 57, 'missing': {'crystallize': 1}}, {'index': 60, 'missing': {'transfer': 1}}, {'index': 62, 'missing': {'age': 1}}, {'index': 65, 'missing': {'add': 1}}, {'index': 66, 'missing': {'age': 1}}, {'index': 69, 'missing': {'crystallize': 1}}, {'index': 74, 'missing': {'add': 1}}, {'index': 89, 'missing': {'stir': 1, 'add': 1}}, {'index': 90, 'missing': {'transfer': 1, 'add': 1}}]\n",
            "Extra Elements: [{'index': 0, 'extra': {'calcine': 1}}, {'index': 1, 'extra': {'particle recovery': 1}}, {'index': 6, 'extra': {'heat': 1, 'seal': 1}}, {'index': 9, 'extra': {'heat': 1, 'seal': 1}}, {'index': 11, 'extra': {'age': 1}}, {'index': 13, 'extra': {'synthesize': 1}}, {'index': 15, 'extra': {'react': 1, 'add': 1}}, {'index': 18, 'extra': {'dissolve': 1}}, {'index': 20, 'extra': {'heat': 2}}, {'index': 22, 'extra': {'crystallize': 1}}, {'index': 29, 'extra': {'mix': 1}}, {'index': 30, 'extra': {'stir': 1}}, {'index': 36, 'extra': {'react': 1}}, {'index': 42, 'extra': {'rotate': 1}}, {'index': 51, 'extra': {'add': 1}}, {'index': 57, 'extra': {'heat': 1, 'age': 1}}, {'index': 60, 'extra': {'crystallize': 1, 'heat': 1}}, {'index': 62, 'extra': {'heat': 2}}, {'index': 65, 'extra': {'rotate': 1, 'age': 1}}, {'index': 66, 'extra': {'calcine': 1}}, {'index': 69, 'extra': {'heat': 4}}, {'index': 77, 'extra': {'set ph': 1}}, {'index': 84, 'extra': {'add': 1}}, {'index': 89, 'extra': {'rotate': 1}}, {'index': 90, 'extra': {'stir': 1}}]\n",
            "Subset Matching Precision: 85.42%\n",
            "Subset Matching Recall: 86.67%\n",
            "Subset Matching F1-Score: 84.70%\n"
          ]
        }
      ],
      "source": [
        "column_c_expected_event_types =[\n",
        "  ['Add', 'Stir'],\n",
        "  ['Wash', 'Dry', 'Stir'],\n",
        "  ['Calcine'],\n",
        "  ['Add', 'Stir'],\n",
        "  ['Add', 'Stir'],\n",
        "  ['Transfer', 'Add'],\n",
        "  ['Crystallize'],\n",
        "  ['Add'],\n",
        "  ['Add', 'Add'],\n",
        "  ['Crystallize'],\n",
        "  ['Add', 'Add', 'Stir', 'Stir'],\n",
        "  ['Transfer', 'Add', 'Stir'],\n",
        "  ['Dry'],\n",
        "  ['React'],\n",
        "  ['Add', 'Stir'],\n",
        "  ['Set PH'],\n",
        "  ['Transfer', 'Heat', 'Stir', 'Age'],\n",
        "  ['Wash', 'Calcine', 'Particle Recovery', 'Crystallize'],\n",
        "  ['Add', 'Add'],\n",
        "  ['Add'],\n",
        "  ['Transfer', 'Stir', 'Crystallize'],\n",
        "  ['Transfer', 'Stir', 'Age'],\n",
        "  ['Wash', 'Dry', 'Particle Recovery'],\n",
        "  ['Calcine', 'Add'],\n",
        "  ['Add'],\n",
        "  ['Add'],\n",
        "  ['Calcine'],\n",
        "  ['Calcine'],\n",
        "  ['Calcine', 'Particle Recovery'],\n",
        "  ['Add', 'Add'],\n",
        "  ['Add', 'Add', 'Add'],\n",
        "  ['Add', 'Add', 'Stir'],\n",
        "  ['Add'],\n",
        "  ['Transfer', 'Seal', 'Heat'],\n",
        "  ['Wash', 'Dry', 'Calcine'],\n",
        "  ['Add', 'Add', 'Stir', 'Stir'],\n",
        "  ['Crystallize'],\n",
        "  ['Seal', 'Heat'],\n",
        "  ['Add'],\n",
        "  ['Add'],\n",
        "  ['Add', 'Stir'],\n",
        "  ['Add'],\n",
        "  ['Transfer', 'Stir', 'Crystallize'],\n",
        "  ['Wash', 'Dry', 'Calcine', 'Particle Recovery'],\n",
        "  ['Calcine', 'Stir'],\n",
        "  ['Calcine', 'Add', 'Stir'],\n",
        "  ['Add', 'Add', 'Add'],\n",
        "  ['Particle Recovery'],\n",
        "  ['Add'],\n",
        "  ['Add', 'Stir'],\n",
        "  ['Particle Recovery'],\n",
        "  ['Wash'],\n",
        "  ['Add', 'Add', 'Add'],\n",
        "  ['Stir'],\n",
        "  ['Transfer', 'Heat'],\n",
        "  ['Wash', 'Particle Recovery'],\n",
        "  ['Add', 'Add', 'Stir'],\n",
        "  ['Crystallize'],\n",
        "  ['Add'],\n",
        "  ['Add', 'Stir'],\n",
        "  ['Transfer', 'Age'],\n",
        "  ['Wash', 'Calcine', 'Particle Recovery', 'Add', 'Stir'],\n",
        "  ['Add', 'Age'],\n",
        "  ['Add'],\n",
        "  ['Add', 'Age'],\n",
        "  ['Add', 'Stir', 'Heat'],\n",
        "  ['Heat', 'Age'],\n",
        "  ['Stir'],\n",
        "  ['Add', 'Stir'],\n",
        "  ['Crystallize'],\n",
        "  ['Cool', 'Add'],\n",
        "  ['Add'],\n",
        "  ['Add', 'Stir'],\n",
        "  ['Add'],\n",
        "  ['Rotate', 'Add', 'Add', 'Heat'],\n",
        "  ['Wash', 'Dry', 'Particle Recovery', 'Cool'],\n",
        "  ['Calcine'],\n",
        "  ['Add'],\n",
        "  ['Add'],\n",
        "  ['Stir'],\n",
        "  ['Transfer', 'Crystallize'],\n",
        "  ['Add'],\n",
        "  ['Add', 'Stir'],\n",
        "  ['Calcine'],\n",
        "  ['Dry', 'Calcine'],\n",
        "  ['React'],\n",
        "  ['Add'],\n",
        "  ['Add', 'Stir'],\n",
        "  ['Add', 'Stir'],\n",
        "  ['Add', 'Heat', 'Stir'],\n",
        "  ['Transfer', 'Add'],\n",
        "  ['Wash', 'Dry', 'Particle Recovery'],\n",
        "  ['React'],\n",
        "  ['Wash', 'Calcine', 'Particle Recovery'],\n",
        "  ['Wash', 'Dry', 'Particle Recovery'],\n",
        "  ['Add'],\n",
        "  ['Add'],\n",
        "  ['Set PH', 'Add'],\n",
        "  ['Wash', 'Particle Recovery', 'Stir'],\n",
        "  ['Add']\n",
        "]\n",
        "\n",
        "column_i_event_types = [\n",
        "  ['Calcine', 'Add', 'Stir'],\n",
        "  ['Stir', 'Particle Recovery', 'Wash', 'Dry'],\n",
        "  ['Calcine'],\n",
        "  ['Add', 'Stir'],\n",
        "  ['Add', 'Stir'],\n",
        "  ['Add'],\n",
        "  ['Heat', 'Crystallize', 'Seal'],\n",
        "  ['Add'],\n",
        "  ['Add'],\n",
        "  ['Heat', 'Crystallize', 'Seal'],\n",
        "  ['Add', 'Stir', 'Add', 'Stir'],\n",
        "  ['Add', 'Stir', 'Age'],\n",
        "  ['Dry'],\n",
        "  ['Synthesize'],\n",
        "  ['Add', 'Stir'],\n",
        "  ['Set pH', 'Add', 'React'],\n",
        "  ['Age', 'Stir', 'Transfer', 'Heat'],\n",
        "  ['Wash', 'Calcine'],\n",
        "  ['Dissolve', 'Add'],\n",
        "  ['Add'],\n",
        "  ['Stir', 'Transfer', 'Heat', 'Heat'],\n",
        "  ['Stir', 'Transfer', 'Age'],\n",
        "  ['Crystallize', 'Particle Recovery', 'Wash', 'Dry'],\n",
        "  ['Calcine', 'Add'],\n",
        "  ['Add'],\n",
        "  ['Add'],\n",
        "  ['Calcine'],\n",
        "  ['Calcine'],\n",
        "  ['Calcine', 'Particle Recovery'],\n",
        "  ['Add', 'Mix'],\n",
        "  ['Add', 'Stir'],\n",
        "  ['Add', 'Add', 'Stir'],\n",
        "  ['Add'],\n",
        "  ['Seal', 'Transfer', 'Heat'],\n",
        "  ['Wash', 'Dry', 'Calcine'],\n",
        "  ['Stir', 'Add', 'Stir'],\n",
        "  ['React'],\n",
        "  ['Seal', 'Heat'],\n",
        "  ['Add'],\n",
        "  ['Add'],\n",
        "  ['Stir', 'Add'],\n",
        "  ['Add'],\n",
        "  ['Stir', 'Transfer', 'Crystallize', 'Rotate'],\n",
        "  ['Particle Recovery', 'Wash', 'Dry', 'Calcine'],\n",
        "  ['Stir', 'Calcine'],\n",
        "  ['Add', 'Stir', 'Calcine'],\n",
        "  ['Add', 'Add'],\n",
        "  ['Particle Recovery'],\n",
        "  ['Add'],\n",
        "  ['Add', 'Stir'],\n",
        "  ['Particle Recovery'],\n",
        "  ['Wash', 'Add'],\n",
        "  ['Add', 'Add'],\n",
        "  ['Stir'],\n",
        "  ['Heat'],\n",
        "  ['Particle Recovery', 'Wash'],\n",
        "  ['Add', 'Stir'],\n",
        "  ['Heat', 'Age'],\n",
        "  ['Add'],\n",
        "  ['Add', 'Stir'],\n",
        "  ['Heat', 'Age', 'Crystallize'],\n",
        "  ['Particle Recovery', 'Wash', 'Calcine', 'Add', 'Stir'],\n",
        "  ['Heat', 'Add', 'Heat'],\n",
        "  ['Add'],\n",
        "  ['Age', 'Add'],\n",
        "  ['Stir', 'Heat', 'Rotate', 'Age'],\n",
        "  ['Heat', 'Calcine'],\n",
        "  ['Stir'],\n",
        "  ['Add', 'Stir'],\n",
        "  ['Heat', 'Heat', 'Heat', 'Heat'],\n",
        "  ['Add', 'Cool'],\n",
        "  ['Add'],\n",
        "  ['Add', 'Stir'],\n",
        "  ['Add'],\n",
        "  ['Add', 'Heat', 'Rotate'],\n",
        "  ['Cool', 'Particle Recovery', 'Wash', 'Dry'],\n",
        "  ['Calcine'],\n",
        "  ['Add', 'Set pH'],\n",
        "  ['Add'],\n",
        "  ['Stir'],\n",
        "  ['Transfer', 'Crystallize'],\n",
        "  ['Add'],\n",
        "  ['Add', 'Stir'],\n",
        "  ['Calcine'],\n",
        "  ['Add', 'Dry', 'Calcine'],\n",
        "  ['React'],\n",
        "  ['Add'],\n",
        "  ['Add', 'Stir'],\n",
        "  ['Add', 'Stir'],\n",
        "  ['Heat', 'Rotate'],\n",
        "  ['Stir'],\n",
        "  ['Particle Recovery', 'Wash', 'Dry'],\n",
        "  ['React'],\n",
        "  ['Particle Recovery', 'Wash', 'Calcine'],\n",
        "  ['Particle Recovery', 'Wash', 'Dry'],\n",
        "  ['Add'],\n",
        "  ['Add'],\n",
        "  ['Add', 'Set pH'],\n",
        "  ['Stir', 'Particle Recovery', 'Wash'],\n",
        "  ['Add']\n",
        "]\n",
        "\n",
        "\n",
        "# ================================\n",
        "# Subset Matching Comparison Script (Case-Insensitive, Prediction-Normalized Scoring)\n",
        "# Modified to handle duplicates properly\n",
        "# ================================\n",
        "from collections import Counter\n",
        "\n",
        "\n",
        "# Containers to hold results\n",
        "missing_elements = []\n",
        "extra_elements = []\n",
        "\n",
        "# Per-sample metric accumulators\n",
        "precisions = []\n",
        "recalls = []\n",
        "f1_scores = []\n",
        "\n",
        "# Compare lists of any size\n",
        "for idx, (expected, predicted) in enumerate(zip(column_c_expected_event_types , column_i_event_types )):\n",
        "    # Case-normalize and standardize spacing (filter out None values)\n",
        "    def normalize_text(text):\n",
        "        if text is None:\n",
        "            return None\n",
        "        # Convert to lowercase and normalize spacing around parentheses\n",
        "        normalized = text.lower()\n",
        "        # Remove extra spaces around parentheses: \"( text )\" -> \"(text)\"\n",
        "        normalized = normalized.replace('( ', '(').replace(' )', ')')\n",
        "        # Replace multiple spaces with single space and strip\n",
        "        normalized = ' '.join(normalized.split())\n",
        "        return normalized\n",
        "\n",
        "    expected_counter = Counter([normalize_text(e) for e in expected if normalize_text(e) is not None])\n",
        "    predicted_counter = Counter([normalize_text(p) for p in predicted if normalize_text(p) is not None])\n",
        "\n",
        "    # Find missing and extra with counts\n",
        "    missing = {}\n",
        "    extra = {}\n",
        "    all_elements = set(list(expected_counter.keys()) + list(predicted_counter.keys()))\n",
        "\n",
        "    for element in all_elements:\n",
        "        expected_count = expected_counter.get(element, 0)\n",
        "        predicted_count = predicted_counter.get(element, 0)\n",
        "\n",
        "        if expected_count > predicted_count:\n",
        "            missing[element] = expected_count - predicted_count\n",
        "        elif predicted_count > expected_count:\n",
        "            extra[element] = predicted_count - expected_count\n",
        "\n",
        "    if missing:\n",
        "        missing_elements.append({\"index\": idx, \"missing\": missing})\n",
        "    if extra:\n",
        "        extra_elements.append({\"index\": idx, \"extra\": extra})\n",
        "\n",
        "    # Calculate correct matches (minimum of expected and predicted for each element)\n",
        "    correct = sum(min(expected_counter[element], predicted_counter[element])\n",
        "                  for element in all_elements)\n",
        "\n",
        "    total_expected = sum(expected_counter.values())\n",
        "    total_predicted = sum(predicted_counter.values())\n",
        "\n",
        "    # Metrics per sample\n",
        "    #accuracy = correct / total_predicted if total_predicted > 0 else 0\n",
        "    precision = correct / total_predicted if total_predicted > 0 else 0\n",
        "    recall = correct / total_expected if total_expected > 0 else 0\n",
        "    f1 = (2 * precision * recall / (precision + recall)) if (precision + recall) > 0 else 0\n",
        "\n",
        "    # Store per-sample metrics\n",
        "    #accuracies.append(accuracy)\n",
        "    precisions.append(precision)\n",
        "    recalls.append(recall)\n",
        "    f1_scores.append(f1)\n",
        "\n",
        "# Final averaged metrics (in %)\n",
        "#avg_accuracy = sum(accuracies) / len(accuracies) * 100 if accuracies else 0\n",
        "avg_precision = sum(precisions) / len(precisions) * 100 if precisions else 0\n",
        "avg_recall = sum(recalls) / len(recalls) * 100 if recalls else 0\n",
        "avg_f1 = sum(f1_scores) / len(f1_scores) * 100 if f1_scores else 0\n",
        "\n",
        "# Print results\n",
        "print(\"Missing Elements:\", missing_elements)\n",
        "print(\"Extra Elements:\", extra_elements)\n",
        "#print(f\"Subset Matching Accuracy: {avg_accuracy:.2f}%\")\n",
        "print(f\"Subset Matching Precision: {avg_precision:.2f}%\")\n",
        "print(f\"Subset Matching Recall: {avg_recall:.2f}%\")\n",
        "print(f\"Subset Matching F1-Score: {avg_f1:.2f}%\")\n",
        "\n",
        "\n"
      ]
    },
    {
      "cell_type": "markdown",
      "metadata": {
        "id": "QbQ1TvZDPUC3"
      },
      "source": [
        "###Trigger text comparison"
      ]
    },
    {
      "cell_type": "code",
      "execution_count": null,
      "metadata": {
        "colab": {
          "base_uri": "https://localhost:8080/"
        },
        "id": "-p5JNovgCh1a",
        "outputId": "37d7ab8c-46eb-4409-96b6-02f103b96938"
      },
      "outputs": [
        {
          "name": "stdout",
          "output_type": "stream",
          "text": [
            "Missing Elements: [{'index': 5, 'missing': {'placed': 1, 'added': 1}}, {'index': 7, 'missing': {'added': 1}}, {'index': 8, 'missing': {'dissolved': 1}}, {'index': 10, 'missing': {'added': 2}}, {'index': 11, 'missing': {'placed': 1}}, {'index': 15, 'missing': {'adjusted': 1}}, {'index': 17, 'missing': {'calcined': 1, 'treatment': 1, 'washed': 1, 'centrifuging': 1}}, {'index': 19, 'missing': {'added': 1}}, {'index': 20, 'missing': {'treatment': 1, 'transferred': 1, 'stirring': 1}}, {'index': 21, 'missing': {'stirred': 1, 'age': 1}}, {'index': 22, 'missing': {'filtration': 1, 'washed': 1}}, {'index': 30, 'missing': {'combined': 1, 'added': 1}}, {'index': 32, 'missing': {'charged': 1}}, {'index': 35, 'missing': {'stirring,and': 1, 'dissolved': 1, 'stirring': 1}}, {'index': 36, 'missing': {'treatment': 1}}, {'index': 46, 'missing': {'dissolved': 1, 'added': 1}}, {'index': 47, 'missing': {'filtration': 1}}, {'index': 49, 'missing': {'added': 1, 'stirring': 1}}, {'index': 50, 'missing': {'filtration': 1}}, {'index': 52, 'missing': {'added': 1, 'dissolved': 1}}, {'index': 54, 'missing': {'loaded': 1}}, {'index': 55, 'missing': {'filtration': 1}}, {'index': 56, 'missing': {'dissolved': 1, 'added': 1}}, {'index': 57, 'missing': {'treated': 1}}, {'index': 58, 'missing': {'dissolved': 1}}, {'index': 60, 'missing': {'kept': 1, 'placed': 1}}, {'index': 62, 'missing': {'pumped': 1, 'holding': 1}}, {'index': 65, 'missing': {'charged': 1}}, {'index': 66, 'missing': {'kept': 1}}, {'index': 68, 'missing': {'added': 1, 'stirring': 1}}, {'index': 69, 'missing': {'performed': 1}}, {'index': 70, 'missing': {'cooled': 1, 'added': 1}}, {'index': 71, 'missing': {'dissolved': 1}}, {'index': 73, 'missing': {'added': 1}}, {'index': 74, 'missing': {'introduced': 1}}, {'index': 75, 'missing': {'washing': 1, 'cooled': 1, 'filtration': 1, 'drying': 1}}, {'index': 77, 'missing': {'added': 1}}, {'index': 87, 'missing': {'added': 1, 'stirred': 1}}, {'index': 88, 'missing': {'added': 1, 'stirred': 1}}, {'index': 89, 'missing': {'charged': 1}}, {'index': 90, 'missing': {'placed': 1}}, {'index': 91, 'missing': {'dried': 1, 'filtration': 1, 'washed': 1}}, {'index': 93, 'missing': {'centrifugation': 1}}, {'index': 94, 'missing': {'dried': 1, 'washed': 1, 'centrifugation': 1}}, {'index': 95, 'missing': {'dissolved': 1}}, {'index': 96, 'missing': {'added': 1}}, {'index': 97, 'missing': {'added': 1}}, {'index': 99, 'missing': {'dissolved': 1}}]\n",
            "Extra Elements: [{'index': 0, 'extra': {'calcined': 1}}, {'index': 1, 'extra': {'recovered': 1}}, {'index': 5, 'extra': {'was added': 1}}, {'index': 6, 'extra': {'sealed': 1, 'heating': 1}}, {'index': 7, 'extra': {'was added': 1}}, {'index': 9, 'extra': {'sealed': 1, 'heating': 1}}, {'index': 10, 'extra': {'was added': 2}}, {'index': 11, 'extra': {'placed ... for 6 days': 1}}, {'index': 15, 'extra': {'co-gelation of aluminosilicate and magnesium species was induced': 1, 'adjusted to 10': 1, 'addition of naoh solution': 1}}, {'index': 17, 'extra': {'calcined at 550 ºc for 6 h': 1, 'washed with deionized water': 1}}, {'index': 19, 'extra': {'was added': 1}}, {'index': 20, 'extra': {'hydrothermal treatment first at 90 °c': 1, 'at 170 °c': 1, 'vigorous stirring': 1, 'was transferred': 1}}, {'index': 21, 'extra': {'vigorously stirred': 1, 'left to age': 1}}, {'index': 22, 'extra': {'crystallization': 1, 'separated by filtration': 1, 'washed several times': 1}}, {'index': 30, 'extra': {'was added': 1}}, {'index': 32, 'extra': {'was charged': 1}}, {'index': 35, 'extra': {'vigorous stirring': 2}}, {'index': 36, 'extra': {'subjected to the hydrothermal treatment': 1}}, {'index': 42, 'extra': {'rotation': 1}}, {'index': 46, 'extra': {'was added': 1}}, {'index': 47, 'extra': {'removed by filtration': 1}}, {'index': 49, 'extra': {'under vigorous stirring': 1, 'was added': 1}}, {'index': 50, 'extra': {'removed by filtration': 1}}, {'index': 51, 'extra': {'was obtained': 1}}, {'index': 52, 'extra': {'was added': 1}}, {'index': 55, 'extra': {'isolated by filtration': 1}}, {'index': 56, 'extra': {'was added': 1}}, {'index': 57, 'extra': {'for >4 and 3 days': 1, 'hydrothermally treated at 100 and 130 °c': 1}}, {'index': 58, 'extra': {'was dissolved': 1}}, {'index': 60, 'extra': {'set at 177 °c': 1, 'hydrothermal crystallization': 1, 'kept for up to 5 days': 1}}, {'index': 62, 'extra': {'holding for 10 min at 330 °c': 1, '180 °c': 1, 'acetone was pumped': 1}}, {'index': 65, 'extra': {'for 14-28 days': 1, 'rotation': 1}}, {'index': 66, 'extra': {'remove the organic structure-directing agents (sdas) occluded': 1}}, {'index': 68, 'extra': {'vigorous stirring': 1, 'was added': 1}}, {'index': 69, 'extra': {'performed at 100': 1, '150': 1, '120': 1, '170': 1}}, {'index': 70, 'extra': {'cooled at 0 ºc': 1, 'were added': 1}}, {'index': 71, 'extra': {'were dissolved': 1}}, {'index': 73, 'extra': {'was added': 1}}, {'index': 75, 'extra': {'cooled down': 1, 'washing with deionized water and acetone': 1, 'drying at 100 ºc overnight': 1, 'recovered by filtration': 1}}, {'index': 77, 'extra': {'were added': 1, 'at ph value of 2': 1}}, {'index': 84, 'extra': {'impregnation': 1}}, {'index': 87, 'extra': {'was stirred': 1, 'was added': 1}}, {'index': 88, 'extra': {'was stirred': 1, 'was added': 1}}, {'index': 91, 'extra': {'dried overnight': 1, 'recovered by filtration': 1, 'washed with distilled water': 1}}, {'index': 93, 'extra': {'isolated by centrifugation': 1}}, {'index': 94, 'extra': {'washed with small amount of water': 1, 'dried at 50 ºc till dry': 1, 'isolated by centrifugation': 1}}, {'index': 95, 'extra': {'was dissolved': 1}}, {'index': 96, 'extra': {'was added': 1}}, {'index': 97, 'extra': {'hcl was added': 1}}, {'index': 99, 'extra': {'were dissolved': 1}}]\n",
            "Subset Matching Precision: 60.75%\n",
            "Subset Matching Recall: 61.17%\n",
            "Subset Matching F1-Score: 60.05%\n"
          ]
        }
      ],
      "source": [
        "# ================================\n",
        "# Subset Matching Comparison Script (Case-Insensitive, Prediction-Normalized Scoring)\n",
        "# ================================\n",
        "\n",
        "# Placeholders for your lists\n",
        "column_d_expected_trigger_texts = [\n",
        "  ['dispersed', 'stirred'],\n",
        "  ['washed', 'dried', 'stirring'],\n",
        "  ['calcined'],\n",
        "  ['dispersed', 'stirred'],\n",
        "  ['dispersed', 'stirred'],\n",
        "  ['placed', 'added'],\n",
        "  ['crystallization'],\n",
        "  ['added'],\n",
        "  ['dissolved', 'added'],\n",
        "  ['crystallization'],\n",
        "  ['added', 'added', 'stirred', 'stirred'],\n",
        "  ['placed', 'added', 'stirred'],\n",
        "  ['dried'],\n",
        "  ['synthesized'],\n",
        "  ['added', 'stirred'],\n",
        "  ['adjusted'],\n",
        "  ['transferred', 'heated', 'stirring', 'aging'],\n",
        "  ['washed', 'calcined', 'centrifuging', 'treatment'],\n",
        "  ['dissolved', 'addition'],\n",
        "  ['added'],\n",
        "  ['transferred', 'stirring', 'treatment'],\n",
        "  ['transferred', 'stirred', 'age'],\n",
        "  ['washed', 'dried', 'filtration'],\n",
        "  ['calcination', 'mixed'],\n",
        "  ['loaded'],\n",
        "  ['introduced'],\n",
        "  ['calcined'],\n",
        "  ['calcined'],\n",
        "  ['calcined', 'filtration'],\n",
        "  ['adding', 'mixing'],\n",
        "  ['combined', 'added', 'mixing'],\n",
        "  ['dissolved', 'added', 'stirring'],\n",
        "  ['charged'],\n",
        "  ['transferred', 'sealed', 'heated'],\n",
        "  ['washed', 'dried', 'calcination'],\n",
        "  ['dissolved', 'added', 'stirring,and', 'stirring'],\n",
        "  ['treatment'],\n",
        "  ['sealed', 'heated'],\n",
        "  ['dissolved'],\n",
        "  ['introduced'],\n",
        "  ['added', 'stirring'],\n",
        "  ['added'],\n",
        "  ['moved', 'stirring', 'crystallized'],\n",
        "  ['washing', 'drying', 'calcining', 'filtration'],\n",
        "  ['calcined', 'stirred'],\n",
        "  ['calcining', 'mixing', 'stirring'],\n",
        "  ['dissolved', 'added', 'adding'],\n",
        "  ['filtration'],\n",
        "  ['dissolved'],\n",
        "  ['added', 'stirring'],\n",
        "  ['filtration'],\n",
        "  ['washed'],\n",
        "  ['adding', 'dissolved', 'added'],\n",
        "  ['stirred'],\n",
        "  ['loaded', 'heated'],\n",
        "  ['washed', 'filtration'],\n",
        "  ['dissolved', 'added', 'stirred'],\n",
        "  ['treated'],\n",
        "  ['dissolved'],\n",
        "  ['dissolved', 'stirring'],\n",
        "  ['placed', 'kept'],\n",
        "  ['washed', 'calcined', 'filtrated', 'mixed', 'stirred'],\n",
        "  ['pumped', 'holding'],\n",
        "  ['added'],\n",
        "  ['dissolved', 'aged'],\n",
        "  ['charged', 'stirred', 'heated'],\n",
        "  ['heated', 'kept'],\n",
        "  ['stirred'],\n",
        "  ['added', 'stirring'],\n",
        "  ['performed'],\n",
        "  ['cooled', 'added'],\n",
        "  ['dissolved'],\n",
        "  ['added', 'stirred'],\n",
        "  ['added'],\n",
        "  ['tumbling', 'added', 'introduced', 'heated'],\n",
        "  ['washing', 'drying', 'filtration', 'cooled'],\n",
        "  ['calcined'],\n",
        "  ['added'],\n",
        "  ['added'],\n",
        "  ['stirred'],\n",
        "  ['transferred', 'crystallize'],\n",
        "  ['adding'],\n",
        "  ['added', 'stirred'],\n",
        "  ['calcined'],\n",
        "  ['drying', 'calcining'],\n",
        "  ['reaction'],\n",
        "  ['dissolved'],\n",
        "  ['added', 'stirred'],\n",
        "  ['added', 'stirred'],\n",
        "  ['charged', 'heated', 'agitation'],\n",
        "  ['placed', 'mixing'],\n",
        "  ['washed', 'dried', 'filtration'],\n",
        "  ['reacting'],\n",
        "  ['washed', 'calcined', 'centrifugation'],\n",
        "  ['washed', 'dried', 'centrifugation'],\n",
        "  ['dissolved'],\n",
        "  ['added'],\n",
        "  ['pH was close to 2', 'added'],\n",
        "  ['washed', 'filtered', 'stirring'],\n",
        "  ['dissolved']\n",
        "]\n",
        "\n",
        "column_j_trigger_texts = [\n",
        "  ['calcined', 'dispersed', 'stirred'],\n",
        "  ['stirring', 'recovered', 'washed', 'dried'],\n",
        "  ['calcined'],\n",
        "  ['dispersed', 'stirred'],\n",
        "  ['dispersed', 'stirred'],\n",
        "  ['was added'],\n",
        "  ['heating', 'crystallization', 'sealed'],\n",
        "  ['was added'],\n",
        "  ['added'],\n",
        "  ['heating', 'crystallization', 'sealed'],\n",
        "  ['was added', 'stirred', 'was added', 'stirred'],\n",
        "  ['added', 'stirred', 'placed ... for 6 days'],\n",
        "  ['dried'],\n",
        "  ['synthesized'],\n",
        "  ['added', 'stirred'],\n",
        "  ['adjusted to 10', 'addition of NaOH solution', 'co-gelation of aluminosilicate and magnesium species was induced'],\n",
        "  ['aging', 'stirring', 'transferred', 'heated'],\n",
        "  ['washed with deionized water', 'calcined at 550 ºC for 6 h'],\n",
        "  ['dissolved', 'addition'],\n",
        "  ['was added'],\n",
        "  ['vigorous stirring', 'was transferred', 'hydrothermal treatment first at 90 °C', 'at 170 °C'],\n",
        "  ['vigorously stirred', 'transferred', 'left to age'],\n",
        "  ['crystallization', 'separated by filtration', 'washed several times', 'dried'],\n",
        "  ['calcination', 'mixed'],\n",
        "  ['loaded'],\n",
        "  ['introduced'],\n",
        "  ['calcined'],\n",
        "  ['calcined'],\n",
        "  ['calcined', 'filtration'],\n",
        "  ['adding', 'mixing'],\n",
        "  ['was added', 'mixing'],\n",
        "  ['dissolved', 'added', 'stirring'],\n",
        "  ['was charged'],\n",
        "  ['sealed', 'transferred', 'heated'],\n",
        "  ['washed', 'dried', 'calcination'],\n",
        "  ['vigorous stirring', 'added', 'vigorous stirring'],\n",
        "  ['subjected to the hydrothermal treatment'],\n",
        "  ['sealed', 'heated'],\n",
        "  ['dissolved'],\n",
        "  ['introduced'],\n",
        "  ['stirring', 'added'],\n",
        "  ['added'],\n",
        "  ['stirring', 'moved', 'crystallized', 'rotation'],\n",
        "  ['filtration', 'washing', 'drying', 'calcining'],\n",
        "  ['stirred', 'calcined'],\n",
        "  ['mixing', 'stirring', 'calcining'],\n",
        "  ['was added', 'adding'],\n",
        "  ['removed by filtration'],\n",
        "  ['dissolved'],\n",
        "  ['was added', 'under vigorous stirring'],\n",
        "  ['removed by filtration'],\n",
        "  ['washed', 'was obtained'],\n",
        "  ['was added', 'adding'],\n",
        "  ['stirred'],\n",
        "  ['heated'],\n",
        "  ['isolated by filtration', 'washed'],\n",
        "  ['was added', 'stirred'],\n",
        "  ['hydrothermally treated at 100 and 130 °C', 'for >4 and 3 days'],\n",
        "  ['was dissolved'],\n",
        "  ['dissolved', 'stirring'],\n",
        "  ['set at 177 °C', 'kept for up to 5 days', 'hydrothermal crystallization'],\n",
        "  ['filtrated', 'washed', 'calcined', 'mixed', 'stirred'],\n",
        "  ['holding for 10 min at 330 °C', 'acetone was pumped', '180 °C'],\n",
        "  ['added'],\n",
        "  ['aged', 'dissolved'],\n",
        "  ['stirred', 'heated', 'rotation', 'for 14-28 days'],\n",
        "  ['heated', 'remove the organic structure-directing agents (SDAs) occluded'],\n",
        "  ['stirred'],\n",
        "  ['was added', 'vigorous stirring'],\n",
        "  ['performed at 100', '120', '150', '170'],\n",
        "  ['were added', 'cooled at 0 ºC'],\n",
        "  ['were dissolved'],\n",
        "  ['added', 'stirred'],\n",
        "  ['was added'],\n",
        "  ['added', 'heated', 'tumbling'],\n",
        "  ['cooled down', 'recovered by filtration', 'washing with deionized water and acetone', 'drying at 100 ºC overnight'],\n",
        "  ['calcined'],\n",
        "  ['were added', 'at pH value of 2'],\n",
        "  ['added'],\n",
        "  ['stirred'],\n",
        "  ['transferred', 'crystallize'],\n",
        "  ['adding'],\n",
        "  ['added', 'stirred'],\n",
        "  ['calcined'],\n",
        "  ['impregnation', 'drying', 'calcining'],\n",
        "  ['reaction'],\n",
        "  ['dissolved'],\n",
        "  ['was added', 'was stirred'],\n",
        "  ['was added', 'was stirred'],\n",
        "  ['heated', 'agitation'],\n",
        "  ['mixing'],\n",
        "  ['recovered by filtration', 'washed with distilled water', 'dried overnight'],\n",
        "  ['reacting'],\n",
        "  ['isolated by centrifugation', 'washed', 'calcined'],\n",
        "  ['isolated by centrifugation', 'washed with small amount of water', 'dried at 50 ºC till dry'],\n",
        "  ['was dissolved'],\n",
        "  ['was added'],\n",
        "  ['HCl was added', 'pH was close to 2'],\n",
        "  ['stirring', 'filtered', 'washed'],\n",
        "  ['were dissolved']\n",
        "]\n",
        "\n",
        "# ================================\n",
        "# Subset Matching Comparison Script (Case-Insensitive, Prediction-Normalized Scoring)\n",
        "# Modified to handle duplicates properly\n",
        "# ================================\n",
        "from collections import Counter\n",
        "\n",
        "\n",
        "# Containers to hold results\n",
        "missing_elements = []\n",
        "extra_elements = []\n",
        "\n",
        "# Per-sample metric accumulators\n",
        "accuracies = []\n",
        "precisions = []\n",
        "recalls = []\n",
        "f1_scores = []\n",
        "\n",
        "# Compare lists of any size\n",
        "for idx, (expected, predicted) in enumerate(zip(column_d_expected_trigger_texts , column_j_trigger_texts )):\n",
        "    # Case-normalize and standardize spacing (filter out None values)\n",
        "    def normalize_text(text):\n",
        "        if text is None:\n",
        "            return None\n",
        "        # Convert to lowercase and normalize spacing around parentheses\n",
        "        normalized = text.lower()\n",
        "        # Remove extra spaces around parentheses: \"( text )\" -> \"(text)\"\n",
        "        normalized = normalized.replace('( ', '(').replace(' )', ')')\n",
        "        # Replace multiple spaces with single space and strip\n",
        "        normalized = ' '.join(normalized.split())\n",
        "        return normalized\n",
        "\n",
        "    expected_counter = Counter([normalize_text(e) for e in expected if normalize_text(e) is not None])\n",
        "    predicted_counter = Counter([normalize_text(p) for p in predicted if normalize_text(p) is not None])\n",
        "\n",
        "    # Find missing and extra with counts\n",
        "    missing = {}\n",
        "    extra = {}\n",
        "    all_elements = set(list(expected_counter.keys()) + list(predicted_counter.keys()))\n",
        "\n",
        "    for element in all_elements:\n",
        "        expected_count = expected_counter.get(element, 0)\n",
        "        predicted_count = predicted_counter.get(element, 0)\n",
        "\n",
        "        if expected_count > predicted_count:\n",
        "            missing[element] = expected_count - predicted_count\n",
        "        elif predicted_count > expected_count:\n",
        "            extra[element] = predicted_count - expected_count\n",
        "\n",
        "    if missing:\n",
        "        missing_elements.append({\"index\": idx, \"missing\": missing})\n",
        "    if extra:\n",
        "        extra_elements.append({\"index\": idx, \"extra\": extra})\n",
        "\n",
        "    # Calculate correct matches (minimum of expected and predicted for each element)\n",
        "    correct = sum(min(expected_counter[element], predicted_counter[element])\n",
        "                  for element in all_elements)\n",
        "\n",
        "    total_expected = sum(expected_counter.values())\n",
        "    total_predicted = sum(predicted_counter.values())\n",
        "\n",
        "    # Metrics per sample\n",
        "    #accuracy = correct / total_predicted if total_predicted > 0 else 0\n",
        "    precision = correct / total_predicted if total_predicted > 0 else 0\n",
        "    recall = correct / total_expected if total_expected > 0 else 0\n",
        "    f1 = (2 * precision * recall / (precision + recall)) if (precision + recall) > 0 else 0\n",
        "\n",
        "    # Store per-sample metrics\n",
        "    #accuracies.append(accuracy)\n",
        "    precisions.append(precision)\n",
        "    recalls.append(recall)\n",
        "    f1_scores.append(f1)\n",
        "\n",
        "# Final averaged metrics (in %)\n",
        "#avg_accuracy = sum(accuracies) / len(accuracies) * 100 if accuracies else 0\n",
        "avg_precision = sum(precisions) / len(precisions) * 100 if precisions else 0\n",
        "avg_recall = sum(recalls) / len(recalls) * 100 if recalls else 0\n",
        "avg_f1 = sum(f1_scores) / len(f1_scores) * 100 if f1_scores else 0\n",
        "\n",
        "# Print results\n",
        "print(\"Missing Elements:\", missing_elements)\n",
        "print(\"Extra Elements:\", extra_elements)\n",
        "#print(f\"Subset Matching Accuracy: {avg_accuracy:.2f}%\")\n",
        "print(f\"Subset Matching Precision: {avg_precision:.2f}%\")\n",
        "print(f\"Subset Matching Recall: {avg_recall:.2f}%\")\n",
        "print(f\"Subset Matching F1-Score: {avg_f1:.2f}%\")\n"
      ]
    },
    {
      "cell_type": "markdown",
      "metadata": {
        "id": "eBCHL3lbQfPo"
      },
      "source": [
        "###Argument role comparison"
      ]
    },
    {
      "cell_type": "code",
      "execution_count": null,
      "metadata": {
        "colab": {
          "base_uri": "https://localhost:8080/"
        },
        "id": "bJ5HhNe7PYlj",
        "outputId": "5c392d1a-3889-4c94-c5da-67da0c7f2ad8"
      },
      "outputs": [
        {
          "name": "stdout",
          "output_type": "stream",
          "text": [
            "Missing Elements: [{'index': 0, 'missing': {'material': 1}}, {'index': 3, 'missing': {'material': 1}}, {'index': 4, 'missing': {'material': 1}}, {'index': 5, 'missing': {'container': 1, 'sample': 1}}, {'index': 8, 'missing': {'material': 1}}, {'index': 11, 'missing': {'container': 1}}, {'index': 30, 'missing': {'material': 1}}, {'index': 31, 'missing': {'material': 1}}, {'index': 42, 'missing': {'revolution': 1}}, {'index': 56, 'missing': {'material': 1}}, {'index': 61, 'missing': {'material': 3}}, {'index': 67, 'missing': {'sample': 2, 'revolution': 1}}, {'index': 74, 'missing': {'material': 1}}, {'index': 89, 'missing': {'material': 1}}, {'index': 95, 'missing': {'material': 1}}]\n",
            "Extra Elements: [{'index': 0, 'extra': {'sample': 2, 'solvent': 1}}, {'index': 1, 'extra': {'sample': 2, 'material': 1, 'times': 1, 'duration': 2}}, {'index': 2, 'extra': {'sample': 1}}, {'index': 3, 'extra': {'sample': 1, 'container': 1}}, {'index': 4, 'extra': {'sample': 1, 'container': 1}}, {'index': 6, 'extra': {'duration': 2, 'temperature': 1, 'container': 2, 'sample': 1}}, {'index': 8, 'extra': {'container': 1}}, {'index': 9, 'extra': {'duration': 1, 'temperature': 1, 'container': 2, 'sample': 1}}, {'index': 10, 'extra': {'duration': 2, 'material': 4, 'container': 2, 'sample': 4}}, {'index': 11, 'extra': {'duration': 1, 'temperature': 1}}, {'index': 12, 'extra': {'material': 1}}, {'index': 13, 'extra': {'condition': 1}}, {'index': 14, 'extra': {'material': 1, 'container': 1, 'sample': 1}}, {'index': 15, 'extra': {'material': 3, 'container': 1, 'condition': 1}}, {'index': 16, 'extra': {'duration': 1, 'container': 1, 'condition': 1, 'revolution_text': 1}}, {'index': 17, 'extra': {'sample': 1}}, {'index': 18, 'extra': {'container': 1, 'solvent': 1}}, {'index': 19, 'extra': {'container': 1}}, {'index': 20, 'extra': {'duration': 1, 'container': 2, 'sample': 2}}, {'index': 21, 'extra': {'duration': 1, 'sample': 1}}, {'index': 22, 'extra': {'sample': 1, 'times': 2, 'duration': 2}}, {'index': 23, 'extra': {'material': 2, 'sample': 1}}, {'index': 24, 'extra': {'container': 1}}, {'index': 25, 'extra': {'rate': 1}}, {'index': 26, 'extra': {'material': 1}}, {'index': 27, 'extra': {'sample': 1, 'specific condition': 1}}, {'index': 28, 'extra': {'sample': 1}}, {'index': 29, 'extra': {'container': 1, 'solvent': 1}}, {'index': 30, 'extra': {'duration': 1, 'sample': 1}}, {'index': 31, 'extra': {'sample': 1, 'revolution': 1, 'temperature': 2, 'solvent': 1}}, {'index': 33, 'extra': {'container': 3, 'sample': 2}}, {'index': 34, 'extra': {'sample': 1, 'times': 1, 'container': 1}}, {'index': 35, 'extra': {'material': 2, 'container': 1, 'sample': 2, 'revolution_text': 2}}, {'index': 36, 'extra': {'material': 1, 'condition': 1}}, {'index': 37, 'extra': {'container': 2, 'sample': 1}}, {'index': 38, 'extra': {'material': 1, 'sample': 1}}, {'index': 40, 'extra': {'material': 1, 'sample': 1}}, {'index': 41, 'extra': {'container': 1}}, {'index': 42, 'extra': {'sample': 2, 'duration': 1, 'temperature': 1, 'condition': 2}}, {'index': 43, 'extra': {'sample': 1, 'material': 1, 'times': 1, 'duration': 2, 'temperature': 1, 'condition': 1}}, {'index': 44, 'extra': {'sample': 1, 'material': 1, 'times': 1, 'specific condition': 1, 'solvent': 1}}, {'index': 45, 'extra': {'material': 1, 'sample': 2}}, {'index': 46, 'extra': {'material': 1}}, {'index': 47, 'extra': {'duration': 1, 'material': 1}}, {'index': 48, 'extra': {'container': 1, 'solvent': 1}}, {'index': 49, 'extra': {'sample': 1, 'revolution_text': 1}}, {'index': 50, 'extra': {'sample': 1}}, {'index': 51, 'extra': {'material': 1, 'sample': 2}}, {'index': 52, 'extra': {'material': 1}}, {'index': 55, 'extra': {'material': 1, 'solvent': 1, 'sample': 1}}, {'index': 56, 'extra': {'container': 1, 'sample': 1}}, {'index': 57, 'extra': {'duration': 1, 'container': 1}}, {'index': 58, 'extra': {'material': 1, 'solvent': 1}}, {'index': 59, 'extra': {'material': 1, 'container': 1, 'solvent': 2, 'sample': 1}}, {'index': 60, 'extra': {'duration': 1, 'temperature': 1}}, {'index': 61, 'extra': {'sample': 2, 'times': 1, 'duration': 1, 'solvent': 2, 'container': 1}}, {'index': 62, 'extra': {'sample': 1, 'material': 1, 'temperature': 1, 'container': 1}}, {'index': 63, 'extra': {'container': 1}}, {'index': 64, 'extra': {'temperature': 1}}, {'index': 65, 'extra': {'sample': 2, 'revolution': 1, 'duration': 2, 'temperature': 1, 'container': 1}}, {'index': 66, 'extra': {'sample': 2, 'duration': 1, 'temperature': 1, 'container': 1, 'condition': 2}}, {'index': 67, 'extra': {'duration': 1}}, {'index': 68, 'extra': {'container': 1, 'solvent': 2, 'sample': 1}}, {'index': 69, 'extra': {'temperature': 6, 'condition': 3}}, {'index': 70, 'extra': {'container': 2, 'sample': 1}}, {'index': 71, 'extra': {'container': 1, 'solvent': 1}}, {'index': 72, 'extra': {'temperature': 1, 'sample': 1}}, {'index': 74, 'extra': {'sample': 1, 'duration': 1, 'temperature': 1, 'container': 2, 'revolution_text': 1}}, {'index': 75, 'extra': {'sample': 2, 'times': 1, 'duration': 2, 'container': 2}}, {'index': 76, 'extra': {'sample': 1}}, {'index': 77, 'extra': {'material': 1, 'container': 1, 'ph': 1}}, {'index': 79, 'extra': {'sample': 1}}, {'index': 80, 'extra': {'container': 1}}, {'index': 81, 'extra': {'material': 1}}, {'index': 82, 'extra': {'solvent': 1, 'container': 1}}, {'index': 83, 'extra': {'sample': 1}}, {'index': 84, 'extra': {'sample': 2, 'material': 1, 'container': 2}}, {'index': 85, 'extra': {'condition': 2}}, {'index': 86, 'extra': {'material': 2, 'solvent': 1}}, {'index': 88, 'extra': {'container': 1}}, {'index': 89, 'extra': {'revolution_text': 1}}, {'index': 90, 'extra': {'material': 1}}, {'index': 91, 'extra': {'sample': 1, 'material': 1, 'duration': 1, 'container': 1}}, {'index': 92, 'extra': {'material': 2, 'solvent': 1, 'condition': 1}}, {'index': 93, 'extra': {'material': 1, 'revolution': 1}}, {'index': 94, 'extra': {'sample': 1, 'material': 1, 'duration': 1, 'container': 1, 'revolution_text': 1}}, {'index': 95, 'extra': {'container': 1, 'solvent': 1}}, {'index': 97, 'extra': {'condition': 1}}, {'index': 98, 'extra': {'sample': 1, 'material': 1, 'duration': 1}}, {'index': 99, 'extra': {'container': 1, 'solvent': 1}}]\n",
            "Subset Matching Precision: 49.84%\n",
            "Subset Matching Recall: 88.63%\n",
            "Subset Matching F1-Score: 60.81%\n"
          ]
        }
      ],
      "source": [
        "# ================================\n",
        "# Subset Matching Comparison Script (Case-Insensitive, Prediction-Normalized Scoring)\n",
        "# ================================\n",
        "\n",
        "# Placeholders for your lists\n",
        "column_e_expected_arguments_roles = [\n",
        "    ['material', 'material', 'revolution', 'temperature'],\n",
        "    ['solvent', 'temperature', 'duration'],\n",
        "    ['temperature', 'duration', 'condition'],\n",
        "    ['material', 'material', 'revolution', 'temperature'],\n",
        "    ['material', 'material', 'revolution', 'temperature'],\n",
        "    ['sample', 'container', 'material'],\n",
        "    ['temperature', 'container'],\n",
        "    ['material'],\n",
        "    ['material', 'material'],\n",
        "    ['temperature', 'container', 'duration'],\n",
        "    ['material', 'material', 'duration', 'duration'],\n",
        "    ['sample', 'container', 'material', 'duration'],\n",
        "    ['temperature'],\n",
        "    ['material'],\n",
        "    ['material', 'duration'],\n",
        "    ['PH'],\n",
        "    ['container', 'sample', 'temperature', 'duration', 'duration', 'temperature'],\n",
        "    ['solvent', 'temperature', 'duration', 'condition'],\n",
        "    ['material', 'material'],\n",
        "    ['material'],\n",
        "    ['container', 'sample', 'temperature', 'duration', 'temperature', 'duration'],\n",
        "    ['sample', 'container', 'duration', 'temperature'],\n",
        "    ['solvent', 'temperature', 'material'],\n",
        "    ['temperature', 'duration'],\n",
        "    ['material'],\n",
        "    ['material'],\n",
        "    ['temperature', 'duration'],\n",
        "    ['temperature', 'duration'],\n",
        "    ['temperature', 'duration'],\n",
        "    ['material', 'material', 'material'],\n",
        "    ['material', 'material'],\n",
        "    ['material', 'material', 'material', 'temperature'],\n",
        "    ['container', 'material'],\n",
        "    ['temperature', 'duration'],\n",
        "    ['solvent', 'temperature', 'duration', 'temperature', 'duration'],\n",
        "    ['material'],\n",
        "    [],\n",
        "    ['temperature', 'duration'],\n",
        "    ['material'],\n",
        "    ['material', 'material'],\n",
        "    ['material', 'duration'],\n",
        "    ['material'],\n",
        "    ['container', 'temperature', 'duration', 'temperature', 'duration', 'revolution'],\n",
        "    ['temperature', 'condition', 'duration'],\n",
        "    ['temperature', 'duration', 'temperature', 'duration'],\n",
        "    ['temperature', 'duration', 'material', 'material', 'duration'],\n",
        "    ['material', 'material', 'material'],\n",
        "    [],\n",
        "    ['material'],\n",
        "    ['material'],\n",
        "    ['material'],\n",
        "    ['solvent'],\n",
        "    ['material', 'material', 'material'],\n",
        "    ['duration', 'sample'],\n",
        "    ['sample', 'container', 'temperature', 'duration'],\n",
        "    ['solvent'],\n",
        "    ['material', 'material', 'duration'],\n",
        "    ['temperature', 'duration'],\n",
        "    [],\n",
        "    ['material', 'material', 'material'],\n",
        "    ['container', 'duration', 'temperature'],\n",
        "    ['solvent', 'temperature', 'duration', 'condition', 'material', 'material', 'material', 'material', 'material', 'duration'],\n",
        "    ['temperature', 'duration', 'temperature'],\n",
        "    ['material'],\n",
        "    ['material', 'temperature', 'duration'],\n",
        "    ['container', 'temperature', 'duration', 'temperature', 'revolution', 'duration'],\n",
        "    ['temperature', 'rate', 'duration'],\n",
        "    ['revolution', 'sample', 'sample', 'sample'],\n",
        "    ['material'],\n",
        "    ['temperature'],\n",
        "    ['temperature', 'material'],\n",
        "    ['material', 'material'],\n",
        "    ['material', 'temperature', 'duration'],\n",
        "    ['material'],\n",
        "    ['duration', 'material', 'container', 'material', 'temperature'],\n",
        "    ['solvent', 'temperature', 'duration', 'material'],\n",
        "    ['temperature', 'condition', 'duration'],\n",
        "    ['material', 'material'],\n",
        "    [],\n",
        "    ['temperature', 'duration'],\n",
        "    ['sample', 'container', 'temperature'],\n",
        "    [],\n",
        "    ['material', 'temperature', 'duration', 'sample'],\n",
        "    ['temperature', 'duration'],\n",
        "    ['temperature', 'duration', 'temperature', 'duration'],\n",
        "    ['temperature'],\n",
        "    ['material'],\n",
        "    ['material', 'sample', 'temperature'],\n",
        "    ['material', 'sample', 'temperature', 'duration'],\n",
        "    ['material', 'container', 'temperature', 'duration', 'revolution'],\n",
        "    ['container'],\n",
        "    ['solvent', 'duration', 'temperature'],\n",
        "    ['temperature', 'duration'],\n",
        "    [],\n",
        "    ['solvent', 'temperature'],\n",
        "    ['material', 'material'],\n",
        "    ['material', 'material'],\n",
        "    ['PH', 'material'],\n",
        "    ['solvent', 'solvent', 'duration', 'temperature'],\n",
        "    ['material', 'material', 'material']\n",
        "]\n",
        "\n",
        "column_k_argument_roles = [\n",
        "  ['sample', 'material', 'solvent', 'sample', 'revolution', 'temperature'],\n",
        "  ['duration', 'sample', 'material', 'duration', 'solvent', 'sample', 'times', 'temperature', 'duration'],\n",
        "  ['temperature', 'duration', 'condition', 'sample'],\n",
        "  ['material', 'container', 'sample', 'revolution', 'temperature'],\n",
        "  ['material', 'container', 'sample', 'revolution', 'temperature'],\n",
        "  ['material'],\n",
        "  ['temperature', 'duration', 'container', 'temperature', 'duration', 'container', 'sample', 'container'],\n",
        "  ['material'],\n",
        "  ['material', 'container'],\n",
        "  ['temperature', 'duration', 'container', 'duration', 'temperature', 'container', 'sample', 'container'],\n",
        "  ['material', 'container', 'material', 'sample', 'duration', 'material', 'sample', 'duration', 'material', 'container', 'material', 'sample', 'duration', 'material', 'sample', 'duration'],\n",
        "  ['material', 'duration', 'sample', 'duration', 'temperature'],\n",
        "  ['material', 'temperature'],\n",
        "  ['material', 'condition'],\n",
        "  ['material', 'container', 'duration', 'sample', 'material'],\n",
        "  ['material', 'PH', 'material', 'container', 'material', 'condition'],\n",
        "  ['duration', 'temperature', 'duration', 'revolution_text', 'sample', 'container', 'temperature', 'duration', 'container', 'condition'],\n",
        "  ['solvent', 'sample', 'temperature', 'duration', 'condition'],\n",
        "  ['material', 'solvent', 'material', 'container'],\n",
        "  ['material', 'container'],\n",
        "  ['duration', 'sample', 'sample', 'container', 'temperature', 'duration', 'container', 'sample', 'temperature', 'duration', 'container'],\n",
        "  ['duration', 'sample', 'sample', 'container', 'duration', 'temperature'],\n",
        "  ['duration', 'material', 'duration', 'solvent', 'times', 'sample', 'temperature', 'times'],\n",
        "  ['temperature', 'duration', 'sample', 'material', 'material'],\n",
        "  ['material', 'container'],\n",
        "  ['material', 'rate'],\n",
        "  ['temperature', 'duration', 'material'],\n",
        "  ['temperature', 'duration', 'sample', 'specific condition'],\n",
        "  ['temperature', 'duration', 'sample'],\n",
        "  ['material', 'container', 'material', 'material', 'solvent'],\n",
        "  ['material', 'duration', 'sample'],\n",
        "  ['material', 'solvent', 'temperature', 'material', 'temperature', 'sample', 'temperature', 'revolution'],\n",
        "  ['material', 'container'],\n",
        "  ['sample', 'container', 'sample', 'container', 'temperature', 'duration', 'container'],\n",
        "  ['solvent', 'times', 'temperature', 'duration', 'container', 'temperature', 'duration', 'sample'],\n",
        "  ['material', 'sample', 'revolution_text', 'material', 'container', 'material', 'sample', 'revolution_text'],\n",
        "  ['material', 'condition'],\n",
        "  ['sample', 'container', 'temperature', 'duration', 'container'],\n",
        "  ['material', 'material', 'sample'],\n",
        "  ['material', 'material'],\n",
        "  ['duration', 'material', 'sample', 'material'],\n",
        "  ['material', 'container'],\n",
        "  ['duration', 'temperature', 'sample', 'sample', 'container', 'duration', 'temperature', 'condition', 'duration', 'temperature', 'condition'],\n",
        "  ['material', 'duration', 'sample', 'times', 'temperature', 'duration', 'condition', 'temperature', 'condition', 'duration'],\n",
        "  ['material', 'solvent', 'temperature', 'duration', 'times', 'temperature', 'duration', 'sample', 'specific condition'],\n",
        "  ['material', 'material', 'sample', 'duration', 'material', 'temperature', 'duration', 'sample'],\n",
        "  ['material', 'material', 'material', 'material'],\n",
        "  ['material', 'duration'],\n",
        "  ['material', 'solvent', 'container'],\n",
        "  ['material', 'sample', 'revolution_text'],\n",
        "  ['material', 'sample'],\n",
        "  ['solvent', 'sample', 'material', 'sample'],\n",
        "  ['material', 'material', 'material', 'material'],\n",
        "  ['duration', 'sample'],\n",
        "  ['temperature', 'duration', 'container', 'sample'],\n",
        "  ['material', 'solvent', 'solvent', 'sample'],\n",
        "  ['material', 'container', 'duration', 'sample'],\n",
        "  ['temperature', 'duration', 'container', 'duration'],\n",
        "  ['material', 'solvent'],\n",
        "  ['material', 'solvent', 'container', 'material', 'material', 'material', 'solvent', 'sample'],\n",
        "  ['temperature', 'duration', 'duration', 'temperature', 'container'],\n",
        "  ['material', 'duration', 'solvent', 'times', 'temperature', 'duration', 'condition', 'sample', 'material', 'solvent', 'sample', 'solvent', 'duration', 'container'],\n",
        "  ['duration', 'temperature', 'sample', 'material', 'temperature', 'container', 'temperature'],\n",
        "  ['material', 'container'],\n",
        "  ['temperature', 'duration', 'material', 'temperature'],\n",
        "  ['temperature', 'duration', 'sample', 'duration', 'temperature', 'container', 'sample', 'revolution', 'temperature', 'revolution', 'duration', 'container', 'duration'],\n",
        "  ['sample', 'temperature', 'rate', 'duration', 'condition', 'duration', 'temperature', 'container', 'sample', 'condition'],\n",
        "  ['duration', 'sample'],\n",
        "  ['material', 'solvent', 'container', 'sample', 'solvent'],\n",
        "  ['temperature', 'temperature', 'temperature', 'temperature', 'temperature', 'condition', 'temperature', 'condition', 'temperature', 'condition'],\n",
        "  ['material', 'container', 'temperature', 'sample', 'container'],\n",
        "  ['material', 'material', 'solvent', 'container'],\n",
        "  ['material', 'temperature', 'duration', 'temperature', 'sample'],\n",
        "  ['material'],\n",
        "  ['material', 'container', 'duration', 'temperature', 'container', 'sample', 'duration', 'temperature', 'container', 'revolution_text'],\n",
        "  ['duration', 'container', 'sample', 'material', 'duration', 'solvent', 'sample', 'times', 'temperature', 'duration', 'container'],\n",
        "  ['temperature', 'duration', 'condition', 'sample'],\n",
        "  ['material', 'material', 'material', 'container', 'PH'],\n",
        "  [],\n",
        "  ['duration', 'temperature', 'sample'],\n",
        "  ['sample', 'container', 'temperature', 'container'],\n",
        "  ['material'],\n",
        "  ['material', 'container', 'sample', 'temperature', 'duration', 'solvent'],\n",
        "  ['temperature', 'duration', 'sample'],\n",
        "  ['material', 'sample', 'temperature', 'duration', 'container', 'temperature', 'duration', 'sample', 'container'],\n",
        "  ['temperature', 'condition', 'condition'],\n",
        "  ['material', 'solvent', 'material', 'material'],\n",
        "  ['material', 'sample', 'temperature'],\n",
        "  ['material', 'container', 'sample', 'temperature', 'duration'],\n",
        "  ['temperature', 'duration', 'container', 'revolution', 'revolution_text'],\n",
        "  ['material', 'container'],\n",
        "  ['material', 'duration', 'sample', 'solvent', 'duration', 'temperature', 'container'],\n",
        "  ['material', 'material', 'solvent', 'temperature', 'duration', 'condition'],\n",
        "  ['material', 'revolution'],\n",
        "  ['material', 'revolution_text', 'solvent', 'sample', 'temperature', 'duration', 'container'],\n",
        "  ['material', 'solvent', 'container'],\n",
        "  ['material', 'material'],\n",
        "  ['material', 'condition', 'PH'],\n",
        "  ['duration', 'temperature', 'duration', 'material', 'solvent', 'solvent', 'sample'],\n",
        "  ['material', 'material', 'material', 'solvent', 'container']\n",
        "]\n",
        "\n",
        "# ================================\n",
        "# Subset Matching Comparison Script (Case-Insensitive, Prediction-Normalized Scoring)\n",
        "# Modified to handle duplicates properly\n",
        "# ================================\n",
        "from collections import Counter\n",
        "\n",
        "\n",
        "# Containers to hold results\n",
        "missing_elements = []\n",
        "extra_elements = []\n",
        "\n",
        "# Per-sample metric accumulators\n",
        "precisions = []\n",
        "recalls = []\n",
        "f1_scores = []\n",
        "\n",
        "# Compare lists of any size\n",
        "# Compare lists of any size\n",
        "for idx, (expected, predicted) in enumerate(zip(column_e_expected_arguments_roles, column_k_argument_roles)):\n",
        "    # Case-normalize and standardize spacing (filter out None values)\n",
        "    def normalize_text(text):\n",
        "        if text is None:\n",
        "            return None\n",
        "        # Convert to lowercase and normalize spacing around parentheses\n",
        "        normalized = text.lower()\n",
        "        # Remove extra spaces around parentheses: \"( text )\" -> \"(text)\"\n",
        "        normalized = normalized.replace('( ', '(').replace(' )', ')')\n",
        "        # Replace multiple spaces with single space and strip\n",
        "        normalized = ' '.join(normalized.split())\n",
        "        return normalized\n",
        "\n",
        "    expected_counter = Counter([normalize_text(e) for e in expected if normalize_text(e) is not None])\n",
        "    predicted_counter = Counter([normalize_text(p) for p in predicted if normalize_text(p) is not None])\n",
        "\n",
        "    # Find missing and extra with counts\n",
        "    missing = {}\n",
        "    extra = {}\n",
        "    all_elements = set(list(expected_counter.keys()) + list(predicted_counter.keys()))\n",
        "\n",
        "    for element in all_elements:\n",
        "        expected_count = expected_counter.get(element, 0)\n",
        "        predicted_count = predicted_counter.get(element, 0)\n",
        "\n",
        "        if expected_count > predicted_count:\n",
        "            missing[element] = expected_count - predicted_count\n",
        "        elif predicted_count > expected_count:\n",
        "            extra[element] = predicted_count - expected_count\n",
        "\n",
        "    if missing:\n",
        "        missing_elements.append({\"index\": idx, \"missing\": missing})\n",
        "    if extra:\n",
        "        extra_elements.append({\"index\": idx, \"extra\": extra})\n",
        "\n",
        "    # Calculate correct matches (minimum of expected and predicted for each element)\n",
        "    correct = sum(min(expected_counter[element], predicted_counter[element])\n",
        "                  for element in all_elements)\n",
        "\n",
        "    total_expected = sum(expected_counter.values())\n",
        "    total_predicted = sum(predicted_counter.values())\n",
        "\n",
        "    # Metrics per sample\n",
        "    #accuracy = correct / total_predicted if total_predicted > 0 else 0\n",
        "    precision = correct / total_predicted if total_predicted > 0 else 0\n",
        "    recall = correct / total_expected if total_expected > 0 else 0\n",
        "    f1 = (2 * precision * recall / (precision + recall)) if (precision + recall) > 0 else 0\n",
        "\n",
        "    # Store per-sample metrics\n",
        "    #accuracies.append(accuracy)\n",
        "    precisions.append(precision)\n",
        "    recalls.append(recall)\n",
        "    f1_scores.append(f1)\n",
        "\n",
        "# Final averaged metrics (in %)\n",
        "#avg_accuracy = sum(accuracies) / len(accuracies) * 100 if accuracies else 0\n",
        "avg_precision = sum(precisions) / len(precisions) * 100 if precisions else 0\n",
        "avg_recall = sum(recalls) / len(recalls) * 100 if recalls else 0\n",
        "avg_f1 = sum(f1_scores) / len(f1_scores) * 100 if f1_scores else 0\n",
        "\n",
        "# Print results\n",
        "print(\"Missing Elements:\", missing_elements)\n",
        "print(\"Extra Elements:\", extra_elements)\n",
        "#print(f\"Subset Matching Accuracy: {avg_accuracy:.2f}%\")\n",
        "print(f\"Subset Matching Precision: {avg_precision:.2f}%\")\n",
        "print(f\"Subset Matching Recall: {avg_recall:.2f}%\")\n",
        "print(f\"Subset Matching F1-Score: {avg_f1:.2f}%\")\n"
      ]
    },
    {
      "cell_type": "markdown",
      "metadata": {
        "id": "ToLFA01kj3zE"
      },
      "source": [
        "###Argument text comparison\n"
      ]
    },
    {
      "cell_type": "code",
      "execution_count": null,
      "metadata": {
        "colab": {
          "base_uri": "https://localhost:8080/"
        },
        "id": "IVHp4xpnQ-aX",
        "outputId": "957bf73f-cf05-4984-afdf-39fdb3b44b63"
      },
      "outputs": [
        {
          "name": "stdout",
          "output_type": "stream",
          "text": [
            "Missing Elements: [{'index': 1, 'missing': {'80 â°c': 1}}, {'index': 2, 'missing': {'400 â°c': 1, 'nitrogen flow': 1}}, {'index': 3, 'missing': {'solid samples (in a proton-form , 0.05 g)': 1}}, {'index': 4, 'missing': {'solid samples (in a proton-form , 0.05 g)': 1}}, {'index': 5, 'missing': {'al (oh) 3 (1.6 g)': 1, 'mortar': 1, 'silica source (fumed silica or precipitated silica;12 g)': 1}}, {'index': 6, 'missing': {'stainless-steel autoclaves': 1}}, {'index': 7, 'missing': {'1.6 g of al (oh) 3 (sigmaaldrich , 65% al2o3)': 1}}, {'index': 8, 'missing': {'1.6 g of naoh (sigma-aldrich)': 1, '20 g (for fumed silica) or 8 g (for precipitated silica) of 25% tmadoh aqueous solution (sachem)': 1}}, {'index': 9, 'missing': {'72-144 h': 1, 'stainless-steel autoclaves': 1, '140 â°c': 1}}, {'index': 10, 'missing': {'1.5 g of zeolite y (tosoh hsz-320naa)': 1}}, {'index': 11, 'missing': {'mixture': 1, '30 minutes more': 1, 'teflon lined steel autoclave': 1}}, {'index': 16, 'missing': {'180 âºc': 1, 'gel': 1}}, {'index': 17, 'missing': {'550 âºc': 1, 'air flow': 1}}, {'index': 19, 'missing': {'mixture of silica sol and tetra-butylammonium bromide': 1}}, {'index': 20, 'missing': {'170 â°c': 1, '90 â°c': 1, 'gel': 1}}, {'index': 21, 'missing': {'na-aluminosilicate gels': 1, 'autoclaves': 1}}, {'index': 22, 'missing': {'100 â°c': 1, 'solid': 1}}, {'index': 23, 'missing': {'550 â°c': 1}}, {'index': 24, 'missing': {'2 g catalyst': 1}}, {'index': 29, 'missing': {'145 ml (0.6 mol) of trimethylamine (4.2 mol/l ethanolic solution , sigma aldrich)': 1, '29 ml (0.24 mol) 1,4-dibromobutane (99 wt. % , sigma-aldrich)': 1, '150 ml methanol (99 wt. % , sigma-aldrich)': 1}}, {'index': 30, 'missing': {'8 ml of methyl iodide (99 wt. % , sigma-aldrich)': 1}}, {'index': 31, 'missing': {'sodium hydroxide': 1, 'colloidal silica solution': 1, 'sodium aluminate': 1}}, {'index': 32, 'missing': {'synthesis sol (50 ml)': 1, 'teflon-lined stainless-steel reactor (75ml)': 1}}, {'index': 33, 'missing': {'150 â°c': 1}}, {'index': 34, 'missing': {'550 â°c': 1, '110 â°c': 1}}, {'index': 37, 'missing': {'1 , 2 , or 3 h': 1, '140 â°c': 1}}, {'index': 38, 'missing': {'0.038 g of naalo2': 1}}, {'index': 42, 'missing': {'25 â°c': 1, 'autoclave oven': 1, '140 â°c': 1}}, {'index': 43, 'missing': {'air atmosphere': 1, '550 â°c': 1}}, {'index': 44, 'missing': {'80 â°c': 1, '550 â°c': 1}}, {'index': 45, 'missing': {'0.1 m cu (no3) 2solution': 1, '550 â°c': 1}}, {'index': 46, 'missing': {'tetraethyl orthosilicate (aldrich , 98%)': 1, 'geo2': 1}}, {'index': 48, 'missing': {'13.14g (60.0 mmol) 1,2-dibutyl-3-methylimidazolium bromide': 1}}, {'index': 49, 'missing': {'2.88g (72.0 mmol) sodium hydride (aldrich , 60 % dispersion in mineral oil)': 1}}, {'index': 50, 'missing': {'solid of nacl': 1}}, {'index': 52, 'missing': {'geo 2': 1, 'tetraethyl orthosilicate (aldrich , 98%)': 1}}, {'index': 54, 'missing': {'gel': 1, '180 â°c': 1}}, {'index': 55, 'missing': {'water and ethanol': 1}}, {'index': 56, 'missing': {'aluminum isopropoxide': 1}}, {'index': 57, 'missing': {'3 days': 1, '100 and 130 â°c': 1}}, {'index': 59, 'missing': {'0.07 g of attb': 1, '3.12 g of teos': 1, '0.21 g of hts': 1}}, {'index': 60, 'missing': {'177 â°c': 1, '5 days': 1, 'oven': 1}}, {'index': 61, 'missing': {'air': 1, '550 â°c': 1, '3.24 g of teos': 1, '0.07g of attb': 1, '7.7 ml of ammonium hydroxide': 1, '2.0 g of tpaoh': 1}}, {'index': 62, 'missing': {'330 â°c': 1, '180 â°c': 1}}, {'index': 64, 'missing': {'95 â°c': 1}}, {'index': 65, 'missing': {'150 â°c': 1}}, {'index': 66, 'missing': {'10 â°c min -1': 1, '550 â°c': 1}}, {'index': 67, 'missing': {'sodium silicate (vwr prolabo , 10 % naoh and 27 % sio2)': 1, 'seed suspension': 1, 'distilled water': 1}}, {'index': 68, 'missing': {'al2 (so4) 3 ã‚â· 18h2o (rectapur prolabo)': 1}}, {'index': 69, 'missing': {'100 , 120 , 150,and 170 â°c': 1}}, {'index': 70, 'missing': {'0 âºc': 1, '11.8 g (53.2 mmol) of diimide': 1}}, {'index': 71, 'missing': {'15.0 g (89 mmol) of n-cyclohexylpiperazine and 12.3 g (89 mmol) of k2co3': 1, '300 ml of acetone': 1}}, {'index': 74, 'missing': {'mixture': 1, '175 âºc': 1}}, {'index': 75, 'missing': {'100 âºc': 1, 'deionized water': 1}}, {'index': 76, 'missing': {'580 âºc': 1}}, {'index': 77, 'missing': {'11.310 g of teos': 1, 'cerium nitrate (or lanthanum nitrate)': 1}}, {'index': 80, 'missing': {'158 â°c': 1, 'slurry': 1}}, {'index': 82, 'missing': {'mixture': 1, '90 â°c': 1}}, {'index': 83, 'missing': {'550 â°c': 1}}, {'index': 84, 'missing': {'400 â°c': 1, '100 â°c': 1}}, {'index': 85, 'missing': {'180-250 â°c': 1}}, {'index': 89, 'missing': {'175 â°c': 1, 'teflon-lined autoclaves': 1, '9 - 15 days': 1, 'fluid gel': 1}}, {'index': 91, 'missing': {'95 â°c': 1}}, {'index': 92, 'missing': {'170 âºc': 1}}, {'index': 94, 'missing': {'small amount of water': 1, '50 âºc': 1}}, {'index': 95, 'missing': {'100 ml of ethanol (sigma-aldrich , >99%)': 1, '10 g of pyrrolidine (sigma-aldrich , 99%)': 1}}, {'index': 97, 'missing': {'2': 1}}]\n",
            "Extra Elements: [{'index': 0, 'extra': {'samples (0.3 g)': 2}}, {'index': 1, 'extra': {'thoroughly': 1, '80 °c': 1, 'solid samples': 2, '1 day': 2, 'the solid samples': 1}}, {'index': 2, 'extra': {'under a nitrogen flow': 1, '400 °c': 1, 'proton-form cha samples': 1}}, {'index': 3, 'extra': {'solid samples (in a proton-form, 0.05 g)': 2}}, {'index': 4, 'extra': {'solid samples (in a proton-form, 0.05 g)': 2}}, {'index': 5, 'extra': {'al(oh)3 (1.6 g)': 1}}, {'index': 6, 'extra': {'gels': 1, 'stainless-steel autoclaves equipped with teflon liners': 1, 'for crystallization': 1, 'sealed stainless-steel autoclaves equipped with teflon liners': 2, 'for': 1, '140 â°c': 1}}, {'index': 7, 'extra': {'1.6 g of al(oh)3 (sigmaaldrich, 65% al2o3)': 1}}, {'index': 8, 'extra': {'naoh (sigma-aldrich)': 1, 'mortar': 1}}, {'index': 9, 'extra': {'140 °c': 2, '72–144 h': 2, 'mixtures': 1, 'sealed stainless-steel autoclaves equipped with modified teflon liners': 2, 'stainless-steel autoclaves equipped with modified teflon liners': 1}}, {'index': 10, 'extra': {'60 g water': 2, '30 minutes': 1, 'sodium silicate (26.5% sio2)': 4, '15 min': 1, 'zeolite y (tosoh hsz-320naa)': 4, '25 g of sodium silicate (26.5% sio2)': 1}}, {'index': 11, 'extra': {'6 days': 1, 'the mixture': 1, '140 °c': 1, '30 minutes': 1}}, {'index': 12, 'extra': {'na-samples': 1}}, {'index': 13, 'extra': {'clear solution method': 1}}, {'index': 14, 'extra': {'silicalite-1 seed': 1, 'sio2': 1, 'above mixture': 1}}, {'index': 15, 'extra': {'aluminosilicate and magnesium species': 1, 'naoh solution (12 m)': 2, 'varying the ph value': 1, 'system': 1}}, {'index': 16, 'extra': {'180 ºc': 1, 'the gel': 1, 'static conditions': 1, '6 h': 1, 'a teflon-lined autoclave': 1, 'under stirring': 1}}, {'index': 17, 'extra': {'in air flow': 1, 'the solid products': 1, '550 ºc': 1}}, {'index': 18, 'extra': {'water': 1, 'distilled water': 1}}, {'index': 19, 'extra': {'silica sol and tetra-butylammonium bromide': 1, 'solution': 1}}, {'index': 20, 'extra': {'stainless-steel autoclave': 1, 'a period': 1, 'the resulting homogeneous gel with the chemical composition of 9.0 na2o: 1.0 al2o3: 65 sio2: 0.53 (tba)2o:1300 h2o': 3, '90 °c': 1, '170 °c': 1, 'a stainless-steel autoclave': 1}}, {'index': 21, 'extra': {'the obtained seeded na-aluminosilicate gels': 2, 'stainless-steel autoclaves': 1, 'some time': 1}}, {'index': 22, 'extra': {'predetermined crystallization periods': 2, 'well-crystallized solid': 1, 'several': 2, 'prepared well-crystallized solid': 1, '100 °c': 1}}, {'index': 23, 'extra': {'the obtained hzsm-5': 1, 'kaolin clay': 1, 'silica sol': 1, '550 °c': 1}}, {'index': 24, 'extra': {'in the reactor': 1, '2 g catalyst with particle size of 0.250-0.425 mm': 1}}, {'index': 25, 'extra': {'0.164 ml/min': 1}}, {'index': 26, 'extra': {'al-pls-3': 1}}, {'index': 27, 'extra': {'to generate iez-al-pls-3(1si)': 1, 'product': 1}}, {'index': 28, 'extra': {'iez-al-pls-3(s4r)': 1}}, {'index': 29, 'extra': {'ethanolic': 1, 'a solution made by mixing 145 ml (0.6 mol) of trimethylamine (4.2 mol/l ethanolic solution, sigma aldrich) and 150 ml methanol (99 wt. %, sigma-aldrich)': 1, '29 ml (0.24 mol) 1,4-dibromobutane (99 wt. %, sigma-aldrich)': 1, '150 ml methanol (99 wt. %, sigma-aldrich)': 1, '145 ml (0.6 mol) of trimethylamine (4.2 mol/l ethanolic solution, sigma aldrich)': 1}}, {'index': 30, 'extra': {'8 ml of methyl iodide (99 wt. %, sigma-aldrich)': 1, 'overnight': 1}}, {'index': 31, 'extra': {'hmi and colloidal silica solution': 2, 'vigorous': 1, 'room temperature': 2, 'sodium hydroxide and sodium aluminate': 1, 'distilled water': 1}}, {'index': 32, 'extra': {'synthesis sol(50 ml)': 1, 'a teflon-lined stainless-steel reactor (75ml)': 1}}, {'index': 33, 'extra': {'150 °c': 1, 'reactor': 2, 'oven': 3}}, {'index': 34, 'extra': {'110 °c': 1, 'thoroughly': 1, 'the templating agent': 1, '550 °c': 1}}, {'index': 35, 'extra': {'sodium hydroxide': 1, 'solution': 1, 'colloidal silica solution': 2, 'vigorous stirring': 2, 'sodium aluminate aqueous solution': 1}}, {'index': 36, 'extra': {'strong alkali synthesis sol': 1, 'mcm-22 zeolite powder': 1}}, {'index': 37, 'extra': {'1, 2, or 3 h': 1, '140 °c': 1, 'reactor': 3}}, {'index': 38, 'extra': {'naalo2': 2, 'h2o': 1}}, {'index': 40, 'extra': {'colloidal silica': 1, 'gel': 1}}, {'index': 41, 'extra': {'the mixture': 1}}, {'index': 42, 'extra': {'the final gel': 2, 'an autoclave oven': 1, 'rotation condition(50 rpm)': 1, '72 h': 1, '140 °c': 2, '25 °c': 1}}, {'index': 43, 'extra': {'after filtration, washing': 1, 'product': 2, 'in the air atmosphere': 2, '4 h': 1, 'for 4 h': 1, '550 °c': 2}}, {'index': 44, 'extra': {'twice': 1, '80 °c': 1, 'to prepare the hydrogen-form of the product (h-c-ssz-39)': 1, '550 °c': 1, '1 m nh4no3 solution': 1, 'c-ssz-39': 2}}, {'index': 45, 'extra': {'h-c-ssz-39 sample': 1, 'cu-c-ssz-39': 1, '0.1 m cu(no3)2solution': 2, '550 °c': 1}}, {'index': 46, 'extra': {'tetraethyl orthosilicate (aldrich, 98%)': 2, 'boric acid': 1}}, {'index': 47, 'extra': {'2 hours': 1, 'solid': 1}}, {'index': 48, 'extra': {'150 ml': 1, '1,2-dibutyl-3-methylimidazolium bromide': 1, 'acetonitrile': 1}}, {'index': 49, 'extra': {'under vigorous stirring': 1, '2.88g (72.0 mmol) sodium hydride (aldrich, 60 % dispersion in mineral oil)': 2}}, {'index': 50, 'extra': {'production': 1, 'nacl': 1}}, {'index': 51, 'extra': {'14.5g (52.7 mmol)': 1, '1,2-dibutyl-3-methylimidazolium bromide': 2}}, {'index': 52, 'extra': {'tetraethyl orthosilicate (aldrich, 98%)': 1, 'tetraethyl orthosilicate': 1, 'boric acid': 1}}, {'index': 54, 'extra': {'concentrated gel': 1, '180 °c': 1}}, {'index': 55, 'extra': {'product': 2, 'water': 1, 'ethanol': 1}}, {'index': 56, 'extra': {'silica source': 1, 'clear suspensions': 1}}, {'index': 57, 'extra': {'100 and 130 °c': 1, '>4 and 3 days': 2, 'in static conditions': 1}}, {'index': 58, 'extra': {'silica source (b syntheses,freeze-dried silica powder; and c syntheses, colloidal silica solution)': 1, 'solution of naoh, aluminumisopropoxide, and distilled water': 1}}, {'index': 59, 'extra': {'ethanol': 1, 'hts': 1, 'teos, 0.21 g of hts, and 0.07 g of attb': 1, 'teos': 1, 'attb': 1, '10.0 ml of ethanol': 1, 'in': 1, '3.12 g of teos, 0.21 g of hts, and 0.07 g of attb': 1}}, {'index': 60, 'extra': {'177 °c': 2, 'up to 5 days': 2, 'autoclave': 1}}, {'index': 61, 'extra': {'in air': 1, 'di-h2o': 1, '550 °c': 1, '1': 1, 'final solid, retaining the shape of the original dry gel': 1, '30.0 g': 1, '3.24 g of teos, 0.07g of attb, 2.0 g of tpaoh, and 7.7 ml of ammonium hydroxide': 2, 'final solid': 1, 'unknown': 1}}, {'index': 62, 'extra': {'180 °c': 2, 'acetone': 2, '330 °c': 1, 'evaporator': 1}}, {'index': 63, 'extra': {'this solution': 1}}, {'index': 64, 'extra': {'95 °c': 2}}, {'index': 65, 'extra': {'150 °c': 2, 'final synthesis mixture': 1, '60 rpm': 1, 'for 14-28 days': 1, '14-28 days': 1, 'the final synthesis mixture': 1, 'teflon-lined 23-ml autoclaves': 1}}, {'index': 66, 'extra': {'as-made nanocrystalline ferrierite zeolite': 2, 'flowing air': 1, 'ramping rate of 10 °c min -1': 1, 'room temperature to 550 °c': 1, 'in flowing air (50 ml min -1)': 1, '550 °c': 1, '10 °c min -1': 1, '8 h': 1}}, {'index': 67, 'extra': {'solution of sodium silicate (vwr prolabo, 10 % naoh and 27 % sio2), distilled water, and seed suspension': 1}}, {'index': 68, 'extra': {'al2(so4)3 â· 18h2o (rectapur prolabo)': 1, 'solution of al2(so4)3 â· 18h2o (rectapur prolabo)': 1, 'water': 2, 'the first one': 1}}, {'index': 69, 'extra': {'150': 2, 'hydrothermal treatment': 1, '120': 2, '170': 2, '°c': 2, '100': 1}}, {'index': 70, 'extra': {'diimide': 1, '0 ºc': 1, 'lialh4': 1, '300 ml of anhydrous diethyl ether': 2}}, {'index': 71, 'extra': {'k2co3': 1, '300 ml': 1, 'acetone': 1, 'n-cyclohexylpiperazine': 1}}, {'index': 72, 'extra': {'room temperature': 1, 'mixture': 1}}, {'index': 74, 'extra': {'2 days': 1, 'a suspension of 0.22 g of itq-32 zeolite (prepared as described above, but using sda-2) in water': 1, 'continuous tumbling': 1, 'teflon-lined stainless steel autoclave': 2, '175 ºc': 2}}, {'index': 75, 'extra': {'100 ºc': 1, '1': 1, 'overnight': 2, 'deionized water and acetone': 1, 'zeolites': 2, 'autoclaves': 2}}, {'index': 76, 'extra': {'samples': 1, '580 ºc': 1}}, {'index': 77, 'extra': {'2': 1, 'cerium nitrate': 1, 'teos': 1, 'aqueous solution of hydrochloric acid': 1, 'lanthanum nitrate': 1}}, {'index': 79, 'extra': {'mixture': 1}}, {'index': 80, 'extra': {'158 °c': 1, 'the slurry': 1, 'a teflon-lined stainless steel autoclave': 1}}, {'index': 81, 'extra': {'ln sources': 1}}, {'index': 82, 'extra': {'50 ml of 0.1 mol/l aqueous solution of ce(no3)3 (or la(no3)3)': 1, '0.1 mol/l aqueous solution of ce(no3)3 (or la(no3)3)': 1, '90 °c': 1, '3.0 g of the mcm-22 solid sample': 1}}, {'index': 83, 'extra': {'the solid': 1, '550 °c': 1}}, {'index': 84, 'extra': {'400 °c': 1, 'hydrogen form of ln-mcm-22(n)': 1, 'pt/ln-mcm-22(n)': 1, 'aqueous solution of chlorophatinic acid (0.0058 molâ·l-1)': 1, '100 °c': 1, 'ln-mcm-22(n)': 2}}, {'index': 85, 'extra': {'molar ratio of h2 to n-heptane 7.9:1': 1, '180-250 °c': 1, 'whsv 1.4-4.1 h-1': 1}}, {'index': 86, 'extra': {'hydroxide/bromide': 1, 'sda': 1, 'water': 1}}, {'index': 88, 'extra': {'obtained solution': 1}}, {'index': 89, 'extra': {'25': 1, '9 – 15 days': 1, '25 ml teflon-lined autoclaves': 1, '175 °c': 1}}, {'index': 90, 'extra': {'reaction mixture': 1}}, {'index': 91, 'extra': {'solid products obtained after preset synthesis times': 1, '95 °c': 1, 'solid products': 1, 'preset synthesis times': 1}}, {'index': 92, 'extra': {'170 ºc': 1, '0.5 g of solid': 1, '0.1 g of si(ch3)3(och2ch3)2': 1, 'containing': 1, '1 m hno3 solution': 1}}, {'index': 93, 'extra': {'product': 1}}, {'index': 94, 'extra': {'by centrifugation': 1, 'till dry': 1, '50 ºc': 1, 'water': 1, 'solid': 2}}, {'index': 95, 'extra': {'10 g of pyrrolidine': 1, '100 ml of ethanol': 1, 'osda1, 1,1-dimethyl-4-(1-methylpirrolidine-1-yl)piperidinium': 1}}, {'index': 97, 'extra': {'until ph was close to 2': 1, 'close to 2': 1}}, {'index': 98, 'extra': {'a white precipitate': 2, '7 days': 1}}, {'index': 99, 'extra': {'in': 1, 'osda hydroxide solution': 1}}]\n",
            "Subset Matching Precision: 28.41%\n",
            "Subset Matching Recall: 47.90%\n",
            "Subset Matching F1-Score: 34.29%\n"
          ]
        }
      ],
      "source": [
        "column_f_expected_argument_texts = [\n",
        "    ['calcined samples ( 0.3 g )', 'ammonium nitrate solution ( 100 mL )', '500 rpm', 'room temperature'],\n",
        "    ['deionized water', '80 Â°C', '1 day'],\n",
        "    ['400 Â°C', '2 h', 'nitrogen flow'],\n",
        "    ['solid samples ( in a proton-form , 0.05 g )', 'potassium chloride solution ( 150 mL )', '500 rpm', 'room temperature'],\n",
        "    ['solid samples ( in a proton-form , 0.05 g )', 'nickel nitrate solution ( 500 mL )', '500 rpm', 'room temperature'],\n",
        "    ['silica source ( fumed silica or precipitated silica;12 g )', 'mortar', 'Al ( OH ) 3 ( 1.6 g )'],\n",
        "    ['140 Â°C', 'stainless-steel autoclaves'],\n",
        "    ['1.6 g of Al ( OH ) 3 ( SigmaAldrich , 65% Al2O3 )'],\n",
        "    ['1.6 g of NaOH ( Sigma-Aldrich )', '20 g ( for fumed silica ) or 8 g ( for precipitated silica ) of 25% TMAdOH aqueous solution ( SACHEM )'],\n",
        "    ['140 Â°C', 'stainless-steel autoclaves', '72-144 h'],\n",
        "    ['25 g of sodium silicate ( 26.5% SiO2 )', '1.5 g of zeolite Y ( TOSOH HSZ-320NAA )', '15 min', '30 minutes'],\n",
        "    ['mixture', 'Teflon lined steel autoclave', '13.15 g of 25% TMAdOH ( SACHEM Americas )', '30 minutes more'],\n",
        "    ['RT'],\n",
        "    ['silicalite-1'],\n",
        "    ['silicalite-1 seed', '1 h'],\n",
        "    ['10'],\n",
        "    ['Teflon-lined autoclave', 'gel', '180 ÂºC', '48 h', '6 h', 'room temperature'],\n",
        "    ['deionized water', '550 ÂºC', '6 h', 'air flow'],\n",
        "    ['Aluminum sulfate', 'sodium hydroxide'],\n",
        "    ['mixture of silica sol and tetra-butylammonium bromide'],\n",
        "    ['stainless-steel autoclave', 'gel', '90 Â°C', '24 h', '170 Â°C', '24 h'],\n",
        "    ['Na-aluminosilicate gels', 'autoclaves', '48 h', 'ambient temperature'],\n",
        "    ['distilled water', '100 Â°C', 'solid'],\n",
        "    ['550 Â°C', '2 h'],\n",
        "    ['2 g catalyst'],\n",
        "    ['pure methanol solution'],\n",
        "    ['773 K', '5 h'],\n",
        "    ['823 K', '6 h'],\n",
        "    ['773 K', '6 h'],\n",
        "    ['29 mL ( 0.24 mol ) 1,4-dibromobutane ( 99 wt. % , Sigma-Aldrich )', '145 mL ( 0.6 mol ) of trimethylamine ( 4.2 mol/L ethanolic solution , Sigma Aldrich )', '150 mL methanol ( 99 wt. % , Sigma-Aldrich )'],\n",
        "    ['chloroform portions', '8 mL of methyl iodide ( 99 wt. % , Sigma-Aldrich )'],\n",
        "    ['Sodium hydroxide', 'sodium aluminate', 'colloidal silica solution', 'room temperature'],\n",
        "    ['Teflon-lined stainless-steel reactor ( 75mL )', 'synthesis sol ( 50 mL )'],\n",
        "    ['150 Â°C', '96 h'],\n",
        "    ['deionized water', '110 Â°C', 'overnight', '550 Â°C', '5 h'],\n",
        "    ['Sodium hydroxide'],\n",
        "    [],\n",
        "    ['140 Â°C', '1 , 2 , or 3 h'],\n",
        "    ['0.038 g of NaAlO2'],\n",
        "    ['10 g of DMPOH solution ( 0.23 M in water )', '0.55 g of NaOH'],\n",
        "    ['2.95 g of colloidal silica ( 40 wt % SiO2 in water )', '15 min'],\n",
        "    ['0.02 g of SSZ-39 seeds'],\n",
        "    ['autoclave oven', '25 Â°C', '10 min', '140 Â°C', '72 h', '50 rpm'],\n",
        "    ['550 Â°C', 'air atmosphere', '4 h'],\n",
        "    ['550 Â°C', '4 h', '80 Â°C', '2 h'],\n",
        "    ['550 Â°C', '4 h', 'H-C-SSZ-39 sample', '0.1 M Cu ( NO3 ) 2solution', 'several hours'],\n",
        "    ['GeO2', 'tetraethyl orthosilicate ( Aldrich , 98% )', 'boric acid'],\n",
        "    [],\n",
        "    ['13.14g ( 60.0 mmol ) 1,2-dibutyl-3-methylimidazolium bromide'],\n",
        "    ['2.88g ( 72.0 mmol ) sodium hydride ( Aldrich , 60 % dispersion in mineral oil )'],\n",
        "    ['solid of NaCl'],\n",
        "    ['ethyl acetate'],\n",
        "    ['boric acid', 'GeO 2', 'tetraethyl orthosilicate ( Aldrich , 98% )'],\n",
        "    ['overnight', 'mixture'],\n",
        "    ['gel', 'Teflon-lined steel autoclave', '180 Â°C', '6 days'],\n",
        "    ['water and ethanol'],\n",
        "    ['aluminum isopropoxide', 'silica source', '30 min'],\n",
        "    ['100 and 130 Â°C', '3 days'],\n",
        "    [],\n",
        "    ['3.12 g of TEOS', '0.21 g of HTS', '0.07 g of ATTB'],\n",
        "    ['oven', '5 days', '177 Â°C'],\n",
        "    ['water', '550 Â°C', '20 h', 'air', '3.24 g of TEOS', '0.07g of ATTB', '2.0 g of TPAOH', '7.7 mL of ammonium hydroxide', '30.0 g of DI-H2O', '4 h'],\n",
        "    ['180 Â°C', '10 min', '330 Â°C'],\n",
        "    ['3.53 g of TEOS'],\n",
        "    ['MCl', '95 Â°C', '1 day'],\n",
        "    ['Teflon-lined 23-mL autoclaves', 'room temperature', '1 day', '150 Â°C', '60 rpm', '14-28 days'],\n",
        "    ['550 Â°C', '10 Â°C min -1', '8 h'],\n",
        "    ['20 min', 'distilled water', 'seed suspension', 'sodium silicate ( VWR Prolabo , 10 % NaOH and 27 % SiO2 )'],\n",
        "    ['Al2 ( SO4 ) 3 Ã‚Â· 18H2O ( Rectapur Prolabo )'],\n",
        "    ['100 , 120 , 150,and 170 Â°C'],\n",
        "    ['0 ÂºC', '11.8 g ( 53.2 mmol ) of diimide'],\n",
        "    ['15.0 g ( 89 mmol ) of N-cyclohexylpiperazine and 12.3 g ( 89 mmol ) of K2CO3', '300 ml of acetone'],\n",
        "    ['51.0 g ( 359 mmol ) of methyl iodide', 'room temperature', '24 hours'],\n",
        "    ['0.80 g of an aqueous solution of HF ( 50% )'],\n",
        "    ['2 days', '0.22 g of ITQ-32 zeolite', 'Teflon-lined stainless steel autoclave', 'mixture', '175 ÂºC'],\n",
        "    ['deionized water', '100 ÂºC', 'overnight', 'zeolites'],\n",
        "    ['580 ÂºC', 'static air', '3 hours'],\n",
        "    ['cerium nitrate ( or lanthanum nitrate )', '11.310 g of TEOS'],\n",
        "    [],\n",
        "    ['room temperature', '20 h'],\n",
        "    ['slurry', 'Teflon-lined stainless steel autoclave', '158 Â°C'],\n",
        "    [],\n",
        "    ['3.0 g of the MCM-22 solid sample', '90 Â°C', '2 h', 'mixture'],\n",
        "    ['550 Â°C', '5 h'],\n",
        "    ['100 Â°C', '12 h', '400 Â°C', '3 h'],\n",
        "    ['180-250 Â°C'],\n",
        "    ['boric acid'],\n",
        "    ['Crystalline germanium oxide', 'mixture', 'room temperature'],\n",
        "    ['silica ( Aerosil 300 )', 'mixture', 'room temperature', '30 min'],\n",
        "    ['fluid gel', 'Teflon-lined autoclaves', '175 Â°C', '9 - 15 days', '~ 25 rpm'],\n",
        "    ['autoclave'],\n",
        "    ['distilled water', 'overnight', '95 Â°C'],\n",
        "    ['170 ÂºC', '16 h'],\n",
        "    [],\n",
        "    ['small amount of water', '50 ÂºC'],\n",
        "    ['10 g of pyrrolidine ( Sigma-Aldrich , 99% )', '100 mL of ethanol ( Sigma-Aldrich , >99% )'],\n",
        "    ['10 g of 1-methyl-4-piperidone (Sigma-Aldrich, 99%)', '3.5g of sodium cyanoborohydride (NaBH3CN, Fluka, >95%)'],\n",
        "    ['2', 'HCl'],\n",
        "    ['methanol', 'diethyl ether', '7 days', 'room temperature'],\n",
        "    ['boric acid (99.5%, Aldrich)', 'alumina (74.6%, Condea)', 'germanium oxide (99%, Aldrich)']\n",
        "]\n",
        "\n",
        "column_l_argument_texts = [\n",
        "  ['samples (0.3 g)', 'calcined samples (0.3 g)', 'ammonium nitrate solution (100 mL)', 'samples (0.3 g)', '500 rpm', 'room temperature'],\n",
        "  ['1 day', 'the solid samples', 'solid samples', '1 day', 'deionized water', 'solid samples', 'thoroughly', '80 °C', '1 day'],\n",
        "  ['400 °C', '2 h', 'under a nitrogen flow', 'proton-form CHA samples'],\n",
        "  ['solid samples (in a proton-form, 0.05 g)', 'potassium chloride solution (150 mL)', 'solid samples (in a proton-form, 0.05 g)', '500 rpm', 'room temperature'],\n",
        "  ['solid samples (in a proton-form, 0.05 g)', 'nickel nitrate solution (500 mL)', 'solid samples (in a proton-form, 0.05 g)', '500 rpm', 'room temperature'],\n",
        "  ['Al(OH)3 (1.6 g)'],\n",
        "  ['140 Â°C', 'for crystallization', 'sealed stainless-steel autoclaves equipped with Teflon liners', '140 Â°C', 'for', 'sealed stainless-steel autoclaves equipped with Teflon liners', 'gels', 'stainless-steel autoclaves equipped with Teflon liners'],\n",
        "  ['1.6 g of Al(OH)3 (SigmaAldrich, 65% Al2O3)'],\n",
        "  ['NaOH (Sigma-Aldrich)', 'mortar'],\n",
        "  ['140 °C', '72–144 h', 'sealed stainless-steel autoclaves equipped with modified Teflon liners', '72–144 h', '140 °C', 'sealed stainless-steel autoclaves equipped with modified Teflon liners', 'mixtures', 'stainless-steel autoclaves equipped with modified Teflon liners'],\n",
        "  ['25 g of sodium silicate (26.5% SiO2)', '60 g water', 'sodium silicate (26.5% SiO2)', 'sodium silicate (26.5% SiO2)', '15 min', 'zeolite Y (TOSOH HSZ-320NAA)', 'zeolite Y (TOSOH HSZ-320NAA)', '30 minutes', '25 g of sodium silicate (26.5% SiO2)', '60 g water', 'sodium silicate (26.5% SiO2)', 'sodium silicate (26.5% SiO2)', '15 min', 'zeolite Y (TOSOH HSZ-320NAA)', 'zeolite Y (TOSOH HSZ-320NAA)', '30 minutes'],\n",
        "  ['13.15 g of 25% TMAdOH (SACHEM Americas)', '30 minutes', 'the mixture', '6 days', '140 °C'],\n",
        "  ['Na-samples', 'RT'],\n",
        "  ['silicalite-1', 'clear solution method'],\n",
        "  ['silicalite-1 seed', 'above mixture', '1 h', 'silicalite-1 seed', 'SiO2'],\n",
        "  ['NaOH solution (12 m)', '10', 'NaOH solution (12 m)', 'system', 'aluminosilicate and magnesium species', 'varying the pH value'],\n",
        "  ['6 h', 'room temperature', '6 h', 'under stirring', 'the gel', 'a Teflon-lined autoclave', '180 ºC', '48 h', 'Teflon-lined autoclave', 'static conditions'],\n",
        "  ['deionized water', 'the solid products', '550 ºC', '6 h', 'in air flow'],\n",
        "  ['Aluminum sulfate', 'distilled water', 'sodium hydroxide', 'water'],\n",
        "  ['silica sol and tetra-butylammonium bromide', 'solution'],\n",
        "  ['a period', 'the resulting homogeneous gel with the chemical composition of 9.0 Na2O: 1.0 Al2O3: 65 SiO2: 0.53 (TBA)2O:1300 H2O', 'the resulting homogeneous gel with the chemical composition of 9.0 Na2O: 1.0 Al2O3: 65 SiO2: 0.53 (TBA)2O:1300 H2O', 'a stainless-steel autoclave', '90 °C', '24 h', 'stainless-steel autoclave', 'the resulting homogeneous gel with the chemical composition of 9.0 Na2O: 1.0 Al2O3: 65 SiO2: 0.53 (TBA)2O:1300 H2O', '170 °C', '24 h', 'stainless-steel autoclave'],\n",
        "  ['some time', 'the obtained seeded Na-aluminosilicate gels', 'the obtained seeded Na-aluminosilicate gels', 'stainless-steel autoclaves', '48 h', 'ambient temperature'],\n",
        "  ['predetermined crystallization periods', 'well-crystallized solid', 'predetermined crystallization periods', 'distilled water', 'several', 'prepared well-crystallized solid', '100 °C', 'several'],\n",
        "  ['550 °C', '2 h', 'the obtained HZSM-5', 'silica sol', 'kaolin clay'],\n",
        "  ['2 g catalyst with particle size of 0.250-0.425 mm', 'in the reactor'],\n",
        "  ['pure methanol solution', '0.164 mL/min'],\n",
        "  ['773 K', '5 h', 'Al-PLS-3'],\n",
        "  ['823 K', '6 h', 'product', 'to generate IEZ-Al-PLS-3(1Si)'],\n",
        "  ['773 K', '6 h', 'IEZ-Al-PLS-3(S4R)'],\n",
        "  ['29 mL (0.24 mol) 1,4-dibromobutane (99 wt. %, Sigma-Aldrich)', 'a solution made by mixing 145 mL (0.6 mol) of trimethylamine (4.2 mol/L ethanolic solution, Sigma Aldrich) and 150 mL methanol (99 wt. %, Sigma-Aldrich)', '145 mL (0.6 mol) of trimethylamine (4.2 mol/L ethanolic solution, Sigma Aldrich)', '150 mL methanol (99 wt. %, Sigma-Aldrich)', 'ethanolic'],\n",
        "  ['8 mL of methyl iodide (99 wt. %, Sigma-Aldrich)', 'overnight', 'chloroform portions'],\n",
        "  ['Sodium hydroxide and sodium aluminate', 'distilled water', 'room temperature', 'HMI and colloidal silica solution', 'room temperature', 'HMI and colloidal silica solution', 'room temperature', 'vigorous'],\n",
        "  ['synthesis sol(50 mL)', 'a Teflon-lined stainless-steel reactor (75mL)'],\n",
        "  ['reactor', 'oven', 'reactor', 'oven', '150 °C', '96 h', 'oven'],\n",
        "  ['deionized water', 'thoroughly', '110 °C', 'overnight', None, '550 °C', '5 h', 'the templating agent'],\n",
        "  ['colloidal silica solution', 'Sodium hydroxide', 'vigorous stirring', 'sodium aluminate aqueous solution', 'solution', 'colloidal silica solution', 'Sodium hydroxide', 'vigorous stirring'],\n",
        "  ['MCM-22 zeolite powder', 'strong alkali synthesis sol'],\n",
        "  ['reactor', 'reactor', '140 °C', '1, 2, or 3 h', 'reactor'],\n",
        "  ['NaAlO2', 'H2O', 'NaAlO2'],\n",
        "  ['10 g of DMPOH solution (0.23 M in water)', '0.55 g of NaOH'],\n",
        "  ['15 min', 'colloidal silica', 'gel', '2.95 g of colloidal silica (40 wt % SiO2 in water)'],\n",
        "  ['0.02 g of SSZ-39 seeds', 'the mixture'],\n",
        "  ['10 min', '25 °C', 'the final gel', 'the final gel', 'an autoclave oven', '72 h', '140 °C', 'rotation condition(50 rpm)', '72 h', '140 °C', '50 rpm'],\n",
        "  ['product', '4 h', 'product', 'after filtration, washing', '550 °C', '4 h', 'in the air atmosphere', '550 °C', 'in the air atmosphere', 'for 4 h'],\n",
        "  ['C-SSZ-39', '1 M NH4NO3 solution', '80 °C', '2 h', 'twice', '550 °C', '4 h', 'C-SSZ-39', 'to prepare the hydrogen-form of the product (H-C-SSZ-39)'],\n",
        "  ['H-C-SSZ-39 sample', '0.1 M Cu(NO3)2solution', 'H-C-SSZ-39 sample', 'several hours', '0.1 M Cu(NO3)2solution', '550 °C', '4 h', 'Cu-C-SSZ-39'],\n",
        "  ['tetraethyl orthosilicate (Aldrich, 98%)', 'boric acid', 'tetraethyl orthosilicate (Aldrich, 98%)', 'boric acid'],\n",
        "  ['solid', '2 hours'],\n",
        "  ['1,2-dibutyl-3-methylimidazolium bromide', 'acetonitrile', '150 ml'],\n",
        "  ['2.88g (72.0 mmol) sodium hydride (Aldrich, 60 % dispersion in mineral oil)', '2.88g (72.0 mmol) sodium hydride (Aldrich, 60 % dispersion in mineral oil)', 'under vigorous stirring'],\n",
        "  ['NaCl', 'production'],\n",
        "  ['ethyl acetate', '1,2-dibutyl-3-methylimidazolium bromide', '1,2-dibutyl-3-methylimidazolium bromide', '14.5g (52.7 mmol)'],\n",
        "  ['tetraethyl orthosilicate (Aldrich, 98%)', 'boric acid', 'tetraethyl orthosilicate', 'boric acid'],\n",
        "  ['overnight', 'mixture'],\n",
        "  ['180 °C', '6 days', 'Teflon-lined steel autoclave', 'concentrated gel'],\n",
        "  ['product', 'water', 'ethanol', 'product'],\n",
        "  ['silica source', 'clear suspensions', '30 min', 'silica source'],\n",
        "  ['100 and 130 °C', '>4 and 3 days', 'in static conditions', '>4 and 3 days'],\n",
        "  ['silica source (B syntheses,freeze-dried silica powder; and C syntheses, colloidal silica solution)', 'solution of NaOH, aluminumisopropoxide, and distilled water'],\n",
        "  ['3.12 g of TEOS, 0.21 g of HTS, and 0.07 g of ATTB', '10.0 mL of ethanol', 'in', 'TEOS', 'HTS', 'ATTB', 'ethanol', 'TEOS, 0.21 g of HTS, and 0.07 g of ATTB'],\n",
        "  ['177 °C', 'up to 5 days', 'up to 5 days', '177 °C', 'autoclave'],\n",
        "  ['final solid', 'unknown', 'water', '1', '550 °C', '20 h', 'in air', 'final solid, retaining the shape of the original dry gel', '3.24 g of TEOS, 0.07g of ATTB, 2.0 g of TPAOH, and 7.7 mL of ammonium hydroxide', '30.0 g of DI-H2O', '3.24 g of TEOS, 0.07g of ATTB, 2.0 g of TPAOH, and 7.7 mL of ammonium hydroxide', 'DI-H2O', '4 h', '30.0 g'],\n",
        "  ['10 min', '330 °C', 'acetone', 'acetone', '180 °C', 'evaporator', '180 °C'],\n",
        "  ['3.53 g of TEOS', 'this solution'],\n",
        "  ['95 °C', '1 day', 'MCl', '95 °C'],\n",
        "  ['room temperature', '1 day', 'the final synthesis mixture', '14-28 days', '150 °C', 'Teflon-lined 23-mL autoclaves', 'final synthesis mixture', '60 rpm', '150 °C', '60 rpm', '14-28 days', 'Teflon-lined 23-mL autoclaves', 'for 14-28 days'],\n",
        "  ['As-made nanocrystalline ferrierite zeolite', 'room temperature to 550 °C', '10 °C min -1', '8 h', 'in flowing air (50 mL min -1)', '8 h', '550 °C', 'flowing air', 'As-made nanocrystalline ferrierite zeolite', 'ramping rate of 10 °C min -1'],\n",
        "  ['20 min', 'solution of sodium silicate (VWR Prolabo, 10 % NaOH and 27 % SiO2), distilled water, and seed suspension'],\n",
        "  ['Al2(SO4)3 Â· 18H2O (Rectapur Prolabo)', 'water', 'the first one', 'solution of Al2(SO4)3 Â· 18H2O (Rectapur Prolabo)', 'water'],\n",
        "  ['100', '120', '150', '170', '120', '°C', '150', '°C', '170', 'hydrothermal treatment'],\n",
        "  ['diimide', '300 ml of anhydrous diethyl ether', '0 ºC', 'LiAlH4', '300 ml of anhydrous diethyl ether'],\n",
        "  ['N-cyclohexylpiperazine', 'K2CO3', 'acetone', '300 ml'],\n",
        "  ['51.0 g (359 mmol) of methyl iodide', 'room temperature', '24 hours', 'room temperature', 'mixture'],\n",
        "  ['0.80 g of an aqueous solution of HF (50%)'],\n",
        "  ['0.22 g of ITQ-32 zeolite', 'Teflon-lined stainless steel autoclave', '2 days', '175 ºC', 'Teflon-lined stainless steel autoclave', 'a suspension of 0.22 g of ITQ-32 zeolite (prepared as described above, but using SDA-2) in water', '2 days', '175 ºC', 'Teflon-lined stainless steel autoclave', 'continuous tumbling'],\n",
        "  ['overnight', 'autoclaves', 'autoclaves', 'zeolites', 'overnight', 'deionized water and acetone', 'zeolites', '1', '100 ºC', 'overnight', 'zeolites'],\n",
        "  ['580 ºC', '3 hours', 'static air', 'samples'],\n",
        "  ['TEOS', 'cerium nitrate', 'lanthanum nitrate', 'aqueous solution of hydrochloric acid', '2'],\n",
        "  [],\n",
        "  ['20 h', 'room temperature', 'mixture'],\n",
        "  ['the slurry', 'a Teflon-lined stainless steel autoclave', '158 °C', 'Teflon-lined stainless steel autoclave'],\n",
        "  ['Ln sources'],\n",
        "  ['3.0 g of the MCM-22 solid sample', '50 mL of 0.1 mol/L aqueous solution of Ce(NO3)3 (or La(NO3)3)', '3.0 g of the MCM-22 solid sample', '90 °C', '2 h', '0.1 mol/L aqueous solution of Ce(NO3)3 (or La(NO3)3)'],\n",
        "  ['550 °C', '5 h', 'the solid'],\n",
        "  ['aqueous solution of chlorophatinic acid (0.0058 molÂ·L-1)', 'hydrogen form of Ln-MCM-22(n)', '100 °C', '12 h', 'Ln-MCM-22(n)', '400 °C', '3 h', 'Pt/Ln-MCM-22(n)', 'Ln-MCM-22(n)'],\n",
        "  ['180-250 °C', 'WHSV 1.4-4.1 h-1', 'molar ratio of H2 to n-heptane 7.9:1'],\n",
        "  ['boric acid', 'water', 'SDA', 'hydroxide/bromide'],\n",
        "  ['Crystalline germanium oxide', 'mixture', 'room temperature'],\n",
        "  ['silica (Aerosil 300)', 'obtained solution', 'mixture', 'room temperature', '30 min'],\n",
        "  ['175 °C', '9 – 15 days', '25 ml Teflon-lined autoclaves', '25', '~ 25 rpm'],\n",
        "  ['reaction mixture', 'autoclave'],\n",
        "  ['Solid products', 'preset synthesis times', 'Solid products obtained after preset synthesis times', 'distilled water', 'overnight', '95 °C', None],\n",
        "  ['0.5 g of solid', '0.1 g of Si(CH3)3(OCH2CH3)2', '1 M HNO3 solution', '170 ºC', '16 h', 'containing'],\n",
        "  ['product', None],\n",
        "  ['solid', 'by centrifugation', 'water', 'solid', '50 ºC', 'till dry', None],\n",
        "  ['10 g of pyrrolidine', '100 mL of ethanol', 'OSDA1, 1,1-dimethyl-4-(1-methylpirrolidine-1-yl)piperidinium'],\n",
        "  ['10 g of 1-methyl-4-piperidone (Sigma-Aldrich, 99%)', '3.5g of sodium cyanoborohydride (NaBH3CN, Fluka, >95%)'],\n",
        "  ['HCl', 'until pH was close to 2', 'close to 2'],\n",
        "  ['7 days', 'room temperature', '7 days', 'a white precipitate', 'methanol', 'diethyl ether', 'a white precipitate'],\n",
        "  ['boric acid (99.5%, Aldrich)', 'alumina (74.6%, Condea)', 'germanium oxide (99%, Aldrich)', 'OSDA hydroxide solution', 'in']\n",
        "]\n",
        "\n",
        "\n",
        "# ================================\n",
        "# Subset Matching Comparison Script (Case-Insensitive, Prediction-Normalized Scoring)\n",
        "# Modified to handle duplicates properly\n",
        "# ================================\n",
        "from collections import Counter\n",
        "\n",
        "\n",
        "# Containers to hold results\n",
        "missing_elements = []\n",
        "extra_elements = []\n",
        "\n",
        "# Per-sample metric accumulators\n",
        "\n",
        "precisions = []\n",
        "recalls = []\n",
        "f1_scores = []\n",
        "\n",
        "# Compare lists of any size\n",
        "for idx, (expected, predicted) in enumerate(zip(column_f_expected_argument_texts, column_l_argument_texts)):\n",
        "    # Case-normalize and standardize spacing (filter out None values)\n",
        "    def normalize_text(text):\n",
        "        if text is None:\n",
        "            return None\n",
        "        # Convert to lowercase and normalize spacing around parentheses\n",
        "        normalized = text.lower()\n",
        "        # Remove extra spaces around parentheses: \"( text )\" -> \"(text)\"\n",
        "        normalized = normalized.replace('( ', '(').replace(' )', ')')\n",
        "        # Replace multiple spaces with single space and strip\n",
        "        normalized = ' '.join(normalized.split())\n",
        "        return normalized\n",
        "\n",
        "    expected_counter = Counter([normalize_text(e) for e in expected if normalize_text(e) is not None])\n",
        "    predicted_counter = Counter([normalize_text(p) for p in predicted if normalize_text(p) is not None])\n",
        "\n",
        "    # Find missing and extra with counts\n",
        "    missing = {}\n",
        "    extra = {}\n",
        "    all_elements = set(list(expected_counter.keys()) + list(predicted_counter.keys()))\n",
        "\n",
        "    for element in all_elements:\n",
        "        expected_count = expected_counter.get(element, 0)\n",
        "        predicted_count = predicted_counter.get(element, 0)\n",
        "\n",
        "        if expected_count > predicted_count:\n",
        "            missing[element] = expected_count - predicted_count\n",
        "        elif predicted_count > expected_count:\n",
        "            extra[element] = predicted_count - expected_count\n",
        "\n",
        "    if missing:\n",
        "        missing_elements.append({\"index\": idx, \"missing\": missing})\n",
        "    if extra:\n",
        "        extra_elements.append({\"index\": idx, \"extra\": extra})\n",
        "\n",
        "    # Calculate correct matches (minimum of expected and predicted for each element)\n",
        "    correct = sum(min(expected_counter[element], predicted_counter[element])\n",
        "                  for element in all_elements)\n",
        "\n",
        "    total_expected = sum(expected_counter.values())\n",
        "    total_predicted = sum(predicted_counter.values())\n",
        "\n",
        "    # Metrics per sample\n",
        "\n",
        "    precision = correct / total_predicted if total_predicted > 0 else 0\n",
        "    recall = correct / total_expected if total_expected > 0 else 0\n",
        "    f1 = (2 * precision * recall / (precision + recall)) if (precision + recall) > 0 else 0\n",
        "\n",
        "    # Store per-sample metrics\n",
        "\n",
        "    precisions.append(precision)\n",
        "    recalls.append(recall)\n",
        "    f1_scores.append(f1)\n",
        "\n",
        "# Final averaged metrics (in %)\n",
        "\n",
        "avg_precision = sum(precisions) / len(precisions) * 100 if precisions else 0\n",
        "avg_recall = sum(recalls) / len(recalls) * 100 if recalls else 0\n",
        "avg_f1 = sum(f1_scores) / len(f1_scores) * 100 if f1_scores else 0\n",
        "\n",
        "# Print results\n",
        "print(\"Missing Elements:\", missing_elements)\n",
        "print(\"Extra Elements:\", extra_elements)\n",
        "\n",
        "print(f\"Subset Matching Precision: {avg_precision:.2f}%\")\n",
        "print(f\"Subset Matching Recall: {avg_recall:.2f}%\")\n",
        "print(f\"Subset Matching F1-Score: {avg_f1:.2f}%\")"
      ]
    },
    {
      "cell_type": "code",
      "execution_count": null,
      "metadata": {
        "id": "wgtaSnapmFqL"
      },
      "outputs": [],
      "source": []
    }
  ],
  "metadata": {
    "colab": {
      "provenance": []
    },
    "kernelspec": {
      "display_name": "Python 3",
      "name": "python3"
    },
    "language_info": {
      "name": "python"
    }
  },
  "nbformat": 4,
  "nbformat_minor": 0
}
